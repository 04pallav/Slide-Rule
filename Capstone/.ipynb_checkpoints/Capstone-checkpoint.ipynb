{
 "cells": [
  {
   "cell_type": "markdown",
   "metadata": {},
   "source": [
    "# Predicting Acceptance of US Visa Applications Using Machine Learning\n",
    "Capstone Project for SlideRule Intensive Data Science workshop.\n",
    "\n",
    "Charles Franzen"
   ]
  },
  {
   "cell_type": "markdown",
   "metadata": {},
   "source": [
    "## The Project\n",
    "\n",
    "Each year hundreds of thousands of applications are filed for work visas in the US. So many, in fact, that legistated caps on the number of H-1B applications have been reached every single year since 2007. In 2008, the quota was reached on the first day of open applications. In light of this, companies and potential employees that are lucky enough to get their application in via the lottery want to ensure that they have as high a chance as possible of having their application approved.\n",
    "\n",
    "My project is to investigate application data sets and create models that will predict the acceptance or rejection of a given application. This model could evaluate the strength of an application before it is submitted, and provide insights into how a weak application could be improved. The model will also elucidate the most important factors determining the fate of a visa application.\n",
    "\n",
    "## The Data\n",
    "\n",
    "I will be investigating data published by the US Dapartment of Labor. The data sets are comprised of quarterly application data and decisions for different types of visas. I will be focusing on two of these data sets: one that includes a mix of all visa types, and one that is comprised solely of H-1B visas.\n",
    "\n",
    "The data fields cover a wide range of information, including details about the country of origin of the applicant, location and type of the job, pay and educational requirements of the job, education of the applicant, and whether all regulatory hurdles have been cleared.\n",
    "\n",
    "H-1B visas are work visas that are only for 'specialty applications', and therefore can act as a bellweather for how much highly-educated talent the US is importing.\n",
    "\n",
    "## Methodology\n",
    "\n",
    "I will be treating this as a classification problem. The binary variable 'denied' will indicate whether an application was rejected.\n",
    "\n",
    "So far I have used logistic regression and decision tree classification to model the all-visa dataset. Next steps include refining the models, investigating similar models for the H-1B subset, and continuing with other machine learning techniques, including SVM.\n",
    "\n",
    "### Logistic Regression\n",
    "\n",
    "In order to implement logistic regression, I've had to format the data sets, converting string cell values into integers or floats, and creating dummy variables for categorical data.\n",
    "\n",
    "Scikit Learn does not provide a method for adjusting the threshold probability for classification, so this had to be adjusted manually.\n",
    "\n",
    "Using backdata from the Department of Labor, I will test my models and further refine them.\n",
    "\n",
    "### Decision Tree Classification\n",
    "\n",
    "Once the data is formatted for Logistic Regression, it is easy to fit it to a decision tree. Decision Trees are somewhat computationaly expensive, so the number of parameter combinations that can be tested is limited.\n",
    "\n",
    "The threshold \n",
    "\n",
    "## Limitations\n",
    "\n",
    "Since the base rate of application rejection is so low (6.7% for all visa types), it may be difficult to suss out relevant variables. Thus far my models have tended to have a high number of false-negatives (type II errors).\n",
    "\n",
    "The models may also end up provinding unhelpful insights. For example, the model may identify country of citizenship as a crucial determiner. It won't be helpful to most applicants to tell them to change their citizenship."
   ]
  },
  {
   "cell_type": "markdown",
   "metadata": {},
   "source": [
    "## Import Modules"
   ]
  },
  {
   "cell_type": "code",
   "execution_count": 228,
   "metadata": {
    "collapsed": false
   },
   "outputs": [],
   "source": [
    "% matplotlib notebook\n",
    "import matplotlib.pyplot as plt\n",
    "from matplotlib.gridspec import GridSpec\n",
    "import numpy as np\n",
    "import pandas as pd\n",
    "from patsy import dmatrices\n",
    "from sklearn.linear_model import LogisticRegression\n",
    "from sklearn.cross_validation import train_test_split,  cross_val_score\n",
    "from sklearn import metrics\n",
    "from sklearn.tree import DecisionTreeClassifier\n",
    "from sklearn.grid_search import GridSearchCV\n",
    "from sklearn.ensemble import RandomForestClassifier"
   ]
  },
  {
   "cell_type": "code",
   "execution_count": 4,
   "metadata": {
    "collapsed": false
   },
   "outputs": [],
   "source": [
    "# setting matplotlib style\n",
    "plt.style.use('fivethirtyeight')"
   ]
  },
  {
   "cell_type": "markdown",
   "metadata": {},
   "source": [
    "# All Visas"
   ]
  },
  {
   "cell_type": "markdown",
   "metadata": {},
   "source": [
    "## Data Loading and Initial Processing\n",
    "Withdrawn applications are removed from the data set, since there was no decision made."
   ]
  },
  {
   "cell_type": "code",
   "execution_count": 5,
   "metadata": {
    "collapsed": true
   },
   "outputs": [],
   "source": [
    "# loading data\n",
    "data = pd.read_excel('Data/PERM_Disclosure_Data_FY15_Q4.xlsx', 'DDFY2015_Final')\n",
    "\n",
    "# removing withdrawn applications\n",
    "data = data[data['CASE_STATUS'] != 'Withdrawn']\n",
    "\n",
    "# adding a binary series with 1 indicating that an application was denied\n",
    "data['denied'] = (data.CASE_STATUS == 'Denied').astype(int)"
   ]
  },
  {
   "cell_type": "markdown",
   "metadata": {},
   "source": [
    "## Descriptive Statistics\n",
    "\n",
    "To do:\n",
    "\n",
    "1. make pie charts for country of origin, education, case status, visa type\n",
    "2. make histograms for salary/wage, training, and experience requirements"
   ]
  },
  {
   "cell_type": "code",
   "execution_count": 6,
   "metadata": {
    "collapsed": false
   },
   "outputs": [
    {
     "data": {
      "text/plain": [
       "Certified            40176\n",
       "Certified-Expired    38762\n",
       "Denied                5696\n",
       "Name: CASE_STATUS, dtype: int64"
      ]
     },
     "execution_count": 6,
     "metadata": {},
     "output_type": "execute_result"
    }
   ],
   "source": [
    "status = data['CASE_STATUS'].value_counts()\n",
    "status"
   ]
  },
  {
   "cell_type": "code",
   "execution_count": 7,
   "metadata": {
    "collapsed": false
   },
   "outputs": [
    {
     "name": "stdout",
     "output_type": "stream",
     "text": [
      "Certified: \t\t0.474702838103 \n",
      "Certified-Expired: \t0.457995604603 \n",
      "Denied: \t\t0.0673015572938 \n",
      "Size: \t\t\t84634\n"
     ]
    }
   ],
   "source": [
    "pcert, pcertex, pdenied = (data['CASE_STATUS'].value_counts().values) / float(len(data))\n",
    "size = len(data)\n",
    "print 'Certified: \\t\\t', pcert, '\\nCertified-Expired: \\t', pcertex, '\\nDenied: \\t\\t', pdenied, '\\nSize: \\t\\t\\t', size\n",
    "                                                                 "
   ]
  },
  {
   "cell_type": "code",
   "execution_count": 8,
   "metadata": {
    "collapsed": false
   },
   "outputs": [
    {
     "data": {
      "text/plain": [
       "([<matplotlib.patches.Wedge at 0x109318650>,\n",
       "  <matplotlib.patches.Wedge at 0x1093f7c10>,\n",
       "  <matplotlib.patches.Wedge at 0x1093c8b90>],\n",
       " [<matplotlib.text.Text at 0x109457dd0>,\n",
       "  <matplotlib.text.Text at 0x109516e50>,\n",
       "  <matplotlib.text.Text at 0x1095bc8d0>],\n",
       " [<matplotlib.text.Text at 0x1093f7190>,\n",
       "  <matplotlib.text.Text at 0x1093c8550>,\n",
       "  <matplotlib.text.Text at 0x1094ae2d0>])"
      ]
     },
     "execution_count": 8,
     "metadata": {},
     "output_type": "execute_result"
    },
    {
     "data": {
      "image/png": "[encoded data removed]",
      "text/plain": [
       "<matplotlib.figure.Figure at 0x108e2b390>"
      ]
     },
     "metadata": {},
     "output_type": "display_data"
    }
   ],
   "source": [
    "labels = list(status.index)\n",
    "fracs = pcert, pcertex, pdenied\n",
    "the_grid = GridSpec(2, 2)\n",
    "plt.subplot(the_grid[0, 0], aspect=1, title='Applications by Case Status')\n",
    "plt.pie(fracs, labels=labels, autopct='%1.1f%%', shadow=True)"
   ]
  },
  {
   "cell_type": "markdown",
   "metadata": {},
   "source": [
    "Base rate of denials is low, at 6.7%, and many accepted applications are allowed to expire."
   ]
  },
  {
   "cell_type": "code",
   "execution_count": 9,
   "metadata": {
    "collapsed": false
   },
   "outputs": [
    {
     "name": "stdout",
     "output_type": "stream",
     "text": [
      "Standard Error:  0.000861213341343\n"
     ]
    }
   ],
   "source": [
    "serror = (pdenied*(1-pdenied)/float(len(data))) ** .5\n",
    "print 'Standard Error: ',serror"
   ]
  },
  {
   "cell_type": "markdown",
   "metadata": {},
   "source": [
    "### Categorical Data"
   ]
  },
  {
   "cell_type": "code",
   "execution_count": 10,
   "metadata": {
    "collapsed": true
   },
   "outputs": [],
   "source": [
    "# possibly interesting columns of categorical data\n",
    "dfcat = data[['denied', 'EMPLOYER_NAME', 'EMPLOYER_STATE', 'AGENT_FIRM_NAME', 'PW_SOC_TITLE', 'JOB_INFO_EDUCATION', \n",
    "              'COUNTRY_OF_CITIZENSHIP', 'CLASS_OF_ADMISSION', 'FOREIGN_WORKER_INFO_EDUCATION', \n",
    "              'FOREIGN_WORKER_INFO_MAJOR']]"
   ]
  },
  {
   "cell_type": "markdown",
   "metadata": {},
   "source": [
    "After exploring the columns, Visa Type, Country of Citizenship, and Education seem to be the most interesting columns."
   ]
  },
  {
   "cell_type": "code",
   "execution_count": 11,
   "metadata": {
    "collapsed": false,
    "scrolled": true
   },
   "outputs": [
    {
     "data": {
      "text/html": [
       "<div>\n",
       "<table border=\"1\" class=\"dataframe\">\n",
       "  <thead>\n",
       "    <tr style=\"text-align: right;\">\n",
       "      <th></th>\n",
       "      <th>denied</th>\n",
       "      <th>size</th>\n",
       "    </tr>\n",
       "    <tr>\n",
       "      <th>CLASS_OF_ADMISSION</th>\n",
       "      <th></th>\n",
       "      <th></th>\n",
       "    </tr>\n",
       "  </thead>\n",
       "  <tbody>\n",
       "    <tr>\n",
       "      <th>B-1</th>\n",
       "      <td>0.347826</td>\n",
       "      <td>40</td>\n",
       "    </tr>\n",
       "    <tr>\n",
       "      <th>B-2</th>\n",
       "      <td>0.265248</td>\n",
       "      <td>187</td>\n",
       "    </tr>\n",
       "    <tr>\n",
       "      <th>E-1</th>\n",
       "      <td>0.149123</td>\n",
       "      <td>17</td>\n",
       "    </tr>\n",
       "    <tr>\n",
       "      <th>E-2</th>\n",
       "      <td>0.123584</td>\n",
       "      <td>120</td>\n",
       "    </tr>\n",
       "    <tr>\n",
       "      <th>E-3</th>\n",
       "      <td>0.071429</td>\n",
       "      <td>11</td>\n",
       "    </tr>\n",
       "  </tbody>\n",
       "</table>\n",
       "</div>"
      ],
      "text/plain": [
       "                      denied  size\n",
       "CLASS_OF_ADMISSION                \n",
       "B-1                 0.347826    40\n",
       "B-2                 0.265248   187\n",
       "E-1                 0.149123    17\n",
       "E-2                 0.123584   120\n",
       "E-3                 0.071429    11"
      ]
     },
     "execution_count": 11,
     "metadata": {},
     "output_type": "execute_result"
    }
   ],
   "source": [
    "# visa types with a high rate of denial\n",
    "dftype = dfcat[['CLASS_OF_ADMISSION', 'denied']]\n",
    "dftype1 = dftype.groupby('CLASS_OF_ADMISSION').mean()\n",
    "dftype1['size'] = dftype.groupby('CLASS_OF_ADMISSION').agg(sum)\n",
    "dftype = dftype1[(dftype1['denied'] > (pdenied + 2*serror)) & (dftype1['size'] >= 10)]\n",
    "dftype.head()"
   ]
  },
  {
   "cell_type": "code",
   "execution_count": 12,
   "metadata": {
    "collapsed": false
   },
   "outputs": [
    {
     "data": {
      "text/plain": [
       "CLASS_OF_ADMISSION\n",
       "H-1B          64729\n",
       "L-1            5136\n",
       "F-1            3163\n",
       "Not in USA     1554\n",
       "Name: denied, dtype: int64"
      ]
     },
     "execution_count": 12,
     "metadata": {},
     "output_type": "execute_result"
    }
   ],
   "source": [
    "visa_types = dfcat.groupby('CLASS_OF_ADMISSION').count()['denied']\n",
    "visa_types = visa_types.sort_values()[:-5:-1]\n",
    "visa_types"
   ]
  },
  {
   "cell_type": "code",
   "execution_count": 13,
   "metadata": {
    "collapsed": false
   },
   "outputs": [
    {
     "data": {
      "text/html": [
       "<div>\n",
       "<table border=\"1\" class=\"dataframe\">\n",
       "  <thead>\n",
       "    <tr style=\"text-align: right;\">\n",
       "      <th></th>\n",
       "      <th>denied</th>\n",
       "      <th>size</th>\n",
       "    </tr>\n",
       "    <tr>\n",
       "      <th>COUNTRY_OF_CITIZENSHIP</th>\n",
       "      <th></th>\n",
       "      <th></th>\n",
       "    </tr>\n",
       "  </thead>\n",
       "  <tbody>\n",
       "    <tr>\n",
       "      <th>GAMBIA</th>\n",
       "      <td>0.850000</td>\n",
       "      <td>17</td>\n",
       "    </tr>\n",
       "    <tr>\n",
       "      <th>SLOVAKIA</th>\n",
       "      <td>0.400000</td>\n",
       "      <td>12</td>\n",
       "    </tr>\n",
       "    <tr>\n",
       "      <th>GUATEMALA</th>\n",
       "      <td>0.303371</td>\n",
       "      <td>27</td>\n",
       "    </tr>\n",
       "    <tr>\n",
       "      <th>ECUADOR</th>\n",
       "      <td>0.270408</td>\n",
       "      <td>53</td>\n",
       "    </tr>\n",
       "    <tr>\n",
       "      <th>EL SALVADOR</th>\n",
       "      <td>0.237624</td>\n",
       "      <td>24</td>\n",
       "    </tr>\n",
       "  </tbody>\n",
       "</table>\n",
       "</div>"
      ],
      "text/plain": [
       "                          denied  size\n",
       "COUNTRY_OF_CITIZENSHIP                \n",
       "GAMBIA                  0.850000    17\n",
       "SLOVAKIA                0.400000    12\n",
       "GUATEMALA               0.303371    27\n",
       "ECUADOR                 0.270408    53\n",
       "EL SALVADOR             0.237624    24"
      ]
     },
     "execution_count": 13,
     "metadata": {},
     "output_type": "execute_result"
    }
   ],
   "source": [
    "# countries with a high rate of denial\n",
    "dfcit = dfcat[['COUNTRY_OF_CITIZENSHIP', 'denied']]\n",
    "dfcit1 = dfcit.groupby('COUNTRY_OF_CITIZENSHIP').mean()\n",
    "dfcit1['size'] = dfcit.groupby('COUNTRY_OF_CITIZENSHIP').agg(sum)\n",
    "dfcit = dfcit1[(dfcit1['denied'] > (pdenied + 2*serror)) & (dfcit1['size'] >= 10)]\n",
    "dfcit.sort_values('denied')[::-1].head()"
   ]
  },
  {
   "cell_type": "code",
   "execution_count": 14,
   "metadata": {
    "collapsed": false
   },
   "outputs": [
    {
     "data": {
      "text/plain": [
       "COUNTRY_OF_CITIZENSHIP\n",
       "INDIA          47705\n",
       "CHINA           6843\n",
       "SOUTH KOREA     5645\n",
       "CANADA          3139\n",
       "PHILIPPINES     1875\n",
       "ALL_OTHERS     19427\n",
       "Name: denied, dtype: int64"
      ]
     },
     "execution_count": 14,
     "metadata": {},
     "output_type": "execute_result"
    }
   ],
   "source": [
    "countries = dfcat.groupby('COUNTRY_OF_CITIZENSHIP').count()['denied']\n",
    "countries = countries.sort_values()[::-1][:5]\n",
    "countries['ALL_OTHERS'] = 19427\n",
    "countries"
   ]
  },
  {
   "cell_type": "code",
   "execution_count": 194,
   "metadata": {
    "collapsed": false
   },
   "outputs": [
    {
     "data": {
      "text/plain": [
       "([<matplotlib.patches.Wedge at 0x10f965dd0>,\n",
       "  <matplotlib.patches.Wedge at 0x10f8667d0>,\n",
       "  <matplotlib.patches.Wedge at 0x10f9103d0>,\n",
       "  <matplotlib.patches.Wedge at 0x10f6a8f50>,\n",
       "  <matplotlib.patches.Wedge at 0x10fadf990>,\n",
       "  <matplotlib.patches.Wedge at 0x10fa440d0>],\n",
       " [<matplotlib.text.Text at 0x10f62ae50>,\n",
       "  <matplotlib.text.Text at 0x10fa06a90>,\n",
       "  <matplotlib.text.Text at 0x10f6a83d0>,\n",
       "  <matplotlib.text.Text at 0x10f9e8950>,\n",
       "  <matplotlib.text.Text at 0x10fbbd610>,\n",
       "  <matplotlib.text.Text at 0x10f1fd110>],\n",
       " [<matplotlib.text.Text at 0x10f866450>,\n",
       "  <matplotlib.text.Text at 0x10fa06d90>,\n",
       "  <matplotlib.text.Text at 0x10f6a8790>,\n",
       "  <matplotlib.text.Text at 0x10f9e8f50>,\n",
       "  <matplotlib.text.Text at 0x10fbbd950>,\n",
       "  <matplotlib.text.Text at 0x10f39ed10>])"
      ]
     },
     "execution_count": 194,
     "metadata": {},
     "output_type": "execute_result"
    },
    {
     "data": {
      "image/png": "[encoded data removed]",
      "text/plain": [
       "<matplotlib.figure.Figure at 0x10f02d790>"
      ]
     },
     "metadata": {},
     "output_type": "display_data"
    }
   ],
   "source": [
    "country_labels = list(countries.index)\n",
    "country_fracs = countries.values\n",
    "plt.subplot(the_grid[1, 0], aspect=1, title='Applications by Citizenship')\n",
    "plt.pie(country_fracs, labels=country_labels, autopct='%1.1f%%', shadow=True)"
   ]
  },
  {
   "cell_type": "code",
   "execution_count": 195,
   "metadata": {
    "collapsed": false
   },
   "outputs": [
    {
     "data": {
      "text/plain": [
       "FOREIGN_WORKER_INFO_EDUCATION\n",
       "Doctorate      0.033010\n",
       "Master's       0.051275\n",
       "Bachelor's     0.053348\n",
       "Other          0.074332\n",
       "Associate's    0.185270\n",
       "None           0.228803\n",
       "High School    0.270021\n",
       "Name: denied, dtype: float64"
      ]
     },
     "execution_count": 195,
     "metadata": {},
     "output_type": "execute_result"
    }
   ],
   "source": [
    "dfcat.groupby(['FOREIGN_WORKER_INFO_EDUCATION'])['denied'].mean().sort_values()"
   ]
  },
  {
   "cell_type": "code",
   "execution_count": 196,
   "metadata": {
    "collapsed": false
   },
   "outputs": [
    {
     "data": {
      "text/plain": [
       "FOREIGN_WORKER_INFO_EDUCATION\n",
       "Master's       38245\n",
       "Bachelor's     30910\n",
       "None            4812\n",
       "Doctorate       4635\n",
       "Other           3740\n",
       "High School     1411\n",
       "Associate's      869\n",
       "Name: denied, dtype: int64"
      ]
     },
     "execution_count": 196,
     "metadata": {},
     "output_type": "execute_result"
    }
   ],
   "source": [
    "education = dfcat.groupby('FOREIGN_WORKER_INFO_EDUCATION').count()['denied'].sort_values()[::-1]\n",
    "education"
   ]
  },
  {
   "cell_type": "code",
   "execution_count": 204,
   "metadata": {
    "collapsed": false
   },
   "outputs": [
    {
     "data": {
      "application/javascript": [
       "/* Put everything inside the global mpl namespace */\n",
       "window.mpl = {};\n",
       "\n",
       "mpl.get_websocket_type = function() {\n",
       "    if (typeof(WebSocket) !== 'undefined') {\n",
       "        return WebSocket;\n",
       "    } else if (typeof(MozWebSocket) !== 'undefined') {\n",
       "        return MozWebSocket;\n",
       "    } else {\n",
       "        alert('Your browser does not have WebSocket support.' +\n",
       "              'Please try Chrome, Safari or Firefox ≥ 6. ' +\n",
       "              'Firefox 4 and 5 are also supported but you ' +\n",
       "              'have to enable WebSockets in about:config.');\n",
       "    };\n",
       "}\n",
       "\n",
       "mpl.figure = function(figure_id, websocket, ondownload, parent_element) {\n",
       "    this.id = figure_id;\n",
       "\n",
       "    this.ws = websocket;\n",
       "\n",
       "    this.supports_binary = (this.ws.binaryType != undefined);\n",
       "\n",
       "    if (!this.supports_binary) {\n",
       "        var warnings = document.getElementById(\"mpl-warnings\");\n",
       "        if (warnings) {\n",
       "            warnings.style.display = 'block';\n",
       "            warnings.textContent = (\n",
       "                \"This browser does not support binary websocket messages. \" +\n",
       "                    \"Performance may be slow.\");\n",
       "        }\n",
       "    }\n",
       "\n",
       "    this.imageObj = new Image();\n",
       "\n",
       "    this.context = undefined;\n",
       "    this.message = undefined;\n",
       "    this.canvas = undefined;\n",
       "    this.rubberband_canvas = undefined;\n",
       "    this.rubberband_context = undefined;\n",
       "    this.format_dropdown = undefined;\n",
       "\n",
       "    this.image_mode = 'full';\n",
       "\n",
       "    this.root = $('<div/>');\n",
       "    this._root_extra_style(this.root)\n",
       "    this.root.attr('style', 'display: inline-block');\n",
       "\n",
       "    $(parent_element).append(this.root);\n",
       "\n",
       "    this._init_header(this);\n",
       "    this._init_canvas(this);\n",
       "    this._init_toolbar(this);\n",
       "\n",
       "    var fig = this;\n",
       "\n",
       "    this.waiting = false;\n",
       "\n",
       "    this.ws.onopen =  function () {\n",
       "            fig.send_message(\"supports_binary\", {value: fig.supports_binary});\n",
       "            fig.send_message(\"send_image_mode\", {});\n",
       "            fig.send_message(\"refresh\", {});\n",
       "        }\n",
       "\n",
       "    this.imageObj.onload = function() {\n",
       "            if (fig.image_mode == 'full') {\n",
       "                // Full images could contain transparency (where diff images\n",
       "                // almost always do), so we need to clear the canvas so that\n",
       "                // there is no ghosting.\n",
       "                fig.context.clearRect(0, 0, fig.canvas.width, fig.canvas.height);\n",
       "            }\n",
       "            fig.context.drawImage(fig.imageObj, 0, 0);\n",
       "            fig.waiting = false;\n",
       "        };\n",
       "\n",
       "    this.imageObj.onunload = function() {\n",
       "        this.ws.close();\n",
       "    }\n",
       "\n",
       "    this.ws.onmessage = this._make_on_message_function(this);\n",
       "\n",
       "    this.ondownload = ondownload;\n",
       "}\n",
       "\n",
       "mpl.figure.prototype._init_header = function() {\n",
       "    var titlebar = $(\n",
       "        '<div class=\"ui-dialog-titlebar ui-widget-header ui-corner-all ' +\n",
       "        'ui-helper-clearfix\"/>');\n",
       "    var titletext = $(\n",
       "        '<div class=\"ui-dialog-title\" style=\"width: 100%; ' +\n",
       "        'text-align: center; padding: 3px;\"/>');\n",
       "    titlebar.append(titletext)\n",
       "    this.root.append(titlebar);\n",
       "    this.header = titletext[0];\n",
       "}\n",
       "\n",
       "\n",
       "\n",
       "mpl.figure.prototype._canvas_extra_style = function(canvas_div) {\n",
       "\n",
       "}\n",
       "\n",
       "\n",
       "mpl.figure.prototype._root_extra_style = function(canvas_div) {\n",
       "\n",
       "}\n",
       "\n",
       "mpl.figure.prototype._init_canvas = function() {\n",
       "    var fig = this;\n",
       "\n",
       "    var canvas_div = $('<div/>');\n",
       "\n",
       "    canvas_div.attr('style', 'position: relative; clear: both; outline: 0');\n",
       "\n",
       "    function canvas_keyboard_event(event) {\n",
       "        return fig.key_event(event, event['data']);\n",
       "    }\n",
       "\n",
       "    canvas_div.keydown('key_press', canvas_keyboard_event);\n",
       "    canvas_div.keyup('key_release', canvas_keyboard_event);\n",
       "    this.canvas_div = canvas_div\n",
       "    this._canvas_extra_style(canvas_div)\n",
       "    this.root.append(canvas_div);\n",
       "\n",
       "    var canvas = $('<canvas/>');\n",
       "    canvas.addClass('mpl-canvas');\n",
       "    canvas.attr('style', \"left: 0; top: 0; z-index: 0; outline: 0\")\n",
       "\n",
       "    this.canvas = canvas[0];\n",
       "    this.context = canvas[0].getContext(\"2d\");\n",
       "\n",
       "    var rubberband = $('<canvas/>');\n",
       "    rubberband.attr('style', \"position: absolute; left: 0; top: 0; z-index: 1;\")\n",
       "\n",
       "    var pass_mouse_events = true;\n",
       "\n",
       "    canvas_div.resizable({\n",
       "        start: function(event, ui) {\n",
       "            pass_mouse_events = false;\n",
       "        },\n",
       "        resize: function(event, ui) {\n",
       "            fig.request_resize(ui.size.width, ui.size.height);\n",
       "        },\n",
       "        stop: function(event, ui) {\n",
       "            pass_mouse_events = true;\n",
       "            fig.request_resize(ui.size.width, ui.size.height);\n",
       "        },\n",
       "    });\n",
       "\n",
       "    function mouse_event_fn(event) {\n",
       "        if (pass_mouse_events)\n",
       "            return fig.mouse_event(event, event['data']);\n",
       "    }\n",
       "\n",
       "    rubberband.mousedown('button_press', mouse_event_fn);\n",
       "    rubberband.mouseup('button_release', mouse_event_fn);\n",
       "    // Throttle sequential mouse events to 1 every 20ms.\n",
       "    rubberband.mousemove('motion_notify', mouse_event_fn);\n",
       "\n",
       "    rubberband.mouseenter('figure_enter', mouse_event_fn);\n",
       "    rubberband.mouseleave('figure_leave', mouse_event_fn);\n",
       "\n",
       "    canvas_div.on(\"wheel\", function (event) {\n",
       "        event = event.originalEvent;\n",
       "        event['data'] = 'scroll'\n",
       "        if (event.deltaY < 0) {\n",
       "            event.step = 1;\n",
       "        } else {\n",
       "            event.step = -1;\n",
       "        }\n",
       "        mouse_event_fn(event);\n",
       "    });\n",
       "\n",
       "    canvas_div.append(canvas);\n",
       "    canvas_div.append(rubberband);\n",
       "\n",
       "    this.rubberband = rubberband;\n",
       "    this.rubberband_canvas = rubberband[0];\n",
       "    this.rubberband_context = rubberband[0].getContext(\"2d\");\n",
       "    this.rubberband_context.strokeStyle = \"#000000\";\n",
       "\n",
       "    this._resize_canvas = function(width, height) {\n",
       "        // Keep the size of the canvas, canvas container, and rubber band\n",
       "        // canvas in synch.\n",
       "        canvas_div.css('width', width)\n",
       "        canvas_div.css('height', height)\n",
       "\n",
       "        canvas.attr('width', width);\n",
       "        canvas.attr('height', height);\n",
       "\n",
       "        rubberband.attr('width', width);\n",
       "        rubberband.attr('height', height);\n",
       "    }\n",
       "\n",
       "    // Set the figure to an initial 600x600px, this will subsequently be updated\n",
       "    // upon first draw.\n",
       "    this._resize_canvas(600, 600);\n",
       "\n",
       "    // Disable right mouse context menu.\n",
       "    $(this.rubberband_canvas).bind(\"contextmenu\",function(e){\n",
       "        return false;\n",
       "    });\n",
       "\n",
       "    function set_focus () {\n",
       "        canvas.focus();\n",
       "        canvas_div.focus();\n",
       "    }\n",
       "\n",
       "    window.setTimeout(set_focus, 100);\n",
       "}\n",
       "\n",
       "mpl.figure.prototype._init_toolbar = function() {\n",
       "    var fig = this;\n",
       "\n",
       "    var nav_element = $('<div/>')\n",
       "    nav_element.attr('style', 'width: 100%');\n",
       "    this.root.append(nav_element);\n",
       "\n",
       "    // Define a callback function for later on.\n",
       "    function toolbar_event(event) {\n",
       "        return fig.toolbar_button_onclick(event['data']);\n",
       "    }\n",
       "    function toolbar_mouse_event(event) {\n",
       "        return fig.toolbar_button_onmouseover(event['data']);\n",
       "    }\n",
       "\n",
       "    for(var toolbar_ind in mpl.toolbar_items) {\n",
       "        var name = mpl.toolbar_items[toolbar_ind][0];\n",
       "        var tooltip = mpl.toolbar_items[toolbar_ind][1];\n",
       "        var image = mpl.toolbar_items[toolbar_ind][2];\n",
       "        var method_name = mpl.toolbar_items[toolbar_ind][3];\n",
       "\n",
       "        if (!name) {\n",
       "            // put a spacer in here.\n",
       "            continue;\n",
       "        }\n",
       "        var button = $('<button/>');\n",
       "        button.addClass('ui-button ui-widget ui-state-default ui-corner-all ' +\n",
       "                        'ui-button-icon-only');\n",
       "        button.attr('role', 'button');\n",
       "        button.attr('aria-disabled', 'false');\n",
       "        button.click(method_name, toolbar_event);\n",
       "        button.mouseover(tooltip, toolbar_mouse_event);\n",
       "\n",
       "        var icon_img = $('<span/>');\n",
       "        icon_img.addClass('ui-button-icon-primary ui-icon');\n",
       "        icon_img.addClass(image);\n",
       "        icon_img.addClass('ui-corner-all');\n",
       "\n",
       "        var tooltip_span = $('<span/>');\n",
       "        tooltip_span.addClass('ui-button-text');\n",
       "        tooltip_span.html(tooltip);\n",
       "\n",
       "        button.append(icon_img);\n",
       "        button.append(tooltip_span);\n",
       "\n",
       "        nav_element.append(button);\n",
       "    }\n",
       "\n",
       "    var fmt_picker_span = $('<span/>');\n",
       "\n",
       "    var fmt_picker = $('<select/>');\n",
       "    fmt_picker.addClass('mpl-toolbar-option ui-widget ui-widget-content');\n",
       "    fmt_picker_span.append(fmt_picker);\n",
       "    nav_element.append(fmt_picker_span);\n",
       "    this.format_dropdown = fmt_picker[0];\n",
       "\n",
       "    for (var ind in mpl.extensions) {\n",
       "        var fmt = mpl.extensions[ind];\n",
       "        var option = $(\n",
       "            '<option/>', {selected: fmt === mpl.default_extension}).html(fmt);\n",
       "        fmt_picker.append(option)\n",
       "    }\n",
       "\n",
       "    // Add hover states to the ui-buttons\n",
       "    $( \".ui-button\" ).hover(\n",
       "        function() { $(this).addClass(\"ui-state-hover\");},\n",
       "        function() { $(this).removeClass(\"ui-state-hover\");}\n",
       "    );\n",
       "\n",
       "    var status_bar = $('<span class=\"mpl-message\"/>');\n",
       "    nav_element.append(status_bar);\n",
       "    this.message = status_bar[0];\n",
       "}\n",
       "\n",
       "mpl.figure.prototype.request_resize = function(x_pixels, y_pixels) {\n",
       "    // Request matplotlib to resize the figure. Matplotlib will then trigger a resize in the client,\n",
       "    // which will in turn request a refresh of the image.\n",
       "    this.send_message('resize', {'width': x_pixels, 'height': y_pixels});\n",
       "}\n",
       "\n",
       "mpl.figure.prototype.send_message = function(type, properties) {\n",
       "    properties['type'] = type;\n",
       "    properties['figure_id'] = this.id;\n",
       "    this.ws.send(JSON.stringify(properties));\n",
       "}\n",
       "\n",
       "mpl.figure.prototype.send_draw_message = function() {\n",
       "    if (!this.waiting) {\n",
       "        this.waiting = true;\n",
       "        this.ws.send(JSON.stringify({type: \"draw\", figure_id: this.id}));\n",
       "    }\n",
       "}\n",
       "\n",
       "\n",
       "mpl.figure.prototype.handle_save = function(fig, msg) {\n",
       "    var format_dropdown = fig.format_dropdown;\n",
       "    var format = format_dropdown.options[format_dropdown.selectedIndex].value;\n",
       "    fig.ondownload(fig, format);\n",
       "}\n",
       "\n",
       "\n",
       "mpl.figure.prototype.handle_resize = function(fig, msg) {\n",
       "    var size = msg['size'];\n",
       "    if (size[0] != fig.canvas.width || size[1] != fig.canvas.height) {\n",
       "        fig._resize_canvas(size[0], size[1]);\n",
       "        fig.send_message(\"refresh\", {});\n",
       "    };\n",
       "}\n",
       "\n",
       "mpl.figure.prototype.handle_rubberband = function(fig, msg) {\n",
       "    var x0 = msg['x0'];\n",
       "    var y0 = fig.canvas.height - msg['y0'];\n",
       "    var x1 = msg['x1'];\n",
       "    var y1 = fig.canvas.height - msg['y1'];\n",
       "    x0 = Math.floor(x0) + 0.5;\n",
       "    y0 = Math.floor(y0) + 0.5;\n",
       "    x1 = Math.floor(x1) + 0.5;\n",
       "    y1 = Math.floor(y1) + 0.5;\n",
       "    var min_x = Math.min(x0, x1);\n",
       "    var min_y = Math.min(y0, y1);\n",
       "    var width = Math.abs(x1 - x0);\n",
       "    var height = Math.abs(y1 - y0);\n",
       "\n",
       "    fig.rubberband_context.clearRect(\n",
       "        0, 0, fig.canvas.width, fig.canvas.height);\n",
       "\n",
       "    fig.rubberband_context.strokeRect(min_x, min_y, width, height);\n",
       "}\n",
       "\n",
       "mpl.figure.prototype.handle_figure_label = function(fig, msg) {\n",
       "    // Updates the figure title.\n",
       "    fig.header.textContent = msg['label'];\n",
       "}\n",
       "\n",
       "mpl.figure.prototype.handle_cursor = function(fig, msg) {\n",
       "    var cursor = msg['cursor'];\n",
       "    switch(cursor)\n",
       "    {\n",
       "    case 0:\n",
       "        cursor = 'pointer';\n",
       "        break;\n",
       "    case 1:\n",
       "        cursor = 'default';\n",
       "        break;\n",
       "    case 2:\n",
       "        cursor = 'crosshair';\n",
       "        break;\n",
       "    case 3:\n",
       "        cursor = 'move';\n",
       "        break;\n",
       "    }\n",
       "    fig.rubberband_canvas.style.cursor = cursor;\n",
       "}\n",
       "\n",
       "mpl.figure.prototype.handle_message = function(fig, msg) {\n",
       "    fig.message.textContent = msg['message'];\n",
       "}\n",
       "\n",
       "mpl.figure.prototype.handle_draw = function(fig, msg) {\n",
       "    // Request the server to send over a new figure.\n",
       "    fig.send_draw_message();\n",
       "}\n",
       "\n",
       "mpl.figure.prototype.handle_image_mode = function(fig, msg) {\n",
       "    fig.image_mode = msg['mode'];\n",
       "}\n",
       "\n",
       "mpl.figure.prototype.updated_canvas_event = function() {\n",
       "    // Called whenever the canvas gets updated.\n",
       "    this.send_message(\"ack\", {});\n",
       "}\n",
       "\n",
       "// A function to construct a web socket function for onmessage handling.\n",
       "// Called in the figure constructor.\n",
       "mpl.figure.prototype._make_on_message_function = function(fig) {\n",
       "    return function socket_on_message(evt) {\n",
       "        if (evt.data instanceof Blob) {\n",
       "            /* FIXME: We get \"Resource interpreted as Image but\n",
       "             * transferred with MIME type text/plain:\" errors on\n",
       "             * Chrome.  But how to set the MIME type?  It doesn't seem\n",
       "             * to be part of the websocket stream */\n",
       "            evt.data.type = \"image/png\";\n",
       "\n",
       "            /* Free the memory for the previous frames */\n",
       "            if (fig.imageObj.src) {\n",
       "                (window.URL || window.webkitURL).revokeObjectURL(\n",
       "                    fig.imageObj.src);\n",
       "            }\n",
       "\n",
       "            fig.imageObj.src = (window.URL || window.webkitURL).createObjectURL(\n",
       "                evt.data);\n",
       "            fig.updated_canvas_event();\n",
       "            return;\n",
       "        }\n",
       "        else if (typeof evt.data === 'string' && evt.data.slice(0, 21) == \"data:image/png;base64\") {\n",
       "            fig.imageObj.src = evt.data;\n",
       "            fig.updated_canvas_event();\n",
       "            return;\n",
       "        }\n",
       "\n",
       "        var msg = JSON.parse(evt.data);\n",
       "        var msg_type = msg['type'];\n",
       "\n",
       "        // Call the  \"handle_{type}\" callback, which takes\n",
       "        // the figure and JSON message as its only arguments.\n",
       "        try {\n",
       "            var callback = fig[\"handle_\" + msg_type];\n",
       "        } catch (e) {\n",
       "            console.log(\"No handler for the '\" + msg_type + \"' message type: \", msg);\n",
       "            return;\n",
       "        }\n",
       "\n",
       "        if (callback) {\n",
       "            try {\n",
       "                // console.log(\"Handling '\" + msg_type + \"' message: \", msg);\n",
       "                callback(fig, msg);\n",
       "            } catch (e) {\n",
       "                console.log(\"Exception inside the 'handler_\" + msg_type + \"' callback:\", e, e.stack, msg);\n",
       "            }\n",
       "        }\n",
       "    };\n",
       "}\n",
       "\n",
       "// from http://stackoverflow.com/questions/1114465/getting-mouse-location-in-canvas\n",
       "mpl.findpos = function(e) {\n",
       "    //this section is from http://www.quirksmode.org/js/events_properties.html\n",
       "    var targ;\n",
       "    if (!e)\n",
       "        e = window.event;\n",
       "    if (e.target)\n",
       "        targ = e.target;\n",
       "    else if (e.srcElement)\n",
       "        targ = e.srcElement;\n",
       "    if (targ.nodeType == 3) // defeat Safari bug\n",
       "        targ = targ.parentNode;\n",
       "\n",
       "    // jQuery normalizes the pageX and pageY\n",
       "    // pageX,Y are the mouse positions relative to the document\n",
       "    // offset() returns the position of the element relative to the document\n",
       "    var x = e.pageX - $(targ).offset().left;\n",
       "    var y = e.pageY - $(targ).offset().top;\n",
       "\n",
       "    return {\"x\": x, \"y\": y};\n",
       "};\n",
       "\n",
       "mpl.figure.prototype.mouse_event = function(event, name) {\n",
       "    var canvas_pos = mpl.findpos(event)\n",
       "\n",
       "    if (name === 'button_press')\n",
       "    {\n",
       "        this.canvas.focus();\n",
       "        this.canvas_div.focus();\n",
       "    }\n",
       "\n",
       "    var x = canvas_pos.x;\n",
       "    var y = canvas_pos.y;\n",
       "\n",
       "    this.send_message(name, {x: x, y: y, button: event.button,\n",
       "                             step: event.step});\n",
       "\n",
       "    /* This prevents the web browser from automatically changing to\n",
       "     * the text insertion cursor when the button is pressed.  We want\n",
       "     * to control all of the cursor setting manually through the\n",
       "     * 'cursor' event from matplotlib */\n",
       "    event.preventDefault();\n",
       "    return false;\n",
       "}\n",
       "\n",
       "mpl.figure.prototype._key_event_extra = function(event, name) {\n",
       "    // Handle any extra behaviour associated with a key event\n",
       "}\n",
       "\n",
       "mpl.figure.prototype.key_event = function(event, name) {\n",
       "\n",
       "    // Prevent repeat events\n",
       "    if (name == 'key_press')\n",
       "    {\n",
       "        if (event.which === this._key)\n",
       "            return;\n",
       "        else\n",
       "            this._key = event.which;\n",
       "    }\n",
       "    if (name == 'key_release')\n",
       "        this._key = null;\n",
       "\n",
       "    var value = '';\n",
       "    if (event.ctrlKey && event.which != 17)\n",
       "        value += \"ctrl+\";\n",
       "    if (event.altKey && event.which != 18)\n",
       "        value += \"alt+\";\n",
       "    if (event.shiftKey && event.which != 16)\n",
       "        value += \"shift+\";\n",
       "\n",
       "    value += 'k';\n",
       "    value += event.which.toString();\n",
       "\n",
       "    this._key_event_extra(event, name);\n",
       "\n",
       "    this.send_message(name, {key: value});\n",
       "    return false;\n",
       "}\n",
       "\n",
       "mpl.figure.prototype.toolbar_button_onclick = function(name) {\n",
       "    if (name == 'download') {\n",
       "        this.handle_save(this, null);\n",
       "    } else {\n",
       "        this.send_message(\"toolbar_button\", {name: name});\n",
       "    }\n",
       "};\n",
       "\n",
       "mpl.figure.prototype.toolbar_button_onmouseover = function(tooltip) {\n",
       "    this.message.textContent = tooltip;\n",
       "};\n",
       "mpl.toolbar_items = [[\"Home\", \"Reset original view\", \"fa fa-home icon-home\", \"home\"], [\"Back\", \"Back to  previous view\", \"fa fa-arrow-left icon-arrow-left\", \"back\"], [\"Forward\", \"Forward to next view\", \"fa fa-arrow-right icon-arrow-right\", \"forward\"], [\"\", \"\", \"\", \"\"], [\"Pan\", \"Pan axes with left mouse, zoom with right\", \"fa fa-arrows icon-move\", \"pan\"], [\"Zoom\", \"Zoom to rectangle\", \"fa fa-square-o icon-check-empty\", \"zoom\"], [\"\", \"\", \"\", \"\"], [\"Download\", \"Download plot\", \"fa fa-floppy-o icon-save\", \"download\"]];\n",
       "\n",
       "mpl.extensions = [\"eps\", \"jpeg\", \"pdf\", \"png\", \"ps\", \"raw\", \"svg\", \"tif\"];\n",
       "\n",
       "mpl.default_extension = \"png\";var comm_websocket_adapter = function(comm) {\n",
       "    // Create a \"websocket\"-like object which calls the given IPython comm\n",
       "    // object with the appropriate methods. Currently this is a non binary\n",
       "    // socket, so there is still some room for performance tuning.\n",
       "    var ws = {};\n",
       "\n",
       "    ws.close = function() {\n",
       "        comm.close()\n",
       "    };\n",
       "    ws.send = function(m) {\n",
       "        //console.log('sending', m);\n",
       "        comm.send(m);\n",
       "    };\n",
       "    // Register the callback with on_msg.\n",
       "    comm.on_msg(function(msg) {\n",
       "        //console.log('receiving', msg['content']['data'], msg);\n",
       "        // Pass the mpl event to the overriden (by mpl) onmessage function.\n",
       "        ws.onmessage(msg['content']['data'])\n",
       "    });\n",
       "    return ws;\n",
       "}\n",
       "\n",
       "mpl.mpl_figure_comm = function(comm, msg) {\n",
       "    // This is the function which gets called when the mpl process\n",
       "    // starts-up an IPython Comm through the \"matplotlib\" channel.\n",
       "\n",
       "    var id = msg.content.data.id;\n",
       "    // Get hold of the div created by the display call when the Comm\n",
       "    // socket was opened in Python.\n",
       "    var element = $(\"#\" + id);\n",
       "    var ws_proxy = comm_websocket_adapter(comm)\n",
       "\n",
       "    function ondownload(figure, format) {\n",
       "        window.open(figure.imageObj.src);\n",
       "    }\n",
       "\n",
       "    var fig = new mpl.figure(id, ws_proxy,\n",
       "                           ondownload,\n",
       "                           element.get(0));\n",
       "\n",
       "    // Call onopen now - mpl needs it, as it is assuming we've passed it a real\n",
       "    // web socket which is closed, not our websocket->open comm proxy.\n",
       "    ws_proxy.onopen();\n",
       "\n",
       "    fig.parent_element = element.get(0);\n",
       "    fig.cell_info = mpl.find_output_cell(\"<div id='\" + id + \"'></div>\");\n",
       "    if (!fig.cell_info) {\n",
       "        console.error(\"Failed to find cell for figure\", id, fig);\n",
       "        return;\n",
       "    }\n",
       "\n",
       "    var output_index = fig.cell_info[2]\n",
       "    var cell = fig.cell_info[0];\n",
       "\n",
       "};\n",
       "\n",
       "mpl.figure.prototype.handle_close = function(fig, msg) {\n",
       "    // Update the output cell to use the data from the current canvas.\n",
       "    fig.push_to_output();\n",
       "    var dataURL = fig.canvas.toDataURL();\n",
       "    // Re-enable the keyboard manager in IPython - without this line, in FF,\n",
       "    // the notebook keyboard shortcuts fail.\n",
       "    IPython.keyboard_manager.enable()\n",
       "    $(fig.parent_element).html('<img src=\"' + dataURL + '\">');\n",
       "    fig.send_message('closing', {});\n",
       "    fig.ws.close()\n",
       "}\n",
       "\n",
       "mpl.figure.prototype.push_to_output = function(remove_interactive) {\n",
       "    // Turn the data on the canvas into data in the output cell.\n",
       "    var dataURL = this.canvas.toDataURL();\n",
       "    this.cell_info[1]['text/html'] = '<img src=\"' + dataURL + '\">';\n",
       "}\n",
       "\n",
       "mpl.figure.prototype.updated_canvas_event = function() {\n",
       "    // Tell IPython that the notebook contents must change.\n",
       "    IPython.notebook.set_dirty(true);\n",
       "    this.send_message(\"ack\", {});\n",
       "    var fig = this;\n",
       "    // Wait a second, then push the new image to the DOM so\n",
       "    // that it is saved nicely (might be nice to debounce this).\n",
       "    setTimeout(function () { fig.push_to_output() }, 1000);\n",
       "}\n",
       "\n",
       "mpl.figure.prototype._init_toolbar = function() {\n",
       "    var fig = this;\n",
       "\n",
       "    var nav_element = $('<div/>')\n",
       "    nav_element.attr('style', 'width: 100%');\n",
       "    this.root.append(nav_element);\n",
       "\n",
       "    // Define a callback function for later on.\n",
       "    function toolbar_event(event) {\n",
       "        return fig.toolbar_button_onclick(event['data']);\n",
       "    }\n",
       "    function toolbar_mouse_event(event) {\n",
       "        return fig.toolbar_button_onmouseover(event['data']);\n",
       "    }\n",
       "\n",
       "    for(var toolbar_ind in mpl.toolbar_items){\n",
       "        var name = mpl.toolbar_items[toolbar_ind][0];\n",
       "        var tooltip = mpl.toolbar_items[toolbar_ind][1];\n",
       "        var image = mpl.toolbar_items[toolbar_ind][2];\n",
       "        var method_name = mpl.toolbar_items[toolbar_ind][3];\n",
       "\n",
       "        if (!name) { continue; };\n",
       "\n",
       "        var button = $('<button class=\"btn btn-default\" href=\"#\" title=\"' + name + '\"><i class=\"fa ' + image + ' fa-lg\"></i></button>');\n",
       "        button.click(method_name, toolbar_event);\n",
       "        button.mouseover(tooltip, toolbar_mouse_event);\n",
       "        nav_element.append(button);\n",
       "    }\n",
       "\n",
       "    // Add the status bar.\n",
       "    var status_bar = $('<span class=\"mpl-message\" style=\"text-align:right; float: right;\"/>');\n",
       "    nav_element.append(status_bar);\n",
       "    this.message = status_bar[0];\n",
       "\n",
       "    // Add the close button to the window.\n",
       "    var buttongrp = $('<div class=\"btn-group inline pull-right\"></div>');\n",
       "    var button = $('<button class=\"btn btn-mini btn-danger\" href=\"#\" title=\"Close figure\"><i class=\"fa fa-times icon-remove icon-large\"></i></button>');\n",
       "    button.click(function (evt) { fig.handle_close(fig, {}); } );\n",
       "    button.mouseover('Close figure', toolbar_mouse_event);\n",
       "    buttongrp.append(button);\n",
       "    var titlebar = this.root.find($('.ui-dialog-titlebar'));\n",
       "    titlebar.prepend(buttongrp);\n",
       "}\n",
       "\n",
       "\n",
       "mpl.figure.prototype._canvas_extra_style = function(el){\n",
       "    // this is important to make the div 'focusable\n",
       "    el.attr('tabindex', 0)\n",
       "    // reach out to IPython and tell the keyboard manager to turn it's self\n",
       "    // off when our div gets focus\n",
       "\n",
       "    // location in version 3\n",
       "    if (IPython.notebook.keyboard_manager) {\n",
       "        IPython.notebook.keyboard_manager.register_events(el);\n",
       "    }\n",
       "    else {\n",
       "        // location in version 2\n",
       "        IPython.keyboard_manager.register_events(el);\n",
       "    }\n",
       "\n",
       "}\n",
       "\n",
       "mpl.figure.prototype._key_event_extra = function(event, name) {\n",
       "    var manager = IPython.notebook.keyboard_manager;\n",
       "    if (!manager)\n",
       "        manager = IPython.keyboard_manager;\n",
       "\n",
       "    // Check for shift+enter\n",
       "    if (event.shiftKey && event.which == 13) {\n",
       "        this.canvas_div.blur();\n",
       "        event.shiftKey = false;\n",
       "        // Send a \"J\" for go to next cell\n",
       "        event.which = 74;\n",
       "        event.keyCode = 74;\n",
       "        manager.command_mode();\n",
       "        manager.handle_keydown(event);\n",
       "    }\n",
       "}\n",
       "\n",
       "mpl.figure.prototype.handle_save = function(fig, msg) {\n",
       "    fig.ondownload(fig, null);\n",
       "}\n",
       "\n",
       "\n",
       "mpl.find_output_cell = function(html_output) {\n",
       "    // Return the cell and output element which can be found *uniquely* in the notebook.\n",
       "    // Note - this is a bit hacky, but it is done because the \"notebook_saving.Notebook\"\n",
       "    // IPython event is triggered only after the cells have been serialised, which for\n",
       "    // our purposes (turning an active figure into a static one), is too late.\n",
       "    var cells = IPython.notebook.get_cells();\n",
       "    var ncells = cells.length;\n",
       "    for (var i=0; i<ncells; i++) {\n",
       "        var cell = cells[i];\n",
       "        if (cell.cell_type === 'code'){\n",
       "            for (var j=0; j<cell.output_area.outputs.length; j++) {\n",
       "                var data = cell.output_area.outputs[j];\n",
       "                if (data.data) {\n",
       "                    // IPython >= 3 moved mimebundle to data attribute of output\n",
       "                    data = data.data;\n",
       "                }\n",
       "                if (data['text/html'] == html_output) {\n",
       "                    return [cell, data, j];\n",
       "                }\n",
       "            }\n",
       "        }\n",
       "    }\n",
       "}\n",
       "\n",
       "// Register the function which deals with the matplotlib target/channel.\n",
       "// The kernel may be null if the page has been refreshed.\n",
       "if (IPython.notebook.kernel != null) {\n",
       "    IPython.notebook.kernel.comm_manager.register_target('matplotlib', mpl.mpl_figure_comm);\n",
       "}\n"
      ],
      "text/plain": [
       "<IPython.core.display.Javascript object>"
      ]
     },
     "metadata": {},
     "output_type": "display_data"
    },
    {
     "data": {
      "text/html": [
       "<img src=\"data:image/png;base64,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\">"
      ],
      "text/plain": [
       "<IPython.core.display.HTML object>"
      ]
     },
     "metadata": {},
     "output_type": "display_data"
    },
    {
     "data": {
      "text/plain": [
       "([<matplotlib.patches.Wedge at 0x118098d50>,\n",
       "  <matplotlib.patches.Wedge at 0x1183721d0>,\n",
       "  <matplotlib.patches.Wedge at 0x1180e0890>,\n",
       "  <matplotlib.patches.Wedge at 0x1185d33d0>,\n",
       "  <matplotlib.patches.Wedge at 0x117f3aa10>,\n",
       "  <matplotlib.patches.Wedge at 0x117953a10>,\n",
       "  <matplotlib.patches.Wedge at 0x11861d2d0>],\n",
       " [<matplotlib.text.Text at 0x11830b410>,\n",
       "  <matplotlib.text.Text at 0x118372c50>,\n",
       "  <matplotlib.text.Text at 0x11855c490>,\n",
       "  <matplotlib.text.Text at 0x1185d3ed0>,\n",
       "  <matplotlib.text.Text at 0x117e207d0>,\n",
       "  <matplotlib.text.Text at 0x118664610>,\n",
       "  <matplotlib.text.Text at 0x11861ded0>],\n",
       " [<matplotlib.text.Text at 0x11830bd10>,\n",
       "  <matplotlib.text.Text at 0x1180e0650>,\n",
       "  <matplotlib.text.Text at 0x11855cb50>,\n",
       "  <matplotlib.text.Text at 0x1183697d0>,\n",
       "  <matplotlib.text.Text at 0x117e499d0>,\n",
       "  <matplotlib.text.Text at 0x118664ad0>,\n",
       "  <matplotlib.text.Text at 0x11867c310>])"
      ]
     },
     "execution_count": 204,
     "metadata": {},
     "output_type": "execute_result"
    }
   ],
   "source": [
    "status_labels = list(status.index)\n",
    "status_fracs = pcert, pcertex, pdenied\n",
    "the_grid = GridSpec(3, 3)\n",
    "plt.subplot(the_grid[2, 0], aspect=1, title='Applications by Case Status')\n",
    "plt.pie(status_fracs, labels=status_labels, autopct='%1.1f%%', shadow=True)\n",
    "\n",
    "country_labels = list(countries.index)\n",
    "country_fracs = countries.values\n",
    "plt.subplot(the_grid[0, 0], aspect=1, title='Applications by Citizenship')\n",
    "plt.pie(country_fracs, labels=country_labels, autopct='%1.1f%%', shadow=True)\n",
    "\n",
    "ed_labels = list(education.index)\n",
    "ed_fracs = education.values\n",
    "plt.subplot(the_grid[1, 1], aspect=1, title='Education of Applicants')\n",
    "plt.pie(ed_fracs, labels=ed_labels, autopct='%1.1f%%', shadow=True)"
   ]
  },
  {
   "cell_type": "code",
   "execution_count": 19,
   "metadata": {
    "collapsed": false
   },
   "outputs": [
    {
     "data": {
      "text/plain": [
       "JOB_INFO_EDUCATION\n",
       "Doctorate      0.025573\n",
       "Master's       0.047168\n",
       "Bachelor's     0.051324\n",
       "Other          0.075218\n",
       "Associate's    0.188406\n",
       "None           0.233772\n",
       "High School    0.304193\n",
       "Name: denied, dtype: float64"
      ]
     },
     "execution_count": 19,
     "metadata": {},
     "output_type": "execute_result"
    }
   ],
   "source": [
    "dfcat.groupby(['JOB_INFO_EDUCATION'])['denied'].mean().sort_values()"
   ]
  },
  {
   "cell_type": "markdown",
   "metadata": {},
   "source": [
    "Applicants with at least a Bachelor's have significantly lower rates of rejection than those without one."
   ]
  },
  {
   "cell_type": "markdown",
   "metadata": {},
   "source": [
    "## Data Preparation for Logistic Regression\n",
    "\n",
    "All of the data are given as unicode, even the numbers, so it has to be converted into the proper data type before the regression can be run. Additionally, dummy variables need to be created for the categorical data."
   ]
  },
  {
   "cell_type": "code",
   "execution_count": 89,
   "metadata": {
    "collapsed": false
   },
   "outputs": [],
   "source": [
    "# interesting fields with binary or numerical data\n",
    "data_fields = ['REFILE', 'EMPLOYER_NUM_EMPLOYEES', \n",
    "               'FOREIGN_WORKER_OWNERSHIP_INTEREST', 'PW_AMOUNT_9089', 'WAGE_OFFER_FROM_9089', 'WAGE_OFFER_TO_9089', \n",
    "               'JOB_INFO_TRAINING', 'JOB_INFO_TRAINING_NUM_MONTHS', 'JOB_INFO_EXPERIENCE', \n",
    "               'JOB_INFO_EXPERIENCE_NUM_MONTHS', 'JOB_INFO_ALT_FIELD', 'JOB_INFO_ALT_COMBO_ED_EXP', \n",
    "               'JOB_INFO_ALT_CMB_ED_OTH_YRS', 'JOB_INFO_FOREIGN_ED', 'JOB_INFO_ALT_OCC', 'JOB_INFO_ALT_OCC_NUM_MONTHS', \n",
    "               'JOB_INFO_JOB_REQ_NORMAL', 'JOB_INFO_FOREIGN_LANG_REQ', 'JOB_INFO_COMBO_OCCUPATION',\n",
    "               'JI_FOREIGN_WORKER_LIVE_ON_PREMISES', 'JI_LIVE_IN_DOMESTIC_SERVICE', 'JI_LIVE_IN_DOM_SVC_CONTRACT', \n",
    "               'RECR_INFO_PROFESSIONAL_OCC', 'RECR_INFO_COLL_UNIV_TEACHER', 'RECR_INFO_COLL_TEACH_COMP_PROC', \n",
    "               'RI_POSTED_NOTICE_AT_WORKSITE', 'RI_LAYOFF_IN_PAST_SIX_MONTHS', 'RI_US_WORKERS_CONSIDERED', \n",
    "               'FOREIGN_WORKER_INFO_TRAINING_COMP', 'FOREIGN_WORKER_INFO_REQ_EXPERIENCE', \n",
    "               'FOREIGN_WORKER_INFO_ALT_EDU_EXPERIENCE', 'FOREIGN_WORKER_INFO_REL_OCCUP_EXP', \n",
    "               'PREPARER_INFO_EMP_COMPLETED']\n",
    "dflogit = data[data_fields]"
   ]
  },
  {
   "cell_type": "code",
   "execution_count": 93,
   "metadata": {
    "collapsed": false
   },
   "outputs": [
    {
     "data": {
      "text/html": [
       "<div>\n",
       "<table border=\"1\" class=\"dataframe\">\n",
       "  <thead>\n",
       "    <tr style=\"text-align: right;\">\n",
       "      <th></th>\n",
       "      <th>REFILE</th>\n",
       "      <th>EMPLOYER_NUM_EMPLOYEES</th>\n",
       "      <th>FOREIGN_WORKER_OWNERSHIP_INTEREST</th>\n",
       "      <th>PW_AMOUNT_9089</th>\n",
       "      <th>WAGE_OFFER_FROM_9089</th>\n",
       "      <th>WAGE_OFFER_TO_9089</th>\n",
       "      <th>JOB_INFO_TRAINING</th>\n",
       "      <th>JOB_INFO_TRAINING_NUM_MONTHS</th>\n",
       "      <th>JOB_INFO_EXPERIENCE</th>\n",
       "      <th>JOB_INFO_EXPERIENCE_NUM_MONTHS</th>\n",
       "      <th>...</th>\n",
       "      <th>RECR_INFO_COLL_UNIV_TEACHER</th>\n",
       "      <th>RECR_INFO_COLL_TEACH_COMP_PROC</th>\n",
       "      <th>RI_POSTED_NOTICE_AT_WORKSITE</th>\n",
       "      <th>RI_LAYOFF_IN_PAST_SIX_MONTHS</th>\n",
       "      <th>RI_US_WORKERS_CONSIDERED</th>\n",
       "      <th>FOREIGN_WORKER_INFO_TRAINING_COMP</th>\n",
       "      <th>FOREIGN_WORKER_INFO_REQ_EXPERIENCE</th>\n",
       "      <th>FOREIGN_WORKER_INFO_ALT_EDU_EXPERIENCE</th>\n",
       "      <th>FOREIGN_WORKER_INFO_REL_OCCUP_EXP</th>\n",
       "      <th>PREPARER_INFO_EMP_COMPLETED</th>\n",
       "    </tr>\n",
       "  </thead>\n",
       "  <tbody>\n",
       "    <tr>\n",
       "      <th>0</th>\n",
       "      <td>N</td>\n",
       "      <td>1935</td>\n",
       "      <td>N</td>\n",
       "      <td>83,366.00</td>\n",
       "      <td>90,000.00</td>\n",
       "      <td>95,000.00</td>\n",
       "      <td>N</td>\n",
       "      <td>NaN</td>\n",
       "      <td>N</td>\n",
       "      <td>NaN</td>\n",
       "      <td>...</td>\n",
       "      <td>N</td>\n",
       "      <td>NaN</td>\n",
       "      <td>Y</td>\n",
       "      <td>N</td>\n",
       "      <td>NaN</td>\n",
       "      <td>A</td>\n",
       "      <td>A</td>\n",
       "      <td>A</td>\n",
       "      <td>Y</td>\n",
       "      <td>N</td>\n",
       "    </tr>\n",
       "    <tr>\n",
       "      <th>1</th>\n",
       "      <td>N</td>\n",
       "      <td>350</td>\n",
       "      <td>N</td>\n",
       "      <td>16,973.00</td>\n",
       "      <td>16,973.00</td>\n",
       "      <td>NaN</td>\n",
       "      <td>N</td>\n",
       "      <td>NaN</td>\n",
       "      <td>N</td>\n",
       "      <td>NaN</td>\n",
       "      <td>...</td>\n",
       "      <td>N</td>\n",
       "      <td>NaN</td>\n",
       "      <td>Y</td>\n",
       "      <td>N</td>\n",
       "      <td>NaN</td>\n",
       "      <td>A</td>\n",
       "      <td>A</td>\n",
       "      <td>A</td>\n",
       "      <td>A</td>\n",
       "      <td>N</td>\n",
       "    </tr>\n",
       "    <tr>\n",
       "      <th>2</th>\n",
       "      <td>N</td>\n",
       "      <td>4</td>\n",
       "      <td>N</td>\n",
       "      <td>49,982.00</td>\n",
       "      <td>65,000.00</td>\n",
       "      <td>NaN</td>\n",
       "      <td>N</td>\n",
       "      <td>NaN</td>\n",
       "      <td>Y</td>\n",
       "      <td>36</td>\n",
       "      <td>...</td>\n",
       "      <td>N</td>\n",
       "      <td>NaN</td>\n",
       "      <td>Y</td>\n",
       "      <td>N</td>\n",
       "      <td>NaN</td>\n",
       "      <td>A</td>\n",
       "      <td>Y</td>\n",
       "      <td>A</td>\n",
       "      <td>A</td>\n",
       "      <td>N</td>\n",
       "    </tr>\n",
       "    <tr>\n",
       "      <th>3</th>\n",
       "      <td>N</td>\n",
       "      <td>8</td>\n",
       "      <td>N</td>\n",
       "      <td>43,514.00</td>\n",
       "      <td>43,514.00</td>\n",
       "      <td>NaN</td>\n",
       "      <td>N</td>\n",
       "      <td>NaN</td>\n",
       "      <td>N</td>\n",
       "      <td>NaN</td>\n",
       "      <td>...</td>\n",
       "      <td>N</td>\n",
       "      <td>NaN</td>\n",
       "      <td>Y</td>\n",
       "      <td>N</td>\n",
       "      <td>NaN</td>\n",
       "      <td>A</td>\n",
       "      <td>A</td>\n",
       "      <td>A</td>\n",
       "      <td>A</td>\n",
       "      <td>N</td>\n",
       "    </tr>\n",
       "    <tr>\n",
       "      <th>4</th>\n",
       "      <td>N</td>\n",
       "      <td>350</td>\n",
       "      <td>N</td>\n",
       "      <td>16,973.00</td>\n",
       "      <td>16,973.00</td>\n",
       "      <td>NaN</td>\n",
       "      <td>N</td>\n",
       "      <td>NaN</td>\n",
       "      <td>N</td>\n",
       "      <td>NaN</td>\n",
       "      <td>...</td>\n",
       "      <td>N</td>\n",
       "      <td>NaN</td>\n",
       "      <td>Y</td>\n",
       "      <td>N</td>\n",
       "      <td>NaN</td>\n",
       "      <td>A</td>\n",
       "      <td>A</td>\n",
       "      <td>A</td>\n",
       "      <td>A</td>\n",
       "      <td>N</td>\n",
       "    </tr>\n",
       "  </tbody>\n",
       "</table>\n",
       "<p>5 rows × 33 columns</p>\n",
       "</div>"
      ],
      "text/plain": [
       "  REFILE  EMPLOYER_NUM_EMPLOYEES FOREIGN_WORKER_OWNERSHIP_INTEREST  \\\n",
       "0      N                    1935                                 N   \n",
       "1      N                     350                                 N   \n",
       "2      N                       4                                 N   \n",
       "3      N                       8                                 N   \n",
       "4      N                     350                                 N   \n",
       "\n",
       "  PW_AMOUNT_9089 WAGE_OFFER_FROM_9089 WAGE_OFFER_TO_9089 JOB_INFO_TRAINING  \\\n",
       "0      83,366.00            90,000.00          95,000.00                 N   \n",
       "1      16,973.00            16,973.00                NaN                 N   \n",
       "2      49,982.00            65,000.00                NaN                 N   \n",
       "3      43,514.00            43,514.00                NaN                 N   \n",
       "4      16,973.00            16,973.00                NaN                 N   \n",
       "\n",
       "   JOB_INFO_TRAINING_NUM_MONTHS JOB_INFO_EXPERIENCE  \\\n",
       "0                           NaN                   N   \n",
       "1                           NaN                   N   \n",
       "2                           NaN                   Y   \n",
       "3                           NaN                   N   \n",
       "4                           NaN                   N   \n",
       "\n",
       "   JOB_INFO_EXPERIENCE_NUM_MONTHS             ...              \\\n",
       "0                             NaN             ...               \n",
       "1                             NaN             ...               \n",
       "2                              36             ...               \n",
       "3                             NaN             ...               \n",
       "4                             NaN             ...               \n",
       "\n",
       "  RECR_INFO_COLL_UNIV_TEACHER RECR_INFO_COLL_TEACH_COMP_PROC  \\\n",
       "0                           N                            NaN   \n",
       "1                           N                            NaN   \n",
       "2                           N                            NaN   \n",
       "3                           N                            NaN   \n",
       "4                           N                            NaN   \n",
       "\n",
       "   RI_POSTED_NOTICE_AT_WORKSITE RI_LAYOFF_IN_PAST_SIX_MONTHS  \\\n",
       "0                             Y                            N   \n",
       "1                             Y                            N   \n",
       "2                             Y                            N   \n",
       "3                             Y                            N   \n",
       "4                             Y                            N   \n",
       "\n",
       "  RI_US_WORKERS_CONSIDERED  FOREIGN_WORKER_INFO_TRAINING_COMP  \\\n",
       "0                      NaN                                  A   \n",
       "1                      NaN                                  A   \n",
       "2                      NaN                                  A   \n",
       "3                      NaN                                  A   \n",
       "4                      NaN                                  A   \n",
       "\n",
       "  FOREIGN_WORKER_INFO_REQ_EXPERIENCE FOREIGN_WORKER_INFO_ALT_EDU_EXPERIENCE  \\\n",
       "0                                  A                                      A   \n",
       "1                                  A                                      A   \n",
       "2                                  Y                                      A   \n",
       "3                                  A                                      A   \n",
       "4                                  A                                      A   \n",
       "\n",
       "  FOREIGN_WORKER_INFO_REL_OCCUP_EXP PREPARER_INFO_EMP_COMPLETED  \n",
       "0                                 Y                           N  \n",
       "1                                 A                           N  \n",
       "2                                 A                           N  \n",
       "3                                 A                           N  \n",
       "4                                 A                           N  \n",
       "\n",
       "[5 rows x 33 columns]"
      ]
     },
     "execution_count": 93,
     "metadata": {},
     "output_type": "execute_result"
    }
   ],
   "source": [
    "dflogit.head()"
   ]
  },
  {
   "cell_type": "markdown",
   "metadata": {},
   "source": [
    "The data cleaning ended up being a little tricky, as some columns were initially dropped without me noticing. The cleaning operation converts unicode numbers into floats and Y/N indicators into binary."
   ]
  },
  {
   "cell_type": "code",
   "execution_count": 22,
   "metadata": {
    "collapsed": false
   },
   "outputs": [],
   "source": [
    "def remove_commas(uni):\n",
    "    # converts unicode numbers with commas into floats\n",
    "    string = str(uni)\n",
    "    if ',' in string:\n",
    "        return float(string.replace(',', ''))\n",
    "    elif '#' in string:\n",
    "        return 0\n",
    "\n",
    "def data_clean(df):\n",
    "    # formats datatypes to binary for indicators or floats for numbers\n",
    "    columns = df.columns\n",
    "    dfr = pd.DataFrame()\n",
    "    for column in columns:\n",
    "        name = str(column)\n",
    "        name = name.lower()\n",
    "        if str(df[column][1]) in ['Y', 'N']:\n",
    "            dfr[name] = (df[column] == 'Y').astype(int)\n",
    "        else:\n",
    "            try:\n",
    "                dfr[name] = df[column].apply(str).apply(remove_commas)\n",
    "            except ValueError:\n",
    "                continue\n",
    "    return dfr\n",
    "\n",
    "def add_columns(df1, df2, columns):\n",
    "    # adds columns from one dataframe to another\n",
    "    for column in columns:\n",
    "        df2[column] = df1[column]"
   ]
  },
  {
   "cell_type": "code",
   "execution_count": 94,
   "metadata": {
    "collapsed": true
   },
   "outputs": [],
   "source": [
    "dflogit = data_clean(dflogit)"
   ]
  },
  {
   "cell_type": "code",
   "execution_count": 95,
   "metadata": {
    "collapsed": false
   },
   "outputs": [],
   "source": [
    "# adding prevailing wage comparison features\n",
    "dflogit['lowball'] = (dflogit['pw_amount_9089'] > dflogit['wage_offer_from_9089']).apply(int)\n",
    "dflogit['highoffer'] = (dflogit['pw_amount_9089'] < dflogit['wage_offer_to_9089']).apply(int)"
   ]
  },
  {
   "cell_type": "markdown",
   "metadata": {},
   "source": [
    "I thought that perhaps the how the wage offered to the immigrant worker compared to the prevailing wage of the profession might affect rejection, so I added two feature to identify lowball and higher-than-normal offers."
   ]
  },
  {
   "cell_type": "code",
   "execution_count": 96,
   "metadata": {
    "collapsed": true
   },
   "outputs": [],
   "source": [
    "# formatting data for logistic regression\n",
    "\n",
    "new_columns = ['JOB_INFO_EDUCATION', 'COUNTRY_OF_CITIZENSHIP', 'CLASS_OF_ADMISSION', 'FOREIGN_WORKER_INFO_EDUCATION',\n",
    "               'denied']\n",
    "add_columns(data, dflogit, new_columns)"
   ]
  },
  {
   "cell_type": "markdown",
   "metadata": {},
   "source": [
    "Missing data is replaced with a 0, since classifiers cannot handle NaNs. setting the default to 0 will minimize the distortion."
   ]
  },
  {
   "cell_type": "code",
   "execution_count": 100,
   "metadata": {
    "collapsed": true
   },
   "outputs": [],
   "source": [
    "# dealing with missing data\n",
    "dflogit = dflogit.fillna(0)"
   ]
  },
  {
   "cell_type": "code",
   "execution_count": 98,
   "metadata": {
    "collapsed": false
   },
   "outputs": [
    {
     "data": {
      "text/html": [
       "<div>\n",
       "<table border=\"1\" class=\"dataframe\">\n",
       "  <thead>\n",
       "    <tr style=\"text-align: right;\">\n",
       "      <th></th>\n",
       "      <th>refile</th>\n",
       "      <th>employer_num_employees</th>\n",
       "      <th>foreign_worker_ownership_interest</th>\n",
       "      <th>pw_amount_9089</th>\n",
       "      <th>wage_offer_from_9089</th>\n",
       "      <th>wage_offer_to_9089</th>\n",
       "      <th>job_info_training</th>\n",
       "      <th>job_info_training_num_months</th>\n",
       "      <th>job_info_experience</th>\n",
       "      <th>job_info_experience_num_months</th>\n",
       "      <th>...</th>\n",
       "      <th>foreign_worker_info_alt_edu_experience</th>\n",
       "      <th>foreign_worker_info_rel_occup_exp</th>\n",
       "      <th>preparer_info_emp_completed</th>\n",
       "      <th>lowball</th>\n",
       "      <th>highoffer</th>\n",
       "      <th>JOB_INFO_EDUCATION</th>\n",
       "      <th>COUNTRY_OF_CITIZENSHIP</th>\n",
       "      <th>CLASS_OF_ADMISSION</th>\n",
       "      <th>FOREIGN_WORKER_INFO_EDUCATION</th>\n",
       "      <th>denied</th>\n",
       "    </tr>\n",
       "  </thead>\n",
       "  <tbody>\n",
       "    <tr>\n",
       "      <th>0</th>\n",
       "      <td>0</td>\n",
       "      <td>0</td>\n",
       "      <td>0</td>\n",
       "      <td>83366</td>\n",
       "      <td>90000</td>\n",
       "      <td>95000</td>\n",
       "      <td>0</td>\n",
       "      <td>0</td>\n",
       "      <td>0</td>\n",
       "      <td>0</td>\n",
       "      <td>...</td>\n",
       "      <td>0</td>\n",
       "      <td>0</td>\n",
       "      <td>0</td>\n",
       "      <td>0</td>\n",
       "      <td>1</td>\n",
       "      <td>Bachelor's</td>\n",
       "      <td>INDIA</td>\n",
       "      <td>H-1B</td>\n",
       "      <td>Bachelor's</td>\n",
       "      <td>0</td>\n",
       "    </tr>\n",
       "    <tr>\n",
       "      <th>1</th>\n",
       "      <td>0</td>\n",
       "      <td>0</td>\n",
       "      <td>0</td>\n",
       "      <td>16973</td>\n",
       "      <td>16973</td>\n",
       "      <td>0</td>\n",
       "      <td>0</td>\n",
       "      <td>0</td>\n",
       "      <td>0</td>\n",
       "      <td>0</td>\n",
       "      <td>...</td>\n",
       "      <td>0</td>\n",
       "      <td>0</td>\n",
       "      <td>0</td>\n",
       "      <td>0</td>\n",
       "      <td>0</td>\n",
       "      <td>None</td>\n",
       "      <td>SOUTH KOREA</td>\n",
       "      <td>0</td>\n",
       "      <td>None</td>\n",
       "      <td>1</td>\n",
       "    </tr>\n",
       "    <tr>\n",
       "      <th>2</th>\n",
       "      <td>0</td>\n",
       "      <td>0</td>\n",
       "      <td>0</td>\n",
       "      <td>49982</td>\n",
       "      <td>65000</td>\n",
       "      <td>0</td>\n",
       "      <td>0</td>\n",
       "      <td>0</td>\n",
       "      <td>1</td>\n",
       "      <td>0</td>\n",
       "      <td>...</td>\n",
       "      <td>0</td>\n",
       "      <td>0</td>\n",
       "      <td>0</td>\n",
       "      <td>0</td>\n",
       "      <td>0</td>\n",
       "      <td>Doctorate</td>\n",
       "      <td>GERMANY</td>\n",
       "      <td>H-1B</td>\n",
       "      <td>Doctorate</td>\n",
       "      <td>1</td>\n",
       "    </tr>\n",
       "    <tr>\n",
       "      <th>3</th>\n",
       "      <td>0</td>\n",
       "      <td>0</td>\n",
       "      <td>0</td>\n",
       "      <td>43514</td>\n",
       "      <td>43514</td>\n",
       "      <td>0</td>\n",
       "      <td>0</td>\n",
       "      <td>0</td>\n",
       "      <td>0</td>\n",
       "      <td>0</td>\n",
       "      <td>...</td>\n",
       "      <td>0</td>\n",
       "      <td>0</td>\n",
       "      <td>0</td>\n",
       "      <td>0</td>\n",
       "      <td>0</td>\n",
       "      <td>Master's</td>\n",
       "      <td>SOUTH KOREA</td>\n",
       "      <td>E-2</td>\n",
       "      <td>Master's</td>\n",
       "      <td>0</td>\n",
       "    </tr>\n",
       "    <tr>\n",
       "      <th>4</th>\n",
       "      <td>0</td>\n",
       "      <td>0</td>\n",
       "      <td>0</td>\n",
       "      <td>16973</td>\n",
       "      <td>16973</td>\n",
       "      <td>0</td>\n",
       "      <td>0</td>\n",
       "      <td>0</td>\n",
       "      <td>0</td>\n",
       "      <td>0</td>\n",
       "      <td>...</td>\n",
       "      <td>0</td>\n",
       "      <td>0</td>\n",
       "      <td>0</td>\n",
       "      <td>0</td>\n",
       "      <td>0</td>\n",
       "      <td>None</td>\n",
       "      <td>SOUTH KOREA</td>\n",
       "      <td>0</td>\n",
       "      <td>None</td>\n",
       "      <td>1</td>\n",
       "    </tr>\n",
       "  </tbody>\n",
       "</table>\n",
       "<p>5 rows × 40 columns</p>\n",
       "</div>"
      ],
      "text/plain": [
       "   refile  employer_num_employees  foreign_worker_ownership_interest  \\\n",
       "0       0                       0                                  0   \n",
       "1       0                       0                                  0   \n",
       "2       0                       0                                  0   \n",
       "3       0                       0                                  0   \n",
       "4       0                       0                                  0   \n",
       "\n",
       "   pw_amount_9089  wage_offer_from_9089  wage_offer_to_9089  \\\n",
       "0           83366                 90000               95000   \n",
       "1           16973                 16973                   0   \n",
       "2           49982                 65000                   0   \n",
       "3           43514                 43514                   0   \n",
       "4           16973                 16973                   0   \n",
       "\n",
       "   job_info_training  job_info_training_num_months  job_info_experience  \\\n",
       "0                  0                             0                    0   \n",
       "1                  0                             0                    0   \n",
       "2                  0                             0                    1   \n",
       "3                  0                             0                    0   \n",
       "4                  0                             0                    0   \n",
       "\n",
       "   job_info_experience_num_months   ...    \\\n",
       "0                               0   ...     \n",
       "1                               0   ...     \n",
       "2                               0   ...     \n",
       "3                               0   ...     \n",
       "4                               0   ...     \n",
       "\n",
       "   foreign_worker_info_alt_edu_experience  foreign_worker_info_rel_occup_exp  \\\n",
       "0                                       0                                  0   \n",
       "1                                       0                                  0   \n",
       "2                                       0                                  0   \n",
       "3                                       0                                  0   \n",
       "4                                       0                                  0   \n",
       "\n",
       "   preparer_info_emp_completed  lowball  highoffer  JOB_INFO_EDUCATION  \\\n",
       "0                            0        0          1          Bachelor's   \n",
       "1                            0        0          0                None   \n",
       "2                            0        0          0           Doctorate   \n",
       "3                            0        0          0            Master's   \n",
       "4                            0        0          0                None   \n",
       "\n",
       "   COUNTRY_OF_CITIZENSHIP  CLASS_OF_ADMISSION  FOREIGN_WORKER_INFO_EDUCATION  \\\n",
       "0                   INDIA                H-1B                     Bachelor's   \n",
       "1             SOUTH KOREA                   0                           None   \n",
       "2                 GERMANY                H-1B                      Doctorate   \n",
       "3             SOUTH KOREA                 E-2                       Master's   \n",
       "4             SOUTH KOREA                   0                           None   \n",
       "\n",
       "   denied  \n",
       "0       0  \n",
       "1       1  \n",
       "2       1  \n",
       "3       0  \n",
       "4       1  \n",
       "\n",
       "[5 rows x 40 columns]"
      ]
     },
     "execution_count": 98,
     "metadata": {},
     "output_type": "execute_result"
    }
   ],
   "source": [
    "dflogit.head()"
   ]
  },
  {
   "cell_type": "code",
   "execution_count": 99,
   "metadata": {
    "collapsed": false
   },
   "outputs": [
    {
     "name": "stdout",
     "output_type": "stream",
     "text": [
      "n:  84634\n",
      "features:  40\n"
     ]
    },
    {
     "data": {
      "text/plain": [
       "refile                                      int64\n",
       "employer_num_employees                      int64\n",
       "foreign_worker_ownership_interest           int64\n",
       "pw_amount_9089                            float64\n",
       "wage_offer_from_9089                      float64\n",
       "wage_offer_to_9089                        float64\n",
       "job_info_training                           int64\n",
       "job_info_training_num_months                int64\n",
       "job_info_experience                         int64\n",
       "job_info_experience_num_months              int64\n",
       "job_info_alt_field                          int64\n",
       "job_info_alt_combo_ed_exp                   int64\n",
       "job_info_alt_cmb_ed_oth_yrs                 int64\n",
       "job_info_foreign_ed                         int64\n",
       "job_info_alt_occ                            int64\n",
       "job_info_alt_occ_num_months                 int64\n",
       "job_info_job_req_normal                     int64\n",
       "job_info_foreign_lang_req                   int64\n",
       "job_info_combo_occupation                   int64\n",
       "ji_foreign_worker_live_on_premises          int64\n",
       "ji_live_in_domestic_service                 int64\n",
       "ji_live_in_dom_svc_contract                 int64\n",
       "recr_info_professional_occ                  int64\n",
       "recr_info_coll_univ_teacher                 int64\n",
       "recr_info_coll_teach_comp_proc              int64\n",
       "ri_posted_notice_at_worksite                int64\n",
       "ri_layoff_in_past_six_months                int64\n",
       "ri_us_workers_considered                    int64\n",
       "foreign_worker_info_training_comp           int64\n",
       "foreign_worker_info_req_experience          int64\n",
       "foreign_worker_info_alt_edu_experience      int64\n",
       "foreign_worker_info_rel_occup_exp           int64\n",
       "preparer_info_emp_completed                 int64\n",
       "lowball                                     int64\n",
       "highoffer                                   int64\n",
       "JOB_INFO_EDUCATION                         object\n",
       "COUNTRY_OF_CITIZENSHIP                     object\n",
       "CLASS_OF_ADMISSION                         object\n",
       "FOREIGN_WORKER_INFO_EDUCATION              object\n",
       "denied                                      int64\n",
       "dtype: object"
      ]
     },
     "execution_count": 99,
     "metadata": {},
     "output_type": "execute_result"
    }
   ],
   "source": [
    "# checking that no columns or data points were dropped\n",
    "print 'n: ', len(dflogit)\n",
    "print 'features: ', len(dflogit.columns)\n",
    "\n",
    "# checking data types\n",
    "dflogit.dtypes"
   ]
  },
  {
   "cell_type": "code",
   "execution_count": 30,
   "metadata": {
    "collapsed": false
   },
   "outputs": [
    {
     "data": {
      "text/html": [
       "<div>\n",
       "<table border=\"1\" class=\"dataframe\">\n",
       "  <thead>\n",
       "    <tr style=\"text-align: right;\">\n",
       "      <th></th>\n",
       "      <th>pw_amount_9089</th>\n",
       "      <th>wage_offer_from_9089</th>\n",
       "      <th>wage_offer_to_9089</th>\n",
       "    </tr>\n",
       "  </thead>\n",
       "  <tbody>\n",
       "    <tr>\n",
       "      <th>count</th>\n",
       "      <td>82951.000000</td>\n",
       "      <td>82247.000000</td>\n",
       "      <td>22451.000000</td>\n",
       "    </tr>\n",
       "    <tr>\n",
       "      <th>mean</th>\n",
       "      <td>85402.096103</td>\n",
       "      <td>93688.169319</td>\n",
       "      <td>127946.312091</td>\n",
       "    </tr>\n",
       "    <tr>\n",
       "      <th>std</th>\n",
       "      <td>38569.882008</td>\n",
       "      <td>39830.833135</td>\n",
       "      <td>44435.788980</td>\n",
       "    </tr>\n",
       "    <tr>\n",
       "      <th>min</th>\n",
       "      <td>1067.200000</td>\n",
       "      <td>1060.000000</td>\n",
       "      <td>1000.000000</td>\n",
       "    </tr>\n",
       "    <tr>\n",
       "      <th>25%</th>\n",
       "      <td>67808.000000</td>\n",
       "      <td>72467.000000</td>\n",
       "      <td>102200.000000</td>\n",
       "    </tr>\n",
       "    <tr>\n",
       "      <th>50%</th>\n",
       "      <td>84802.000000</td>\n",
       "      <td>90459.000000</td>\n",
       "      <td>127300.000000</td>\n",
       "    </tr>\n",
       "    <tr>\n",
       "      <th>75%</th>\n",
       "      <td>103938.000000</td>\n",
       "      <td>110410.000000</td>\n",
       "      <td>148400.000000</td>\n",
       "    </tr>\n",
       "    <tr>\n",
       "      <th>max</th>\n",
       "      <td>5067600.000000</td>\n",
       "      <td>1145000.000000</td>\n",
       "      <td>1347000.000000</td>\n",
       "    </tr>\n",
       "  </tbody>\n",
       "</table>\n",
       "</div>"
      ],
      "text/plain": [
       "       pw_amount_9089  wage_offer_from_9089  wage_offer_to_9089\n",
       "count    82951.000000          82247.000000        22451.000000\n",
       "mean     85402.096103          93688.169319       127946.312091\n",
       "std      38569.882008          39830.833135        44435.788980\n",
       "min       1067.200000           1060.000000         1000.000000\n",
       "25%      67808.000000          72467.000000       102200.000000\n",
       "50%      84802.000000          90459.000000       127300.000000\n",
       "75%     103938.000000         110410.000000       148400.000000\n",
       "max    5067600.000000        1145000.000000      1347000.000000"
      ]
     },
     "execution_count": 30,
     "metadata": {},
     "output_type": "execute_result"
    }
   ],
   "source": [
    "wages = dflogit[['pw_amount_9089', 'wage_offer_from_9089', 'wage_offer_to_9089']].replace('0', np.nan)\n",
    "wages.describe()"
   ]
  },
  {
   "cell_type": "code",
   "execution_count": 31,
   "metadata": {
    "collapsed": false
   },
   "outputs": [
    {
     "data": {
      "image/png": "[encoded data removed]",
      "text/plain": [
       "<matplotlib.figure.Figure at 0x10c5f3a10>"
      ]
     },
     "metadata": {},
     "output_type": "display_data"
    }
   ],
   "source": [
    "# histograms of wage data\n",
    "fig, ax = plt.subplots(ncols=3)\n",
    "index = 0\n",
    "titles = ['Prevailing Wage', 'Low Offer', 'High Offer']\n",
    "for column in wages.columns:\n",
    "    column = str(column)\n",
    "    ax[index].hist(wages[column].values, range=(0, 250000))\n",
    "    ax[index].ticklabel_format(style='sci', axis='x', scilimits=(0,0))\n",
    "    ax[index].set_title(titles[index])\n",
    "    index += 1"
   ]
  },
  {
   "cell_type": "code",
   "execution_count": 86,
   "metadata": {
    "collapsed": false
   },
   "outputs": [],
   "source": [
    "# creating a formula for dmatrices, including dummy variables\n",
    "params = dflogit.columns[:-5]\n",
    "dummies = ['C(JOB_INFO_EDUCATION)', 'C(COUNTRY_OF_CITIZENSHIP)', 'C(CLASS_OF_ADMISSION)', 'C(FOREIGN_WORKER_INFO_EDUCATION)']\n",
    "f = 'denied ~ ' + ' + '.join(params) + ' + ' + ' + '.join(dummies)"
   ]
  },
  {
   "cell_type": "code",
   "execution_count": 185,
   "metadata": {
    "collapsed": false,
    "scrolled": true
   },
   "outputs": [
    {
     "name": "stdout",
     "output_type": "stream",
     "text": [
      "n:  84634\n",
      "features:  278\n"
     ]
    }
   ],
   "source": [
    "# convert pandas dataframe into numpy arrays for sklearn logit\n",
    "y, X = dmatrices(f, dflogit, NA_action='raise', return_type=\"dataframe\")\n",
    "\n",
    "# checking to see that none of the data points were lost\n",
    "print 'n: ', len(y)\n",
    "print 'features: ', len(X.columns)"
   ]
  },
  {
   "cell_type": "markdown",
   "metadata": {},
   "source": [
    "There are about 300x as many data points as features."
   ]
  },
  {
   "cell_type": "code",
   "execution_count": 186,
   "metadata": {
    "collapsed": true
   },
   "outputs": [],
   "source": [
    "# flattening y into a 1-D array\n",
    "y = np.ravel(y)\n",
    "\n",
    "# splitting data in to training and testing sets\n",
    "X_train, X_test, y_train, y_test = train_test_split(X, y, test_size=.1, random_state=0)"
   ]
  },
  {
   "cell_type": "markdown",
   "metadata": {},
   "source": [
    "## Logistic Regression"
   ]
  },
  {
   "cell_type": "markdown",
   "metadata": {},
   "source": [
    "Using grid search and cross validation, a model is fit to the training set."
   ]
  },
  {
   "cell_type": "code",
   "execution_count": 62,
   "metadata": {
    "collapsed": false
   },
   "outputs": [
    {
     "data": {
      "text/plain": [
       "GridSearchCV(cv=10,\n",
       "       estimator=LogisticRegression(C=1.0, class_weight='auto', dual=False, fit_intercept=True,\n",
       "          intercept_scaling=1, penalty='l2', random_state=None, tol=0.0001),\n",
       "       fit_params={}, iid=True, loss_func=None, n_jobs=1,\n",
       "       param_grid={'C': [0.01, 0.1, 1.0, 10.0, 100.0]},\n",
       "       pre_dispatch='2*n_jobs', refit=True, score_func=None, scoring=None,\n",
       "       verbose=0)"
      ]
     },
     "execution_count": 62,
     "metadata": {},
     "output_type": "execute_result"
    }
   ],
   "source": [
    "logit_params = {'C': [.01, .1, 1., 10., 100.]}\n",
    "logit = LogisticRegression(class_weight='auto')\n",
    "lgt = GridSearchCV(logit, logit_params, cv=10)\n",
    "lgt.fit(X_train, y_train)"
   ]
  },
  {
   "cell_type": "markdown",
   "metadata": {},
   "source": [
    "The null hypothesis for this model is to simply guess that all applications will be accepted. As will be shown, simply comparing the accuracy of the model and the null hypothesis is not an adequate way of evaluating the model."
   ]
  },
  {
   "cell_type": "code",
   "execution_count": 128,
   "metadata": {
    "collapsed": false
   },
   "outputs": [
    {
     "name": "stdout",
     "output_type": "stream",
     "text": [
      "Acc:  0.674031190926\n",
      "Null:  0.935491493384\n"
     ]
    }
   ],
   "source": [
    "# model accuracy\n",
    "print 'Acc: ', lgt.score(X_test, y_test)\n",
    "\n",
    "# null hypothesis\n",
    "null = 1 - y_test.mean()\n",
    "\n",
    "print 'Null: ', null"
   ]
  },
  {
   "cell_type": "markdown",
   "metadata": {},
   "source": [
    "At first glance, the model is doing worse than the null (accepting every application)."
   ]
  },
  {
   "cell_type": "markdown",
   "metadata": {},
   "source": [
    "### Evaluating the Model\n",
    "\n",
    "The default decision point for logistic regression is .5, but this can be adjusted manually to further optimize the model. My goals are to maximize recall and precision for rejected applications."
   ]
  },
  {
   "cell_type": "code",
   "execution_count": 224,
   "metadata": {
    "collapsed": true
   },
   "outputs": [],
   "source": [
    "def decision_threshold(clf, data, cutoff=.5):\n",
    "    ''' Adjusts the decision cutoff for sklearn classifier predictions\n",
    "    \n",
    "    Parameters: \n",
    "    clf -- a sklearn classifier object\n",
    "    data -- a numpy array of unlabeled data\n",
    "    cutoff --  a float between 0 and 1\n",
    "    \n",
    "    Returns:\n",
    "    a numpy array of binary predictions\n",
    "    '''\n",
    "    probs = clf.predict_proba(data)\n",
    "    count = []\n",
    "    for prob in probs:\n",
    "        if prob[1] > cutoff:\n",
    "            count.append(1)\n",
    "        else:\n",
    "            count.append(0)\n",
    "    return np.array(count)"
   ]
  },
  {
   "cell_type": "code",
   "execution_count": 225,
   "metadata": {
    "collapsed": true
   },
   "outputs": [],
   "source": [
    "# adjusting the decision cutoff\n",
    "pred = decision_threshold(lgt, X_test, .57)"
   ]
  },
  {
   "cell_type": "code",
   "execution_count": 226,
   "metadata": {
    "collapsed": false
   },
   "outputs": [
    {
     "name": "stdout",
     "output_type": "stream",
     "text": [
      "0.818998109641\n",
      "0.725237831546\n"
     ]
    }
   ],
   "source": [
    "# generating evaluation metrics\n",
    "print metrics.accuracy_score(y_test, pred)\n",
    "print metrics.roc_auc_score(y_test, probs[:, 1])"
   ]
  },
  {
   "cell_type": "markdown",
   "metadata": {},
   "source": [
    "Adjusting the decision cutoff has already greatly improved the accuracy of the model. In the confusion matrix below, rejected applications are labeled 1."
   ]
  },
  {
   "cell_type": "code",
   "execution_count": 227,
   "metadata": {
    "collapsed": false
   },
   "outputs": [
    {
     "name": "stdout",
     "output_type": "stream",
     "text": [
      "[[6655 1263]\n",
      " [ 269  277]]\n",
      "             precision    recall  f1-score   support\n",
      "\n",
      "        0.0       0.96      0.84      0.90      7918\n",
      "        1.0       0.18      0.51      0.27       546\n",
      "\n",
      "avg / total       0.91      0.82      0.86      8464\n",
      "\n"
     ]
    }
   ],
   "source": [
    "print metrics.confusion_matrix(y_test, pred)\n",
    "print metrics.classification_report(y_test, pred)"
   ]
  },
  {
   "cell_type": "markdown",
   "metadata": {},
   "source": [
    "While the model does have a lot of false-positives, these are not very costly. The result will simply be flagging an application as a possible rejection, leading to a strengthening of a possible weak application. The model identified over half of all rejections, and flagged about one sixth of accepted applications as weak. This means that the model *is* usefull in that applications classified as weak are rejected at triple the base-rate ad applications classified as less risky are rejected at a lower than normal rate."
   ]
  },
  {
   "cell_type": "code",
   "execution_count": 83,
   "metadata": {
    "collapsed": false
   },
   "outputs": [
    {
     "name": "stdout",
     "output_type": "stream",
     "text": [
      "[ 0.61873819  0.6897448   0.69506144  0.67651229  0.76854915  0.75732514\n",
      "  0.76923077  0.74997046  0.6665091   0.71507918]\n",
      "0.710672050777\n"
     ]
    }
   ],
   "source": [
    "# 10-fold cross-validation\n",
    "logit_scores = cross_val_score(lgt.best_estimator_, X, y, scoring='accuracy', cv=10)\n",
    "print logit_scores\n",
    "print logit_scores.mean()"
   ]
  },
  {
   "cell_type": "markdown",
   "metadata": {},
   "source": [
    "Variability in CV scores shows that sampling for the train-test split may not be totally random, or that the model may be overfitting the training data."
   ]
  },
  {
   "cell_type": "markdown",
   "metadata": {},
   "source": [
    "### The Results"
   ]
  },
  {
   "cell_type": "code",
   "execution_count": 107,
   "metadata": {
    "collapsed": true
   },
   "outputs": [
    {
     "data": {
      "text/html": [
       "<div>\n",
       "<table border=\"1\" class=\"dataframe\">\n",
       "  <thead>\n",
       "    <tr style=\"text-align: right;\">\n",
       "      <th></th>\n",
       "      <th>0</th>\n",
       "      <th>1</th>\n",
       "    </tr>\n",
       "  </thead>\n",
       "  <tbody>\n",
       "    <tr>\n",
       "      <th>79</th>\n",
       "      <td>C(COUNTRY_OF_CITIZENSHIP)[T.INDIA]</td>\n",
       "      <td>[-0.176251924516]</td>\n",
       "    </tr>\n",
       "    <tr>\n",
       "      <th>257</th>\n",
       "      <td>job_info_alt_occ</td>\n",
       "      <td>[-0.160139080308]</td>\n",
       "    </tr>\n",
       "    <tr>\n",
       "      <th>254</th>\n",
       "      <td>job_info_alt_combo_ed_exp</td>\n",
       "      <td>[-0.106160787604]</td>\n",
       "    </tr>\n",
       "    <tr>\n",
       "      <th>205</th>\n",
       "      <td>C(CLASS_OF_ADMISSION)[T.H-1B]</td>\n",
       "      <td>[-0.092934977915]</td>\n",
       "    </tr>\n",
       "    <tr>\n",
       "      <th>251</th>\n",
       "      <td>job_info_experience</td>\n",
       "      <td>[-0.0922473222607]</td>\n",
       "    </tr>\n",
       "    <tr>\n",
       "      <th>5</th>\n",
       "      <td>C(JOB_INFO_EDUCATION)[T.Master's]</td>\n",
       "      <td>[-0.0788471258476]</td>\n",
       "    </tr>\n",
       "    <tr>\n",
       "      <th>215</th>\n",
       "      <td>C(CLASS_OF_ADMISSION)[T.L-1]</td>\n",
       "      <td>[-0.0743595721462]</td>\n",
       "    </tr>\n",
       "    <tr>\n",
       "      <th>265</th>\n",
       "      <td>recr_info_professional_occ</td>\n",
       "      <td>[-0.0624294471003]</td>\n",
       "    </tr>\n",
       "    <tr>\n",
       "      <th>253</th>\n",
       "      <td>job_info_alt_field</td>\n",
       "      <td>[-0.0501670092318]</td>\n",
       "    </tr>\n",
       "    <tr>\n",
       "      <th>238</th>\n",
       "      <td>C(FOREIGN_WORKER_INFO_EDUCATION)[T.Doctorate]</td>\n",
       "      <td>[-0.0438859581143]</td>\n",
       "    </tr>\n",
       "    <tr>\n",
       "      <th>3</th>\n",
       "      <td>C(JOB_INFO_EDUCATION)[T.Doctorate]</td>\n",
       "      <td>[-0.0433257018906]</td>\n",
       "    </tr>\n",
       "    <tr>\n",
       "      <th>266</th>\n",
       "      <td>recr_info_coll_univ_teacher</td>\n",
       "      <td>[-0.0292894562017]</td>\n",
       "    </tr>\n",
       "    <tr>\n",
       "      <th>2</th>\n",
       "      <td>C(JOB_INFO_EDUCATION)[T.Bachelor's]</td>\n",
       "      <td>[-0.0273987636673]</td>\n",
       "    </tr>\n",
       "    <tr>\n",
       "      <th>237</th>\n",
       "      <td>C(FOREIGN_WORKER_INFO_EDUCATION)[T.Bachelor's]</td>\n",
       "      <td>[-0.0245269038149]</td>\n",
       "    </tr>\n",
       "    <tr>\n",
       "      <th>41</th>\n",
       "      <td>C(COUNTRY_OF_CITIZENSHIP)[T.CHINA]</td>\n",
       "      <td>[-0.013856729827]</td>\n",
       "    </tr>\n",
       "    <tr>\n",
       "      <th>240</th>\n",
       "      <td>C(FOREIGN_WORKER_INFO_EDUCATION)[T.Master's]</td>\n",
       "      <td>[-0.0123811859913]</td>\n",
       "    </tr>\n",
       "    <tr>\n",
       "      <th>269</th>\n",
       "      <td>ri_layoff_in_past_six_months</td>\n",
       "      <td>[-0.00889952428717]</td>\n",
       "    </tr>\n",
       "    <tr>\n",
       "      <th>277</th>\n",
       "      <td>highoffer</td>\n",
       "      <td>[-0.00715096530302]</td>\n",
       "    </tr>\n",
       "    <tr>\n",
       "      <th>81</th>\n",
       "      <td>C(COUNTRY_OF_CITIZENSHIP)[T.IRAN]</td>\n",
       "      <td>[-0.0047898006582]</td>\n",
       "    </tr>\n",
       "    <tr>\n",
       "      <th>125</th>\n",
       "      <td>C(COUNTRY_OF_CITIZENSHIP)[T.NIGERIA]</td>\n",
       "      <td>[-0.00312990249901]</td>\n",
       "    </tr>\n",
       "    <tr>\n",
       "      <th>173</th>\n",
       "      <td>C(COUNTRY_OF_CITIZENSHIP)[T.TURKEY]</td>\n",
       "      <td>[-0.00265441955186]</td>\n",
       "    </tr>\n",
       "    <tr>\n",
       "      <th>231</th>\n",
       "      <td>C(CLASS_OF_ADMISSION)[T.TN]</td>\n",
       "      <td>[-0.002265972156]</td>\n",
       "    </tr>\n",
       "    <tr>\n",
       "      <th>84</th>\n",
       "      <td>C(COUNTRY_OF_CITIZENSHIP)[T.ISRAEL]</td>\n",
       "      <td>[-0.00224142433074]</td>\n",
       "    </tr>\n",
       "    <tr>\n",
       "      <th>149</th>\n",
       "      <td>C(COUNTRY_OF_CITIZENSHIP)[T.SINGAPORE]</td>\n",
       "      <td>[-0.00219533101366]</td>\n",
       "    </tr>\n",
       "    <tr>\n",
       "      <th>119</th>\n",
       "      <td>C(COUNTRY_OF_CITIZENSHIP)[T.NEPAL]</td>\n",
       "      <td>[-0.00202884247055]</td>\n",
       "    </tr>\n",
       "    <tr>\n",
       "      <th>176</th>\n",
       "      <td>C(COUNTRY_OF_CITIZENSHIP)[T.UKRAINE]</td>\n",
       "      <td>[-0.00199691719065]</td>\n",
       "    </tr>\n",
       "    <tr>\n",
       "      <th>76</th>\n",
       "      <td>C(COUNTRY_OF_CITIZENSHIP)[T.HONG KONG]</td>\n",
       "      <td>[-0.0019054290366]</td>\n",
       "    </tr>\n",
       "    <tr>\n",
       "      <th>145</th>\n",
       "      <td>C(COUNTRY_OF_CITIZENSHIP)[T.SERBIA]</td>\n",
       "      <td>[-0.00164182095721]</td>\n",
       "    </tr>\n",
       "    <tr>\n",
       "      <th>120</th>\n",
       "      <td>C(COUNTRY_OF_CITIZENSHIP)[T.NETHERLANDS]</td>\n",
       "      <td>[-0.00103031698457]</td>\n",
       "    </tr>\n",
       "    <tr>\n",
       "      <th>216</th>\n",
       "      <td>C(CLASS_OF_ADMISSION)[T.L-2]</td>\n",
       "      <td>[-0.000997516963488]</td>\n",
       "    </tr>\n",
       "  </tbody>\n",
       "</table>\n",
       "</div>"
      ],
      "text/plain": [
       "                                                  0                     1\n",
       "79               C(COUNTRY_OF_CITIZENSHIP)[T.INDIA]     [-0.176251924516]\n",
       "257                                job_info_alt_occ     [-0.160139080308]\n",
       "254                       job_info_alt_combo_ed_exp     [-0.106160787604]\n",
       "205                   C(CLASS_OF_ADMISSION)[T.H-1B]     [-0.092934977915]\n",
       "251                             job_info_experience    [-0.0922473222607]\n",
       "5                 C(JOB_INFO_EDUCATION)[T.Master's]    [-0.0788471258476]\n",
       "215                    C(CLASS_OF_ADMISSION)[T.L-1]    [-0.0743595721462]\n",
       "265                      recr_info_professional_occ    [-0.0624294471003]\n",
       "253                              job_info_alt_field    [-0.0501670092318]\n",
       "238   C(FOREIGN_WORKER_INFO_EDUCATION)[T.Doctorate]    [-0.0438859581143]\n",
       "3                C(JOB_INFO_EDUCATION)[T.Doctorate]    [-0.0433257018906]\n",
       "266                     recr_info_coll_univ_teacher    [-0.0292894562017]\n",
       "2               C(JOB_INFO_EDUCATION)[T.Bachelor's]    [-0.0273987636673]\n",
       "237  C(FOREIGN_WORKER_INFO_EDUCATION)[T.Bachelor's]    [-0.0245269038149]\n",
       "41               C(COUNTRY_OF_CITIZENSHIP)[T.CHINA]     [-0.013856729827]\n",
       "240    C(FOREIGN_WORKER_INFO_EDUCATION)[T.Master's]    [-0.0123811859913]\n",
       "269                    ri_layoff_in_past_six_months   [-0.00889952428717]\n",
       "277                                       highoffer   [-0.00715096530302]\n",
       "81                C(COUNTRY_OF_CITIZENSHIP)[T.IRAN]    [-0.0047898006582]\n",
       "125            C(COUNTRY_OF_CITIZENSHIP)[T.NIGERIA]   [-0.00312990249901]\n",
       "173             C(COUNTRY_OF_CITIZENSHIP)[T.TURKEY]   [-0.00265441955186]\n",
       "231                     C(CLASS_OF_ADMISSION)[T.TN]     [-0.002265972156]\n",
       "84              C(COUNTRY_OF_CITIZENSHIP)[T.ISRAEL]   [-0.00224142433074]\n",
       "149          C(COUNTRY_OF_CITIZENSHIP)[T.SINGAPORE]   [-0.00219533101366]\n",
       "119              C(COUNTRY_OF_CITIZENSHIP)[T.NEPAL]   [-0.00202884247055]\n",
       "176            C(COUNTRY_OF_CITIZENSHIP)[T.UKRAINE]   [-0.00199691719065]\n",
       "76           C(COUNTRY_OF_CITIZENSHIP)[T.HONG KONG]    [-0.0019054290366]\n",
       "145             C(COUNTRY_OF_CITIZENSHIP)[T.SERBIA]   [-0.00164182095721]\n",
       "120        C(COUNTRY_OF_CITIZENSHIP)[T.NETHERLANDS]   [-0.00103031698457]\n",
       "216                    C(CLASS_OF_ADMISSION)[T.L-2]  [-0.000997516963488]"
      ]
     },
     "execution_count": 107,
     "metadata": {},
     "output_type": "execute_result"
    }
   ],
   "source": [
    "# examining the coefficients\n",
    "logit_coef = pd.DataFrame(zip(X.columns, np.transpose(lgt.best_estimator_.coef_))).sort_values(by=1)\n",
    "logit_coef.head(30)"
   ]
  },
  {
   "cell_type": "code",
   "execution_count": 106,
   "metadata": {
    "collapsed": true
   },
   "outputs": [
    {
     "data": {
      "text/html": [
       "<div>\n",
       "<table border=\"1\" class=\"dataframe\">\n",
       "  <thead>\n",
       "    <tr style=\"text-align: right;\">\n",
       "      <th></th>\n",
       "      <th>0</th>\n",
       "      <th>1</th>\n",
       "    </tr>\n",
       "  </thead>\n",
       "  <tbody>\n",
       "    <tr>\n",
       "      <th>53</th>\n",
       "      <td>C(COUNTRY_OF_CITIZENSHIP)[T.ECUADOR]</td>\n",
       "      <td>[0.0144200550028]</td>\n",
       "    </tr>\n",
       "    <tr>\n",
       "      <th>134</th>\n",
       "      <td>C(COUNTRY_OF_CITIZENSHIP)[T.POLAND]</td>\n",
       "      <td>[0.0155488984553]</td>\n",
       "    </tr>\n",
       "    <tr>\n",
       "      <th>178</th>\n",
       "      <td>C(COUNTRY_OF_CITIZENSHIP)[T.UNITED KINGDOM]</td>\n",
       "      <td>[0.0155883465217]</td>\n",
       "    </tr>\n",
       "    <tr>\n",
       "      <th>243</th>\n",
       "      <td>refile</td>\n",
       "      <td>[0.0156722465857]</td>\n",
       "    </tr>\n",
       "    <tr>\n",
       "      <th>182</th>\n",
       "      <td>C(COUNTRY_OF_CITIZENSHIP)[T.VENEZUELA]</td>\n",
       "      <td>[0.0157104638111]</td>\n",
       "    </tr>\n",
       "    <tr>\n",
       "      <th>275</th>\n",
       "      <td>preparer_info_emp_completed</td>\n",
       "      <td>[0.0197766752112]</td>\n",
       "    </tr>\n",
       "    <tr>\n",
       "      <th>196</th>\n",
       "      <td>C(CLASS_OF_ADMISSION)[T.E-2]</td>\n",
       "      <td>[0.0206896186877]</td>\n",
       "    </tr>\n",
       "    <tr>\n",
       "      <th>262</th>\n",
       "      <td>ji_foreign_worker_live_on_premises</td>\n",
       "      <td>[0.0224494409437]</td>\n",
       "    </tr>\n",
       "    <tr>\n",
       "      <th>245</th>\n",
       "      <td>foreign_worker_ownership_interest</td>\n",
       "      <td>[0.0308933339024]</td>\n",
       "    </tr>\n",
       "    <tr>\n",
       "      <th>199</th>\n",
       "      <td>C(CLASS_OF_ADMISSION)[T.F-1]</td>\n",
       "      <td>[0.0318479410039]</td>\n",
       "    </tr>\n",
       "    <tr>\n",
       "      <th>261</th>\n",
       "      <td>job_info_combo_occupation</td>\n",
       "      <td>[0.0332038053688]</td>\n",
       "    </tr>\n",
       "    <tr>\n",
       "      <th>1</th>\n",
       "      <td>C(JOB_INFO_EDUCATION)[T.Associate's]</td>\n",
       "      <td>[0.0339308917586]</td>\n",
       "    </tr>\n",
       "    <tr>\n",
       "      <th>198</th>\n",
       "      <td>C(CLASS_OF_ADMISSION)[T.EWI]</td>\n",
       "      <td>[0.0390691178438]</td>\n",
       "    </tr>\n",
       "    <tr>\n",
       "      <th>236</th>\n",
       "      <td>C(FOREIGN_WORKER_INFO_EDUCATION)[T.Associate's]</td>\n",
       "      <td>[0.0419542472417]</td>\n",
       "    </tr>\n",
       "    <tr>\n",
       "      <th>7</th>\n",
       "      <td>C(JOB_INFO_EDUCATION)[T.Other]</td>\n",
       "      <td>[0.0425604295975]</td>\n",
       "    </tr>\n",
       "    <tr>\n",
       "      <th>242</th>\n",
       "      <td>C(FOREIGN_WORKER_INFO_EDUCATION)[T.Other]</td>\n",
       "      <td>[0.0462826478101]</td>\n",
       "    </tr>\n",
       "    <tr>\n",
       "      <th>191</th>\n",
       "      <td>C(CLASS_OF_ADMISSION)[T.B-2]</td>\n",
       "      <td>[0.0475956288508]</td>\n",
       "    </tr>\n",
       "    <tr>\n",
       "      <th>219</th>\n",
       "      <td>C(CLASS_OF_ADMISSION)[T.Not in USA]</td>\n",
       "      <td>[0.05538362936]</td>\n",
       "    </tr>\n",
       "    <tr>\n",
       "      <th>249</th>\n",
       "      <td>job_info_training</td>\n",
       "      <td>[0.0693532239936]</td>\n",
       "    </tr>\n",
       "    <tr>\n",
       "      <th>260</th>\n",
       "      <td>job_info_foreign_lang_req</td>\n",
       "      <td>[0.0728056990117]</td>\n",
       "    </tr>\n",
       "    <tr>\n",
       "      <th>154</th>\n",
       "      <td>C(COUNTRY_OF_CITIZENSHIP)[T.SOUTH KOREA]</td>\n",
       "      <td>[0.0830799018124]</td>\n",
       "    </tr>\n",
       "    <tr>\n",
       "      <th>133</th>\n",
       "      <td>C(COUNTRY_OF_CITIZENSHIP)[T.PHILIPPINES]</td>\n",
       "      <td>[0.0936694849675]</td>\n",
       "    </tr>\n",
       "    <tr>\n",
       "      <th>113</th>\n",
       "      <td>C(COUNTRY_OF_CITIZENSHIP)[T.MEXICO]</td>\n",
       "      <td>[0.096748358822]</td>\n",
       "    </tr>\n",
       "    <tr>\n",
       "      <th>239</th>\n",
       "      <td>C(FOREIGN_WORKER_INFO_EDUCATION)[T.High School]</td>\n",
       "      <td>[0.0974949609673]</td>\n",
       "    </tr>\n",
       "    <tr>\n",
       "      <th>4</th>\n",
       "      <td>C(JOB_INFO_EDUCATION)[T.High School]</td>\n",
       "      <td>[0.0989332027219]</td>\n",
       "    </tr>\n",
       "    <tr>\n",
       "      <th>268</th>\n",
       "      <td>ri_posted_notice_at_worksite</td>\n",
       "      <td>[0.182418831406]</td>\n",
       "    </tr>\n",
       "    <tr>\n",
       "      <th>241</th>\n",
       "      <td>C(FOREIGN_WORKER_INFO_EDUCATION)[T.None]</td>\n",
       "      <td>[0.212684016602]</td>\n",
       "    </tr>\n",
       "    <tr>\n",
       "      <th>6</th>\n",
       "      <td>C(JOB_INFO_EDUCATION)[T.None]</td>\n",
       "      <td>[0.294635443589]</td>\n",
       "    </tr>\n",
       "    <tr>\n",
       "      <th>0</th>\n",
       "      <td>Intercept</td>\n",
       "      <td>[0.32165526528]</td>\n",
       "    </tr>\n",
       "    <tr>\n",
       "      <th>259</th>\n",
       "      <td>job_info_job_req_normal</td>\n",
       "      <td>[0.514508509846]</td>\n",
       "    </tr>\n",
       "  </tbody>\n",
       "</table>\n",
       "</div>"
      ],
      "text/plain": [
       "                                                   0                  1\n",
       "53              C(COUNTRY_OF_CITIZENSHIP)[T.ECUADOR]  [0.0144200550028]\n",
       "134              C(COUNTRY_OF_CITIZENSHIP)[T.POLAND]  [0.0155488984553]\n",
       "178      C(COUNTRY_OF_CITIZENSHIP)[T.UNITED KINGDOM]  [0.0155883465217]\n",
       "243                                           refile  [0.0156722465857]\n",
       "182           C(COUNTRY_OF_CITIZENSHIP)[T.VENEZUELA]  [0.0157104638111]\n",
       "275                      preparer_info_emp_completed  [0.0197766752112]\n",
       "196                     C(CLASS_OF_ADMISSION)[T.E-2]  [0.0206896186877]\n",
       "262               ji_foreign_worker_live_on_premises  [0.0224494409437]\n",
       "245                foreign_worker_ownership_interest  [0.0308933339024]\n",
       "199                     C(CLASS_OF_ADMISSION)[T.F-1]  [0.0318479410039]\n",
       "261                        job_info_combo_occupation  [0.0332038053688]\n",
       "1               C(JOB_INFO_EDUCATION)[T.Associate's]  [0.0339308917586]\n",
       "198                     C(CLASS_OF_ADMISSION)[T.EWI]  [0.0390691178438]\n",
       "236  C(FOREIGN_WORKER_INFO_EDUCATION)[T.Associate's]  [0.0419542472417]\n",
       "7                     C(JOB_INFO_EDUCATION)[T.Other]  [0.0425604295975]\n",
       "242        C(FOREIGN_WORKER_INFO_EDUCATION)[T.Other]  [0.0462826478101]\n",
       "191                     C(CLASS_OF_ADMISSION)[T.B-2]  [0.0475956288508]\n",
       "219              C(CLASS_OF_ADMISSION)[T.Not in USA]    [0.05538362936]\n",
       "249                                job_info_training  [0.0693532239936]\n",
       "260                        job_info_foreign_lang_req  [0.0728056990117]\n",
       "154         C(COUNTRY_OF_CITIZENSHIP)[T.SOUTH KOREA]  [0.0830799018124]\n",
       "133         C(COUNTRY_OF_CITIZENSHIP)[T.PHILIPPINES]  [0.0936694849675]\n",
       "113              C(COUNTRY_OF_CITIZENSHIP)[T.MEXICO]   [0.096748358822]\n",
       "239  C(FOREIGN_WORKER_INFO_EDUCATION)[T.High School]  [0.0974949609673]\n",
       "4               C(JOB_INFO_EDUCATION)[T.High School]  [0.0989332027219]\n",
       "268                     ri_posted_notice_at_worksite   [0.182418831406]\n",
       "241         C(FOREIGN_WORKER_INFO_EDUCATION)[T.None]   [0.212684016602]\n",
       "6                      C(JOB_INFO_EDUCATION)[T.None]   [0.294635443589]\n",
       "0                                          Intercept    [0.32165526528]\n",
       "259                          job_info_job_req_normal   [0.514508509846]"
      ]
     },
     "execution_count": 106,
     "metadata": {},
     "output_type": "execute_result"
    }
   ],
   "source": [
    "logit_coef.tail(30)"
   ]
  },
  {
   "cell_type": "markdown",
   "metadata": {},
   "source": [
    "According to the model, the strongest factor leading to application rejection is whether a job opportunity has normal requirements. This may show that Homeland Security may question the need for a foreign worker when the job requirements are not extraordinary.\n",
    "\n",
    "Education requirements also matter: positions and applicants without at least a Bachelor's are rejected at high rates. Applicants from Mexico, the Philippines, South Korea are also rejected at relatively high rates. \n",
    "\n",
    "Interestingly, foreign workers with an ownership stake in the hiring company may be at a disadvantage. Perhaps this is intended to encourage moneyed immigrants to simply apply for an investor visa (EB-5 and E-2). Some markers for rejection seem to point to a possibility for exploitation, with jobs requiring the worker to live on-site and live-in domestic workers facing heightened scrutiny.\n",
    "\n",
    "The strongest strengthening features is Indian citizenship. Indians are rejected at the lowest rate of any nationality. Other strengthening factors show that unusual job requirements high worker education improve chances for approval. This may show that jobs requiring a high degree of specialization may be difficult to fill in the US, so companies are justified in hiring foreign talent. Job offers that accept workers with experience with other occupations or fields of study are rarely rejected. Perhaps these are jobs in new fields, with so few experienced professionals that companies must look to workers with only tangential experience.\n",
    "\n",
    "Education and pay are other important factors: jobs requiring a high level of education are more likely to recieve approval, as well as jobs that offer higher pay than the prevailing wage.\n",
    "\n",
    "All of this leads towards a narrative where highly specialized positions for which there may be few qualified applicants are the most likely to recieve approval for US work visas."
   ]
  },
  {
   "cell_type": "markdown",
   "metadata": {},
   "source": [
    "## Decision Tree"
   ]
  },
  {
   "cell_type": "markdown",
   "metadata": {},
   "source": [
    "The decision tree can take quite a long time to fit, so I had to limit the size of the parameter grid, and k-fold cross validation to five partitions."
   ]
  },
  {
   "cell_type": "code",
   "execution_count": 125,
   "metadata": {
    "collapsed": false
   },
   "outputs": [
    {
     "name": "stdout",
     "output_type": "stream",
     "text": [
      "CPU times: user 5min 58s, sys: 11 s, total: 6min 9s\n",
      "Wall time: 6min 21s\n"
     ]
    }
   ],
   "source": [
    "%%time\n",
    "tree_params = {'min_samples_split': [4, 8, 16], \n",
    "               'min_samples_leaf': [2, 4, 8]}\n",
    "dtc = GridSearchCV(DecisionTreeClassifier(), tree_params, cv=5)\n",
    "dtc.fit(X_train, y_train)"
   ]
  },
  {
   "cell_type": "code",
   "execution_count": 126,
   "metadata": {
    "collapsed": false
   },
   "outputs": [
    {
     "data": {
      "text/plain": [
       "{'min_samples_leaf': 8, 'min_samples_split': 8}"
      ]
     },
     "execution_count": 126,
     "metadata": {},
     "output_type": "execute_result"
    }
   ],
   "source": [
    "dtc.best_params_"
   ]
  },
  {
   "cell_type": "code",
   "execution_count": 129,
   "metadata": {
    "collapsed": false
   },
   "outputs": [
    {
     "name": "stdout",
     "output_type": "stream",
     "text": [
      "Acc:  0.943998109641\n",
      "Null:  0.935491493384\n"
     ]
    }
   ],
   "source": [
    "print 'Acc: ', dtc.score(X_test, y_test)\n",
    "print 'Null: ', null"
   ]
  },
  {
   "cell_type": "markdown",
   "metadata": {},
   "source": [
    "The tree is quite a bit more accurate than the logistic regression, but only slightly better than the null hypothesis."
   ]
  },
  {
   "cell_type": "markdown",
   "metadata": {},
   "source": [
    "### Evaluating the Model"
   ]
  },
  {
   "cell_type": "code",
   "execution_count": 221,
   "metadata": {
    "collapsed": false
   },
   "outputs": [],
   "source": [
    "# Adjusting decision cutoff to balance type I and type II errors\n",
    "tpred = decision_threshold(dtc, X_test, .15)"
   ]
  },
  {
   "cell_type": "code",
   "execution_count": 222,
   "metadata": {
    "collapsed": false
   },
   "outputs": [
    {
     "name": "stdout",
     "output_type": "stream",
     "text": [
      "0.864248582231\n",
      "0.765011468282\n"
     ]
    }
   ],
   "source": [
    "# generating evaluation metrics\n",
    "print metrics.accuracy_score(y_test, tpred)\n",
    "print metrics.roc_auc_score(y_test, tprobs[:, 1])"
   ]
  },
  {
   "cell_type": "code",
   "execution_count": 223,
   "metadata": {
    "collapsed": false
   },
   "outputs": [
    {
     "name": "stdout",
     "output_type": "stream",
     "text": [
      "[[7007  911]\n",
      " [ 238  308]]\n",
      "             precision    recall  f1-score   support\n",
      "\n",
      "        0.0       0.97      0.88      0.92      7918\n",
      "        1.0       0.25      0.56      0.35       546\n",
      "\n",
      "avg / total       0.92      0.86      0.89      8464\n",
      "\n"
     ]
    }
   ],
   "source": [
    "print metrics.confusion_matrix(y_test, tpred)\n",
    "print metrics.classification_report(y_test, tpred)"
   ]
  },
  {
   "cell_type": "markdown",
   "metadata": {},
   "source": [
    "The decision tree performs better than logistic regression overall, identifying well over half of the rejected applications, with flagged applications rejected at more than four times the hull rate. Running an application through both models will give a better idea of the risk. Applications flagged by logit but not decision tree have a higher chance of being false positives, and may not be especially weak. Applications flagged by the tree but not logit may also be false positives, but should be regarded with more suspicion than those only flagged by logit, due to the lower rate of type 1 errors in the tree model. Applications classified as weak by both models are at an especially high risk of rejection."
   ]
  },
  {
   "cell_type": "code",
   "execution_count": 187,
   "metadata": {
    "collapsed": false
   },
   "outputs": [
    {
     "name": "stdout",
     "output_type": "stream",
     "text": [
      "[ 0.92426749  0.92733932  0.92757561  0.93336484  0.9442344   0.9422259\n",
      "  0.93583836  0.94328252  0.94634838  0.94233042]\n",
      "0.93668072399\n"
     ]
    }
   ],
   "source": [
    "# evaluating the model using 10-fold cross-validation\n",
    "tree_scores = cross_val_score(dtc.best_estimator_, X, y, scoring='accuracy', cv=10)\n",
    "print tree_scores\n",
    "print tree_scores.mean()"
   ]
  },
  {
   "cell_type": "markdown",
   "metadata": {},
   "source": [
    "Consistent cross validation scores indicate that the model is not overfitting the training data."
   ]
  },
  {
   "cell_type": "markdown",
   "metadata": {},
   "source": [
    "### Results"
   ]
  },
  {
   "cell_type": "code",
   "execution_count": 191,
   "metadata": {
    "collapsed": false,
    "scrolled": true
   },
   "outputs": [
    {
     "data": {
      "text/html": [
       "<div>\n",
       "<table border=\"1\" class=\"dataframe\">\n",
       "  <thead>\n",
       "    <tr style=\"text-align: right;\">\n",
       "      <th></th>\n",
       "      <th>0</th>\n",
       "      <th>1</th>\n",
       "    </tr>\n",
       "  </thead>\n",
       "  <tbody>\n",
       "    <tr>\n",
       "      <th>249</th>\n",
       "      <td>job_info_training</td>\n",
       "      <td>0.003338</td>\n",
       "    </tr>\n",
       "    <tr>\n",
       "      <th>191</th>\n",
       "      <td>C(CLASS_OF_ADMISSION)[T.B-2]</td>\n",
       "      <td>0.003411</td>\n",
       "    </tr>\n",
       "    <tr>\n",
       "      <th>266</th>\n",
       "      <td>recr_info_coll_univ_teacher</td>\n",
       "      <td>0.003954</td>\n",
       "    </tr>\n",
       "    <tr>\n",
       "      <th>198</th>\n",
       "      <td>C(CLASS_OF_ADMISSION)[T.EWI]</td>\n",
       "      <td>0.004512</td>\n",
       "    </tr>\n",
       "    <tr>\n",
       "      <th>240</th>\n",
       "      <td>C(FOREIGN_WORKER_INFO_EDUCATION)[T.Master's]</td>\n",
       "      <td>0.005100</td>\n",
       "    </tr>\n",
       "    <tr>\n",
       "      <th>1</th>\n",
       "      <td>C(JOB_INFO_EDUCATION)[T.Associate's]</td>\n",
       "      <td>0.005580</td>\n",
       "    </tr>\n",
       "    <tr>\n",
       "      <th>237</th>\n",
       "      <td>C(FOREIGN_WORKER_INFO_EDUCATION)[T.Bachelor's]</td>\n",
       "      <td>0.006240</td>\n",
       "    </tr>\n",
       "    <tr>\n",
       "      <th>259</th>\n",
       "      <td>job_info_job_req_normal</td>\n",
       "      <td>0.006319</td>\n",
       "    </tr>\n",
       "    <tr>\n",
       "      <th>41</th>\n",
       "      <td>C(COUNTRY_OF_CITIZENSHIP)[T.CHINA]</td>\n",
       "      <td>0.006591</td>\n",
       "    </tr>\n",
       "    <tr>\n",
       "      <th>79</th>\n",
       "      <td>C(COUNTRY_OF_CITIZENSHIP)[T.INDIA]</td>\n",
       "      <td>0.007484</td>\n",
       "    </tr>\n",
       "    <tr>\n",
       "      <th>154</th>\n",
       "      <td>C(COUNTRY_OF_CITIZENSHIP)[T.SOUTH KOREA]</td>\n",
       "      <td>0.007730</td>\n",
       "    </tr>\n",
       "    <tr>\n",
       "      <th>265</th>\n",
       "      <td>recr_info_professional_occ</td>\n",
       "      <td>0.008351</td>\n",
       "    </tr>\n",
       "    <tr>\n",
       "      <th>6</th>\n",
       "      <td>C(JOB_INFO_EDUCATION)[T.None]</td>\n",
       "      <td>0.009261</td>\n",
       "    </tr>\n",
       "    <tr>\n",
       "      <th>253</th>\n",
       "      <td>job_info_alt_field</td>\n",
       "      <td>0.009375</td>\n",
       "    </tr>\n",
       "    <tr>\n",
       "      <th>2</th>\n",
       "      <td>C(JOB_INFO_EDUCATION)[T.Bachelor's]</td>\n",
       "      <td>0.009607</td>\n",
       "    </tr>\n",
       "    <tr>\n",
       "      <th>254</th>\n",
       "      <td>job_info_alt_combo_ed_exp</td>\n",
       "      <td>0.009810</td>\n",
       "    </tr>\n",
       "    <tr>\n",
       "      <th>257</th>\n",
       "      <td>job_info_alt_occ</td>\n",
       "      <td>0.010022</td>\n",
       "    </tr>\n",
       "    <tr>\n",
       "      <th>261</th>\n",
       "      <td>job_info_combo_occupation</td>\n",
       "      <td>0.010210</td>\n",
       "    </tr>\n",
       "    <tr>\n",
       "      <th>241</th>\n",
       "      <td>C(FOREIGN_WORKER_INFO_EDUCATION)[T.None]</td>\n",
       "      <td>0.010611</td>\n",
       "    </tr>\n",
       "    <tr>\n",
       "      <th>219</th>\n",
       "      <td>C(CLASS_OF_ADMISSION)[T.Not in USA]</td>\n",
       "      <td>0.011221</td>\n",
       "    </tr>\n",
       "    <tr>\n",
       "      <th>268</th>\n",
       "      <td>ri_posted_notice_at_worksite</td>\n",
       "      <td>0.012253</td>\n",
       "    </tr>\n",
       "    <tr>\n",
       "      <th>251</th>\n",
       "      <td>job_info_experience</td>\n",
       "      <td>0.012313</td>\n",
       "    </tr>\n",
       "    <tr>\n",
       "      <th>113</th>\n",
       "      <td>C(COUNTRY_OF_CITIZENSHIP)[T.MEXICO]</td>\n",
       "      <td>0.014544</td>\n",
       "    </tr>\n",
       "    <tr>\n",
       "      <th>275</th>\n",
       "      <td>preparer_info_emp_completed</td>\n",
       "      <td>0.015300</td>\n",
       "    </tr>\n",
       "    <tr>\n",
       "      <th>256</th>\n",
       "      <td>job_info_foreign_ed</td>\n",
       "      <td>0.017928</td>\n",
       "    </tr>\n",
       "    <tr>\n",
       "      <th>4</th>\n",
       "      <td>C(JOB_INFO_EDUCATION)[T.High School]</td>\n",
       "      <td>0.022089</td>\n",
       "    </tr>\n",
       "    <tr>\n",
       "      <th>205</th>\n",
       "      <td>C(CLASS_OF_ADMISSION)[T.H-1B]</td>\n",
       "      <td>0.023367</td>\n",
       "    </tr>\n",
       "    <tr>\n",
       "      <th>248</th>\n",
       "      <td>wage_offer_to_9089</td>\n",
       "      <td>0.064492</td>\n",
       "    </tr>\n",
       "    <tr>\n",
       "      <th>246</th>\n",
       "      <td>pw_amount_9089</td>\n",
       "      <td>0.259792</td>\n",
       "    </tr>\n",
       "    <tr>\n",
       "      <th>247</th>\n",
       "      <td>wage_offer_from_9089</td>\n",
       "      <td>0.362605</td>\n",
       "    </tr>\n",
       "  </tbody>\n",
       "</table>\n",
       "</div>"
      ],
      "text/plain": [
       "                                                  0         1\n",
       "249                               job_info_training  0.003338\n",
       "191                    C(CLASS_OF_ADMISSION)[T.B-2]  0.003411\n",
       "266                     recr_info_coll_univ_teacher  0.003954\n",
       "198                    C(CLASS_OF_ADMISSION)[T.EWI]  0.004512\n",
       "240    C(FOREIGN_WORKER_INFO_EDUCATION)[T.Master's]  0.005100\n",
       "1              C(JOB_INFO_EDUCATION)[T.Associate's]  0.005580\n",
       "237  C(FOREIGN_WORKER_INFO_EDUCATION)[T.Bachelor's]  0.006240\n",
       "259                         job_info_job_req_normal  0.006319\n",
       "41               C(COUNTRY_OF_CITIZENSHIP)[T.CHINA]  0.006591\n",
       "79               C(COUNTRY_OF_CITIZENSHIP)[T.INDIA]  0.007484\n",
       "154        C(COUNTRY_OF_CITIZENSHIP)[T.SOUTH KOREA]  0.007730\n",
       "265                      recr_info_professional_occ  0.008351\n",
       "6                     C(JOB_INFO_EDUCATION)[T.None]  0.009261\n",
       "253                              job_info_alt_field  0.009375\n",
       "2               C(JOB_INFO_EDUCATION)[T.Bachelor's]  0.009607\n",
       "254                       job_info_alt_combo_ed_exp  0.009810\n",
       "257                                job_info_alt_occ  0.010022\n",
       "261                       job_info_combo_occupation  0.010210\n",
       "241        C(FOREIGN_WORKER_INFO_EDUCATION)[T.None]  0.010611\n",
       "219             C(CLASS_OF_ADMISSION)[T.Not in USA]  0.011221\n",
       "268                    ri_posted_notice_at_worksite  0.012253\n",
       "251                             job_info_experience  0.012313\n",
       "113             C(COUNTRY_OF_CITIZENSHIP)[T.MEXICO]  0.014544\n",
       "275                     preparer_info_emp_completed  0.015300\n",
       "256                             job_info_foreign_ed  0.017928\n",
       "4              C(JOB_INFO_EDUCATION)[T.High School]  0.022089\n",
       "205                   C(CLASS_OF_ADMISSION)[T.H-1B]  0.023367\n",
       "248                              wage_offer_to_9089  0.064492\n",
       "246                                  pw_amount_9089  0.259792\n",
       "247                            wage_offer_from_9089  0.362605"
      ]
     },
     "execution_count": 191,
     "metadata": {},
     "output_type": "execute_result"
    }
   ],
   "source": [
    "# examining the feature importances\n",
    "pd.DataFrame(zip(X.columns, np.transpose(dtc.best_estimator_.feature_importances_ ))).sort_values(1).tail(30)"
   ]
  },
  {
   "cell_type": "markdown",
   "metadata": {},
   "source": [
    "The Decision Tree identifies some new features as being important to visa success. According to the tree, the wages offered and the prevailing wage for the job are the most important factors: the higher the pay, the better the chances for acceptance. Strengthening factors have far more influence on acceptance than weakening factors, which makes sense, given the low rate or rejection. Another new insight from the tree model is that having the employer complete the application is a significant factor. Other than that, the important features match well with those identified by logistic regression. The decision tree corroborates the earlier picture, with highly paid specialists having the highest acceptance rates."
   ]
  },
  {
   "cell_type": "markdown",
   "metadata": {},
   "source": [
    "## Model Comparison"
   ]
  },
  {
   "cell_type": "code",
   "execution_count": 205,
   "metadata": {
    "collapsed": false
   },
   "outputs": [
    {
     "data": {
      "text/plain": [
       "array([[6301,  623],\n",
       "       [ 944,  596]])"
      ]
     },
     "execution_count": 205,
     "metadata": {},
     "output_type": "execute_result"
    }
   ],
   "source": [
    "metrics.confusion_matrix(pred, tpred)"
   ]
  },
  {
   "cell_type": "code",
   "execution_count": 212,
   "metadata": {
    "collapsed": false
   },
   "outputs": [
    {
     "data": {
      "text/plain": [
       "0.81486294896030242"
      ]
     },
     "execution_count": 212,
     "metadata": {},
     "output_type": "execute_result"
    }
   ],
   "source": [
    "(tpred == pred).mean()"
   ]
  },
  {
   "cell_type": "markdown",
   "metadata": {},
   "source": [
    "The models agree in about 81% of cases."
   ]
  },
  {
   "cell_type": "markdown",
   "metadata": {},
   "source": [
    "## Random Forest\n",
    "\n",
    "Random forest is an ensemble method that creates a random forest of decision trees, picking the best one for the classifier."
   ]
  },
  {
   "cell_type": "code",
   "execution_count": 240,
   "metadata": {
    "collapsed": false
   },
   "outputs": [
    {
     "name": "stdout",
     "output_type": "stream",
     "text": [
      "CPU times: user 8.54 s, sys: 313 ms, total: 8.85 s\n",
      "Wall time: 9.19 s\n"
     ]
    }
   ],
   "source": [
    "%%time\n",
    "model = RandomForestClassifier()\n",
    "model.fit(X_train, y_train)"
   ]
  },
  {
   "cell_type": "code",
   "execution_count": 242,
   "metadata": {
    "collapsed": false
   },
   "outputs": [
    {
     "name": "stdout",
     "output_type": "stream",
     "text": [
      "CPU times: user 2min 46s, sys: 9.35 s, total: 2min 56s\n",
      "Wall time: 3min 1s\n"
     ]
    }
   ],
   "source": [
    "%%time\n",
    "forest_params = {'oob_score': [True, False], \n",
    "                 'min_samples_split': [8, 16], \n",
    "                 'min_samples_leaf': [4, 8]}\n",
    "rfc = GridSearchCV(RandomForestClassifier(), forest_params, cv=5)\n",
    "rfc.fit(X_train, y_train)"
   ]
  },
  {
   "cell_type": "code",
   "execution_count": 243,
   "metadata": {
    "collapsed": false
   },
   "outputs": [
    {
     "name": "stdout",
     "output_type": "stream",
     "text": [
      "Acc:  0.939744801512\n",
      "Null:  0.935491493384\n"
     ]
    }
   ],
   "source": [
    "print 'Acc: ', rfc.score(X_test, y_test)\n",
    "print 'Null: ', null"
   ]
  },
  {
   "cell_type": "markdown",
   "metadata": {},
   "source": [
    "The random forest is only doing slightly better than the null."
   ]
  },
  {
   "cell_type": "code",
   "execution_count": null,
   "metadata": {
    "collapsed": true
   },
   "outputs": [],
   "source": []
  },
  {
   "cell_type": "markdown",
   "metadata": {},
   "source": [
    "# H-1B Visas"
   ]
  },
  {
   "cell_type": "code",
   "execution_count": null,
   "metadata": {
    "collapsed": true
   },
   "outputs": [],
   "source": [
    "hdf = dflogit[dflogit.CLASS_OF_ADMISSION == 'H-1B']"
   ]
  },
  {
   "cell_type": "code",
   "execution_count": 687,
   "metadata": {
    "collapsed": false
   },
   "outputs": [
    {
     "data": {
      "text/plain": [
       "Index([u'Intercept', u'C(JOB_INFO_EDUCATION)[T.Bachelor's]',\n",
       "       u'C(JOB_INFO_EDUCATION)[T.Doctorate]',\n",
       "       u'C(JOB_INFO_EDUCATION)[T.High School]',\n",
       "       u'C(JOB_INFO_EDUCATION)[T.Master's]', u'C(JOB_INFO_EDUCATION)[T.None]',\n",
       "       u'C(JOB_INFO_EDUCATION)[T.Other]',\n",
       "       u'C(COUNTRY_OF_CITIZENSHIP)[T.AFGHANISTAN]',\n",
       "       u'C(COUNTRY_OF_CITIZENSHIP)[T.ALBANIA]',\n",
       "       u'C(COUNTRY_OF_CITIZENSHIP)[T.ALGERIA]',\n",
       "       ...\n",
       "       u'job_info_job_req_normal', u'job_info_foreign_lang_req',\n",
       "       u'job_info_combo_occupation', u'ji_foreign_worker_live_on_premises',\n",
       "       u'ji_live_in_domestic_service', u'recr_info_professional_occ',\n",
       "       u'recr_info_coll_univ_teacher', u'ri_posted_notice_at_worksite',\n",
       "       u'ri_layoff_in_past_six_months', u'preparer_info_emp_completed'],\n",
       "      dtype='object', length=209)"
      ]
     },
     "execution_count": 687,
     "metadata": {},
     "output_type": "execute_result"
    }
   ],
   "source": [
    "# prep dataframes for sklearn logit\n",
    "hy, hX = dmatrices(f, hdf, NA_action='raise', return_type=\"dataframe\")\n",
    "hX.columns"
   ]
  },
  {
   "cell_type": "code",
   "execution_count": 690,
   "metadata": {
    "collapsed": false
   },
   "outputs": [],
   "source": [
    "# flattening hy into a 1-D array\n",
    "hy = np.ravel(hy)"
   ]
  },
  {
   "cell_type": "code",
   "execution_count": 692,
   "metadata": {
    "collapsed": true
   },
   "outputs": [],
   "source": [
    "# creating a logistic regression model, and fit with hX and hy\n",
    "hmodel = LogisticRegression()\n",
    "hmodel = hmodel.fit(hX, hy)"
   ]
  },
  {
   "cell_type": "code",
   "execution_count": 695,
   "metadata": {
    "collapsed": false
   },
   "outputs": [
    {
     "data": {
      "text/plain": [
       "0.95153640562962505"
      ]
     },
     "execution_count": 695,
     "metadata": {},
     "output_type": "execute_result"
    }
   ],
   "source": [
    "# checking the accuracy on the training set\n",
    "hmodel.score(hX, hy)"
   ]
  },
  {
   "cell_type": "code",
   "execution_count": 696,
   "metadata": {
    "collapsed": false
   },
   "outputs": [
    {
     "data": {
      "text/plain": [
       "0.048000123592207511"
      ]
     },
     "execution_count": 696,
     "metadata": {},
     "output_type": "execute_result"
    }
   ],
   "source": [
    "hy.mean()"
   ]
  },
  {
   "cell_type": "code",
   "execution_count": 697,
   "metadata": {
    "collapsed": true
   },
   "outputs": [
    {
     "data": {
      "text/html": [
       "<div>\n",
       "<table border=\"1\" class=\"dataframe\">\n",
       "  <thead>\n",
       "    <tr style=\"text-align: right;\">\n",
       "      <th></th>\n",
       "      <th>0</th>\n",
       "      <th>1</th>\n",
       "    </tr>\n",
       "  </thead>\n",
       "  <tbody>\n",
       "    <tr>\n",
       "      <th>192</th>\n",
       "      <td>job_info_experience_num_months</td>\n",
       "      <td>[-0.00499028835077]</td>\n",
       "    </tr>\n",
       "    <tr>\n",
       "      <th>190</th>\n",
       "      <td>job_info_training_num_months</td>\n",
       "      <td>[-0.0031027054786]</td>\n",
       "    </tr>\n",
       "    <tr>\n",
       "      <th>195</th>\n",
       "      <td>job_info_alt_cmb_ed_oth_yrs</td>\n",
       "      <td>[-0.00126795991454]</td>\n",
       "    </tr>\n",
       "    <tr>\n",
       "      <th>196</th>\n",
       "      <td>job_info_foreign_ed</td>\n",
       "      <td>[-0.000863969311314]</td>\n",
       "    </tr>\n",
       "    <tr>\n",
       "      <th>0</th>\n",
       "      <td>Intercept</td>\n",
       "      <td>[-0.000836867036345]</td>\n",
       "    </tr>\n",
       "    <tr>\n",
       "      <th>206</th>\n",
       "      <td>ri_posted_notice_at_worksite</td>\n",
       "      <td>[-0.000794645661158]</td>\n",
       "    </tr>\n",
       "    <tr>\n",
       "      <th>191</th>\n",
       "      <td>job_info_experience</td>\n",
       "      <td>[-0.000698548603988]</td>\n",
       "    </tr>\n",
       "    <tr>\n",
       "      <th>204</th>\n",
       "      <td>recr_info_professional_occ</td>\n",
       "      <td>[-0.000631678812752]</td>\n",
       "    </tr>\n",
       "    <tr>\n",
       "      <th>199</th>\n",
       "      <td>job_info_job_req_normal</td>\n",
       "      <td>[-0.000561541567973]</td>\n",
       "    </tr>\n",
       "    <tr>\n",
       "      <th>197</th>\n",
       "      <td>job_info_alt_occ</td>\n",
       "      <td>[-0.000421074696638]</td>\n",
       "    </tr>\n",
       "    <tr>\n",
       "      <th>208</th>\n",
       "      <td>preparer_info_emp_completed</td>\n",
       "      <td>[-0.000390400153568]</td>\n",
       "    </tr>\n",
       "    <tr>\n",
       "      <th>74</th>\n",
       "      <td>C(COUNTRY_OF_CITIZENSHIP)[T.INDIA]</td>\n",
       "      <td>[-0.00038219605675]</td>\n",
       "    </tr>\n",
       "    <tr>\n",
       "      <th>194</th>\n",
       "      <td>job_info_alt_combo_ed_exp</td>\n",
       "      <td>[-0.000336194901338]</td>\n",
       "    </tr>\n",
       "    <tr>\n",
       "      <th>193</th>\n",
       "      <td>job_info_alt_field</td>\n",
       "      <td>[-0.000324970681453]</td>\n",
       "    </tr>\n",
       "    <tr>\n",
       "      <th>4</th>\n",
       "      <td>C(JOB_INFO_EDUCATION)[T.Master's]</td>\n",
       "      <td>[-0.000285345444026]</td>\n",
       "    </tr>\n",
       "    <tr>\n",
       "      <th>1</th>\n",
       "      <td>C(JOB_INFO_EDUCATION)[T.Bachelor's]</td>\n",
       "      <td>[-0.000282588349143]</td>\n",
       "    </tr>\n",
       "    <tr>\n",
       "      <th>179</th>\n",
       "      <td>C(FOREIGN_WORKER_INFO_EDUCATION)[T.Bachelor's]</td>\n",
       "      <td>[-0.000278868888795]</td>\n",
       "    </tr>\n",
       "    <tr>\n",
       "      <th>180</th>\n",
       "      <td>C(FOREIGN_WORKER_INFO_EDUCATION)[T.Doctorate]</td>\n",
       "      <td>[-0.000264545736459]</td>\n",
       "    </tr>\n",
       "    <tr>\n",
       "      <th>205</th>\n",
       "      <td>recr_info_coll_univ_teacher</td>\n",
       "      <td>[-0.000254956674776]</td>\n",
       "    </tr>\n",
       "    <tr>\n",
       "      <th>182</th>\n",
       "      <td>C(FOREIGN_WORKER_INFO_EDUCATION)[T.Master's]</td>\n",
       "      <td>[-0.000246081776289]</td>\n",
       "    </tr>\n",
       "    <tr>\n",
       "      <th>2</th>\n",
       "      <td>C(JOB_INFO_EDUCATION)[T.Doctorate]</td>\n",
       "      <td>[-0.000232546758895]</td>\n",
       "    </tr>\n",
       "    <tr>\n",
       "      <th>38</th>\n",
       "      <td>C(COUNTRY_OF_CITIZENSHIP)[T.CHINA]</td>\n",
       "      <td>[-0.000150667031815]</td>\n",
       "    </tr>\n",
       "    <tr>\n",
       "      <th>6</th>\n",
       "      <td>C(JOB_INFO_EDUCATION)[T.Other]</td>\n",
       "      <td>[-0.000111108842524]</td>\n",
       "    </tr>\n",
       "    <tr>\n",
       "      <th>184</th>\n",
       "      <td>C(FOREIGN_WORKER_INFO_EDUCATION)[T.Other]</td>\n",
       "      <td>[-9.71216030026e-05]</td>\n",
       "    </tr>\n",
       "    <tr>\n",
       "      <th>145</th>\n",
       "      <td>C(COUNTRY_OF_CITIZENSHIP)[T.SOUTH KOREA]</td>\n",
       "      <td>[-8.63525262234e-05]</td>\n",
       "    </tr>\n",
       "    <tr>\n",
       "      <th>189</th>\n",
       "      <td>job_info_training</td>\n",
       "      <td>[-6.05242341864e-05]</td>\n",
       "    </tr>\n",
       "    <tr>\n",
       "      <th>188</th>\n",
       "      <td>pw_amount_9089</td>\n",
       "      <td>[-3.51038235757e-05]</td>\n",
       "    </tr>\n",
       "    <tr>\n",
       "      <th>36</th>\n",
       "      <td>C(COUNTRY_OF_CITIZENSHIP)[T.CANADA]</td>\n",
       "      <td>[-2.67562606489e-05]</td>\n",
       "    </tr>\n",
       "    <tr>\n",
       "      <th>164</th>\n",
       "      <td>C(COUNTRY_OF_CITIZENSHIP)[T.TURKEY]</td>\n",
       "      <td>[-2.53700787888e-05]</td>\n",
       "    </tr>\n",
       "    <tr>\n",
       "      <th>112</th>\n",
       "      <td>C(COUNTRY_OF_CITIZENSHIP)[T.NEPAL]</td>\n",
       "      <td>[-2.35245873692e-05]</td>\n",
       "    </tr>\n",
       "    <tr>\n",
       "      <th>...</th>\n",
       "      <td>...</td>\n",
       "      <td>...</td>\n",
       "    </tr>\n",
       "    <tr>\n",
       "      <th>151</th>\n",
       "      <td>C(COUNTRY_OF_CITIZENSHIP)[T.ST VINCENT]</td>\n",
       "      <td>[9.31431312487e-07]</td>\n",
       "    </tr>\n",
       "    <tr>\n",
       "      <th>159</th>\n",
       "      <td>C(COUNTRY_OF_CITIZENSHIP)[T.TANZANIA]</td>\n",
       "      <td>[9.71417136179e-07]</td>\n",
       "    </tr>\n",
       "    <tr>\n",
       "      <th>150</th>\n",
       "      <td>C(COUNTRY_OF_CITIZENSHIP)[T.ST LUCIA]</td>\n",
       "      <td>[1.03013608472e-06]</td>\n",
       "    </tr>\n",
       "    <tr>\n",
       "      <th>96</th>\n",
       "      <td>C(COUNTRY_OF_CITIZENSHIP)[T.LUXEMBOURG]</td>\n",
       "      <td>[1.13435496223e-06]</td>\n",
       "    </tr>\n",
       "    <tr>\n",
       "      <th>120</th>\n",
       "      <td>C(COUNTRY_OF_CITIZENSHIP)[T.PAKISTAN]</td>\n",
       "      <td>[1.16325231625e-06]</td>\n",
       "    </tr>\n",
       "    <tr>\n",
       "      <th>55</th>\n",
       "      <td>C(COUNTRY_OF_CITIZENSHIP)[T.ETHIOPIA]</td>\n",
       "      <td>[1.43668924628e-06]</td>\n",
       "    </tr>\n",
       "    <tr>\n",
       "      <th>3</th>\n",
       "      <td>C(JOB_INFO_EDUCATION)[T.High School]</td>\n",
       "      <td>[1.7360833528e-06]</td>\n",
       "    </tr>\n",
       "    <tr>\n",
       "      <th>27</th>\n",
       "      <td>C(COUNTRY_OF_CITIZENSHIP)[T.BOSNIA AND HERZEGO...</td>\n",
       "      <td>[1.83457067357e-06]</td>\n",
       "    </tr>\n",
       "    <tr>\n",
       "      <th>9</th>\n",
       "      <td>C(COUNTRY_OF_CITIZENSHIP)[T.ALGERIA]</td>\n",
       "      <td>[1.85040008848e-06]</td>\n",
       "    </tr>\n",
       "    <tr>\n",
       "      <th>138</th>\n",
       "      <td>C(COUNTRY_OF_CITIZENSHIP)[T.SERBIA AND MONTENE...</td>\n",
       "      <td>[1.96796208914e-06]</td>\n",
       "    </tr>\n",
       "    <tr>\n",
       "      <th>82</th>\n",
       "      <td>C(COUNTRY_OF_CITIZENSHIP)[T.JAMAICA]</td>\n",
       "      <td>[2.49741504272e-06]</td>\n",
       "    </tr>\n",
       "    <tr>\n",
       "      <th>107</th>\n",
       "      <td>C(COUNTRY_OF_CITIZENSHIP)[T.MOLDOVA]</td>\n",
       "      <td>[2.61919348697e-06]</td>\n",
       "    </tr>\n",
       "    <tr>\n",
       "      <th>144</th>\n",
       "      <td>C(COUNTRY_OF_CITIZENSHIP)[T.SOUTH AFRICA]</td>\n",
       "      <td>[2.70086494918e-06]</td>\n",
       "    </tr>\n",
       "    <tr>\n",
       "      <th>46</th>\n",
       "      <td>C(COUNTRY_OF_CITIZENSHIP)[T.DENMARK]</td>\n",
       "      <td>[2.94024032921e-06]</td>\n",
       "    </tr>\n",
       "    <tr>\n",
       "      <th>64</th>\n",
       "      <td>C(COUNTRY_OF_CITIZENSHIP)[T.GRENADA]</td>\n",
       "      <td>[3.10023253927e-06]</td>\n",
       "    </tr>\n",
       "    <tr>\n",
       "      <th>125</th>\n",
       "      <td>C(COUNTRY_OF_CITIZENSHIP)[T.PERU]</td>\n",
       "      <td>[3.30144738854e-06]</td>\n",
       "    </tr>\n",
       "    <tr>\n",
       "      <th>141</th>\n",
       "      <td>C(COUNTRY_OF_CITIZENSHIP)[T.SLOVAKIA]</td>\n",
       "      <td>[3.95876736336e-06]</td>\n",
       "    </tr>\n",
       "    <tr>\n",
       "      <th>202</th>\n",
       "      <td>ji_foreign_worker_live_on_premises</td>\n",
       "      <td>[4.83873343536e-06]</td>\n",
       "    </tr>\n",
       "    <tr>\n",
       "      <th>200</th>\n",
       "      <td>job_info_foreign_lang_req</td>\n",
       "      <td>[6.51110738243e-06]</td>\n",
       "    </tr>\n",
       "    <tr>\n",
       "      <th>11</th>\n",
       "      <td>C(COUNTRY_OF_CITIZENSHIP)[T.ARGENTINA]</td>\n",
       "      <td>[7.26390199427e-06]</td>\n",
       "    </tr>\n",
       "    <tr>\n",
       "      <th>173</th>\n",
       "      <td>C(COUNTRY_OF_CITIZENSHIP)[T.VENEZUELA]</td>\n",
       "      <td>[8.2246168368e-06]</td>\n",
       "    </tr>\n",
       "    <tr>\n",
       "      <th>185</th>\n",
       "      <td>refile</td>\n",
       "      <td>[9.37278266599e-06]</td>\n",
       "    </tr>\n",
       "    <tr>\n",
       "      <th>170</th>\n",
       "      <td>C(COUNTRY_OF_CITIZENSHIP)[T.UNITED STATES OF A...</td>\n",
       "      <td>[1.14992522136e-05]</td>\n",
       "    </tr>\n",
       "    <tr>\n",
       "      <th>181</th>\n",
       "      <td>C(FOREIGN_WORKER_INFO_EDUCATION)[T.High School]</td>\n",
       "      <td>[1.17439466802e-05]</td>\n",
       "    </tr>\n",
       "    <tr>\n",
       "      <th>187</th>\n",
       "      <td>foreign_worker_ownership_interest</td>\n",
       "      <td>[1.45743271453e-05]</td>\n",
       "    </tr>\n",
       "    <tr>\n",
       "      <th>183</th>\n",
       "      <td>C(FOREIGN_WORKER_INFO_EDUCATION)[T.None]</td>\n",
       "      <td>[2.27686248423e-05]</td>\n",
       "    </tr>\n",
       "    <tr>\n",
       "      <th>126</th>\n",
       "      <td>C(COUNTRY_OF_CITIZENSHIP)[T.PHILIPPINES]</td>\n",
       "      <td>[3.13166639954e-05]</td>\n",
       "    </tr>\n",
       "    <tr>\n",
       "      <th>106</th>\n",
       "      <td>C(COUNTRY_OF_CITIZENSHIP)[T.MEXICO]</td>\n",
       "      <td>[3.88434524211e-05]</td>\n",
       "    </tr>\n",
       "    <tr>\n",
       "      <th>5</th>\n",
       "      <td>C(JOB_INFO_EDUCATION)[T.None]</td>\n",
       "      <td>[5.27788063334e-05]</td>\n",
       "    </tr>\n",
       "    <tr>\n",
       "      <th>198</th>\n",
       "      <td>job_info_alt_occ_num_months</td>\n",
       "      <td>[0.00311185092426]</td>\n",
       "    </tr>\n",
       "  </tbody>\n",
       "</table>\n",
       "<p>209 rows × 2 columns</p>\n",
       "</div>"
      ],
      "text/plain": [
       "                                                     0                     1\n",
       "192                     job_info_experience_num_months   [-0.00499028835077]\n",
       "190                       job_info_training_num_months    [-0.0031027054786]\n",
       "195                        job_info_alt_cmb_ed_oth_yrs   [-0.00126795991454]\n",
       "196                                job_info_foreign_ed  [-0.000863969311314]\n",
       "0                                            Intercept  [-0.000836867036345]\n",
       "206                       ri_posted_notice_at_worksite  [-0.000794645661158]\n",
       "191                                job_info_experience  [-0.000698548603988]\n",
       "204                         recr_info_professional_occ  [-0.000631678812752]\n",
       "199                            job_info_job_req_normal  [-0.000561541567973]\n",
       "197                                   job_info_alt_occ  [-0.000421074696638]\n",
       "208                        preparer_info_emp_completed  [-0.000390400153568]\n",
       "74                  C(COUNTRY_OF_CITIZENSHIP)[T.INDIA]   [-0.00038219605675]\n",
       "194                          job_info_alt_combo_ed_exp  [-0.000336194901338]\n",
       "193                                 job_info_alt_field  [-0.000324970681453]\n",
       "4                    C(JOB_INFO_EDUCATION)[T.Master's]  [-0.000285345444026]\n",
       "1                  C(JOB_INFO_EDUCATION)[T.Bachelor's]  [-0.000282588349143]\n",
       "179     C(FOREIGN_WORKER_INFO_EDUCATION)[T.Bachelor's]  [-0.000278868888795]\n",
       "180      C(FOREIGN_WORKER_INFO_EDUCATION)[T.Doctorate]  [-0.000264545736459]\n",
       "205                        recr_info_coll_univ_teacher  [-0.000254956674776]\n",
       "182       C(FOREIGN_WORKER_INFO_EDUCATION)[T.Master's]  [-0.000246081776289]\n",
       "2                   C(JOB_INFO_EDUCATION)[T.Doctorate]  [-0.000232546758895]\n",
       "38                  C(COUNTRY_OF_CITIZENSHIP)[T.CHINA]  [-0.000150667031815]\n",
       "6                       C(JOB_INFO_EDUCATION)[T.Other]  [-0.000111108842524]\n",
       "184          C(FOREIGN_WORKER_INFO_EDUCATION)[T.Other]  [-9.71216030026e-05]\n",
       "145           C(COUNTRY_OF_CITIZENSHIP)[T.SOUTH KOREA]  [-8.63525262234e-05]\n",
       "189                                  job_info_training  [-6.05242341864e-05]\n",
       "188                                     pw_amount_9089  [-3.51038235757e-05]\n",
       "36                 C(COUNTRY_OF_CITIZENSHIP)[T.CANADA]  [-2.67562606489e-05]\n",
       "164                C(COUNTRY_OF_CITIZENSHIP)[T.TURKEY]  [-2.53700787888e-05]\n",
       "112                 C(COUNTRY_OF_CITIZENSHIP)[T.NEPAL]  [-2.35245873692e-05]\n",
       "..                                                 ...                   ...\n",
       "151            C(COUNTRY_OF_CITIZENSHIP)[T.ST VINCENT]   [9.31431312487e-07]\n",
       "159              C(COUNTRY_OF_CITIZENSHIP)[T.TANZANIA]   [9.71417136179e-07]\n",
       "150              C(COUNTRY_OF_CITIZENSHIP)[T.ST LUCIA]   [1.03013608472e-06]\n",
       "96             C(COUNTRY_OF_CITIZENSHIP)[T.LUXEMBOURG]   [1.13435496223e-06]\n",
       "120              C(COUNTRY_OF_CITIZENSHIP)[T.PAKISTAN]   [1.16325231625e-06]\n",
       "55               C(COUNTRY_OF_CITIZENSHIP)[T.ETHIOPIA]   [1.43668924628e-06]\n",
       "3                 C(JOB_INFO_EDUCATION)[T.High School]    [1.7360833528e-06]\n",
       "27   C(COUNTRY_OF_CITIZENSHIP)[T.BOSNIA AND HERZEGO...   [1.83457067357e-06]\n",
       "9                 C(COUNTRY_OF_CITIZENSHIP)[T.ALGERIA]   [1.85040008848e-06]\n",
       "138  C(COUNTRY_OF_CITIZENSHIP)[T.SERBIA AND MONTENE...   [1.96796208914e-06]\n",
       "82                C(COUNTRY_OF_CITIZENSHIP)[T.JAMAICA]   [2.49741504272e-06]\n",
       "107               C(COUNTRY_OF_CITIZENSHIP)[T.MOLDOVA]   [2.61919348697e-06]\n",
       "144          C(COUNTRY_OF_CITIZENSHIP)[T.SOUTH AFRICA]   [2.70086494918e-06]\n",
       "46                C(COUNTRY_OF_CITIZENSHIP)[T.DENMARK]   [2.94024032921e-06]\n",
       "64                C(COUNTRY_OF_CITIZENSHIP)[T.GRENADA]   [3.10023253927e-06]\n",
       "125                  C(COUNTRY_OF_CITIZENSHIP)[T.PERU]   [3.30144738854e-06]\n",
       "141              C(COUNTRY_OF_CITIZENSHIP)[T.SLOVAKIA]   [3.95876736336e-06]\n",
       "202                 ji_foreign_worker_live_on_premises   [4.83873343536e-06]\n",
       "200                          job_info_foreign_lang_req   [6.51110738243e-06]\n",
       "11              C(COUNTRY_OF_CITIZENSHIP)[T.ARGENTINA]   [7.26390199427e-06]\n",
       "173             C(COUNTRY_OF_CITIZENSHIP)[T.VENEZUELA]    [8.2246168368e-06]\n",
       "185                                             refile   [9.37278266599e-06]\n",
       "170  C(COUNTRY_OF_CITIZENSHIP)[T.UNITED STATES OF A...   [1.14992522136e-05]\n",
       "181    C(FOREIGN_WORKER_INFO_EDUCATION)[T.High School]   [1.17439466802e-05]\n",
       "187                  foreign_worker_ownership_interest   [1.45743271453e-05]\n",
       "183           C(FOREIGN_WORKER_INFO_EDUCATION)[T.None]   [2.27686248423e-05]\n",
       "126           C(COUNTRY_OF_CITIZENSHIP)[T.PHILIPPINES]   [3.13166639954e-05]\n",
       "106                C(COUNTRY_OF_CITIZENSHIP)[T.MEXICO]   [3.88434524211e-05]\n",
       "5                        C(JOB_INFO_EDUCATION)[T.None]   [5.27788063334e-05]\n",
       "198                        job_info_alt_occ_num_months    [0.00311185092426]\n",
       "\n",
       "[209 rows x 2 columns]"
      ]
     },
     "execution_count": 697,
     "metadata": {},
     "output_type": "execute_result"
    }
   ],
   "source": [
    "# examining the coefficients\n",
    "(pd.DataFrame(zip(hX.columns, np.transpose(hmodel.coef_))).sort_values(by=1))"
   ]
  },
  {
   "cell_type": "code",
   "execution_count": 698,
   "metadata": {
    "collapsed": false
   },
   "outputs": [
    {
     "data": {
      "text/plain": [
       "LogisticRegression(C=1.0, class_weight=None, dual=False, fit_intercept=True,\n",
       "          intercept_scaling=1, penalty='l2', random_state=None, tol=0.0001)"
      ]
     },
     "execution_count": 698,
     "metadata": {},
     "output_type": "execute_result"
    }
   ],
   "source": [
    "# evaluating the model by splitting into train and test sets\n",
    "hX_train, hX_test, hy_train, hy_test = train_test_split(hX, hy, test_size=.1, random_state=0)\n",
    "hmodel2 = LogisticRegression()\n",
    "hmodel2.fit(hX_train, hy_train)"
   ]
  },
  {
   "cell_type": "code",
   "execution_count": 699,
   "metadata": {
    "collapsed": false
   },
   "outputs": [
    {
     "data": {
      "text/plain": [
       "array([ 0.,  0.,  0., ...,  1.,  0.,  0.])"
      ]
     },
     "execution_count": 699,
     "metadata": {},
     "output_type": "execute_result"
    }
   ],
   "source": [
    "# predicting class labels for the test set\n",
    "hpredicted = hmodel2.predict(hX_test)\n",
    "hpredicted"
   ]
  },
  {
   "cell_type": "code",
   "execution_count": 709,
   "metadata": {
    "collapsed": true
   },
   "outputs": [],
   "source": [
    "# generating class probabilities, the adjusting the decision cutoff\n",
    "hprobs = hmodel2.predict_proba(hX_test)\n",
    "hcount = []\n",
    "for prob in hprobs:\n",
    "    if prob[1] > .05:\n",
    "        hcount.append(1)\n",
    "    else:\n",
    "        hcount.append(0)\n",
    "hpredict2 = np.array(hcount)"
   ]
  },
  {
   "cell_type": "code",
   "execution_count": 710,
   "metadata": {
    "collapsed": false
   },
   "outputs": [
    {
     "name": "stdout",
     "output_type": "stream",
     "text": [
      "0.575312837942\n",
      "0.609608244279\n"
     ]
    }
   ],
   "source": [
    "# generating evaluation metrics\n",
    "print metrics.accuracy_score(hy_test, hpredict2)\n",
    "print metrics.roc_auc_score(hy_test, hprobs[:, 1])"
   ]
  },
  {
   "cell_type": "code",
   "execution_count": 711,
   "metadata": {
    "collapsed": false
   },
   "outputs": [
    {
     "name": "stdout",
     "output_type": "stream",
     "text": [
      "[[3545 2606]\n",
      " [ 143  179]]\n",
      "             precision    recall  f1-score   support\n",
      "\n",
      "        0.0       0.96      0.58      0.72      6151\n",
      "        1.0       0.06      0.56      0.12       322\n",
      "\n",
      "avg / total       0.92      0.58      0.69      6473\n",
      "\n"
     ]
    }
   ],
   "source": [
    "print metrics.confusion_matrix(hy_test, hpredict2)\n",
    "print metrics.classification_report(hy_test, hpredict2)"
   ]
  },
  {
   "cell_type": "code",
   "execution_count": null,
   "metadata": {
    "collapsed": true
   },
   "outputs": [],
   "source": []
  },
  {
   "cell_type": "code",
   "execution_count": null,
   "metadata": {
    "collapsed": true
   },
   "outputs": [],
   "source": []
  },
  {
   "cell_type": "code",
   "execution_count": null,
   "metadata": {
    "collapsed": true
   },
   "outputs": [],
   "source": []
  }
 ],
 "metadata": {
  "kernelspec": {
   "display_name": "Python 2",
   "language": "python",
   "name": "python2"
  },
  "language_info": {
   "codemirror_mode": {
    "name": "ipython",
    "version": 2
   },
   "file_extension": ".py",
   "mimetype": "text/x-python",
   "name": "python",
   "nbconvert_exporter": "python",
   "pygments_lexer": "ipython2",
   "version": "2.7.10"
  }
 },
 "nbformat": 4,
 "nbformat_minor": 0
}

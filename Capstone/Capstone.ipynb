{
 "cells": [
  {
   "cell_type": "code",
   "execution_count": null,
   "metadata": {
    "collapsed": true
   },
   "outputs": [],
   "source": [
    "%% matplotlib inline\n",
    "import numpy as np\n",
    "import pandas as pd\n",
    "import statsmodels.formula.api as smf\n",
    "import itertools"
   ]
  },
  {
   "cell_type": "code",
   "execution_count": null,
   "metadata": {
    "collapsed": false
   },
   "outputs": [],
   "source": [
    "# loading data\n",
    "data = pd.read_excel('Data/PERM_Disclosure_Data_FY15_Q4.xlsx', 'DDFY2015_Final')"
   ]
  },
  {
   "cell_type": "code",
   "execution_count": 10,
   "metadata": {
    "collapsed": true
   },
   "outputs": [],
   "source": [
    "# removing withdrawn applications\n",
    "data = data[data['CASE_STATUS'] != 'Withdrawn']"
   ]
  },
  {
   "cell_type": "code",
   "execution_count": 11,
   "metadata": {
    "collapsed": false
   },
   "outputs": [],
   "source": [
    "# adding a binary series with 1 indicating that an application was denied\n",
    "data['denied'] = (data.CASE_STATUS == 'Denied').astype(int)"
   ]
  },
  {
   "cell_type": "markdown",
   "metadata": {},
   "source": [
    "Descriptive Statistics"
   ]
  },
  {
   "cell_type": "code",
   "execution_count": 12,
   "metadata": {
    "collapsed": false
   },
   "outputs": [
    {
     "data": {
      "text/plain": [
       "Certified            40176\n",
       "Certified-Expired    38762\n",
       "Denied                5696\n",
       "Name: CASE_STATUS, dtype: int64"
      ]
     },
     "execution_count": 12,
     "metadata": {},
     "output_type": "execute_result"
    }
   ],
   "source": [
    "data['CASE_STATUS'].value_counts()"
   ]
  },
  {
   "cell_type": "code",
   "execution_count": 13,
   "metadata": {
    "collapsed": false
   },
   "outputs": [
    {
     "name": "stdout",
     "output_type": "stream",
     "text": [
      "Certified: \t\t0.474702838103 \n",
      "Certified-Expired: \t0.457995604603 \n",
      "Denied: \t\t0.0673015572938 \n",
      "Size: \t\t\t84634\n"
     ]
    }
   ],
   "source": [
    "pcert, pcertex, pdenied = (data['CASE_STATUS'].value_counts().values) / float(len(data))\n",
    "size = len(data)\n",
    "print 'Certified: \\t\\t', pcert, '\\nCertified-Expired: \\t', pcertex, '\\nDenied: \\t\\t', pdenied, '\\nSize: \\t\\t\\t', size\n",
    "                                                                 "
   ]
  },
  {
   "cell_type": "code",
   "execution_count": 14,
   "metadata": {
    "collapsed": false
   },
   "outputs": [
    {
     "name": "stdout",
     "output_type": "stream",
     "text": [
      "Standard Error:  0.000861213341343\n"
     ]
    }
   ],
   "source": [
    "serror = (pdenied*(1-pdenied)/float(len(data))) ** .5\n",
    "print 'Standard Error: ',serror"
   ]
  },
  {
   "cell_type": "markdown",
   "metadata": {},
   "source": [
    "Categorical Data"
   ]
  },
  {
   "cell_type": "code",
   "execution_count": 15,
   "metadata": {
    "collapsed": true
   },
   "outputs": [],
   "source": [
    "# possibly interesting columns of categorical data\n",
    "dfcat = data[['denied', 'EMPLOYER_NAME', 'EMPLOYER_STATE', 'AGENT_FIRM_NAME', 'PW_SOC_TITLE', 'JOB_INFO_EDUCATION', \n",
    "              'COUNTRY_OF_CITIZENSHIP', 'CLASS_OF_ADMISSION', 'FOREIGN_WORKER_INFO_EDUCATION', \n",
    "              'FOREIGN_WORKER_INFO_MAJOR']]"
   ]
  },
  {
   "cell_type": "markdown",
   "metadata": {},
   "source": [
    "After exploring the columns, Visa Type, Country of Citizenship, and Education seem to be the most interesting columns."
   ]
  },
  {
   "cell_type": "code",
   "execution_count": 16,
   "metadata": {
    "collapsed": true
   },
   "outputs": [],
   "source": [
    "# visa types with a high rate of denial\n",
    "dftype = dfcat[['CLASS_OF_ADMISSION', 'denied']]\n",
    "dftype1 = dftype.groupby('CLASS_OF_ADMISSION').mean()\n",
    "dftype1['size'] = dftype.groupby('CLASS_OF_ADMISSION').agg(sum)\n",
    "dftype = dftype1[(dftype1['denied'] > (pdenied + 2*serror)) & (dftype1['size'] >= 10)]\n",
    "bad_visa = [str(x) for x in dftype.index]"
   ]
  },
  {
   "cell_type": "code",
   "execution_count": 17,
   "metadata": {
    "collapsed": false,
    "scrolled": false
   },
   "outputs": [],
   "source": [
    "# countries with a high rate of denial\n",
    "dfcit = dfcat[['COUNTRY_OF_CITIZENSHIP', 'denied']]\n",
    "dfcit1 = dfcit.groupby('COUNTRY_OF_CITIZENSHIP').mean()\n",
    "dfcit1['size'] = dfcit.groupby('COUNTRY_OF_CITIZENSHIP').agg(sum)\n",
    "dfcit = dfcit1[(dfcit1['denied'] > (pdenied + 2*serror)) & (dfcit1['size'] >= 10)]\n",
    "bad_con = [str(x) for x in dfcit.index]"
   ]
  },
  {
   "cell_type": "code",
   "execution_count": 18,
   "metadata": {
    "collapsed": false
   },
   "outputs": [
    {
     "data": {
      "text/plain": [
       "FOREIGN_WORKER_INFO_EDUCATION\n",
       "Doctorate      0.033010\n",
       "Master's       0.051275\n",
       "Bachelor's     0.053348\n",
       "Other          0.074332\n",
       "Associate's    0.185270\n",
       "None           0.228803\n",
       "High School    0.270021\n",
       "Name: denied, dtype: float64"
      ]
     },
     "execution_count": 18,
     "metadata": {},
     "output_type": "execute_result"
    }
   ],
   "source": [
    "dfcat.groupby(['FOREIGN_WORKER_INFO_EDUCATION'])['denied'].mean().sort_values()"
   ]
  },
  {
   "cell_type": "code",
   "execution_count": 19,
   "metadata": {
    "collapsed": false
   },
   "outputs": [
    {
     "data": {
      "text/plain": [
       "JOB_INFO_EDUCATION\n",
       "Doctorate      0.025573\n",
       "Master's       0.047168\n",
       "Bachelor's     0.051324\n",
       "Other          0.075218\n",
       "Associate's    0.188406\n",
       "None           0.233772\n",
       "High School    0.304193\n",
       "Name: denied, dtype: float64"
      ]
     },
     "execution_count": 19,
     "metadata": {},
     "output_type": "execute_result"
    }
   ],
   "source": [
    "dfcat.groupby(['JOB_INFO_EDUCATION'])['denied'].mean().sort_values()"
   ]
  },
  {
   "cell_type": "code",
   "execution_count": 20,
   "metadata": {
    "collapsed": true
   },
   "outputs": [],
   "source": [
    "# educational requirements/attainment with a low level of denial\n",
    "good_ed = ['Bachelor\\'s', 'Master\\'s', 'Doctorate']"
   ]
  },
  {
   "cell_type": "code",
   "execution_count": 21,
   "metadata": {
    "collapsed": false
   },
   "outputs": [],
   "source": [
    "# adding new columns converting categorical data into binary\n",
    "data['bad_country'] = [int(str(x) in bad_con) for x in data.COUNTRY_OF_CITIZENSHIP.values]\n",
    "data['worker_good_ed'] = [int(str(x) in good_ed) for x in data.FOREIGN_WORKER_INFO_EDUCATION.values]\n",
    "data['job_good_ed'] = [int(str(x) in good_ed) for x in data.JOB_INFO_EDUCATION.values]\n",
    "data['visa_type'] = [int(str(x) in bad_visa) for x in data.CLASS_OF_ADMISSION.values]"
   ]
  },
  {
   "cell_type": "code",
   "execution_count": 22,
   "metadata": {
    "collapsed": true
   },
   "outputs": [],
   "source": [
    "# interesting fields with binary or numerical data\n",
    "data_fields = ['REFILE', 'EMPLOYER_NUM_EMPLOYEES', \n",
    "               'FOREIGN_WORKER_OWNERSHIP_INTEREST', 'PW_AMOUNT_9089', 'WAGE_OFFER_FROM_9089', 'WAGE_OFFER_TO_9089', \n",
    "               'JOB_INFO_TRAINING', 'JOB_INFO_TRAINING_NUM_MONTHS', 'JOB_INFO_EXPERIENCE', \n",
    "               'JOB_INFO_EXPERIENCE_NUM_MONTHS', 'JOB_INFO_ALT_FIELD', 'JOB_INFO_ALT_COMBO_ED_EXP', \n",
    "               'JOB_INFO_ALT_CMB_ED_OTH_YRS', 'JOB_INFO_FOREIGN_ED', 'JOB_INFO_ALT_OCC', 'JOB_INFO_ALT_OCC_NUM_MONTHS', \n",
    "               'JOB_INFO_JOB_REQ_NORMAL', 'JOB_INFO_FOREIGN_LANG_REQ', 'JOB_INFO_COMBO_OCCUPATION',\n",
    "               'JI_FOREIGN_WORKER_LIVE_ON_PREMISES', 'JI_LIVE_IN_DOMESTIC_SERVICE', 'JI_LIVE_IN_DOM_SVC_CONTRACT', \n",
    "               'RECR_INFO_PROFESSIONAL_OCC', 'RECR_INFO_COLL_UNIV_TEACHER', 'RECR_INFO_COLL_TEACH_COMP_PROC', \n",
    "               'RI_POSTED_NOTICE_AT_WORKSITE', 'RI_LAYOFF_IN_PAST_SIX_MONTHS', 'RI_US_WORKERS_CONSIDERED', \n",
    "               'FOREIGN_WORKER_INFO_TRAINING_COMP', 'FOREIGN_WORKER_INFO_REQ_EXPERIENCE', \n",
    "               'FOREIGN_WORKER_INFO_ALT_EDU_EXPERIENCE', 'FOREIGN_WORKER_INFO_REL_OCCUP_EXP', \n",
    "               'PREPARER_INFO_EMP_COMPLETED']\n",
    "dflogit = data[data_fields]"
   ]
  },
  {
   "cell_type": "code",
   "execution_count": 23,
   "metadata": {
    "collapsed": false
   },
   "outputs": [],
   "source": [
    "def remove_commas(uni):\n",
    "    # converts unicode numbers with commas into floats\n",
    "    string = str(uni)\n",
    "    return float(string.replace(',', ''))\n",
    "\n",
    "def data_clean(df):\n",
    "    # formats datatypes to binary for indicators or floats for numbers\n",
    "    columns = df.columns\n",
    "    dfr = pd.DataFrame()\n",
    "    for column in columns:\n",
    "        name = str(column)\n",
    "        name = name.lower()\n",
    "        if str(df[column][0]) in ['Y', 'N']:\n",
    "            dfr[name] = (df[column] == 'Y').astype(int)\n",
    "        elif ',' in str(df[column][0]):\n",
    "            try:\n",
    "                dfr[name] = df[column].apply(remove_commas)\n",
    "            except ValueError:\n",
    "                continue\n",
    "        else:\n",
    "            try:\n",
    "                dfr[name] = df[column].apply(float)\n",
    "            except ValueError:\n",
    "                continue\n",
    "    return dfr\n",
    "\n",
    "def add_columns(df1, df2, columns):\n",
    "    # adds columns from one dataframe to another\n",
    "    for column in columns:\n",
    "        df2[column] = df1[column]"
   ]
  },
  {
   "cell_type": "code",
   "execution_count": 24,
   "metadata": {
    "collapsed": false
   },
   "outputs": [
    {
     "data": {
      "text/html": [
       "<div>\n",
       "<table border=\"1\" class=\"dataframe\">\n",
       "  <thead>\n",
       "    <tr style=\"text-align: right;\">\n",
       "      <th></th>\n",
       "      <th>refile</th>\n",
       "      <th>employer_num_employees</th>\n",
       "      <th>foreign_worker_ownership_interest</th>\n",
       "      <th>pw_amount_9089</th>\n",
       "      <th>job_info_training</th>\n",
       "      <th>job_info_training_num_months</th>\n",
       "      <th>job_info_experience</th>\n",
       "      <th>job_info_experience_num_months</th>\n",
       "      <th>job_info_alt_field</th>\n",
       "      <th>job_info_alt_combo_ed_exp</th>\n",
       "      <th>...</th>\n",
       "      <th>recr_info_coll_univ_teacher</th>\n",
       "      <th>ri_posted_notice_at_worksite</th>\n",
       "      <th>ri_layoff_in_past_six_months</th>\n",
       "      <th>foreign_worker_info_rel_occup_exp</th>\n",
       "      <th>preparer_info_emp_completed</th>\n",
       "      <th>bad_country</th>\n",
       "      <th>worker_good_ed</th>\n",
       "      <th>job_good_ed</th>\n",
       "      <th>visa_type</th>\n",
       "      <th>denied</th>\n",
       "    </tr>\n",
       "  </thead>\n",
       "  <tbody>\n",
       "    <tr>\n",
       "      <th>0</th>\n",
       "      <td>0</td>\n",
       "      <td>1935</td>\n",
       "      <td>0</td>\n",
       "      <td>83366</td>\n",
       "      <td>0</td>\n",
       "      <td>NaN</td>\n",
       "      <td>0</td>\n",
       "      <td>NaN</td>\n",
       "      <td>0</td>\n",
       "      <td>0</td>\n",
       "      <td>...</td>\n",
       "      <td>0</td>\n",
       "      <td>1</td>\n",
       "      <td>0</td>\n",
       "      <td>1</td>\n",
       "      <td>0</td>\n",
       "      <td>0</td>\n",
       "      <td>1</td>\n",
       "      <td>1</td>\n",
       "      <td>0</td>\n",
       "      <td>0</td>\n",
       "    </tr>\n",
       "    <tr>\n",
       "      <th>1</th>\n",
       "      <td>0</td>\n",
       "      <td>350</td>\n",
       "      <td>0</td>\n",
       "      <td>16973</td>\n",
       "      <td>0</td>\n",
       "      <td>NaN</td>\n",
       "      <td>0</td>\n",
       "      <td>NaN</td>\n",
       "      <td>0</td>\n",
       "      <td>0</td>\n",
       "      <td>...</td>\n",
       "      <td>0</td>\n",
       "      <td>1</td>\n",
       "      <td>0</td>\n",
       "      <td>0</td>\n",
       "      <td>0</td>\n",
       "      <td>1</td>\n",
       "      <td>0</td>\n",
       "      <td>0</td>\n",
       "      <td>0</td>\n",
       "      <td>1</td>\n",
       "    </tr>\n",
       "    <tr>\n",
       "      <th>2</th>\n",
       "      <td>0</td>\n",
       "      <td>4</td>\n",
       "      <td>0</td>\n",
       "      <td>49982</td>\n",
       "      <td>0</td>\n",
       "      <td>NaN</td>\n",
       "      <td>1</td>\n",
       "      <td>36</td>\n",
       "      <td>0</td>\n",
       "      <td>0</td>\n",
       "      <td>...</td>\n",
       "      <td>0</td>\n",
       "      <td>1</td>\n",
       "      <td>0</td>\n",
       "      <td>0</td>\n",
       "      <td>0</td>\n",
       "      <td>0</td>\n",
       "      <td>1</td>\n",
       "      <td>1</td>\n",
       "      <td>0</td>\n",
       "      <td>1</td>\n",
       "    </tr>\n",
       "    <tr>\n",
       "      <th>3</th>\n",
       "      <td>0</td>\n",
       "      <td>8</td>\n",
       "      <td>0</td>\n",
       "      <td>43514</td>\n",
       "      <td>0</td>\n",
       "      <td>NaN</td>\n",
       "      <td>0</td>\n",
       "      <td>NaN</td>\n",
       "      <td>0</td>\n",
       "      <td>0</td>\n",
       "      <td>...</td>\n",
       "      <td>0</td>\n",
       "      <td>1</td>\n",
       "      <td>0</td>\n",
       "      <td>0</td>\n",
       "      <td>0</td>\n",
       "      <td>1</td>\n",
       "      <td>1</td>\n",
       "      <td>1</td>\n",
       "      <td>1</td>\n",
       "      <td>0</td>\n",
       "    </tr>\n",
       "    <tr>\n",
       "      <th>4</th>\n",
       "      <td>0</td>\n",
       "      <td>350</td>\n",
       "      <td>0</td>\n",
       "      <td>16973</td>\n",
       "      <td>0</td>\n",
       "      <td>NaN</td>\n",
       "      <td>0</td>\n",
       "      <td>NaN</td>\n",
       "      <td>0</td>\n",
       "      <td>0</td>\n",
       "      <td>...</td>\n",
       "      <td>0</td>\n",
       "      <td>1</td>\n",
       "      <td>0</td>\n",
       "      <td>0</td>\n",
       "      <td>0</td>\n",
       "      <td>1</td>\n",
       "      <td>0</td>\n",
       "      <td>0</td>\n",
       "      <td>0</td>\n",
       "      <td>1</td>\n",
       "    </tr>\n",
       "  </tbody>\n",
       "</table>\n",
       "<p>5 rows × 30 columns</p>\n",
       "</div>"
      ],
      "text/plain": [
       "   refile  employer_num_employees  foreign_worker_ownership_interest  \\\n",
       "0       0                    1935                                  0   \n",
       "1       0                     350                                  0   \n",
       "2       0                       4                                  0   \n",
       "3       0                       8                                  0   \n",
       "4       0                     350                                  0   \n",
       "\n",
       "   pw_amount_9089  job_info_training  job_info_training_num_months  \\\n",
       "0           83366                  0                           NaN   \n",
       "1           16973                  0                           NaN   \n",
       "2           49982                  0                           NaN   \n",
       "3           43514                  0                           NaN   \n",
       "4           16973                  0                           NaN   \n",
       "\n",
       "   job_info_experience  job_info_experience_num_months  job_info_alt_field  \\\n",
       "0                    0                             NaN                   0   \n",
       "1                    0                             NaN                   0   \n",
       "2                    1                              36                   0   \n",
       "3                    0                             NaN                   0   \n",
       "4                    0                             NaN                   0   \n",
       "\n",
       "   job_info_alt_combo_ed_exp   ...    recr_info_coll_univ_teacher  \\\n",
       "0                          0   ...                              0   \n",
       "1                          0   ...                              0   \n",
       "2                          0   ...                              0   \n",
       "3                          0   ...                              0   \n",
       "4                          0   ...                              0   \n",
       "\n",
       "   ri_posted_notice_at_worksite  ri_layoff_in_past_six_months  \\\n",
       "0                             1                             0   \n",
       "1                             1                             0   \n",
       "2                             1                             0   \n",
       "3                             1                             0   \n",
       "4                             1                             0   \n",
       "\n",
       "   foreign_worker_info_rel_occup_exp  preparer_info_emp_completed  \\\n",
       "0                                  1                            0   \n",
       "1                                  0                            0   \n",
       "2                                  0                            0   \n",
       "3                                  0                            0   \n",
       "4                                  0                            0   \n",
       "\n",
       "   bad_country  worker_good_ed  job_good_ed  visa_type  denied  \n",
       "0            0               1            1          0       0  \n",
       "1            1               0            0          0       1  \n",
       "2            0               1            1          0       1  \n",
       "3            1               1            1          1       0  \n",
       "4            1               0            0          0       1  \n",
       "\n",
       "[5 rows x 30 columns]"
      ]
     },
     "execution_count": 24,
     "metadata": {},
     "output_type": "execute_result"
    }
   ],
   "source": [
    "# formatting data for logistic regression\n",
    "dflogit = data_clean(dflogit)\n",
    "new_columns = ['bad_country', 'worker_good_ed', 'job_good_ed', 'visa_type', 'denied']\n",
    "add_columns(data, dflogit, new_columns)\n",
    "dflogit.head()"
   ]
  },
  {
   "cell_type": "code",
   "execution_count": 25,
   "metadata": {
    "collapsed": false
   },
   "outputs": [
    {
     "data": {
      "text/plain": [
       "refile                                  int64\n",
       "employer_num_employees                float64\n",
       "foreign_worker_ownership_interest       int64\n",
       "pw_amount_9089                        float64\n",
       "job_info_training                       int64\n",
       "job_info_training_num_months          float64\n",
       "job_info_experience                     int64\n",
       "job_info_experience_num_months        float64\n",
       "job_info_alt_field                      int64\n",
       "job_info_alt_combo_ed_exp               int64\n",
       "job_info_alt_cmb_ed_oth_yrs           float64\n",
       "job_info_foreign_ed                     int64\n",
       "job_info_alt_occ                        int64\n",
       "job_info_alt_occ_num_months           float64\n",
       "job_info_job_req_normal                 int64\n",
       "job_info_foreign_lang_req               int64\n",
       "job_info_combo_occupation               int64\n",
       "ji_foreign_worker_live_on_premises      int64\n",
       "ji_live_in_domestic_service             int64\n",
       "recr_info_professional_occ              int64\n",
       "recr_info_coll_univ_teacher             int64\n",
       "ri_posted_notice_at_worksite            int64\n",
       "ri_layoff_in_past_six_months            int64\n",
       "foreign_worker_info_rel_occup_exp       int64\n",
       "preparer_info_emp_completed             int64\n",
       "bad_country                             int64\n",
       "worker_good_ed                          int64\n",
       "job_good_ed                             int64\n",
       "visa_type                               int64\n",
       "denied                                  int64\n",
       "dtype: object"
      ]
     },
     "execution_count": 25,
     "metadata": {},
     "output_type": "execute_result"
    }
   ],
   "source": [
    "# checking data types\n",
    "dflogit.dtypes"
   ]
  },
  {
   "cell_type": "code",
   "execution_count": 107,
   "metadata": {
    "collapsed": true
   },
   "outputs": [
    {
     "name": "stdout",
     "output_type": "stream",
     "text": [
      "Optimization terminated successfully.\n",
      "         Current function value: 0.245956\n",
      "         Iterations 7\n",
      "Optimization terminated successfully.\n",
      "         Current function value: 0.245351\n",
      "         Iterations 7\n",
      "Optimization terminated successfully.\n",
      "         Current function value: 0.245739\n",
      "         Iterations 7\n",
      "Optimization terminated successfully.\n",
      "         Current function value: 0.231202\n",
      "         Iterations 7\n",
      "Optimization terminated successfully.\n",
      "         Current function value: 0.245884\n",
      "         Iterations 7\n",
      "Optimization terminated successfully.\n",
      "         Current function value: 0.327335\n",
      "         Iterations 7\n",
      "Optimization terminated successfully.\n",
      "         Current function value: 0.245096\n",
      "         Iterations 7\n",
      "Optimization terminated successfully.\n",
      "         Current function value: 0.210865\n",
      "         Iterations 7\n",
      "Optimization terminated successfully.\n",
      "         Current function value: 0.244128\n",
      "         Iterations 7\n",
      "Optimization terminated successfully.\n",
      "         Current function value: 0.244154\n",
      "         Iterations 7\n",
      "Optimization terminated successfully.\n",
      "         Current function value: 0.169344\n",
      "         Iterations 7\n",
      "Optimization terminated successfully.\n",
      "         Current function value: 0.236918\n",
      "         Iterations 7\n",
      "Optimization terminated successfully.\n",
      "         Current function value: 0.239484\n",
      "         Iterations 7\n",
      "Optimization terminated successfully.\n",
      "         Current function value: 0.171964\n",
      "         Iterations 7\n",
      "Optimization terminated successfully.\n",
      "         Current function value: 0.239320\n",
      "         Iterations 8\n",
      "Optimization terminated successfully.\n",
      "         Current function value: 0.245426\n",
      "         Iterations 7\n",
      "Optimization terminated successfully.\n",
      "         Current function value: 0.245601\n",
      "         Iterations 7\n",
      "Optimization terminated successfully.\n",
      "         Current function value: 0.245115\n",
      "         Iterations 7\n",
      "Optimization terminated successfully.\n",
      "         Current function value: 0.245801\n",
      "         Iterations 7\n",
      "Optimization terminated successfully.\n",
      "         Current function value: 0.232872\n",
      "         Iterations 7\n",
      "Optimization terminated successfully.\n",
      "         Current function value: 0.246291\n",
      "         Iterations 7\n",
      "Optimization terminated successfully.\n",
      "         Current function value: 0.242070\n",
      "         Iterations 7\n",
      "Optimization terminated successfully.\n",
      "         Current function value: 0.246325\n",
      "         Iterations 7\n",
      "Optimization terminated successfully.\n",
      "         Current function value: 0.240282\n",
      "         Iterations 7\n",
      "Optimization terminated successfully.\n",
      "         Current function value: 0.246301\n",
      "         Iterations 7\n",
      "Optimization terminated successfully.\n",
      "         Current function value: 0.237091\n",
      "         Iterations 7\n",
      "Optimization terminated successfully.\n",
      "         Current function value: 0.235686\n",
      "         Iterations 7\n",
      "Optimization terminated successfully.\n",
      "         Current function value: 0.231934\n",
      "         Iterations 7\n",
      "Optimization terminated successfully.\n",
      "         Current function value: 0.241342\n",
      "         Iterations 7\n"
     ]
    }
   ],
   "source": [
    "# performing 1 parameter logistic regression to ID independent variables with the strongest relationships \n",
    "# with the dependent variable\n",
    "params = dflogit.columns[:-1]\n",
    "rs = {}\n",
    "for column in params:\n",
    "    model = smf.logit('denied ~ ' + column, data=dflogit)\n",
    "    results = model.fit()\n",
    "    rs[results.prsquared] = column"
   ]
  },
  {
   "cell_type": "code",
   "execution_count": 108,
   "metadata": {
    "collapsed": false
   },
   "outputs": [],
   "source": [
    "# ranking parameters by relationship with the dependent variable\n",
    "ranked_params = []\n",
    "for key in sorted(rs.keys())[::-1]:\n",
    "    ranked_params.append(rs[key])"
   ]
  },
  {
   "cell_type": "code",
   "execution_count": 109,
   "metadata": {
    "collapsed": false
   },
   "outputs": [],
   "source": [
    "# formatting parameters for logit function\n",
    "test_params = ' + '.join(ranked_params[:19])"
   ]
  },
  {
   "cell_type": "code",
   "execution_count": 110,
   "metadata": {
    "collapsed": false
   },
   "outputs": [
    {
     "name": "stdout",
     "output_type": "stream",
     "text": [
      "Optimization terminated successfully.\n",
      "         Current function value: 0.199373\n",
      "         Iterations 8\n"
     ]
    },
    {
     "data": {
      "text/html": [
       "<table class=\"simpletable\">\n",
       "<caption>Logit Regression Results</caption>\n",
       "<tr>\n",
       "  <th>Dep. Variable:</th>      <td>denied</td>      <th>  No. Observations:  </th>   <td>  1742</td>  \n",
       "</tr>\n",
       "<tr>\n",
       "  <th>Model:</th>               <td>Logit</td>      <th>  Df Residuals:      </th>   <td>  1722</td>  \n",
       "</tr>\n",
       "<tr>\n",
       "  <th>Method:</th>               <td>MLE</td>       <th>  Df Model:          </th>   <td>    19</td>  \n",
       "</tr>\n",
       "<tr>\n",
       "  <th>Date:</th>          <td>Thu, 29 Oct 2015</td> <th>  Pseudo R-squ.:     </th>   <td>0.4549</td>  \n",
       "</tr>\n",
       "<tr>\n",
       "  <th>Time:</th>              <td>16:34:07</td>     <th>  Log-Likelihood:    </th>  <td> -347.31</td> \n",
       "</tr>\n",
       "<tr>\n",
       "  <th>converged:</th>           <td>True</td>       <th>  LL-Null:           </th>  <td> -637.11</td> \n",
       "</tr>\n",
       "<tr>\n",
       "  <th> </th>                      <td> </td>        <th>  LLR p-value:       </th> <td>1.013e-110</td>\n",
       "</tr>\n",
       "</table>\n",
       "<table class=\"simpletable\">\n",
       "<tr>\n",
       "                   <td></td>                     <th>coef</th>     <th>std err</th>      <th>z</th>      <th>P>|z|</th> <th>[95.0% Conf. Int.]</th> \n",
       "</tr>\n",
       "<tr>\n",
       "  <th>Intercept</th>                          <td>    1.0995</td> <td>    0.864</td> <td>    1.272</td> <td> 0.203</td> <td>   -0.594     2.793</td>\n",
       "</tr>\n",
       "<tr>\n",
       "  <th>job_info_training_num_months</th>       <td>   -0.0108</td> <td>    0.005</td> <td>   -1.968</td> <td> 0.049</td> <td>   -0.022 -4.51e-05</td>\n",
       "</tr>\n",
       "<tr>\n",
       "  <th>job_good_ed</th>                        <td>   -1.2478</td> <td>    0.669</td> <td>   -1.864</td> <td> 0.062</td> <td>   -2.560     0.064</td>\n",
       "</tr>\n",
       "<tr>\n",
       "  <th>pw_amount_9089</th>                     <td>-8.721e-06</td> <td> 2.32e-06</td> <td>   -3.752</td> <td> 0.000</td> <td>-1.33e-05 -4.17e-06</td>\n",
       "</tr>\n",
       "<tr>\n",
       "  <th>recr_info_professional_occ</th>         <td>   -1.1153</td> <td>    0.271</td> <td>   -4.109</td> <td> 0.000</td> <td>   -1.647    -0.583</td>\n",
       "</tr>\n",
       "<tr>\n",
       "  <th>worker_good_ed</th>                     <td>    1.9735</td> <td>    0.649</td> <td>    3.041</td> <td> 0.002</td> <td>    0.702     3.245</td>\n",
       "</tr>\n",
       "<tr>\n",
       "  <th>job_info_foreign_ed</th>                <td>   -0.7882</td> <td>    0.309</td> <td>   -2.553</td> <td> 0.011</td> <td>   -1.393    -0.183</td>\n",
       "</tr>\n",
       "<tr>\n",
       "  <th>bad_country</th>                        <td>    0.5433</td> <td>    0.215</td> <td>    2.522</td> <td> 0.012</td> <td>    0.121     0.966</td>\n",
       "</tr>\n",
       "<tr>\n",
       "  <th>job_info_job_req_normal</th>            <td>    0.2876</td> <td>    0.710</td> <td>    0.405</td> <td> 0.686</td> <td>   -1.105     1.680</td>\n",
       "</tr>\n",
       "<tr>\n",
       "  <th>job_info_alt_occ</th>                   <td>   -0.2406</td> <td>    0.494</td> <td>   -0.487</td> <td> 0.626</td> <td>   -1.209     0.728</td>\n",
       "</tr>\n",
       "<tr>\n",
       "  <th>foreign_worker_info_rel_occup_exp</th>  <td>   -0.0470</td> <td>    0.496</td> <td>   -0.095</td> <td> 0.925</td> <td>   -1.019     0.926</td>\n",
       "</tr>\n",
       "<tr>\n",
       "  <th>visa_type</th>                          <td>    0.8027</td> <td>    0.279</td> <td>    2.879</td> <td> 0.004</td> <td>    0.256     1.349</td>\n",
       "</tr>\n",
       "<tr>\n",
       "  <th>ri_posted_notice_at_worksite</th>       <td>   -2.1751</td> <td>    0.399</td> <td>   -5.449</td> <td> 0.000</td> <td>   -2.958    -1.393</td>\n",
       "</tr>\n",
       "<tr>\n",
       "  <th>job_info_alt_field</th>                 <td>   -0.2131</td> <td>    0.352</td> <td>   -0.606</td> <td> 0.545</td> <td>   -0.903     0.477</td>\n",
       "</tr>\n",
       "<tr>\n",
       "  <th>job_info_alt_combo_ed_exp</th>          <td>    0.1569</td> <td>    0.380</td> <td>    0.413</td> <td> 0.680</td> <td>   -0.588     0.902</td>\n",
       "</tr>\n",
       "<tr>\n",
       "  <th>job_info_experience</th>                <td>    1.0359</td> <td>    0.249</td> <td>    4.154</td> <td> 0.000</td> <td>    0.547     1.525</td>\n",
       "</tr>\n",
       "<tr>\n",
       "  <th>ji_foreign_worker_live_on_premises</th> <td>    2.2529</td> <td>    1.147</td> <td>    1.965</td> <td> 0.049</td> <td>    0.006     4.500</td>\n",
       "</tr>\n",
       "<tr>\n",
       "  <th>job_info_foreign_lang_req</th>          <td>    1.4474</td> <td>    0.436</td> <td>    3.321</td> <td> 0.001</td> <td>    0.593     2.302</td>\n",
       "</tr>\n",
       "<tr>\n",
       "  <th>job_info_combo_occupation</th>          <td>    0.2192</td> <td>    0.362</td> <td>    0.606</td> <td> 0.545</td> <td>   -0.490     0.929</td>\n",
       "</tr>\n",
       "<tr>\n",
       "  <th>foreign_worker_ownership_interest</th>  <td>    1.8633</td> <td>    1.252</td> <td>    1.488</td> <td> 0.137</td> <td>   -0.591     4.318</td>\n",
       "</tr>\n",
       "</table>"
      ],
      "text/plain": [
       "<class 'statsmodels.iolib.summary.Summary'>\n",
       "\"\"\"\n",
       "                           Logit Regression Results                           \n",
       "==============================================================================\n",
       "Dep. Variable:                 denied   No. Observations:                 1742\n",
       "Model:                          Logit   Df Residuals:                     1722\n",
       "Method:                           MLE   Df Model:                           19\n",
       "Date:                Thu, 29 Oct 2015   Pseudo R-squ.:                  0.4549\n",
       "Time:                        16:34:07   Log-Likelihood:                -347.31\n",
       "converged:                       True   LL-Null:                       -637.11\n",
       "                                        LLR p-value:                1.013e-110\n",
       "======================================================================================================\n",
       "                                         coef    std err          z      P>|z|      [95.0% Conf. Int.]\n",
       "------------------------------------------------------------------------------------------------------\n",
       "Intercept                              1.0995      0.864      1.272      0.203        -0.594     2.793\n",
       "job_info_training_num_months          -0.0108      0.005     -1.968      0.049        -0.022 -4.51e-05\n",
       "job_good_ed                           -1.2478      0.669     -1.864      0.062        -2.560     0.064\n",
       "pw_amount_9089                     -8.721e-06   2.32e-06     -3.752      0.000     -1.33e-05 -4.17e-06\n",
       "recr_info_professional_occ            -1.1153      0.271     -4.109      0.000        -1.647    -0.583\n",
       "worker_good_ed                         1.9735      0.649      3.041      0.002         0.702     3.245\n",
       "job_info_foreign_ed                   -0.7882      0.309     -2.553      0.011        -1.393    -0.183\n",
       "bad_country                            0.5433      0.215      2.522      0.012         0.121     0.966\n",
       "job_info_job_req_normal                0.2876      0.710      0.405      0.686        -1.105     1.680\n",
       "job_info_alt_occ                      -0.2406      0.494     -0.487      0.626        -1.209     0.728\n",
       "foreign_worker_info_rel_occup_exp     -0.0470      0.496     -0.095      0.925        -1.019     0.926\n",
       "visa_type                              0.8027      0.279      2.879      0.004         0.256     1.349\n",
       "ri_posted_notice_at_worksite          -2.1751      0.399     -5.449      0.000        -2.958    -1.393\n",
       "job_info_alt_field                    -0.2131      0.352     -0.606      0.545        -0.903     0.477\n",
       "job_info_alt_combo_ed_exp              0.1569      0.380      0.413      0.680        -0.588     0.902\n",
       "job_info_experience                    1.0359      0.249      4.154      0.000         0.547     1.525\n",
       "ji_foreign_worker_live_on_premises     2.2529      1.147      1.965      0.049         0.006     4.500\n",
       "job_info_foreign_lang_req              1.4474      0.436      3.321      0.001         0.593     2.302\n",
       "job_info_combo_occupation              0.2192      0.362      0.606      0.545        -0.490     0.929\n",
       "foreign_worker_ownership_interest      1.8633      1.252      1.488      0.137        -0.591     4.318\n",
       "======================================================================================================\n",
       "\"\"\""
      ]
     },
     "execution_count": 110,
     "metadata": {},
     "output_type": "execute_result"
    }
   ],
   "source": [
    "# running the regression\n",
    "model = smf.logit('denied ~ ' + test_params, data=dflogit)\n",
    "results = model.fit(maxiter=10000)\n",
    "results.summary()"
   ]
  },
  {
   "cell_type": "code",
   "execution_count": null,
   "metadata": {
    "collapsed": true
   },
   "outputs": [],
   "source": []
  }
 ],
 "metadata": {
  "kernelspec": {
   "display_name": "Python 2",
   "language": "python",
   "name": "python2"
  },
  "language_info": {
   "codemirror_mode": {
    "name": "ipython",
    "version": 2
   },
   "file_extension": ".py",
   "mimetype": "text/x-python",
   "name": "python",
   "nbconvert_exporter": "python",
   "pygments_lexer": "ipython2",
   "version": "2.7.10"
  }
 },
 "nbformat": 4,
 "nbformat_minor": 0
}

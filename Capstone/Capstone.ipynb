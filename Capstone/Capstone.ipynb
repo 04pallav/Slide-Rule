{
 "cells": [
  {
   "cell_type": "markdown",
   "metadata": {},
   "source": [
    "# Predicting Acceptance of US Visa Applications Using Machine Learning\n",
    "Capstone Project for SlideRule Intensive Data Science workshop.\n",
    "\n",
    "Charles Franzen"
   ]
  },
  {
   "cell_type": "markdown",
   "metadata": {},
   "source": [
    "## The Project\n",
    "\n",
    "Each year hundreds of thousands of applications are filed for work visas in the US. So many, in fact, that legistated caps on the number of H-1B applications have been reached every single year since 2007. In 2008, the quota was reached on the first day of open applications. In light of this, companies and potential employees that are lucky enough to get their application in via the lottery want to ensure that they have as high a chance as possible of having their application approved.\n",
    "\n",
    "My project is to investigate application data sets and create models that will predict the acceptance or rejection of a given application. This model could evaluate the strength of an application before it is submitted, and provide insights into how a weak application could be improved. The model will also elucidate the most important factors determining the fate of a visa application.\n",
    "\n",
    "## The Data\n",
    "\n",
    "I will be investigating data published by the US Dapartment of Labor. The data sets are comprised of quarterly application data and decisions for different types of visas. I will be focusing on two of these data sets: one that includes a mix of all visa types, and one that is comprised solely of H-1B visas.\n",
    "\n",
    "The data fields cover a wide range of information, including details about the country of origin of the applicant, location and type of the job, pay and educational requirements of the job, education of the applicant, and whether all regulatory hurdles have been cleared.\n",
    "\n",
    "H-1B visas are work visas that are only for 'specialty applications', and therefore can act as a bellweather for how much highly-educated talent the US is importing.\n",
    "\n",
    "## Methodology\n",
    "\n",
    "I will be treating this as a classification problem. The binary variable 'denied' will indicate whether an application was rejected.\n",
    "\n",
    "So far I have used logistic regression and decision tree classification to model the all-visa dataset. Next steps include refining the models, investigating similar models for the H-1B subset, and continuing with other machine learning techniques, including SVM.\n",
    "\n",
    "### Logistic Regression\n",
    "\n",
    "In order to implement logistic regression, I've had to format the data sets, converting string cell values into integers or floats, and creating dummy variables for categorical data.\n",
    "\n",
    "Scikit Learn does not provide a method for adjusting the threshold probability for classification, so this had to be adjusted manually.\n",
    "\n",
    "Using backdata from the Department of Labor, I will test my models and further refine them.\n",
    "\n",
    "### Decision Tree Classification\n",
    "\n",
    "Once the data is formatted for Logistic Regression, it is easy to fit it to a decision tree. Again, I would like to adjust the threshold at which test cases are marked as weak, but I haven't yet figured out how to do that.\n",
    "\n",
    "## Limitations\n",
    "\n",
    "Since the base rate of application rejection is so low (6.7% for all visa types), it may be difficult to suss out relevant variables. Thus far my models have tended to have a high number of false-negatives (type II errors).\n",
    "\n",
    "The models may also end up provinding unhelpful insights. For example, the model may identify country of citizenship as a crucial determiner. It won't be helpful to most applicants to tell them to change their citizenship."
   ]
  },
  {
   "cell_type": "markdown",
   "metadata": {},
   "source": [
    "## Import Modules"
   ]
  },
  {
   "cell_type": "code",
   "execution_count": 160,
   "metadata": {
    "collapsed": false
   },
   "outputs": [],
   "source": [
    "% matplotlib notebook\n",
    "import matplotlib.pyplot as plt\n",
    "from matplotlib.gridspec import GridSpec\n",
    "import numpy as np\n",
    "import pandas as pd\n",
    "from patsy import dmatrices\n",
    "from sklearn.linear_model import LogisticRegression\n",
    "from sklearn.cross_validation import train_test_split\n",
    "from sklearn import metrics\n",
    "from sklearn.cross_validation import cross_val_score\n",
    "from sklearn.tree import DecisionTreeClassifier"
   ]
  },
  {
   "cell_type": "code",
   "execution_count": 64,
   "metadata": {
    "collapsed": false
   },
   "outputs": [],
   "source": [
    "# setting matplotlib style\n",
    "plt.style.use('fivethirtyeight')"
   ]
  },
  {
   "cell_type": "markdown",
   "metadata": {},
   "source": [
    "# All Visas"
   ]
  },
  {
   "cell_type": "markdown",
   "metadata": {},
   "source": [
    "## Data Loading and Initial Processing\n",
    "Withdrawn applications are removed from the data set, since there was no decision made."
   ]
  },
  {
   "cell_type": "code",
   "execution_count": 5,
   "metadata": {
    "collapsed": true
   },
   "outputs": [],
   "source": [
    "# loading data\n",
    "data = pd.read_excel('Data/PERM_Disclosure_Data_FY15_Q4.xlsx', 'DDFY2015_Final')\n",
    "\n",
    "# removing withdrawn applications\n",
    "data = data[data['CASE_STATUS'] != 'Withdrawn']\n",
    "\n",
    "# adding a binary series with 1 indicating that an application was denied\n",
    "data['denied'] = (data.CASE_STATUS == 'Denied').astype(int)"
   ]
  },
  {
   "cell_type": "markdown",
   "metadata": {},
   "source": [
    "## Descriptive Statistics\n",
    "\n",
    "To do:\n",
    "\n",
    "1. make pie charts for country of origin, education, case status, visa type\n",
    "2. make histograms for salary/wage, training, and experience requirements"
   ]
  },
  {
   "cell_type": "code",
   "execution_count": 43,
   "metadata": {
    "collapsed": false
   },
   "outputs": [
    {
     "data": {
      "text/plain": [
       "Certified            40176\n",
       "Certified-Expired    38762\n",
       "Denied                5696\n",
       "Name: CASE_STATUS, dtype: int64"
      ]
     },
     "execution_count": 43,
     "metadata": {},
     "output_type": "execute_result"
    }
   ],
   "source": [
    "status = data['CASE_STATUS'].value_counts()\n",
    "status"
   ]
  },
  {
   "cell_type": "code",
   "execution_count": 44,
   "metadata": {
    "collapsed": false
   },
   "outputs": [
    {
     "name": "stdout",
     "output_type": "stream",
     "text": [
      "Certified: \t\t0.474702838103 \n",
      "Certified-Expired: \t0.457995604603 \n",
      "Denied: \t\t0.0673015572938 \n",
      "Size: \t\t\t84634\n"
     ]
    }
   ],
   "source": [
    "pcert, pcertex, pdenied = (data['CASE_STATUS'].value_counts().values) / float(len(data))\n",
    "size = len(data)\n",
    "print 'Certified: \\t\\t', pcert, '\\nCertified-Expired: \\t', pcertex, '\\nDenied: \\t\\t', pdenied, '\\nSize: \\t\\t\\t', size\n",
    "                                                                 "
   ]
  },
  {
   "cell_type": "code",
   "execution_count": 159,
   "metadata": {
    "collapsed": false
   },
   "outputs": [
    {
     "data": {
      "text/plain": [
       "([<matplotlib.patches.Wedge at 0x11f404290>,\n",
       "  <matplotlib.patches.Wedge at 0x11f6de410>,\n",
       "  <matplotlib.patches.Wedge at 0x11f6e9710>],\n",
       " [<matplotlib.text.Text at 0x11f6d1b10>,\n",
       "  <matplotlib.text.Text at 0x11f6dee10>,\n",
       "  <matplotlib.text.Text at 0x11f690650>],\n",
       " [<matplotlib.text.Text at 0x11f6d1f90>,\n",
       "  <matplotlib.text.Text at 0x11f6e92d0>,\n",
       "  <matplotlib.text.Text at 0x11f687a10>])"
      ]
     },
     "execution_count": 159,
     "metadata": {},
     "output_type": "execute_result"
    }
   ],
   "source": [
    "labels = list(status.index)\n",
    "fracs = pcert, pcertex, pdenied\n",
    "the_grid = GridSpec(1, 1)\n",
    "plt.subplot(the_grid[0, 0], aspect=1, title='Applications by Case Status')\n",
    "plt.pie(fracs, labels=labels, autopct='%1.1f%%', shadow=True)"
   ]
  },
  {
   "cell_type": "markdown",
   "metadata": {},
   "source": [
    "Base rate of denials is low, at 6.7%, and many accepted applications are allowed to expire."
   ]
  },
  {
   "cell_type": "code",
   "execution_count": 70,
   "metadata": {
    "collapsed": false
   },
   "outputs": [
    {
     "name": "stdout",
     "output_type": "stream",
     "text": [
      "Standard Error:  0.000861213341343\n"
     ]
    }
   ],
   "source": [
    "serror = (pdenied*(1-pdenied)/float(len(data))) ** .5\n",
    "print 'Standard Error: ',serror"
   ]
  },
  {
   "cell_type": "markdown",
   "metadata": {},
   "source": [
    "### Categorical Data"
   ]
  },
  {
   "cell_type": "code",
   "execution_count": 72,
   "metadata": {
    "collapsed": true
   },
   "outputs": [],
   "source": [
    "# possibly interesting columns of categorical data\n",
    "dfcat = data[['denied', 'EMPLOYER_NAME', 'EMPLOYER_STATE', 'AGENT_FIRM_NAME', 'PW_SOC_TITLE', 'JOB_INFO_EDUCATION', \n",
    "              'COUNTRY_OF_CITIZENSHIP', 'CLASS_OF_ADMISSION', 'FOREIGN_WORKER_INFO_EDUCATION', \n",
    "              'FOREIGN_WORKER_INFO_MAJOR']]"
   ]
  },
  {
   "cell_type": "markdown",
   "metadata": {},
   "source": [
    "After exploring the columns, Visa Type, Country of Citizenship, and Education seem to be the most interesting columns."
   ]
  },
  {
   "cell_type": "code",
   "execution_count": 122,
   "metadata": {
    "collapsed": false,
    "scrolled": true
   },
   "outputs": [
    {
     "data": {
      "text/html": [
       "<div>\n",
       "<table border=\"1\" class=\"dataframe\">\n",
       "  <thead>\n",
       "    <tr style=\"text-align: right;\">\n",
       "      <th></th>\n",
       "      <th>denied</th>\n",
       "      <th>size</th>\n",
       "    </tr>\n",
       "    <tr>\n",
       "      <th>CLASS_OF_ADMISSION</th>\n",
       "      <th></th>\n",
       "      <th></th>\n",
       "    </tr>\n",
       "  </thead>\n",
       "  <tbody>\n",
       "    <tr>\n",
       "      <th>B-1</th>\n",
       "      <td>0.347826</td>\n",
       "      <td>40</td>\n",
       "    </tr>\n",
       "    <tr>\n",
       "      <th>B-2</th>\n",
       "      <td>0.265248</td>\n",
       "      <td>187</td>\n",
       "    </tr>\n",
       "    <tr>\n",
       "      <th>E-1</th>\n",
       "      <td>0.149123</td>\n",
       "      <td>17</td>\n",
       "    </tr>\n",
       "    <tr>\n",
       "      <th>E-2</th>\n",
       "      <td>0.123584</td>\n",
       "      <td>120</td>\n",
       "    </tr>\n",
       "    <tr>\n",
       "      <th>E-3</th>\n",
       "      <td>0.071429</td>\n",
       "      <td>11</td>\n",
       "    </tr>\n",
       "  </tbody>\n",
       "</table>\n",
       "</div>"
      ],
      "text/plain": [
       "                      denied  size\n",
       "CLASS_OF_ADMISSION                \n",
       "B-1                 0.347826    40\n",
       "B-2                 0.265248   187\n",
       "E-1                 0.149123    17\n",
       "E-2                 0.123584   120\n",
       "E-3                 0.071429    11"
      ]
     },
     "execution_count": 122,
     "metadata": {},
     "output_type": "execute_result"
    }
   ],
   "source": [
    "# visa types with a high rate of denial\n",
    "dftype = dfcat[['CLASS_OF_ADMISSION', 'denied']]\n",
    "dftype1 = dftype.groupby('CLASS_OF_ADMISSION').mean()\n",
    "dftype1['size'] = dftype.groupby('CLASS_OF_ADMISSION').agg(sum)\n",
    "dftype = dftype1[(dftype1['denied'] > (pdenied + 2*serror)) & (dftype1['size'] >= 10)]\n",
    "dftype.head()"
   ]
  },
  {
   "cell_type": "code",
   "execution_count": 170,
   "metadata": {
    "collapsed": false
   },
   "outputs": [
    {
     "data": {
      "text/plain": [
       "CLASS_OF_ADMISSION\n",
       "H-1B          64729\n",
       "L-1            5136\n",
       "F-1            3163\n",
       "Not in USA     1554\n",
       "Name: denied, dtype: int64"
      ]
     },
     "execution_count": 170,
     "metadata": {},
     "output_type": "execute_result"
    }
   ],
   "source": [
    "visa_types = dfcat.groupby('CLASS_OF_ADMISSION').count()['denied']\n",
    "visa_types = visa_types.sort_values()[:-5:-1]\n",
    "visa_types"
   ]
  },
  {
   "cell_type": "code",
   "execution_count": 121,
   "metadata": {
    "collapsed": false
   },
   "outputs": [
    {
     "data": {
      "text/html": [
       "<div>\n",
       "<table border=\"1\" class=\"dataframe\">\n",
       "  <thead>\n",
       "    <tr style=\"text-align: right;\">\n",
       "      <th></th>\n",
       "      <th>denied</th>\n",
       "      <th>size</th>\n",
       "    </tr>\n",
       "    <tr>\n",
       "      <th>COUNTRY_OF_CITIZENSHIP</th>\n",
       "      <th></th>\n",
       "      <th></th>\n",
       "    </tr>\n",
       "  </thead>\n",
       "  <tbody>\n",
       "    <tr>\n",
       "      <th>GAMBIA</th>\n",
       "      <td>0.850000</td>\n",
       "      <td>17</td>\n",
       "    </tr>\n",
       "    <tr>\n",
       "      <th>SLOVAKIA</th>\n",
       "      <td>0.400000</td>\n",
       "      <td>12</td>\n",
       "    </tr>\n",
       "    <tr>\n",
       "      <th>GUATEMALA</th>\n",
       "      <td>0.303371</td>\n",
       "      <td>27</td>\n",
       "    </tr>\n",
       "    <tr>\n",
       "      <th>ECUADOR</th>\n",
       "      <td>0.270408</td>\n",
       "      <td>53</td>\n",
       "    </tr>\n",
       "    <tr>\n",
       "      <th>EL SALVADOR</th>\n",
       "      <td>0.237624</td>\n",
       "      <td>24</td>\n",
       "    </tr>\n",
       "  </tbody>\n",
       "</table>\n",
       "</div>"
      ],
      "text/plain": [
       "                          denied  size\n",
       "COUNTRY_OF_CITIZENSHIP                \n",
       "GAMBIA                  0.850000    17\n",
       "SLOVAKIA                0.400000    12\n",
       "GUATEMALA               0.303371    27\n",
       "ECUADOR                 0.270408    53\n",
       "EL SALVADOR             0.237624    24"
      ]
     },
     "execution_count": 121,
     "metadata": {},
     "output_type": "execute_result"
    }
   ],
   "source": [
    "# countries with a high rate of denial\n",
    "dfcit = dfcat[['COUNTRY_OF_CITIZENSHIP', 'denied']]\n",
    "dfcit1 = dfcit.groupby('COUNTRY_OF_CITIZENSHIP').mean()\n",
    "dfcit1['size'] = dfcit.groupby('COUNTRY_OF_CITIZENSHIP').agg(sum)\n",
    "dfcit = dfcit1[(dfcit1['denied'] > (pdenied + 2*serror)) & (dfcit1['size'] >= 10)]\n",
    "dfcit.sort_values('denied')[::-1].head()"
   ]
  },
  {
   "cell_type": "code",
   "execution_count": 166,
   "metadata": {
    "collapsed": false
   },
   "outputs": [
    {
     "data": {
      "text/plain": [
       "COUNTRY_OF_CITIZENSHIP\n",
       "INDIA          47705\n",
       "CHINA           6843\n",
       "SOUTH KOREA     5645\n",
       "CANADA          3139\n",
       "PHILIPPINES     1875\n",
       "ALL_OTHERS     19427\n",
       "Name: denied, dtype: int64"
      ]
     },
     "execution_count": 166,
     "metadata": {},
     "output_type": "execute_result"
    }
   ],
   "source": [
    "countries = dfcat.groupby('COUNTRY_OF_CITIZENSHIP').count()['denied']\n",
    "countries = countries.sort_values()[::-1][:5]\n",
    "countries['ALL_OTHERS'] = 19427\n",
    "countries"
   ]
  },
  {
   "cell_type": "code",
   "execution_count": 167,
   "metadata": {
    "collapsed": false
   },
   "outputs": [
    {
     "data": {
      "text/plain": [
       "([<matplotlib.patches.Wedge at 0x118ad3990>,\n",
       "  <matplotlib.patches.Wedge at 0x120115810>,\n",
       "  <matplotlib.patches.Wedge at 0x12011e910>,\n",
       "  <matplotlib.patches.Wedge at 0x12012ac10>,\n",
       "  <matplotlib.patches.Wedge at 0x120136f10>,\n",
       "  <matplotlib.patches.Wedge at 0x12014d250>],\n",
       " [<matplotlib.text.Text at 0x120103f10>,\n",
       "  <matplotlib.text.Text at 0x1108e0750>,\n",
       "  <matplotlib.text.Text at 0x12012a350>,\n",
       "  <matplotlib.text.Text at 0x120136650>,\n",
       "  <matplotlib.text.Text at 0x120141950>,\n",
       "  <matplotlib.text.Text at 0x12014dc50>],\n",
       " [<matplotlib.text.Text at 0x1201153d0>,\n",
       "  <matplotlib.text.Text at 0x12011e4d0>,\n",
       "  <matplotlib.text.Text at 0x12012a7d0>,\n",
       "  <matplotlib.text.Text at 0x120136ad0>,\n",
       "  <matplotlib.text.Text at 0x120141dd0>,\n",
       "  <matplotlib.text.Text at 0x120157110>])"
      ]
     },
     "execution_count": 167,
     "metadata": {},
     "output_type": "execute_result"
    }
   ],
   "source": [
    "country_labels = list(countries.index)\n",
    "country_fracs = countries.values\n",
    "plt.subplot(the_grid[1, 0], aspect=1, title='Applications by Citizenship')\n",
    "plt.pie(country_fracs, labels=country_labels, autopct='%1.1f%%', shadow=True)"
   ]
  },
  {
   "cell_type": "code",
   "execution_count": 162,
   "metadata": {
    "collapsed": false
   },
   "outputs": [
    {
     "data": {
      "text/plain": [
       "FOREIGN_WORKER_INFO_EDUCATION\n",
       "Doctorate      0.033010\n",
       "Master's       0.051275\n",
       "Bachelor's     0.053348\n",
       "Other          0.074332\n",
       "Associate's    0.185270\n",
       "None           0.228803\n",
       "High School    0.270021\n",
       "Name: denied, dtype: float64"
      ]
     },
     "execution_count": 162,
     "metadata": {},
     "output_type": "execute_result"
    }
   ],
   "source": [
    "dfcat.groupby(['FOREIGN_WORKER_INFO_EDUCATION'])['denied'].mean().sort_values()"
   ]
  },
  {
   "cell_type": "code",
   "execution_count": 163,
   "metadata": {
    "collapsed": false
   },
   "outputs": [
    {
     "data": {
      "text/plain": [
       "FOREIGN_WORKER_INFO_EDUCATION\n",
       "Master's       38245\n",
       "Bachelor's     30910\n",
       "None            4812\n",
       "Doctorate       4635\n",
       "Other           3740\n",
       "High School     1411\n",
       "Associate's      869\n",
       "Name: denied, dtype: int64"
      ]
     },
     "execution_count": 163,
     "metadata": {},
     "output_type": "execute_result"
    }
   ],
   "source": [
    "education = dfcat.groupby('FOREIGN_WORKER_INFO_EDUCATION').count()['denied'].sort_values()[::-1]\n",
    "education"
   ]
  },
  {
   "cell_type": "code",
   "execution_count": 164,
   "metadata": {
    "collapsed": false
   },
   "outputs": [
    {
     "data": {
      "application/javascript": [
       "/* Put everything inside the global mpl namespace */\n",
       "window.mpl = {};\n",
       "\n",
       "mpl.get_websocket_type = function() {\n",
       "    if (typeof(WebSocket) !== 'undefined') {\n",
       "        return WebSocket;\n",
       "    } else if (typeof(MozWebSocket) !== 'undefined') {\n",
       "        return MozWebSocket;\n",
       "    } else {\n",
       "        alert('Your browser does not have WebSocket support.' +\n",
       "              'Please try Chrome, Safari or Firefox ≥ 6. ' +\n",
       "              'Firefox 4 and 5 are also supported but you ' +\n",
       "              'have to enable WebSockets in about:config.');\n",
       "    };\n",
       "}\n",
       "\n",
       "mpl.figure = function(figure_id, websocket, ondownload, parent_element) {\n",
       "    this.id = figure_id;\n",
       "\n",
       "    this.ws = websocket;\n",
       "\n",
       "    this.supports_binary = (this.ws.binaryType != undefined);\n",
       "\n",
       "    if (!this.supports_binary) {\n",
       "        var warnings = document.getElementById(\"mpl-warnings\");\n",
       "        if (warnings) {\n",
       "            warnings.style.display = 'block';\n",
       "            warnings.textContent = (\n",
       "                \"This browser does not support binary websocket messages. \" +\n",
       "                    \"Performance may be slow.\");\n",
       "        }\n",
       "    }\n",
       "\n",
       "    this.imageObj = new Image();\n",
       "\n",
       "    this.context = undefined;\n",
       "    this.message = undefined;\n",
       "    this.canvas = undefined;\n",
       "    this.rubberband_canvas = undefined;\n",
       "    this.rubberband_context = undefined;\n",
       "    this.format_dropdown = undefined;\n",
       "\n",
       "    this.image_mode = 'full';\n",
       "\n",
       "    this.root = $('<div/>');\n",
       "    this._root_extra_style(this.root)\n",
       "    this.root.attr('style', 'display: inline-block');\n",
       "\n",
       "    $(parent_element).append(this.root);\n",
       "\n",
       "    this._init_header(this);\n",
       "    this._init_canvas(this);\n",
       "    this._init_toolbar(this);\n",
       "\n",
       "    var fig = this;\n",
       "\n",
       "    this.waiting = false;\n",
       "\n",
       "    this.ws.onopen =  function () {\n",
       "            fig.send_message(\"supports_binary\", {value: fig.supports_binary});\n",
       "            fig.send_message(\"send_image_mode\", {});\n",
       "            fig.send_message(\"refresh\", {});\n",
       "        }\n",
       "\n",
       "    this.imageObj.onload = function() {\n",
       "            if (fig.image_mode == 'full') {\n",
       "                // Full images could contain transparency (where diff images\n",
       "                // almost always do), so we need to clear the canvas so that\n",
       "                // there is no ghosting.\n",
       "                fig.context.clearRect(0, 0, fig.canvas.width, fig.canvas.height);\n",
       "            }\n",
       "            fig.context.drawImage(fig.imageObj, 0, 0);\n",
       "            fig.waiting = false;\n",
       "        };\n",
       "\n",
       "    this.imageObj.onunload = function() {\n",
       "        this.ws.close();\n",
       "    }\n",
       "\n",
       "    this.ws.onmessage = this._make_on_message_function(this);\n",
       "\n",
       "    this.ondownload = ondownload;\n",
       "}\n",
       "\n",
       "mpl.figure.prototype._init_header = function() {\n",
       "    var titlebar = $(\n",
       "        '<div class=\"ui-dialog-titlebar ui-widget-header ui-corner-all ' +\n",
       "        'ui-helper-clearfix\"/>');\n",
       "    var titletext = $(\n",
       "        '<div class=\"ui-dialog-title\" style=\"width: 100%; ' +\n",
       "        'text-align: center; padding: 3px;\"/>');\n",
       "    titlebar.append(titletext)\n",
       "    this.root.append(titlebar);\n",
       "    this.header = titletext[0];\n",
       "}\n",
       "\n",
       "\n",
       "\n",
       "mpl.figure.prototype._canvas_extra_style = function(canvas_div) {\n",
       "\n",
       "}\n",
       "\n",
       "\n",
       "mpl.figure.prototype._root_extra_style = function(canvas_div) {\n",
       "\n",
       "}\n",
       "\n",
       "mpl.figure.prototype._init_canvas = function() {\n",
       "    var fig = this;\n",
       "\n",
       "    var canvas_div = $('<div/>');\n",
       "\n",
       "    canvas_div.attr('style', 'position: relative; clear: both; outline: 0');\n",
       "\n",
       "    function canvas_keyboard_event(event) {\n",
       "        return fig.key_event(event, event['data']);\n",
       "    }\n",
       "\n",
       "    canvas_div.keydown('key_press', canvas_keyboard_event);\n",
       "    canvas_div.keyup('key_release', canvas_keyboard_event);\n",
       "    this.canvas_div = canvas_div\n",
       "    this._canvas_extra_style(canvas_div)\n",
       "    this.root.append(canvas_div);\n",
       "\n",
       "    var canvas = $('<canvas/>');\n",
       "    canvas.addClass('mpl-canvas');\n",
       "    canvas.attr('style', \"left: 0; top: 0; z-index: 0; outline: 0\")\n",
       "\n",
       "    this.canvas = canvas[0];\n",
       "    this.context = canvas[0].getContext(\"2d\");\n",
       "\n",
       "    var rubberband = $('<canvas/>');\n",
       "    rubberband.attr('style', \"position: absolute; left: 0; top: 0; z-index: 1;\")\n",
       "\n",
       "    var pass_mouse_events = true;\n",
       "\n",
       "    canvas_div.resizable({\n",
       "        start: function(event, ui) {\n",
       "            pass_mouse_events = false;\n",
       "        },\n",
       "        resize: function(event, ui) {\n",
       "            fig.request_resize(ui.size.width, ui.size.height);\n",
       "        },\n",
       "        stop: function(event, ui) {\n",
       "            pass_mouse_events = true;\n",
       "            fig.request_resize(ui.size.width, ui.size.height);\n",
       "        },\n",
       "    });\n",
       "\n",
       "    function mouse_event_fn(event) {\n",
       "        if (pass_mouse_events)\n",
       "            return fig.mouse_event(event, event['data']);\n",
       "    }\n",
       "\n",
       "    rubberband.mousedown('button_press', mouse_event_fn);\n",
       "    rubberband.mouseup('button_release', mouse_event_fn);\n",
       "    // Throttle sequential mouse events to 1 every 20ms.\n",
       "    rubberband.mousemove('motion_notify', mouse_event_fn);\n",
       "\n",
       "    rubberband.mouseenter('figure_enter', mouse_event_fn);\n",
       "    rubberband.mouseleave('figure_leave', mouse_event_fn);\n",
       "\n",
       "    canvas_div.on(\"wheel\", function (event) {\n",
       "        event = event.originalEvent;\n",
       "        event['data'] = 'scroll'\n",
       "        if (event.deltaY < 0) {\n",
       "            event.step = 1;\n",
       "        } else {\n",
       "            event.step = -1;\n",
       "        }\n",
       "        mouse_event_fn(event);\n",
       "    });\n",
       "\n",
       "    canvas_div.append(canvas);\n",
       "    canvas_div.append(rubberband);\n",
       "\n",
       "    this.rubberband = rubberband;\n",
       "    this.rubberband_canvas = rubberband[0];\n",
       "    this.rubberband_context = rubberband[0].getContext(\"2d\");\n",
       "    this.rubberband_context.strokeStyle = \"#000000\";\n",
       "\n",
       "    this._resize_canvas = function(width, height) {\n",
       "        // Keep the size of the canvas, canvas container, and rubber band\n",
       "        // canvas in synch.\n",
       "        canvas_div.css('width', width)\n",
       "        canvas_div.css('height', height)\n",
       "\n",
       "        canvas.attr('width', width);\n",
       "        canvas.attr('height', height);\n",
       "\n",
       "        rubberband.attr('width', width);\n",
       "        rubberband.attr('height', height);\n",
       "    }\n",
       "\n",
       "    // Set the figure to an initial 600x600px, this will subsequently be updated\n",
       "    // upon first draw.\n",
       "    this._resize_canvas(600, 600);\n",
       "\n",
       "    // Disable right mouse context menu.\n",
       "    $(this.rubberband_canvas).bind(\"contextmenu\",function(e){\n",
       "        return false;\n",
       "    });\n",
       "\n",
       "    function set_focus () {\n",
       "        canvas.focus();\n",
       "        canvas_div.focus();\n",
       "    }\n",
       "\n",
       "    window.setTimeout(set_focus, 100);\n",
       "}\n",
       "\n",
       "mpl.figure.prototype._init_toolbar = function() {\n",
       "    var fig = this;\n",
       "\n",
       "    var nav_element = $('<div/>')\n",
       "    nav_element.attr('style', 'width: 100%');\n",
       "    this.root.append(nav_element);\n",
       "\n",
       "    // Define a callback function for later on.\n",
       "    function toolbar_event(event) {\n",
       "        return fig.toolbar_button_onclick(event['data']);\n",
       "    }\n",
       "    function toolbar_mouse_event(event) {\n",
       "        return fig.toolbar_button_onmouseover(event['data']);\n",
       "    }\n",
       "\n",
       "    for(var toolbar_ind in mpl.toolbar_items) {\n",
       "        var name = mpl.toolbar_items[toolbar_ind][0];\n",
       "        var tooltip = mpl.toolbar_items[toolbar_ind][1];\n",
       "        var image = mpl.toolbar_items[toolbar_ind][2];\n",
       "        var method_name = mpl.toolbar_items[toolbar_ind][3];\n",
       "\n",
       "        if (!name) {\n",
       "            // put a spacer in here.\n",
       "            continue;\n",
       "        }\n",
       "        var button = $('<button/>');\n",
       "        button.addClass('ui-button ui-widget ui-state-default ui-corner-all ' +\n",
       "                        'ui-button-icon-only');\n",
       "        button.attr('role', 'button');\n",
       "        button.attr('aria-disabled', 'false');\n",
       "        button.click(method_name, toolbar_event);\n",
       "        button.mouseover(tooltip, toolbar_mouse_event);\n",
       "\n",
       "        var icon_img = $('<span/>');\n",
       "        icon_img.addClass('ui-button-icon-primary ui-icon');\n",
       "        icon_img.addClass(image);\n",
       "        icon_img.addClass('ui-corner-all');\n",
       "\n",
       "        var tooltip_span = $('<span/>');\n",
       "        tooltip_span.addClass('ui-button-text');\n",
       "        tooltip_span.html(tooltip);\n",
       "\n",
       "        button.append(icon_img);\n",
       "        button.append(tooltip_span);\n",
       "\n",
       "        nav_element.append(button);\n",
       "    }\n",
       "\n",
       "    var fmt_picker_span = $('<span/>');\n",
       "\n",
       "    var fmt_picker = $('<select/>');\n",
       "    fmt_picker.addClass('mpl-toolbar-option ui-widget ui-widget-content');\n",
       "    fmt_picker_span.append(fmt_picker);\n",
       "    nav_element.append(fmt_picker_span);\n",
       "    this.format_dropdown = fmt_picker[0];\n",
       "\n",
       "    for (var ind in mpl.extensions) {\n",
       "        var fmt = mpl.extensions[ind];\n",
       "        var option = $(\n",
       "            '<option/>', {selected: fmt === mpl.default_extension}).html(fmt);\n",
       "        fmt_picker.append(option)\n",
       "    }\n",
       "\n",
       "    // Add hover states to the ui-buttons\n",
       "    $( \".ui-button\" ).hover(\n",
       "        function() { $(this).addClass(\"ui-state-hover\");},\n",
       "        function() { $(this).removeClass(\"ui-state-hover\");}\n",
       "    );\n",
       "\n",
       "    var status_bar = $('<span class=\"mpl-message\"/>');\n",
       "    nav_element.append(status_bar);\n",
       "    this.message = status_bar[0];\n",
       "}\n",
       "\n",
       "mpl.figure.prototype.request_resize = function(x_pixels, y_pixels) {\n",
       "    // Request matplotlib to resize the figure. Matplotlib will then trigger a resize in the client,\n",
       "    // which will in turn request a refresh of the image.\n",
       "    this.send_message('resize', {'width': x_pixels, 'height': y_pixels});\n",
       "}\n",
       "\n",
       "mpl.figure.prototype.send_message = function(type, properties) {\n",
       "    properties['type'] = type;\n",
       "    properties['figure_id'] = this.id;\n",
       "    this.ws.send(JSON.stringify(properties));\n",
       "}\n",
       "\n",
       "mpl.figure.prototype.send_draw_message = function() {\n",
       "    if (!this.waiting) {\n",
       "        this.waiting = true;\n",
       "        this.ws.send(JSON.stringify({type: \"draw\", figure_id: this.id}));\n",
       "    }\n",
       "}\n",
       "\n",
       "\n",
       "mpl.figure.prototype.handle_save = function(fig, msg) {\n",
       "    var format_dropdown = fig.format_dropdown;\n",
       "    var format = format_dropdown.options[format_dropdown.selectedIndex].value;\n",
       "    fig.ondownload(fig, format);\n",
       "}\n",
       "\n",
       "\n",
       "mpl.figure.prototype.handle_resize = function(fig, msg) {\n",
       "    var size = msg['size'];\n",
       "    if (size[0] != fig.canvas.width || size[1] != fig.canvas.height) {\n",
       "        fig._resize_canvas(size[0], size[1]);\n",
       "        fig.send_message(\"refresh\", {});\n",
       "    };\n",
       "}\n",
       "\n",
       "mpl.figure.prototype.handle_rubberband = function(fig, msg) {\n",
       "    var x0 = msg['x0'];\n",
       "    var y0 = fig.canvas.height - msg['y0'];\n",
       "    var x1 = msg['x1'];\n",
       "    var y1 = fig.canvas.height - msg['y1'];\n",
       "    x0 = Math.floor(x0) + 0.5;\n",
       "    y0 = Math.floor(y0) + 0.5;\n",
       "    x1 = Math.floor(x1) + 0.5;\n",
       "    y1 = Math.floor(y1) + 0.5;\n",
       "    var min_x = Math.min(x0, x1);\n",
       "    var min_y = Math.min(y0, y1);\n",
       "    var width = Math.abs(x1 - x0);\n",
       "    var height = Math.abs(y1 - y0);\n",
       "\n",
       "    fig.rubberband_context.clearRect(\n",
       "        0, 0, fig.canvas.width, fig.canvas.height);\n",
       "\n",
       "    fig.rubberband_context.strokeRect(min_x, min_y, width, height);\n",
       "}\n",
       "\n",
       "mpl.figure.prototype.handle_figure_label = function(fig, msg) {\n",
       "    // Updates the figure title.\n",
       "    fig.header.textContent = msg['label'];\n",
       "}\n",
       "\n",
       "mpl.figure.prototype.handle_cursor = function(fig, msg) {\n",
       "    var cursor = msg['cursor'];\n",
       "    switch(cursor)\n",
       "    {\n",
       "    case 0:\n",
       "        cursor = 'pointer';\n",
       "        break;\n",
       "    case 1:\n",
       "        cursor = 'default';\n",
       "        break;\n",
       "    case 2:\n",
       "        cursor = 'crosshair';\n",
       "        break;\n",
       "    case 3:\n",
       "        cursor = 'move';\n",
       "        break;\n",
       "    }\n",
       "    fig.rubberband_canvas.style.cursor = cursor;\n",
       "}\n",
       "\n",
       "mpl.figure.prototype.handle_message = function(fig, msg) {\n",
       "    fig.message.textContent = msg['message'];\n",
       "}\n",
       "\n",
       "mpl.figure.prototype.handle_draw = function(fig, msg) {\n",
       "    // Request the server to send over a new figure.\n",
       "    fig.send_draw_message();\n",
       "}\n",
       "\n",
       "mpl.figure.prototype.handle_image_mode = function(fig, msg) {\n",
       "    fig.image_mode = msg['mode'];\n",
       "}\n",
       "\n",
       "mpl.figure.prototype.updated_canvas_event = function() {\n",
       "    // Called whenever the canvas gets updated.\n",
       "    this.send_message(\"ack\", {});\n",
       "}\n",
       "\n",
       "// A function to construct a web socket function for onmessage handling.\n",
       "// Called in the figure constructor.\n",
       "mpl.figure.prototype._make_on_message_function = function(fig) {\n",
       "    return function socket_on_message(evt) {\n",
       "        if (evt.data instanceof Blob) {\n",
       "            /* FIXME: We get \"Resource interpreted as Image but\n",
       "             * transferred with MIME type text/plain:\" errors on\n",
       "             * Chrome.  But how to set the MIME type?  It doesn't seem\n",
       "             * to be part of the websocket stream */\n",
       "            evt.data.type = \"image/png\";\n",
       "\n",
       "            /* Free the memory for the previous frames */\n",
       "            if (fig.imageObj.src) {\n",
       "                (window.URL || window.webkitURL).revokeObjectURL(\n",
       "                    fig.imageObj.src);\n",
       "            }\n",
       "\n",
       "            fig.imageObj.src = (window.URL || window.webkitURL).createObjectURL(\n",
       "                evt.data);\n",
       "            fig.updated_canvas_event();\n",
       "            return;\n",
       "        }\n",
       "        else if (typeof evt.data === 'string' && evt.data.slice(0, 21) == \"data:image/png;base64\") {\n",
       "            fig.imageObj.src = evt.data;\n",
       "            fig.updated_canvas_event();\n",
       "            return;\n",
       "        }\n",
       "\n",
       "        var msg = JSON.parse(evt.data);\n",
       "        var msg_type = msg['type'];\n",
       "\n",
       "        // Call the  \"handle_{type}\" callback, which takes\n",
       "        // the figure and JSON message as its only arguments.\n",
       "        try {\n",
       "            var callback = fig[\"handle_\" + msg_type];\n",
       "        } catch (e) {\n",
       "            console.log(\"No handler for the '\" + msg_type + \"' message type: \", msg);\n",
       "            return;\n",
       "        }\n",
       "\n",
       "        if (callback) {\n",
       "            try {\n",
       "                // console.log(\"Handling '\" + msg_type + \"' message: \", msg);\n",
       "                callback(fig, msg);\n",
       "            } catch (e) {\n",
       "                console.log(\"Exception inside the 'handler_\" + msg_type + \"' callback:\", e, e.stack, msg);\n",
       "            }\n",
       "        }\n",
       "    };\n",
       "}\n",
       "\n",
       "// from http://stackoverflow.com/questions/1114465/getting-mouse-location-in-canvas\n",
       "mpl.findpos = function(e) {\n",
       "    //this section is from http://www.quirksmode.org/js/events_properties.html\n",
       "    var targ;\n",
       "    if (!e)\n",
       "        e = window.event;\n",
       "    if (e.target)\n",
       "        targ = e.target;\n",
       "    else if (e.srcElement)\n",
       "        targ = e.srcElement;\n",
       "    if (targ.nodeType == 3) // defeat Safari bug\n",
       "        targ = targ.parentNode;\n",
       "\n",
       "    // jQuery normalizes the pageX and pageY\n",
       "    // pageX,Y are the mouse positions relative to the document\n",
       "    // offset() returns the position of the element relative to the document\n",
       "    var x = e.pageX - $(targ).offset().left;\n",
       "    var y = e.pageY - $(targ).offset().top;\n",
       "\n",
       "    return {\"x\": x, \"y\": y};\n",
       "};\n",
       "\n",
       "mpl.figure.prototype.mouse_event = function(event, name) {\n",
       "    var canvas_pos = mpl.findpos(event)\n",
       "\n",
       "    if (name === 'button_press')\n",
       "    {\n",
       "        this.canvas.focus();\n",
       "        this.canvas_div.focus();\n",
       "    }\n",
       "\n",
       "    var x = canvas_pos.x;\n",
       "    var y = canvas_pos.y;\n",
       "\n",
       "    this.send_message(name, {x: x, y: y, button: event.button,\n",
       "                             step: event.step});\n",
       "\n",
       "    /* This prevents the web browser from automatically changing to\n",
       "     * the text insertion cursor when the button is pressed.  We want\n",
       "     * to control all of the cursor setting manually through the\n",
       "     * 'cursor' event from matplotlib */\n",
       "    event.preventDefault();\n",
       "    return false;\n",
       "}\n",
       "\n",
       "mpl.figure.prototype._key_event_extra = function(event, name) {\n",
       "    // Handle any extra behaviour associated with a key event\n",
       "}\n",
       "\n",
       "mpl.figure.prototype.key_event = function(event, name) {\n",
       "\n",
       "    // Prevent repeat events\n",
       "    if (name == 'key_press')\n",
       "    {\n",
       "        if (event.which === this._key)\n",
       "            return;\n",
       "        else\n",
       "            this._key = event.which;\n",
       "    }\n",
       "    if (name == 'key_release')\n",
       "        this._key = null;\n",
       "\n",
       "    var value = '';\n",
       "    if (event.ctrlKey && event.which != 17)\n",
       "        value += \"ctrl+\";\n",
       "    if (event.altKey && event.which != 18)\n",
       "        value += \"alt+\";\n",
       "    if (event.shiftKey && event.which != 16)\n",
       "        value += \"shift+\";\n",
       "\n",
       "    value += 'k';\n",
       "    value += event.which.toString();\n",
       "\n",
       "    this._key_event_extra(event, name);\n",
       "\n",
       "    this.send_message(name, {key: value});\n",
       "    return false;\n",
       "}\n",
       "\n",
       "mpl.figure.prototype.toolbar_button_onclick = function(name) {\n",
       "    if (name == 'download') {\n",
       "        this.handle_save(this, null);\n",
       "    } else {\n",
       "        this.send_message(\"toolbar_button\", {name: name});\n",
       "    }\n",
       "};\n",
       "\n",
       "mpl.figure.prototype.toolbar_button_onmouseover = function(tooltip) {\n",
       "    this.message.textContent = tooltip;\n",
       "};\n",
       "mpl.toolbar_items = [[\"Home\", \"Reset original view\", \"fa fa-home icon-home\", \"home\"], [\"Back\", \"Back to  previous view\", \"fa fa-arrow-left icon-arrow-left\", \"back\"], [\"Forward\", \"Forward to next view\", \"fa fa-arrow-right icon-arrow-right\", \"forward\"], [\"\", \"\", \"\", \"\"], [\"Pan\", \"Pan axes with left mouse, zoom with right\", \"fa fa-arrows icon-move\", \"pan\"], [\"Zoom\", \"Zoom to rectangle\", \"fa fa-square-o icon-check-empty\", \"zoom\"], [\"\", \"\", \"\", \"\"], [\"Download\", \"Download plot\", \"fa fa-floppy-o icon-save\", \"download\"]];\n",
       "\n",
       "mpl.extensions = [\"eps\", \"jpeg\", \"pdf\", \"png\", \"ps\", \"raw\", \"svg\", \"tif\"];\n",
       "\n",
       "mpl.default_extension = \"png\";var comm_websocket_adapter = function(comm) {\n",
       "    // Create a \"websocket\"-like object which calls the given IPython comm\n",
       "    // object with the appropriate methods. Currently this is a non binary\n",
       "    // socket, so there is still some room for performance tuning.\n",
       "    var ws = {};\n",
       "\n",
       "    ws.close = function() {\n",
       "        comm.close()\n",
       "    };\n",
       "    ws.send = function(m) {\n",
       "        //console.log('sending', m);\n",
       "        comm.send(m);\n",
       "    };\n",
       "    // Register the callback with on_msg.\n",
       "    comm.on_msg(function(msg) {\n",
       "        //console.log('receiving', msg['content']['data'], msg);\n",
       "        // Pass the mpl event to the overriden (by mpl) onmessage function.\n",
       "        ws.onmessage(msg['content']['data'])\n",
       "    });\n",
       "    return ws;\n",
       "}\n",
       "\n",
       "mpl.mpl_figure_comm = function(comm, msg) {\n",
       "    // This is the function which gets called when the mpl process\n",
       "    // starts-up an IPython Comm through the \"matplotlib\" channel.\n",
       "\n",
       "    var id = msg.content.data.id;\n",
       "    // Get hold of the div created by the display call when the Comm\n",
       "    // socket was opened in Python.\n",
       "    var element = $(\"#\" + id);\n",
       "    var ws_proxy = comm_websocket_adapter(comm)\n",
       "\n",
       "    function ondownload(figure, format) {\n",
       "        window.open(figure.imageObj.src);\n",
       "    }\n",
       "\n",
       "    var fig = new mpl.figure(id, ws_proxy,\n",
       "                           ondownload,\n",
       "                           element.get(0));\n",
       "\n",
       "    // Call onopen now - mpl needs it, as it is assuming we've passed it a real\n",
       "    // web socket which is closed, not our websocket->open comm proxy.\n",
       "    ws_proxy.onopen();\n",
       "\n",
       "    fig.parent_element = element.get(0);\n",
       "    fig.cell_info = mpl.find_output_cell(\"<div id='\" + id + \"'></div>\");\n",
       "    if (!fig.cell_info) {\n",
       "        console.error(\"Failed to find cell for figure\", id, fig);\n",
       "        return;\n",
       "    }\n",
       "\n",
       "    var output_index = fig.cell_info[2]\n",
       "    var cell = fig.cell_info[0];\n",
       "\n",
       "};\n",
       "\n",
       "mpl.figure.prototype.handle_close = function(fig, msg) {\n",
       "    // Update the output cell to use the data from the current canvas.\n",
       "    fig.push_to_output();\n",
       "    var dataURL = fig.canvas.toDataURL();\n",
       "    // Re-enable the keyboard manager in IPython - without this line, in FF,\n",
       "    // the notebook keyboard shortcuts fail.\n",
       "    IPython.keyboard_manager.enable()\n",
       "    $(fig.parent_element).html('<img src=\"' + dataURL + '\">');\n",
       "    fig.send_message('closing', {});\n",
       "    fig.ws.close()\n",
       "}\n",
       "\n",
       "mpl.figure.prototype.push_to_output = function(remove_interactive) {\n",
       "    // Turn the data on the canvas into data in the output cell.\n",
       "    var dataURL = this.canvas.toDataURL();\n",
       "    this.cell_info[1]['text/html'] = '<img src=\"' + dataURL + '\">';\n",
       "}\n",
       "\n",
       "mpl.figure.prototype.updated_canvas_event = function() {\n",
       "    // Tell IPython that the notebook contents must change.\n",
       "    IPython.notebook.set_dirty(true);\n",
       "    this.send_message(\"ack\", {});\n",
       "    var fig = this;\n",
       "    // Wait a second, then push the new image to the DOM so\n",
       "    // that it is saved nicely (might be nice to debounce this).\n",
       "    setTimeout(function () { fig.push_to_output() }, 1000);\n",
       "}\n",
       "\n",
       "mpl.figure.prototype._init_toolbar = function() {\n",
       "    var fig = this;\n",
       "\n",
       "    var nav_element = $('<div/>')\n",
       "    nav_element.attr('style', 'width: 100%');\n",
       "    this.root.append(nav_element);\n",
       "\n",
       "    // Define a callback function for later on.\n",
       "    function toolbar_event(event) {\n",
       "        return fig.toolbar_button_onclick(event['data']);\n",
       "    }\n",
       "    function toolbar_mouse_event(event) {\n",
       "        return fig.toolbar_button_onmouseover(event['data']);\n",
       "    }\n",
       "\n",
       "    for(var toolbar_ind in mpl.toolbar_items){\n",
       "        var name = mpl.toolbar_items[toolbar_ind][0];\n",
       "        var tooltip = mpl.toolbar_items[toolbar_ind][1];\n",
       "        var image = mpl.toolbar_items[toolbar_ind][2];\n",
       "        var method_name = mpl.toolbar_items[toolbar_ind][3];\n",
       "\n",
       "        if (!name) { continue; };\n",
       "\n",
       "        var button = $('<button class=\"btn btn-default\" href=\"#\" title=\"' + name + '\"><i class=\"fa ' + image + ' fa-lg\"></i></button>');\n",
       "        button.click(method_name, toolbar_event);\n",
       "        button.mouseover(tooltip, toolbar_mouse_event);\n",
       "        nav_element.append(button);\n",
       "    }\n",
       "\n",
       "    // Add the status bar.\n",
       "    var status_bar = $('<span class=\"mpl-message\" style=\"text-align:right; float: right;\"/>');\n",
       "    nav_element.append(status_bar);\n",
       "    this.message = status_bar[0];\n",
       "\n",
       "    // Add the close button to the window.\n",
       "    var buttongrp = $('<div class=\"btn-group inline pull-right\"></div>');\n",
       "    var button = $('<button class=\"btn btn-mini btn-danger\" href=\"#\" title=\"Close figure\"><i class=\"fa fa-times icon-remove icon-large\"></i></button>');\n",
       "    button.click(function (evt) { fig.handle_close(fig, {}); } );\n",
       "    button.mouseover('Close figure', toolbar_mouse_event);\n",
       "    buttongrp.append(button);\n",
       "    var titlebar = this.root.find($('.ui-dialog-titlebar'));\n",
       "    titlebar.prepend(buttongrp);\n",
       "}\n",
       "\n",
       "\n",
       "mpl.figure.prototype._canvas_extra_style = function(el){\n",
       "    // this is important to make the div 'focusable\n",
       "    el.attr('tabindex', 0)\n",
       "    // reach out to IPython and tell the keyboard manager to turn it's self\n",
       "    // off when our div gets focus\n",
       "\n",
       "    // location in version 3\n",
       "    if (IPython.notebook.keyboard_manager) {\n",
       "        IPython.notebook.keyboard_manager.register_events(el);\n",
       "    }\n",
       "    else {\n",
       "        // location in version 2\n",
       "        IPython.keyboard_manager.register_events(el);\n",
       "    }\n",
       "\n",
       "}\n",
       "\n",
       "mpl.figure.prototype._key_event_extra = function(event, name) {\n",
       "    var manager = IPython.notebook.keyboard_manager;\n",
       "    if (!manager)\n",
       "        manager = IPython.keyboard_manager;\n",
       "\n",
       "    // Check for shift+enter\n",
       "    if (event.shiftKey && event.which == 13) {\n",
       "        this.canvas_div.blur();\n",
       "        event.shiftKey = false;\n",
       "        // Send a \"J\" for go to next cell\n",
       "        event.which = 74;\n",
       "        event.keyCode = 74;\n",
       "        manager.command_mode();\n",
       "        manager.handle_keydown(event);\n",
       "    }\n",
       "}\n",
       "\n",
       "mpl.figure.prototype.handle_save = function(fig, msg) {\n",
       "    fig.ondownload(fig, null);\n",
       "}\n",
       "\n",
       "\n",
       "mpl.find_output_cell = function(html_output) {\n",
       "    // Return the cell and output element which can be found *uniquely* in the notebook.\n",
       "    // Note - this is a bit hacky, but it is done because the \"notebook_saving.Notebook\"\n",
       "    // IPython event is triggered only after the cells have been serialised, which for\n",
       "    // our purposes (turning an active figure into a static one), is too late.\n",
       "    var cells = IPython.notebook.get_cells();\n",
       "    var ncells = cells.length;\n",
       "    for (var i=0; i<ncells; i++) {\n",
       "        var cell = cells[i];\n",
       "        if (cell.cell_type === 'code'){\n",
       "            for (var j=0; j<cell.output_area.outputs.length; j++) {\n",
       "                var data = cell.output_area.outputs[j];\n",
       "                if (data.data) {\n",
       "                    // IPython >= 3 moved mimebundle to data attribute of output\n",
       "                    data = data.data;\n",
       "                }\n",
       "                if (data['text/html'] == html_output) {\n",
       "                    return [cell, data, j];\n",
       "                }\n",
       "            }\n",
       "        }\n",
       "    }\n",
       "}\n",
       "\n",
       "// Register the function which deals with the matplotlib target/channel.\n",
       "// The kernel may be null if the page has been refreshed.\n",
       "if (IPython.notebook.kernel != null) {\n",
       "    IPython.notebook.kernel.comm_manager.register_target('matplotlib', mpl.mpl_figure_comm);\n",
       "}\n"
      ],
      "text/plain": [
       "<IPython.core.display.Javascript object>"
      ]
     },
     "metadata": {},
     "output_type": "display_data"
    },
    {
     "data": {
      "text/html": [
       "<img src=\"data:image/png;base64,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\">"
      ],
      "text/plain": [
       "<IPython.core.display.HTML object>"
      ]
     },
     "metadata": {},
     "output_type": "display_data"
    },
    {
     "data": {
      "text/plain": [
       "([<matplotlib.patches.Wedge at 0x11fda5d90>,\n",
       "  <matplotlib.patches.Wedge at 0x11fdb2fd0>,\n",
       "  <matplotlib.patches.Wedge at 0x11fd67b50>,\n",
       "  <matplotlib.patches.Wedge at 0x11fdc8810>,\n",
       "  <matplotlib.patches.Wedge at 0x11fdd5b10>,\n",
       "  <matplotlib.patches.Wedge at 0x11fde0e10>,\n",
       "  <matplotlib.patches.Wedge at 0x11fdf6150>],\n",
       " [<matplotlib.text.Text at 0x11fdb2710>,\n",
       "  <matplotlib.text.Text at 0x11fdbea10>,\n",
       "  <matplotlib.text.Text at 0x11fd49590>,\n",
       "  <matplotlib.text.Text at 0x11fdd5250>,\n",
       "  <matplotlib.text.Text at 0x11fde0550>,\n",
       "  <matplotlib.text.Text at 0x11fdec850>,\n",
       "  <matplotlib.text.Text at 0x11fdf6b50>],\n",
       " [<matplotlib.text.Text at 0x11fdb2b90>,\n",
       "  <matplotlib.text.Text at 0x11fdbee90>,\n",
       "  <matplotlib.text.Text at 0x11fdc83d0>,\n",
       "  <matplotlib.text.Text at 0x11fdd56d0>,\n",
       "  <matplotlib.text.Text at 0x11fde09d0>,\n",
       "  <matplotlib.text.Text at 0x11fdeccd0>,\n",
       "  <matplotlib.text.Text at 0x11fdf6fd0>])"
      ]
     },
     "execution_count": 164,
     "metadata": {},
     "output_type": "execute_result"
    }
   ],
   "source": [
    "status_labels = list(status.index)\n",
    "status_fracs = pcert, pcertex, pdenied\n",
    "the_grid = GridSpec(2, 2)\n",
    "plt.subplot(the_grid[0, 0], aspect=1, title='Applications by Case Status')\n",
    "plt.pie(status_fracs, labels=status_labels, autopct='%1.1f%%', shadow=True)\n",
    "\n",
    "country_labels = list(countries.index)\n",
    "country_fracs = countries.values\n",
    "plt.subplot(the_grid[1, 0], aspect=1, title='Applications by Citizenship')\n",
    "plt.pie(country_fracs, labels=country_labels, autopct='%1.1f%%', shadow=True)\n",
    "\n",
    "ed_labels = list(education.index)\n",
    "ed_fracs = education.values\n",
    "plt.subplot(the_grid[1, 1], aspect=1, title='Education of Applicants')\n",
    "plt.pie(ed_fracs, labels=ed_labels, autopct='%1.1f%%', shadow=True)"
   ]
  },
  {
   "cell_type": "code",
   "execution_count": 125,
   "metadata": {
    "collapsed": false
   },
   "outputs": [
    {
     "data": {
      "text/plain": [
       "JOB_INFO_EDUCATION\n",
       "Doctorate      0.025573\n",
       "Master's       0.047168\n",
       "Bachelor's     0.051324\n",
       "Other          0.075218\n",
       "Associate's    0.188406\n",
       "None           0.233772\n",
       "High School    0.304193\n",
       "Name: denied, dtype: float64"
      ]
     },
     "execution_count": 125,
     "metadata": {},
     "output_type": "execute_result"
    }
   ],
   "source": [
    "dfcat.groupby(['JOB_INFO_EDUCATION'])['denied'].mean().sort_values()"
   ]
  },
  {
   "cell_type": "markdown",
   "metadata": {},
   "source": [
    "Applicants with at least a Bachelor's have significantly lower rates of rejection than those without one."
   ]
  },
  {
   "cell_type": "markdown",
   "metadata": {},
   "source": [
    "## Data Preparation for Logistic Regression\n",
    "\n",
    "All of the data are given as unicode, even the numbers, so it has to be converted into the proper data type before the regression can be run. Additionally, dummy variables need to be created for the categorical data."
   ]
  },
  {
   "cell_type": "code",
   "execution_count": 126,
   "metadata": {
    "collapsed": true
   },
   "outputs": [],
   "source": [
    "# interesting fields with binary or numerical data\n",
    "data_fields = ['REFILE', 'EMPLOYER_NUM_EMPLOYEES', \n",
    "               'FOREIGN_WORKER_OWNERSHIP_INTEREST', 'PW_AMOUNT_9089', 'WAGE_OFFER_FROM_9089', 'WAGE_OFFER_TO_9089', \n",
    "               'JOB_INFO_TRAINING', 'JOB_INFO_TRAINING_NUM_MONTHS', 'JOB_INFO_EXPERIENCE', \n",
    "               'JOB_INFO_EXPERIENCE_NUM_MONTHS', 'JOB_INFO_ALT_FIELD', 'JOB_INFO_ALT_COMBO_ED_EXP', \n",
    "               'JOB_INFO_ALT_CMB_ED_OTH_YRS', 'JOB_INFO_FOREIGN_ED', 'JOB_INFO_ALT_OCC', 'JOB_INFO_ALT_OCC_NUM_MONTHS', \n",
    "               'JOB_INFO_JOB_REQ_NORMAL', 'JOB_INFO_FOREIGN_LANG_REQ', 'JOB_INFO_COMBO_OCCUPATION',\n",
    "               'JI_FOREIGN_WORKER_LIVE_ON_PREMISES', 'JI_LIVE_IN_DOMESTIC_SERVICE', 'JI_LIVE_IN_DOM_SVC_CONTRACT', \n",
    "               'RECR_INFO_PROFESSIONAL_OCC', 'RECR_INFO_COLL_UNIV_TEACHER', 'RECR_INFO_COLL_TEACH_COMP_PROC', \n",
    "               'RI_POSTED_NOTICE_AT_WORKSITE', 'RI_LAYOFF_IN_PAST_SIX_MONTHS', 'RI_US_WORKERS_CONSIDERED', \n",
    "               'FOREIGN_WORKER_INFO_TRAINING_COMP', 'FOREIGN_WORKER_INFO_REQ_EXPERIENCE', \n",
    "               'FOREIGN_WORKER_INFO_ALT_EDU_EXPERIENCE', 'FOREIGN_WORKER_INFO_REL_OCCUP_EXP', \n",
    "               'PREPARER_INFO_EMP_COMPLETED']\n",
    "dflogit = data[data_fields]"
   ]
  },
  {
   "cell_type": "code",
   "execution_count": 127,
   "metadata": {
    "collapsed": false
   },
   "outputs": [],
   "source": [
    "def remove_commas(uni):\n",
    "    # converts unicode numbers with commas into floats\n",
    "    string = str(uni)\n",
    "    return float(string.replace(',', ''))\n",
    "\n",
    "def data_clean(df):\n",
    "    # formats datatypes to binary for indicators or floats for numbers\n",
    "    columns = df.columns\n",
    "    dfr = pd.DataFrame()\n",
    "    for column in columns:\n",
    "        name = str(column)\n",
    "        name = name.lower()\n",
    "        if str(df[column][1]) in ['Y', 'N']:\n",
    "            dfr[name] = (df[column] == 'Y').astype(int)\n",
    "        elif ',' in str(df[column][1]):\n",
    "            try:\n",
    "                dfr[name] = df[column].apply(remove_commas)\n",
    "            except ValueError:\n",
    "                continue\n",
    "        else:\n",
    "            try:\n",
    "                dfr[name] = df[column].apply(float)\n",
    "            except ValueError:\n",
    "                continue\n",
    "    return dfr\n",
    "\n",
    "def add_columns(df1, df2, columns):\n",
    "    # adds columns from one dataframe to another\n",
    "    for column in columns:\n",
    "        df2[column] = df1[column]"
   ]
  },
  {
   "cell_type": "code",
   "execution_count": 128,
   "metadata": {
    "collapsed": false
   },
   "outputs": [],
   "source": [
    "# formatting data for logistic regression\n",
    "dflogit = data_clean(dflogit)\n",
    "new_columns = ['JOB_INFO_EDUCATION', 'COUNTRY_OF_CITIZENSHIP', 'CLASS_OF_ADMISSION', 'FOREIGN_WORKER_INFO_EDUCATION',\n",
    "               'denied']\n",
    "add_columns(data, dflogit, new_columns)\n",
    "dflogit = dflogit.fillna(0)"
   ]
  },
  {
   "cell_type": "code",
   "execution_count": 129,
   "metadata": {
    "collapsed": false
   },
   "outputs": [
    {
     "data": {
      "text/plain": [
       "refile                                  int64\n",
       "employer_num_employees                float64\n",
       "foreign_worker_ownership_interest       int64\n",
       "pw_amount_9089                        float64\n",
       "job_info_training                       int64\n",
       "job_info_training_num_months          float64\n",
       "job_info_experience                     int64\n",
       "job_info_experience_num_months        float64\n",
       "job_info_alt_field                      int64\n",
       "job_info_alt_combo_ed_exp               int64\n",
       "job_info_alt_cmb_ed_oth_yrs           float64\n",
       "job_info_foreign_ed                     int64\n",
       "job_info_alt_occ                        int64\n",
       "job_info_alt_occ_num_months           float64\n",
       "job_info_job_req_normal                 int64\n",
       "job_info_foreign_lang_req               int64\n",
       "job_info_combo_occupation               int64\n",
       "ji_foreign_worker_live_on_premises      int64\n",
       "ji_live_in_domestic_service             int64\n",
       "recr_info_professional_occ              int64\n",
       "recr_info_coll_univ_teacher             int64\n",
       "ri_posted_notice_at_worksite            int64\n",
       "ri_layoff_in_past_six_months            int64\n",
       "preparer_info_emp_completed             int64\n",
       "JOB_INFO_EDUCATION                     object\n",
       "COUNTRY_OF_CITIZENSHIP                 object\n",
       "CLASS_OF_ADMISSION                     object\n",
       "FOREIGN_WORKER_INFO_EDUCATION          object\n",
       "denied                                  int64\n",
       "dtype: object"
      ]
     },
     "execution_count": 129,
     "metadata": {},
     "output_type": "execute_result"
    }
   ],
   "source": [
    "# checking data types\n",
    "dflogit.dtypes"
   ]
  },
  {
   "cell_type": "code",
   "execution_count": 130,
   "metadata": {
    "collapsed": false
   },
   "outputs": [
    {
     "data": {
      "text/plain": [
       "84634"
      ]
     },
     "execution_count": 130,
     "metadata": {},
     "output_type": "execute_result"
    }
   ],
   "source": [
    "len(dflogit)"
   ]
  },
  {
   "cell_type": "code",
   "execution_count": 131,
   "metadata": {
    "collapsed": false
   },
   "outputs": [
    {
     "data": {
      "text/plain": [
       "'denied ~ refile + employer_num_employees + foreign_worker_ownership_interest + pw_amount_9089 + job_info_training + job_info_training_num_months + job_info_experience + job_info_experience_num_months + job_info_alt_field + job_info_alt_combo_ed_exp + job_info_alt_cmb_ed_oth_yrs + job_info_foreign_ed + job_info_alt_occ + job_info_alt_occ_num_months + job_info_job_req_normal + job_info_foreign_lang_req + job_info_combo_occupation + ji_foreign_worker_live_on_premises + ji_live_in_domestic_service + recr_info_professional_occ + recr_info_coll_univ_teacher + ri_posted_notice_at_worksite + ri_layoff_in_past_six_months + preparer_info_emp_completed + C(JOB_INFO_EDUCATION) + C(COUNTRY_OF_CITIZENSHIP) + C(CLASS_OF_ADMISSION) + C(FOREIGN_WORKER_INFO_EDUCATION)'"
      ]
     },
     "execution_count": 131,
     "metadata": {},
     "output_type": "execute_result"
    }
   ],
   "source": [
    "params = dflogit.columns[:-5]\n",
    "dummies = ['C(JOB_INFO_EDUCATION)', 'C(COUNTRY_OF_CITIZENSHIP)', 'C(CLASS_OF_ADMISSION)', 'C(FOREIGN_WORKER_INFO_EDUCATION)']\n",
    "f = 'denied ~ ' + ' + '.join(params) + ' + ' + ' + '.join(dummies)\n",
    "f"
   ]
  },
  {
   "cell_type": "code",
   "execution_count": 132,
   "metadata": {
    "collapsed": false,
    "scrolled": true
   },
   "outputs": [
    {
     "name": "stdout",
     "output_type": "stream",
     "text": [
      "Index([u'Intercept', u'C(JOB_INFO_EDUCATION)[T.Associate's]',\n",
      "       u'C(JOB_INFO_EDUCATION)[T.Bachelor's]',\n",
      "       u'C(JOB_INFO_EDUCATION)[T.Doctorate]',\n",
      "       u'C(JOB_INFO_EDUCATION)[T.High School]',\n",
      "       u'C(JOB_INFO_EDUCATION)[T.Master's]', u'C(JOB_INFO_EDUCATION)[T.None]',\n",
      "       u'C(JOB_INFO_EDUCATION)[T.Other]',\n",
      "       u'C(COUNTRY_OF_CITIZENSHIP)[T.AFGHANISTAN]',\n",
      "       u'C(COUNTRY_OF_CITIZENSHIP)[T.ALBANIA]',\n",
      "       ...\n",
      "       u'job_info_job_req_normal', u'job_info_foreign_lang_req',\n",
      "       u'job_info_combo_occupation', u'ji_foreign_worker_live_on_premises',\n",
      "       u'ji_live_in_domestic_service', u'recr_info_professional_occ',\n",
      "       u'recr_info_coll_univ_teacher', u'ri_posted_notice_at_worksite',\n",
      "       u'ri_layoff_in_past_six_months', u'preparer_info_emp_completed'],\n",
      "      dtype='object', length=267)\n"
     ]
    }
   ],
   "source": [
    "# prep dataframes for sklearn logit\n",
    "y, X = dmatrices(f, dflogit, NA_action='raise', return_type=\"dataframe\")\n",
    "print X.columns"
   ]
  },
  {
   "cell_type": "code",
   "execution_count": 133,
   "metadata": {
    "collapsed": false
   },
   "outputs": [
    {
     "data": {
      "text/plain": [
       "84634"
      ]
     },
     "execution_count": 133,
     "metadata": {},
     "output_type": "execute_result"
    }
   ],
   "source": [
    "len(y)"
   ]
  },
  {
   "cell_type": "code",
   "execution_count": 134,
   "metadata": {
    "collapsed": true
   },
   "outputs": [],
   "source": [
    "# flattening y into a 1-D array\n",
    "y = np.ravel(y)"
   ]
  },
  {
   "cell_type": "markdown",
   "metadata": {},
   "source": [
    "## Logistic Regression"
   ]
  },
  {
   "cell_type": "code",
   "execution_count": 135,
   "metadata": {
    "collapsed": false
   },
   "outputs": [],
   "source": [
    "# creating a logistic regression model, and fit with X and y\n",
    "model = LogisticRegression()\n",
    "model = model.fit(X, y)"
   ]
  },
  {
   "cell_type": "code",
   "execution_count": 136,
   "metadata": {
    "collapsed": false
   },
   "outputs": [
    {
     "data": {
      "text/plain": [
       "0.93269844270624103"
      ]
     },
     "execution_count": 136,
     "metadata": {},
     "output_type": "execute_result"
    }
   ],
   "source": [
    "# checking the accuracy on the training set\n",
    "model.score(X, y)"
   ]
  },
  {
   "cell_type": "code",
   "execution_count": 137,
   "metadata": {
    "collapsed": false
   },
   "outputs": [
    {
     "data": {
      "text/plain": [
       "0.067301557293759015"
      ]
     },
     "execution_count": 137,
     "metadata": {},
     "output_type": "execute_result"
    }
   ],
   "source": [
    "y.mean()"
   ]
  },
  {
   "cell_type": "markdown",
   "metadata": {},
   "source": [
    "At first glance, the model is doing only slightly better than the null (accepting every application)."
   ]
  },
  {
   "cell_type": "code",
   "execution_count": 143,
   "metadata": {
    "collapsed": false,
    "scrolled": true
   },
   "outputs": [
    {
     "name": "stdout",
     "output_type": "stream",
     "text": [
      "                                  0                     1\n",
      "246                  pw_amount_9089  [-3.49464358033e-05]\n",
      "244          employer_num_employees  [-2.46064862525e-08]\n",
      "250  job_info_experience_num_months  [-1.02904351759e-08]\n",
      "256     job_info_alt_occ_num_months  [-8.41094845065e-09]\n",
      "253     job_info_alt_cmb_ed_oth_yrs  [-1.06084219259e-09]\n",
      "264    ri_posted_notice_at_worksite   [-9.1421363532e-10]\n",
      "0                         Intercept  [-8.96842828195e-10]\n",
      "248    job_info_training_num_months   [-8.2397483622e-10]\n",
      "254             job_info_foreign_ed  [-7.62282397509e-10]\n",
      "262      recr_info_professional_occ  [-6.83149412343e-10]\n",
      "                                            0                    1\n",
      "247                         job_info_training  [7.35041715341e-12]\n",
      "1        C(JOB_INFO_EDUCATION)[T.Associate's]   [7.5035452613e-12]\n",
      "243                                    refile  [8.31686714442e-12]\n",
      "133  C(COUNTRY_OF_CITIZENSHIP)[T.PHILIPPINES]  [8.49284632566e-12]\n",
      "260        ji_foreign_worker_live_on_premises  [1.11609523413e-11]\n",
      "198              C(CLASS_OF_ADMISSION)[T.EWI]  [1.15331699893e-11]\n",
      "245         foreign_worker_ownership_interest  [1.23083698156e-11]\n",
      "259                 job_info_combo_occupation  [1.37038886986e-11]\n",
      "4        C(JOB_INFO_EDUCATION)[T.High School]  [1.60228611857e-11]\n",
      "113       C(COUNTRY_OF_CITIZENSHIP)[T.MEXICO]  [2.65562646487e-11]\n"
     ]
    }
   ],
   "source": [
    "# examining the coefficients\n",
    "logit_coef = pd.DataFrame(zip(X.columns, np.transpose(model.coef_))).sort_values(by=1)\n",
    "print logit_coef.head(10)\n",
    "print logit_coef.tail(10)"
   ]
  },
  {
   "cell_type": "markdown",
   "metadata": {},
   "source": [
    "According to the model, the strongest factor leading to application rejection is whether an applicant has Mexican citizenship. Appicants from the Philippines, Poland, and South America are also rejected at relatively high rates. Education requirements also matter: positions requiring only High School or an Associates Degree have more risk of rejection. Interestingly, foreign workers with an ownership stake in the hiring company may be at a disadvantage. Perhaps this is intended to encourage moneyed immigrants to simply apply for an investor visa (EB-5 and E-2). Some markers for rejection seem to point to a possibility for exploitation, with jobs requiring the worker to live on-site and live-in domestic workers facing heightened scrutiny. \n",
    "\n",
    "By far the strongest factor strengthening an application is the pay of the employee. Simply put, better pay means a higher chance of acceptance. The second strongest factor is the size of the hiring company, with larger companies having a higher acceptance rate. Additional factors that strengthen an application are education, and experience. Jobs requiring at least a Bachelor's and a number of years of experience will have the highest acceptance rates. Not surprisingly, following all regulations, such as displaying a notice of filing at the workplace, reduces the risk of rejection. Candidates from India and South Korea have the best chances at acceptance."
   ]
  },
  {
   "cell_type": "markdown",
   "metadata": {},
   "source": [
    "### Evaluating the Model"
   ]
  },
  {
   "cell_type": "code",
   "execution_count": 726,
   "metadata": {
    "collapsed": false
   },
   "outputs": [
    {
     "data": {
      "text/plain": [
       "LogisticRegression(C=1.0, class_weight=None, dual=False, fit_intercept=True,\n",
       "          intercept_scaling=1, penalty='l2', random_state=None, tol=0.0001)"
      ]
     },
     "execution_count": 726,
     "metadata": {},
     "output_type": "execute_result"
    }
   ],
   "source": [
    "# evaluating the model by splitting into train and test sets\n",
    "X_train, X_test, y_train, y_test = train_test_split(X, y, test_size=.1, random_state=0)\n",
    "model2 = LogisticRegression()\n",
    "model2.fit(X_train, y_train)"
   ]
  },
  {
   "cell_type": "code",
   "execution_count": 737,
   "metadata": {
    "collapsed": false
   },
   "outputs": [
    {
     "data": {
      "text/plain": [
       "array([ 0.,  0.,  0., ...,  0.,  0.,  0.])"
      ]
     },
     "execution_count": 737,
     "metadata": {},
     "output_type": "execute_result"
    }
   ],
   "source": [
    "# predicting class labels for the test set\n",
    "predicted = model2.predict(X_test)\n",
    "predicted"
   ]
  },
  {
   "cell_type": "markdown",
   "metadata": {},
   "source": [
    "The default decision point for logistic regression is .5, but since application rejection is so rare, this does not identify many weak applications (too many type 2 errors). Lowering the threshold for classification will scoop up more rejected applications."
   ]
  },
  {
   "cell_type": "code",
   "execution_count": 728,
   "metadata": {
    "collapsed": false,
    "scrolled": true
   },
   "outputs": [],
   "source": [
    "# generating class probabilities, the adjusting the decision cutoff\n",
    "probs = model2.predict_proba(X_test)\n",
    "count = []\n",
    "for prob in probs:\n",
    "    if prob[1] > .09:\n",
    "        count.append(1)\n",
    "    else:\n",
    "        count.append(0)\n",
    "predict2 = np.array(count)"
   ]
  },
  {
   "cell_type": "code",
   "execution_count": 729,
   "metadata": {
    "collapsed": false
   },
   "outputs": [
    {
     "name": "stdout",
     "output_type": "stream",
     "text": [
      "0.745392249527\n",
      "0.680778922601\n"
     ]
    }
   ],
   "source": [
    "# generating evaluation metrics\n",
    "print metrics.accuracy_score(y_test, predict2)\n",
    "print metrics.roc_auc_score(y_test, probs[:, 1])"
   ]
  },
  {
   "cell_type": "code",
   "execution_count": 730,
   "metadata": {
    "collapsed": false
   },
   "outputs": [
    {
     "name": "stdout",
     "output_type": "stream",
     "text": [
      "[[6031 1887]\n",
      " [ 268  278]]\n",
      "             precision    recall  f1-score   support\n",
      "\n",
      "        0.0       0.96      0.76      0.85      7918\n",
      "        1.0       0.13      0.51      0.21       546\n",
      "\n",
      "avg / total       0.90      0.75      0.81      8464\n",
      "\n"
     ]
    }
   ],
   "source": [
    "print metrics.confusion_matrix(y_test, predict2)\n",
    "print metrics.classification_report(y_test, predict2)"
   ]
  },
  {
   "cell_type": "markdown",
   "metadata": {},
   "source": [
    "While the model does have a lot of false-positives, these are not very costly. The result will simply be flagging an application as a possible rejection, leading to a strengthening of a possible weak application. The model identified over half of all rejections, and flagged less than a quarter of accepted applications as weak. This means that the model *is* usefull in that applications classified as weak are rejected at double the base-rate."
   ]
  },
  {
   "cell_type": "code",
   "execution_count": 731,
   "metadata": {
    "collapsed": false
   },
   "outputs": [
    {
     "name": "stdout",
     "output_type": "stream",
     "text": [
      "[ 0.93265595  0.93206522  0.93241966  0.93265595  0.93230151  0.92922968\n",
      "  0.93146638  0.92863051  0.93382179  0.93275821]\n",
      "0.93180048744\n"
     ]
    }
   ],
   "source": [
    "# evaluating the model using 10-fold cross-validation\n",
    "scores = cross_val_score(LogisticRegression(), X, y, scoring='accuracy', cv=10)\n",
    "print scores\n",
    "print scores.mean()"
   ]
  },
  {
   "cell_type": "markdown",
   "metadata": {},
   "source": [
    "Cross validation shows that the model generalizes reasonably well over different data samples."
   ]
  },
  {
   "cell_type": "markdown",
   "metadata": {},
   "source": [
    "## Decision Tree"
   ]
  },
  {
   "cell_type": "code",
   "execution_count": 718,
   "metadata": {
    "collapsed": true
   },
   "outputs": [],
   "source": [
    "# creating and fitting a decision tree to the data\n",
    "tmodel = DecisionTreeClassifier()\n",
    "tmodel = tmodel.fit(X, y)"
   ]
  },
  {
   "cell_type": "code",
   "execution_count": 719,
   "metadata": {
    "collapsed": false
   },
   "outputs": [
    {
     "data": {
      "text/plain": [
       "0.99451756977101402"
      ]
     },
     "execution_count": 719,
     "metadata": {},
     "output_type": "execute_result"
    }
   ],
   "source": [
    "# checking the accuracy on the training set\n",
    "tmodel.score(X, y)"
   ]
  },
  {
   "cell_type": "markdown",
   "metadata": {},
   "source": [
    "The tree is quite a bit more accurate than the logistic regression."
   ]
  },
  {
   "cell_type": "code",
   "execution_count": 738,
   "metadata": {
    "collapsed": false
   },
   "outputs": [
    {
     "data": {
      "text/plain": [
       "0.067301557293759015"
      ]
     },
     "execution_count": 738,
     "metadata": {},
     "output_type": "execute_result"
    }
   ],
   "source": [
    "y.mean()"
   ]
  },
  {
   "cell_type": "code",
   "execution_count": 678,
   "metadata": {
    "collapsed": false,
    "scrolled": true
   },
   "outputs": [
    {
     "data": {
      "text/html": [
       "<div>\n",
       "<table border=\"1\" class=\"dataframe\">\n",
       "  <thead>\n",
       "    <tr style=\"text-align: right;\">\n",
       "      <th></th>\n",
       "      <th>0</th>\n",
       "      <th>1</th>\n",
       "    </tr>\n",
       "  </thead>\n",
       "  <tbody>\n",
       "    <tr>\n",
       "      <th>252</th>\n",
       "      <td>job_info_alt_combo_ed_exp</td>\n",
       "      <td>0.007552</td>\n",
       "    </tr>\n",
       "    <tr>\n",
       "      <th>199</th>\n",
       "      <td>C(CLASS_OF_ADMISSION)[T.F-1]</td>\n",
       "      <td>0.007619</td>\n",
       "    </tr>\n",
       "    <tr>\n",
       "      <th>154</th>\n",
       "      <td>C(COUNTRY_OF_CITIZENSHIP)[T.SOUTH KOREA]</td>\n",
       "      <td>0.007816</td>\n",
       "    </tr>\n",
       "    <tr>\n",
       "      <th>254</th>\n",
       "      <td>job_info_foreign_ed</td>\n",
       "      <td>0.008036</td>\n",
       "    </tr>\n",
       "    <tr>\n",
       "      <th>7</th>\n",
       "      <td>C(JOB_INFO_EDUCATION)[T.Other]</td>\n",
       "      <td>0.008901</td>\n",
       "    </tr>\n",
       "    <tr>\n",
       "      <th>2</th>\n",
       "      <td>C(JOB_INFO_EDUCATION)[T.Bachelor's]</td>\n",
       "      <td>0.008999</td>\n",
       "    </tr>\n",
       "    <tr>\n",
       "      <th>240</th>\n",
       "      <td>C(FOREIGN_WORKER_INFO_EDUCATION)[T.Master's]</td>\n",
       "      <td>0.009388</td>\n",
       "    </tr>\n",
       "    <tr>\n",
       "      <th>262</th>\n",
       "      <td>recr_info_professional_occ</td>\n",
       "      <td>0.009671</td>\n",
       "    </tr>\n",
       "    <tr>\n",
       "      <th>264</th>\n",
       "      <td>ri_posted_notice_at_worksite</td>\n",
       "      <td>0.010291</td>\n",
       "    </tr>\n",
       "    <tr>\n",
       "      <th>79</th>\n",
       "      <td>C(COUNTRY_OF_CITIZENSHIP)[T.INDIA]</td>\n",
       "      <td>0.010528</td>\n",
       "    </tr>\n",
       "    <tr>\n",
       "      <th>205</th>\n",
       "      <td>C(CLASS_OF_ADMISSION)[T.H-1B]</td>\n",
       "      <td>0.010565</td>\n",
       "    </tr>\n",
       "    <tr>\n",
       "      <th>266</th>\n",
       "      <td>preparer_info_emp_completed</td>\n",
       "      <td>0.011220</td>\n",
       "    </tr>\n",
       "    <tr>\n",
       "      <th>257</th>\n",
       "      <td>job_info_job_req_normal</td>\n",
       "      <td>0.011545</td>\n",
       "    </tr>\n",
       "    <tr>\n",
       "      <th>237</th>\n",
       "      <td>C(FOREIGN_WORKER_INFO_EDUCATION)[T.Bachelor's]</td>\n",
       "      <td>0.012446</td>\n",
       "    </tr>\n",
       "    <tr>\n",
       "      <th>253</th>\n",
       "      <td>job_info_alt_cmb_ed_oth_yrs</td>\n",
       "      <td>0.014582</td>\n",
       "    </tr>\n",
       "    <tr>\n",
       "      <th>251</th>\n",
       "      <td>job_info_alt_field</td>\n",
       "      <td>0.015054</td>\n",
       "    </tr>\n",
       "    <tr>\n",
       "      <th>250</th>\n",
       "      <td>job_info_experience_num_months</td>\n",
       "      <td>0.021092</td>\n",
       "    </tr>\n",
       "    <tr>\n",
       "      <th>256</th>\n",
       "      <td>job_info_alt_occ_num_months</td>\n",
       "      <td>0.023603</td>\n",
       "    </tr>\n",
       "    <tr>\n",
       "      <th>244</th>\n",
       "      <td>employer_num_employees</td>\n",
       "      <td>0.260797</td>\n",
       "    </tr>\n",
       "    <tr>\n",
       "      <th>246</th>\n",
       "      <td>pw_amount_9089</td>\n",
       "      <td>0.333920</td>\n",
       "    </tr>\n",
       "  </tbody>\n",
       "</table>\n",
       "</div>"
      ],
      "text/plain": [
       "                                                  0         1\n",
       "252                       job_info_alt_combo_ed_exp  0.007552\n",
       "199                    C(CLASS_OF_ADMISSION)[T.F-1]  0.007619\n",
       "154        C(COUNTRY_OF_CITIZENSHIP)[T.SOUTH KOREA]  0.007816\n",
       "254                             job_info_foreign_ed  0.008036\n",
       "7                    C(JOB_INFO_EDUCATION)[T.Other]  0.008901\n",
       "2               C(JOB_INFO_EDUCATION)[T.Bachelor's]  0.008999\n",
       "240    C(FOREIGN_WORKER_INFO_EDUCATION)[T.Master's]  0.009388\n",
       "262                      recr_info_professional_occ  0.009671\n",
       "264                    ri_posted_notice_at_worksite  0.010291\n",
       "79               C(COUNTRY_OF_CITIZENSHIP)[T.INDIA]  0.010528\n",
       "205                   C(CLASS_OF_ADMISSION)[T.H-1B]  0.010565\n",
       "266                     preparer_info_emp_completed  0.011220\n",
       "257                         job_info_job_req_normal  0.011545\n",
       "237  C(FOREIGN_WORKER_INFO_EDUCATION)[T.Bachelor's]  0.012446\n",
       "253                     job_info_alt_cmb_ed_oth_yrs  0.014582\n",
       "251                              job_info_alt_field  0.015054\n",
       "250                  job_info_experience_num_months  0.021092\n",
       "256                     job_info_alt_occ_num_months  0.023603\n",
       "244                          employer_num_employees  0.260797\n",
       "246                                  pw_amount_9089  0.333920"
      ]
     },
     "execution_count": 678,
     "metadata": {},
     "output_type": "execute_result"
    }
   ],
   "source": [
    "# examining the feature importances\n",
    "pd.DataFrame(zip(X.columns, np.transpose(tmodel.feature_importances_ ))).sort_values(1).tail(20)"
   ]
  },
  {
   "cell_type": "markdown",
   "metadata": {},
   "source": [
    "The feature importance table largely corroborrates the conclusions from the logistic regression model. Strengthening factors have far more influence on acceptance than weakening factors, which makes sense, given the low rate or rejection. One new insight from the tree model is that having the employer complete the application is a significant factor. This, along with the importance of the size of the company, leads me to the narrative that large companies can dedicate significant resources, perhaps even dedicated employees, to ensuring that applications are well prepared."
   ]
  },
  {
   "cell_type": "markdown",
   "metadata": {},
   "source": [
    "### Evaluating the Model"
   ]
  },
  {
   "cell_type": "code",
   "execution_count": 732,
   "metadata": {
    "collapsed": false
   },
   "outputs": [
    {
     "data": {
      "text/plain": [
       "DecisionTreeClassifier(compute_importances=None, criterion='gini',\n",
       "            max_depth=None, max_features=None, max_leaf_nodes=None,\n",
       "            min_density=None, min_samples_leaf=1, min_samples_split=2,\n",
       "            random_state=None, splitter='best')"
      ]
     },
     "execution_count": 732,
     "metadata": {},
     "output_type": "execute_result"
    }
   ],
   "source": [
    "# evaluating the tree with train and test sets\n",
    "tmodel2 = DecisionTreeClassifier()\n",
    "tmodel2.fit(X_train, y_train)"
   ]
  },
  {
   "cell_type": "code",
   "execution_count": 740,
   "metadata": {
    "collapsed": false
   },
   "outputs": [
    {
     "data": {
      "text/plain": [
       "array([ 0.,  0.,  0., ...,  0.,  0.,  0.])"
      ]
     },
     "execution_count": 740,
     "metadata": {},
     "output_type": "execute_result"
    }
   ],
   "source": [
    "# predicting class labels for the test set\n",
    "tpredicted = tmodel2.predict(X_test)\n",
    "tpredicted"
   ]
  },
  {
   "cell_type": "code",
   "execution_count": 810,
   "metadata": {
    "collapsed": false
   },
   "outputs": [],
   "source": [
    "# Adjusting decision cutoff to balance type I and type II errors\n",
    "tprobs = tmodel2.predict_proba(X_test)\n",
    "tcount = []\n",
    "for prob in tprobs:\n",
    "    if prob[1] > .3:\n",
    "        tcount.append(1)\n",
    "    else:\n",
    "        tcount.append(0)\n",
    "tpredict2 = np.array(tcount)"
   ]
  },
  {
   "cell_type": "code",
   "execution_count": 811,
   "metadata": {
    "collapsed": false
   },
   "outputs": [
    {
     "name": "stdout",
     "output_type": "stream",
     "text": [
      "0.92084120983\n",
      "0.691495452009\n"
     ]
    }
   ],
   "source": [
    "# generating evaluation metrics\n",
    "print metrics.accuracy_score(y_test, tpredict2)\n",
    "print metrics.roc_auc_score(y_test, tprobs[:, 1])"
   ]
  },
  {
   "cell_type": "code",
   "execution_count": 812,
   "metadata": {
    "collapsed": false
   },
   "outputs": [
    {
     "name": "stdout",
     "output_type": "stream",
     "text": [
      "[[7556  362]\n",
      " [ 308  238]]\n",
      "             precision    recall  f1-score   support\n",
      "\n",
      "        0.0       0.96      0.95      0.96      7918\n",
      "        1.0       0.40      0.44      0.42       546\n",
      "\n",
      "avg / total       0.92      0.92      0.92      8464\n",
      "\n"
     ]
    }
   ],
   "source": [
    "print metrics.confusion_matrix(y_test, tpredict2)\n",
    "print metrics.classification_report(y_test, tpredict2)"
   ]
  },
  {
   "cell_type": "markdown",
   "metadata": {},
   "source": [
    "The results show that the decision tree does not identify as many of the rejected applications as the logit model, it does produce significantly fewer false positive (type 1) errors. Running an application through both models will give a better idea of the risk. Applications flagged by logit but not decision tree have a higher chance of being false positives, and may not be especially weak. Applications flagged by the tree but logit may also be false positives, but should be regarded with more suspicion than those only flagged by logit, due to the lower rate of type 1 errors in the tree model. Applications classified as weak by both models are at an especially high risk of rejection."
   ]
  },
  {
   "cell_type": "code",
   "execution_count": 815,
   "metadata": {
    "collapsed": false
   },
   "outputs": [
    {
     "name": "stdout",
     "output_type": "stream",
     "text": [
      "[ 0.8725189   0.9028828   0.90500945  0.90430057  0.92698488  0.91989603\n",
      "  0.91728701  0.92721257  0.92212243  0.91656819]\n",
      "0.911478283091\n"
     ]
    }
   ],
   "source": [
    "# evaluating the model using 10-fold cross-validation\n",
    "scores = cross_val_score(DecisionTreeClassifier(), X, y, scoring='accuracy', cv=10)\n",
    "print scores\n",
    "print scores.mean()"
   ]
  },
  {
   "cell_type": "markdown",
   "metadata": {},
   "source": [
    "## Model Comparison"
   ]
  },
  {
   "cell_type": "code",
   "execution_count": 816,
   "metadata": {
    "collapsed": false
   },
   "outputs": [
    {
     "data": {
      "text/plain": [
       "array([[6000,  299],\n",
       "       [1864,  301]])"
      ]
     },
     "execution_count": 816,
     "metadata": {},
     "output_type": "execute_result"
    }
   ],
   "source": [
    "metrics.confusion_matrix(predict2, tpredict2)"
   ]
  },
  {
   "cell_type": "markdown",
   "metadata": {},
   "source": [
    "The models agree in about 75% of cases, with the logit model predicting a significantly higher number of weak applications."
   ]
  },
  {
   "cell_type": "markdown",
   "metadata": {},
   "source": [
    "# H-1B Visas"
   ]
  },
  {
   "cell_type": "code",
   "execution_count": 683,
   "metadata": {
    "collapsed": true
   },
   "outputs": [],
   "source": [
    "hdf = dflogit[dflogit.CLASS_OF_ADMISSION == 'H-1B']"
   ]
  },
  {
   "cell_type": "code",
   "execution_count": 687,
   "metadata": {
    "collapsed": false
   },
   "outputs": [
    {
     "data": {
      "text/plain": [
       "Index([u'Intercept', u'C(JOB_INFO_EDUCATION)[T.Bachelor's]',\n",
       "       u'C(JOB_INFO_EDUCATION)[T.Doctorate]',\n",
       "       u'C(JOB_INFO_EDUCATION)[T.High School]',\n",
       "       u'C(JOB_INFO_EDUCATION)[T.Master's]', u'C(JOB_INFO_EDUCATION)[T.None]',\n",
       "       u'C(JOB_INFO_EDUCATION)[T.Other]',\n",
       "       u'C(COUNTRY_OF_CITIZENSHIP)[T.AFGHANISTAN]',\n",
       "       u'C(COUNTRY_OF_CITIZENSHIP)[T.ALBANIA]',\n",
       "       u'C(COUNTRY_OF_CITIZENSHIP)[T.ALGERIA]',\n",
       "       ...\n",
       "       u'job_info_job_req_normal', u'job_info_foreign_lang_req',\n",
       "       u'job_info_combo_occupation', u'ji_foreign_worker_live_on_premises',\n",
       "       u'ji_live_in_domestic_service', u'recr_info_professional_occ',\n",
       "       u'recr_info_coll_univ_teacher', u'ri_posted_notice_at_worksite',\n",
       "       u'ri_layoff_in_past_six_months', u'preparer_info_emp_completed'],\n",
       "      dtype='object', length=209)"
      ]
     },
     "execution_count": 687,
     "metadata": {},
     "output_type": "execute_result"
    }
   ],
   "source": [
    "# prep dataframes for sklearn logit\n",
    "hy, hX = dmatrices(f, hdf, NA_action='raise', return_type=\"dataframe\")\n",
    "hX.columns"
   ]
  },
  {
   "cell_type": "code",
   "execution_count": 690,
   "metadata": {
    "collapsed": false
   },
   "outputs": [],
   "source": [
    "# flattening hy into a 1-D array\n",
    "hy = np.ravel(hy)"
   ]
  },
  {
   "cell_type": "code",
   "execution_count": 692,
   "metadata": {
    "collapsed": true
   },
   "outputs": [],
   "source": [
    "# creating a logistic regression model, and fit with hX and hy\n",
    "hmodel = LogisticRegression()\n",
    "hmodel = hmodel.fit(hX, hy)"
   ]
  },
  {
   "cell_type": "code",
   "execution_count": 695,
   "metadata": {
    "collapsed": false
   },
   "outputs": [
    {
     "data": {
      "text/plain": [
       "0.95153640562962505"
      ]
     },
     "execution_count": 695,
     "metadata": {},
     "output_type": "execute_result"
    }
   ],
   "source": [
    "# checking the accuracy on the training set\n",
    "hmodel.score(hX, hy)"
   ]
  },
  {
   "cell_type": "code",
   "execution_count": 696,
   "metadata": {
    "collapsed": false
   },
   "outputs": [
    {
     "data": {
      "text/plain": [
       "0.048000123592207511"
      ]
     },
     "execution_count": 696,
     "metadata": {},
     "output_type": "execute_result"
    }
   ],
   "source": [
    "hy.mean()"
   ]
  },
  {
   "cell_type": "code",
   "execution_count": 697,
   "metadata": {
    "collapsed": true
   },
   "outputs": [
    {
     "data": {
      "text/html": [
       "<div>\n",
       "<table border=\"1\" class=\"dataframe\">\n",
       "  <thead>\n",
       "    <tr style=\"text-align: right;\">\n",
       "      <th></th>\n",
       "      <th>0</th>\n",
       "      <th>1</th>\n",
       "    </tr>\n",
       "  </thead>\n",
       "  <tbody>\n",
       "    <tr>\n",
       "      <th>192</th>\n",
       "      <td>job_info_experience_num_months</td>\n",
       "      <td>[-0.00499028835077]</td>\n",
       "    </tr>\n",
       "    <tr>\n",
       "      <th>190</th>\n",
       "      <td>job_info_training_num_months</td>\n",
       "      <td>[-0.0031027054786]</td>\n",
       "    </tr>\n",
       "    <tr>\n",
       "      <th>195</th>\n",
       "      <td>job_info_alt_cmb_ed_oth_yrs</td>\n",
       "      <td>[-0.00126795991454]</td>\n",
       "    </tr>\n",
       "    <tr>\n",
       "      <th>196</th>\n",
       "      <td>job_info_foreign_ed</td>\n",
       "      <td>[-0.000863969311314]</td>\n",
       "    </tr>\n",
       "    <tr>\n",
       "      <th>0</th>\n",
       "      <td>Intercept</td>\n",
       "      <td>[-0.000836867036345]</td>\n",
       "    </tr>\n",
       "    <tr>\n",
       "      <th>206</th>\n",
       "      <td>ri_posted_notice_at_worksite</td>\n",
       "      <td>[-0.000794645661158]</td>\n",
       "    </tr>\n",
       "    <tr>\n",
       "      <th>191</th>\n",
       "      <td>job_info_experience</td>\n",
       "      <td>[-0.000698548603988]</td>\n",
       "    </tr>\n",
       "    <tr>\n",
       "      <th>204</th>\n",
       "      <td>recr_info_professional_occ</td>\n",
       "      <td>[-0.000631678812752]</td>\n",
       "    </tr>\n",
       "    <tr>\n",
       "      <th>199</th>\n",
       "      <td>job_info_job_req_normal</td>\n",
       "      <td>[-0.000561541567973]</td>\n",
       "    </tr>\n",
       "    <tr>\n",
       "      <th>197</th>\n",
       "      <td>job_info_alt_occ</td>\n",
       "      <td>[-0.000421074696638]</td>\n",
       "    </tr>\n",
       "    <tr>\n",
       "      <th>208</th>\n",
       "      <td>preparer_info_emp_completed</td>\n",
       "      <td>[-0.000390400153568]</td>\n",
       "    </tr>\n",
       "    <tr>\n",
       "      <th>74</th>\n",
       "      <td>C(COUNTRY_OF_CITIZENSHIP)[T.INDIA]</td>\n",
       "      <td>[-0.00038219605675]</td>\n",
       "    </tr>\n",
       "    <tr>\n",
       "      <th>194</th>\n",
       "      <td>job_info_alt_combo_ed_exp</td>\n",
       "      <td>[-0.000336194901338]</td>\n",
       "    </tr>\n",
       "    <tr>\n",
       "      <th>193</th>\n",
       "      <td>job_info_alt_field</td>\n",
       "      <td>[-0.000324970681453]</td>\n",
       "    </tr>\n",
       "    <tr>\n",
       "      <th>4</th>\n",
       "      <td>C(JOB_INFO_EDUCATION)[T.Master's]</td>\n",
       "      <td>[-0.000285345444026]</td>\n",
       "    </tr>\n",
       "    <tr>\n",
       "      <th>1</th>\n",
       "      <td>C(JOB_INFO_EDUCATION)[T.Bachelor's]</td>\n",
       "      <td>[-0.000282588349143]</td>\n",
       "    </tr>\n",
       "    <tr>\n",
       "      <th>179</th>\n",
       "      <td>C(FOREIGN_WORKER_INFO_EDUCATION)[T.Bachelor's]</td>\n",
       "      <td>[-0.000278868888795]</td>\n",
       "    </tr>\n",
       "    <tr>\n",
       "      <th>180</th>\n",
       "      <td>C(FOREIGN_WORKER_INFO_EDUCATION)[T.Doctorate]</td>\n",
       "      <td>[-0.000264545736459]</td>\n",
       "    </tr>\n",
       "    <tr>\n",
       "      <th>205</th>\n",
       "      <td>recr_info_coll_univ_teacher</td>\n",
       "      <td>[-0.000254956674776]</td>\n",
       "    </tr>\n",
       "    <tr>\n",
       "      <th>182</th>\n",
       "      <td>C(FOREIGN_WORKER_INFO_EDUCATION)[T.Master's]</td>\n",
       "      <td>[-0.000246081776289]</td>\n",
       "    </tr>\n",
       "    <tr>\n",
       "      <th>2</th>\n",
       "      <td>C(JOB_INFO_EDUCATION)[T.Doctorate]</td>\n",
       "      <td>[-0.000232546758895]</td>\n",
       "    </tr>\n",
       "    <tr>\n",
       "      <th>38</th>\n",
       "      <td>C(COUNTRY_OF_CITIZENSHIP)[T.CHINA]</td>\n",
       "      <td>[-0.000150667031815]</td>\n",
       "    </tr>\n",
       "    <tr>\n",
       "      <th>6</th>\n",
       "      <td>C(JOB_INFO_EDUCATION)[T.Other]</td>\n",
       "      <td>[-0.000111108842524]</td>\n",
       "    </tr>\n",
       "    <tr>\n",
       "      <th>184</th>\n",
       "      <td>C(FOREIGN_WORKER_INFO_EDUCATION)[T.Other]</td>\n",
       "      <td>[-9.71216030026e-05]</td>\n",
       "    </tr>\n",
       "    <tr>\n",
       "      <th>145</th>\n",
       "      <td>C(COUNTRY_OF_CITIZENSHIP)[T.SOUTH KOREA]</td>\n",
       "      <td>[-8.63525262234e-05]</td>\n",
       "    </tr>\n",
       "    <tr>\n",
       "      <th>189</th>\n",
       "      <td>job_info_training</td>\n",
       "      <td>[-6.05242341864e-05]</td>\n",
       "    </tr>\n",
       "    <tr>\n",
       "      <th>188</th>\n",
       "      <td>pw_amount_9089</td>\n",
       "      <td>[-3.51038235757e-05]</td>\n",
       "    </tr>\n",
       "    <tr>\n",
       "      <th>36</th>\n",
       "      <td>C(COUNTRY_OF_CITIZENSHIP)[T.CANADA]</td>\n",
       "      <td>[-2.67562606489e-05]</td>\n",
       "    </tr>\n",
       "    <tr>\n",
       "      <th>164</th>\n",
       "      <td>C(COUNTRY_OF_CITIZENSHIP)[T.TURKEY]</td>\n",
       "      <td>[-2.53700787888e-05]</td>\n",
       "    </tr>\n",
       "    <tr>\n",
       "      <th>112</th>\n",
       "      <td>C(COUNTRY_OF_CITIZENSHIP)[T.NEPAL]</td>\n",
       "      <td>[-2.35245873692e-05]</td>\n",
       "    </tr>\n",
       "    <tr>\n",
       "      <th>...</th>\n",
       "      <td>...</td>\n",
       "      <td>...</td>\n",
       "    </tr>\n",
       "    <tr>\n",
       "      <th>151</th>\n",
       "      <td>C(COUNTRY_OF_CITIZENSHIP)[T.ST VINCENT]</td>\n",
       "      <td>[9.31431312487e-07]</td>\n",
       "    </tr>\n",
       "    <tr>\n",
       "      <th>159</th>\n",
       "      <td>C(COUNTRY_OF_CITIZENSHIP)[T.TANZANIA]</td>\n",
       "      <td>[9.71417136179e-07]</td>\n",
       "    </tr>\n",
       "    <tr>\n",
       "      <th>150</th>\n",
       "      <td>C(COUNTRY_OF_CITIZENSHIP)[T.ST LUCIA]</td>\n",
       "      <td>[1.03013608472e-06]</td>\n",
       "    </tr>\n",
       "    <tr>\n",
       "      <th>96</th>\n",
       "      <td>C(COUNTRY_OF_CITIZENSHIP)[T.LUXEMBOURG]</td>\n",
       "      <td>[1.13435496223e-06]</td>\n",
       "    </tr>\n",
       "    <tr>\n",
       "      <th>120</th>\n",
       "      <td>C(COUNTRY_OF_CITIZENSHIP)[T.PAKISTAN]</td>\n",
       "      <td>[1.16325231625e-06]</td>\n",
       "    </tr>\n",
       "    <tr>\n",
       "      <th>55</th>\n",
       "      <td>C(COUNTRY_OF_CITIZENSHIP)[T.ETHIOPIA]</td>\n",
       "      <td>[1.43668924628e-06]</td>\n",
       "    </tr>\n",
       "    <tr>\n",
       "      <th>3</th>\n",
       "      <td>C(JOB_INFO_EDUCATION)[T.High School]</td>\n",
       "      <td>[1.7360833528e-06]</td>\n",
       "    </tr>\n",
       "    <tr>\n",
       "      <th>27</th>\n",
       "      <td>C(COUNTRY_OF_CITIZENSHIP)[T.BOSNIA AND HERZEGO...</td>\n",
       "      <td>[1.83457067357e-06]</td>\n",
       "    </tr>\n",
       "    <tr>\n",
       "      <th>9</th>\n",
       "      <td>C(COUNTRY_OF_CITIZENSHIP)[T.ALGERIA]</td>\n",
       "      <td>[1.85040008848e-06]</td>\n",
       "    </tr>\n",
       "    <tr>\n",
       "      <th>138</th>\n",
       "      <td>C(COUNTRY_OF_CITIZENSHIP)[T.SERBIA AND MONTENE...</td>\n",
       "      <td>[1.96796208914e-06]</td>\n",
       "    </tr>\n",
       "    <tr>\n",
       "      <th>82</th>\n",
       "      <td>C(COUNTRY_OF_CITIZENSHIP)[T.JAMAICA]</td>\n",
       "      <td>[2.49741504272e-06]</td>\n",
       "    </tr>\n",
       "    <tr>\n",
       "      <th>107</th>\n",
       "      <td>C(COUNTRY_OF_CITIZENSHIP)[T.MOLDOVA]</td>\n",
       "      <td>[2.61919348697e-06]</td>\n",
       "    </tr>\n",
       "    <tr>\n",
       "      <th>144</th>\n",
       "      <td>C(COUNTRY_OF_CITIZENSHIP)[T.SOUTH AFRICA]</td>\n",
       "      <td>[2.70086494918e-06]</td>\n",
       "    </tr>\n",
       "    <tr>\n",
       "      <th>46</th>\n",
       "      <td>C(COUNTRY_OF_CITIZENSHIP)[T.DENMARK]</td>\n",
       "      <td>[2.94024032921e-06]</td>\n",
       "    </tr>\n",
       "    <tr>\n",
       "      <th>64</th>\n",
       "      <td>C(COUNTRY_OF_CITIZENSHIP)[T.GRENADA]</td>\n",
       "      <td>[3.10023253927e-06]</td>\n",
       "    </tr>\n",
       "    <tr>\n",
       "      <th>125</th>\n",
       "      <td>C(COUNTRY_OF_CITIZENSHIP)[T.PERU]</td>\n",
       "      <td>[3.30144738854e-06]</td>\n",
       "    </tr>\n",
       "    <tr>\n",
       "      <th>141</th>\n",
       "      <td>C(COUNTRY_OF_CITIZENSHIP)[T.SLOVAKIA]</td>\n",
       "      <td>[3.95876736336e-06]</td>\n",
       "    </tr>\n",
       "    <tr>\n",
       "      <th>202</th>\n",
       "      <td>ji_foreign_worker_live_on_premises</td>\n",
       "      <td>[4.83873343536e-06]</td>\n",
       "    </tr>\n",
       "    <tr>\n",
       "      <th>200</th>\n",
       "      <td>job_info_foreign_lang_req</td>\n",
       "      <td>[6.51110738243e-06]</td>\n",
       "    </tr>\n",
       "    <tr>\n",
       "      <th>11</th>\n",
       "      <td>C(COUNTRY_OF_CITIZENSHIP)[T.ARGENTINA]</td>\n",
       "      <td>[7.26390199427e-06]</td>\n",
       "    </tr>\n",
       "    <tr>\n",
       "      <th>173</th>\n",
       "      <td>C(COUNTRY_OF_CITIZENSHIP)[T.VENEZUELA]</td>\n",
       "      <td>[8.2246168368e-06]</td>\n",
       "    </tr>\n",
       "    <tr>\n",
       "      <th>185</th>\n",
       "      <td>refile</td>\n",
       "      <td>[9.37278266599e-06]</td>\n",
       "    </tr>\n",
       "    <tr>\n",
       "      <th>170</th>\n",
       "      <td>C(COUNTRY_OF_CITIZENSHIP)[T.UNITED STATES OF A...</td>\n",
       "      <td>[1.14992522136e-05]</td>\n",
       "    </tr>\n",
       "    <tr>\n",
       "      <th>181</th>\n",
       "      <td>C(FOREIGN_WORKER_INFO_EDUCATION)[T.High School]</td>\n",
       "      <td>[1.17439466802e-05]</td>\n",
       "    </tr>\n",
       "    <tr>\n",
       "      <th>187</th>\n",
       "      <td>foreign_worker_ownership_interest</td>\n",
       "      <td>[1.45743271453e-05]</td>\n",
       "    </tr>\n",
       "    <tr>\n",
       "      <th>183</th>\n",
       "      <td>C(FOREIGN_WORKER_INFO_EDUCATION)[T.None]</td>\n",
       "      <td>[2.27686248423e-05]</td>\n",
       "    </tr>\n",
       "    <tr>\n",
       "      <th>126</th>\n",
       "      <td>C(COUNTRY_OF_CITIZENSHIP)[T.PHILIPPINES]</td>\n",
       "      <td>[3.13166639954e-05]</td>\n",
       "    </tr>\n",
       "    <tr>\n",
       "      <th>106</th>\n",
       "      <td>C(COUNTRY_OF_CITIZENSHIP)[T.MEXICO]</td>\n",
       "      <td>[3.88434524211e-05]</td>\n",
       "    </tr>\n",
       "    <tr>\n",
       "      <th>5</th>\n",
       "      <td>C(JOB_INFO_EDUCATION)[T.None]</td>\n",
       "      <td>[5.27788063334e-05]</td>\n",
       "    </tr>\n",
       "    <tr>\n",
       "      <th>198</th>\n",
       "      <td>job_info_alt_occ_num_months</td>\n",
       "      <td>[0.00311185092426]</td>\n",
       "    </tr>\n",
       "  </tbody>\n",
       "</table>\n",
       "<p>209 rows × 2 columns</p>\n",
       "</div>"
      ],
      "text/plain": [
       "                                                     0                     1\n",
       "192                     job_info_experience_num_months   [-0.00499028835077]\n",
       "190                       job_info_training_num_months    [-0.0031027054786]\n",
       "195                        job_info_alt_cmb_ed_oth_yrs   [-0.00126795991454]\n",
       "196                                job_info_foreign_ed  [-0.000863969311314]\n",
       "0                                            Intercept  [-0.000836867036345]\n",
       "206                       ri_posted_notice_at_worksite  [-0.000794645661158]\n",
       "191                                job_info_experience  [-0.000698548603988]\n",
       "204                         recr_info_professional_occ  [-0.000631678812752]\n",
       "199                            job_info_job_req_normal  [-0.000561541567973]\n",
       "197                                   job_info_alt_occ  [-0.000421074696638]\n",
       "208                        preparer_info_emp_completed  [-0.000390400153568]\n",
       "74                  C(COUNTRY_OF_CITIZENSHIP)[T.INDIA]   [-0.00038219605675]\n",
       "194                          job_info_alt_combo_ed_exp  [-0.000336194901338]\n",
       "193                                 job_info_alt_field  [-0.000324970681453]\n",
       "4                    C(JOB_INFO_EDUCATION)[T.Master's]  [-0.000285345444026]\n",
       "1                  C(JOB_INFO_EDUCATION)[T.Bachelor's]  [-0.000282588349143]\n",
       "179     C(FOREIGN_WORKER_INFO_EDUCATION)[T.Bachelor's]  [-0.000278868888795]\n",
       "180      C(FOREIGN_WORKER_INFO_EDUCATION)[T.Doctorate]  [-0.000264545736459]\n",
       "205                        recr_info_coll_univ_teacher  [-0.000254956674776]\n",
       "182       C(FOREIGN_WORKER_INFO_EDUCATION)[T.Master's]  [-0.000246081776289]\n",
       "2                   C(JOB_INFO_EDUCATION)[T.Doctorate]  [-0.000232546758895]\n",
       "38                  C(COUNTRY_OF_CITIZENSHIP)[T.CHINA]  [-0.000150667031815]\n",
       "6                       C(JOB_INFO_EDUCATION)[T.Other]  [-0.000111108842524]\n",
       "184          C(FOREIGN_WORKER_INFO_EDUCATION)[T.Other]  [-9.71216030026e-05]\n",
       "145           C(COUNTRY_OF_CITIZENSHIP)[T.SOUTH KOREA]  [-8.63525262234e-05]\n",
       "189                                  job_info_training  [-6.05242341864e-05]\n",
       "188                                     pw_amount_9089  [-3.51038235757e-05]\n",
       "36                 C(COUNTRY_OF_CITIZENSHIP)[T.CANADA]  [-2.67562606489e-05]\n",
       "164                C(COUNTRY_OF_CITIZENSHIP)[T.TURKEY]  [-2.53700787888e-05]\n",
       "112                 C(COUNTRY_OF_CITIZENSHIP)[T.NEPAL]  [-2.35245873692e-05]\n",
       "..                                                 ...                   ...\n",
       "151            C(COUNTRY_OF_CITIZENSHIP)[T.ST VINCENT]   [9.31431312487e-07]\n",
       "159              C(COUNTRY_OF_CITIZENSHIP)[T.TANZANIA]   [9.71417136179e-07]\n",
       "150              C(COUNTRY_OF_CITIZENSHIP)[T.ST LUCIA]   [1.03013608472e-06]\n",
       "96             C(COUNTRY_OF_CITIZENSHIP)[T.LUXEMBOURG]   [1.13435496223e-06]\n",
       "120              C(COUNTRY_OF_CITIZENSHIP)[T.PAKISTAN]   [1.16325231625e-06]\n",
       "55               C(COUNTRY_OF_CITIZENSHIP)[T.ETHIOPIA]   [1.43668924628e-06]\n",
       "3                 C(JOB_INFO_EDUCATION)[T.High School]    [1.7360833528e-06]\n",
       "27   C(COUNTRY_OF_CITIZENSHIP)[T.BOSNIA AND HERZEGO...   [1.83457067357e-06]\n",
       "9                 C(COUNTRY_OF_CITIZENSHIP)[T.ALGERIA]   [1.85040008848e-06]\n",
       "138  C(COUNTRY_OF_CITIZENSHIP)[T.SERBIA AND MONTENE...   [1.96796208914e-06]\n",
       "82                C(COUNTRY_OF_CITIZENSHIP)[T.JAMAICA]   [2.49741504272e-06]\n",
       "107               C(COUNTRY_OF_CITIZENSHIP)[T.MOLDOVA]   [2.61919348697e-06]\n",
       "144          C(COUNTRY_OF_CITIZENSHIP)[T.SOUTH AFRICA]   [2.70086494918e-06]\n",
       "46                C(COUNTRY_OF_CITIZENSHIP)[T.DENMARK]   [2.94024032921e-06]\n",
       "64                C(COUNTRY_OF_CITIZENSHIP)[T.GRENADA]   [3.10023253927e-06]\n",
       "125                  C(COUNTRY_OF_CITIZENSHIP)[T.PERU]   [3.30144738854e-06]\n",
       "141              C(COUNTRY_OF_CITIZENSHIP)[T.SLOVAKIA]   [3.95876736336e-06]\n",
       "202                 ji_foreign_worker_live_on_premises   [4.83873343536e-06]\n",
       "200                          job_info_foreign_lang_req   [6.51110738243e-06]\n",
       "11              C(COUNTRY_OF_CITIZENSHIP)[T.ARGENTINA]   [7.26390199427e-06]\n",
       "173             C(COUNTRY_OF_CITIZENSHIP)[T.VENEZUELA]    [8.2246168368e-06]\n",
       "185                                             refile   [9.37278266599e-06]\n",
       "170  C(COUNTRY_OF_CITIZENSHIP)[T.UNITED STATES OF A...   [1.14992522136e-05]\n",
       "181    C(FOREIGN_WORKER_INFO_EDUCATION)[T.High School]   [1.17439466802e-05]\n",
       "187                  foreign_worker_ownership_interest   [1.45743271453e-05]\n",
       "183           C(FOREIGN_WORKER_INFO_EDUCATION)[T.None]   [2.27686248423e-05]\n",
       "126           C(COUNTRY_OF_CITIZENSHIP)[T.PHILIPPINES]   [3.13166639954e-05]\n",
       "106                C(COUNTRY_OF_CITIZENSHIP)[T.MEXICO]   [3.88434524211e-05]\n",
       "5                        C(JOB_INFO_EDUCATION)[T.None]   [5.27788063334e-05]\n",
       "198                        job_info_alt_occ_num_months    [0.00311185092426]\n",
       "\n",
       "[209 rows x 2 columns]"
      ]
     },
     "execution_count": 697,
     "metadata": {},
     "output_type": "execute_result"
    }
   ],
   "source": [
    "# examining the coefficients\n",
    "(pd.DataFrame(zip(hX.columns, np.transpose(hmodel.coef_))).sort_values(by=1))"
   ]
  },
  {
   "cell_type": "code",
   "execution_count": 698,
   "metadata": {
    "collapsed": false
   },
   "outputs": [
    {
     "data": {
      "text/plain": [
       "LogisticRegression(C=1.0, class_weight=None, dual=False, fit_intercept=True,\n",
       "          intercept_scaling=1, penalty='l2', random_state=None, tol=0.0001)"
      ]
     },
     "execution_count": 698,
     "metadata": {},
     "output_type": "execute_result"
    }
   ],
   "source": [
    "# evaluating the model by splitting into train and test sets\n",
    "hX_train, hX_test, hy_train, hy_test = train_test_split(hX, hy, test_size=.1, random_state=0)\n",
    "hmodel2 = LogisticRegression()\n",
    "hmodel2.fit(hX_train, hy_train)"
   ]
  },
  {
   "cell_type": "code",
   "execution_count": 699,
   "metadata": {
    "collapsed": false
   },
   "outputs": [
    {
     "data": {
      "text/plain": [
       "array([ 0.,  0.,  0., ...,  1.,  0.,  0.])"
      ]
     },
     "execution_count": 699,
     "metadata": {},
     "output_type": "execute_result"
    }
   ],
   "source": [
    "# predicting class labels for the test set\n",
    "hpredicted = hmodel2.predict(hX_test)\n",
    "hpredicted"
   ]
  },
  {
   "cell_type": "code",
   "execution_count": 709,
   "metadata": {
    "collapsed": true
   },
   "outputs": [],
   "source": [
    "# generating class probabilities, the adjusting the decision cutoff\n",
    "hprobs = hmodel2.predict_proba(hX_test)\n",
    "hcount = []\n",
    "for prob in hprobs:\n",
    "    if prob[1] > .05:\n",
    "        hcount.append(1)\n",
    "    else:\n",
    "        hcount.append(0)\n",
    "hpredict2 = np.array(hcount)"
   ]
  },
  {
   "cell_type": "code",
   "execution_count": 710,
   "metadata": {
    "collapsed": false
   },
   "outputs": [
    {
     "name": "stdout",
     "output_type": "stream",
     "text": [
      "0.575312837942\n",
      "0.609608244279\n"
     ]
    }
   ],
   "source": [
    "# generating evaluation metrics\n",
    "print metrics.accuracy_score(hy_test, hpredict2)\n",
    "print metrics.roc_auc_score(hy_test, hprobs[:, 1])"
   ]
  },
  {
   "cell_type": "code",
   "execution_count": 711,
   "metadata": {
    "collapsed": false
   },
   "outputs": [
    {
     "name": "stdout",
     "output_type": "stream",
     "text": [
      "[[3545 2606]\n",
      " [ 143  179]]\n",
      "             precision    recall  f1-score   support\n",
      "\n",
      "        0.0       0.96      0.58      0.72      6151\n",
      "        1.0       0.06      0.56      0.12       322\n",
      "\n",
      "avg / total       0.92      0.58      0.69      6473\n",
      "\n"
     ]
    }
   ],
   "source": [
    "print metrics.confusion_matrix(hy_test, hpredict2)\n",
    "print metrics.classification_report(hy_test, hpredict2)"
   ]
  },
  {
   "cell_type": "code",
   "execution_count": null,
   "metadata": {
    "collapsed": true
   },
   "outputs": [],
   "source": []
  },
  {
   "cell_type": "code",
   "execution_count": null,
   "metadata": {
    "collapsed": true
   },
   "outputs": [],
   "source": []
  },
  {
   "cell_type": "code",
   "execution_count": null,
   "metadata": {
    "collapsed": true
   },
   "outputs": [],
   "source": []
  }
 ],
 "metadata": {
  "kernelspec": {
   "display_name": "Python 2",
   "language": "python",
   "name": "python2"
  },
  "language_info": {
   "codemirror_mode": {
    "name": "ipython",
    "version": 2
   },
   "file_extension": ".py",
   "mimetype": "text/x-python",
   "name": "python",
   "nbconvert_exporter": "python",
   "pygments_lexer": "ipython2",
   "version": "2.7.10"
  }
 },
 "nbformat": 4,
 "nbformat_minor": 0
}

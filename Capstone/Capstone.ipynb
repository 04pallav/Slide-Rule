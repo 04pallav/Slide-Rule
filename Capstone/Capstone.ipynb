{
 "cells": [
  {
   "cell_type": "markdown",
   "metadata": {},
   "source": [
    "# Predicting Acceptance of US Visa Applications Using Machine Learning\n",
    "Capstone Project for SlideRule Intensive Data Science workshop.\n",
    "\n",
    "Charles Franzen"
   ]
  },
  {
   "cell_type": "markdown",
   "metadata": {},
   "source": [
    "## The Project\n",
    "\n",
    "Each year hundreds of thousands of applications are filed for work visas in the US. So many, in fact, that legistated caps on the number of H-1B applications have been reached every single year since 2007. In 2008, the quota was reached on the first day of open applications. In light of this, companies and potential employees that are lucky enough to get their application in via the lottery want to ensure that they have as high a chance as possible of having their application approved.\n",
    "\n",
    "My project is to investigate application data sets and create models that will predict the acceptance or rejection of a given application. This model could evaluate the strength of an application before it is submitted, and provide insights into how a weak application could be improved. The model will also elucidate the most important factors determining the fate of a visa application.\n",
    "\n",
    "## The Data\n",
    "\n",
    "I will be investigating data published by the US Dapartment of Labor. The data sets are comprised of quarterly application data and decisions for different types of visas. I will be focusing on two of these data sets: one that includes a mix of all visa types, and one that is comprised solely of H-1B visas.\n",
    "\n",
    "The data fields cover a wide range of information, including details about the country of origin of the applicant, location and type of the job, pay and educational requirements of the job, education of the applicant, and whether all regulatory hurdles have been cleared.\n",
    "\n",
    "H-1B visas are work visas that are only for 'specialty applications', and therefore can act as a bellweather for how much highly-educated talent the US is importing.\n",
    "\n",
    "## Methodology\n",
    "\n",
    "I will be treating this as a classification problem. The binary variable 'denied' will indicate whether an application was rejected.\n",
    "\n",
    "So far I have used logistic regression and decision tree classification to model the all-visa dataset. Next steps include refining the models, investigating similar models for the H-1B subset, and continuing with other machine learning techniques, including SVM.\n",
    "\n",
    "### Logistic Regression\n",
    "\n",
    "In order to implement logistic regression, I've had to format the data sets, converting string cell values into integers or floats, and creating dummy variables for categorical data.\n",
    "\n",
    "Scikit Learn does not provide a method for adjusting the threshold probability for classification, so this had to be adjusted manually.\n",
    "\n",
    "Using backdata from the Department of Labor, I will test my models and further refine them.\n",
    "\n",
    "### Decision Tree Classification\n",
    "\n",
    "Once the data is formatted for Logistic Regression, it is easy to fit it to a decision tree. Again, I would like to adjust the threshold at which test cases are marked as weak, but I haven't yet figured out how to do that.\n",
    "\n",
    "## Limitations\n",
    "\n",
    "Since the base rate of application rejection is so low (6.7% for all visa types), it may be difficult to suss out relevant variables. Thus far my models have tended to have a high number of false-negatives (type II errors).\n",
    "\n",
    "The models may also end up provinding unhelpful insights. For example, the model may identify country of citizenship as a crucial determiner. It won't be helpful to most applicants to tell them to change their citizenship."
   ]
  },
  {
   "cell_type": "markdown",
   "metadata": {},
   "source": [
    "## Import Modules"
   ]
  },
  {
   "cell_type": "code",
   "execution_count": 1,
   "metadata": {
    "collapsed": false
   },
   "outputs": [],
   "source": [
    "% matplotlib inline\n",
    "import matplotlib.pyplot as plt\n",
    "from matplotlib.gridspec import GridSpec\n",
    "import numpy as np\n",
    "import pandas as pd\n",
    "from patsy import dmatrices\n",
    "from sklearn.linear_model import LogisticRegression\n",
    "from sklearn.cross_validation import train_test_split,  cross_val_score\n",
    "from sklearn import metrics\n",
    "from sklearn.tree import DecisionTreeClassifier\n",
    "from sklearn.grid_search import GridSearchCV"
   ]
  },
  {
   "cell_type": "code",
   "execution_count": 2,
   "metadata": {
    "collapsed": false
   },
   "outputs": [],
   "source": [
    "# setting matplotlib style\n",
    "plt.style.use('fivethirtyeight')"
   ]
  },
  {
   "cell_type": "markdown",
   "metadata": {},
   "source": [
    "# All Visas"
   ]
  },
  {
   "cell_type": "markdown",
   "metadata": {},
   "source": [
    "## Data Loading and Initial Processing\n",
    "Withdrawn applications are removed from the data set, since there was no decision made."
   ]
  },
  {
   "cell_type": "code",
   "execution_count": 3,
   "metadata": {
    "collapsed": true
   },
   "outputs": [],
   "source": [
    "# loading data\n",
    "data = pd.read_excel('Data/PERM_Disclosure_Data_FY15_Q4.xlsx', 'DDFY2015_Final')\n",
    "\n",
    "# removing withdrawn applications\n",
    "data = data[data['CASE_STATUS'] != 'Withdrawn']\n",
    "\n",
    "# adding a binary series with 1 indicating that an application was denied\n",
    "data['denied'] = (data.CASE_STATUS == 'Denied').astype(int)"
   ]
  },
  {
   "cell_type": "markdown",
   "metadata": {},
   "source": [
    "## Descriptive Statistics\n",
    "\n",
    "To do:\n",
    "\n",
    "1. make pie charts for country of origin, education, case status, visa type\n",
    "2. make histograms for salary/wage, training, and experience requirements"
   ]
  },
  {
   "cell_type": "code",
   "execution_count": 4,
   "metadata": {
    "collapsed": false
   },
   "outputs": [
    {
     "data": {
      "text/plain": [
       "Certified            40176\n",
       "Certified-Expired    38762\n",
       "Denied                5696\n",
       "Name: CASE_STATUS, dtype: int64"
      ]
     },
     "execution_count": 4,
     "metadata": {},
     "output_type": "execute_result"
    }
   ],
   "source": [
    "status = data['CASE_STATUS'].value_counts()\n",
    "status"
   ]
  },
  {
   "cell_type": "code",
   "execution_count": 5,
   "metadata": {
    "collapsed": false
   },
   "outputs": [
    {
     "name": "stdout",
     "output_type": "stream",
     "text": [
      "Certified: \t\t0.474702838103 \n",
      "Certified-Expired: \t0.457995604603 \n",
      "Denied: \t\t0.0673015572938 \n",
      "Size: \t\t\t84634\n"
     ]
    }
   ],
   "source": [
    "pcert, pcertex, pdenied = (data['CASE_STATUS'].value_counts().values) / float(len(data))\n",
    "size = len(data)\n",
    "print 'Certified: \\t\\t', pcert, '\\nCertified-Expired: \\t', pcertex, '\\nDenied: \\t\\t', pdenied, '\\nSize: \\t\\t\\t', size\n",
    "                                                                 "
   ]
  },
  {
   "cell_type": "code",
   "execution_count": 28,
   "metadata": {
    "collapsed": false
   },
   "outputs": [
    {
     "data": {
      "text/plain": [
       "([<matplotlib.patches.Wedge at 0x10aa03150>,\n",
       "  <matplotlib.patches.Wedge at 0x10acbedd0>,\n",
       "  <matplotlib.patches.Wedge at 0x10aa6d950>],\n",
       " [<matplotlib.text.Text at 0x10aa03cd0>,\n",
       "  <matplotlib.text.Text at 0x10ad5ed50>,\n",
       "  <matplotlib.text.Text at 0x10ad94e50>],\n",
       " [<matplotlib.text.Text at 0x10acbe910>,\n",
       "  <matplotlib.text.Text at 0x10aa6d590>,\n",
       "  <matplotlib.text.Text at 0x10ae65290>])"
      ]
     },
     "execution_count": 28,
     "metadata": {},
     "output_type": "execute_result"
    },
    {
     "data": {
      "image/png": "[encoded data removed]",
      "text/plain": [
       "<matplotlib.figure.Figure at 0x10a4a7c10>"
      ]
     },
     "metadata": {},
     "output_type": "display_data"
    }
   ],
   "source": [
    "labels = list(status.index)\n",
    "fracs = pcert, pcertex, pdenied\n",
    "the_grid = GridSpec(2, 2)\n",
    "plt.subplot(the_grid[0, 0], aspect=1, title='Applications by Case Status')\n",
    "plt.pie(fracs, labels=labels, autopct='%1.1f%%', shadow=True)"
   ]
  },
  {
   "cell_type": "markdown",
   "metadata": {},
   "source": [
    "Base rate of denials is low, at 6.7%, and many accepted applications are allowed to expire."
   ]
  },
  {
   "cell_type": "code",
   "execution_count": 29,
   "metadata": {
    "collapsed": false
   },
   "outputs": [
    {
     "name": "stdout",
     "output_type": "stream",
     "text": [
      "Standard Error:  0.000861213341343\n"
     ]
    }
   ],
   "source": [
    "serror = (pdenied*(1-pdenied)/float(len(data))) ** .5\n",
    "print 'Standard Error: ',serror"
   ]
  },
  {
   "cell_type": "markdown",
   "metadata": {},
   "source": [
    "### Categorical Data"
   ]
  },
  {
   "cell_type": "code",
   "execution_count": 30,
   "metadata": {
    "collapsed": true
   },
   "outputs": [],
   "source": [
    "# possibly interesting columns of categorical data\n",
    "dfcat = data[['denied', 'EMPLOYER_NAME', 'EMPLOYER_STATE', 'AGENT_FIRM_NAME', 'PW_SOC_TITLE', 'JOB_INFO_EDUCATION', \n",
    "              'COUNTRY_OF_CITIZENSHIP', 'CLASS_OF_ADMISSION', 'FOREIGN_WORKER_INFO_EDUCATION', \n",
    "              'FOREIGN_WORKER_INFO_MAJOR']]"
   ]
  },
  {
   "cell_type": "markdown",
   "metadata": {},
   "source": [
    "After exploring the columns, Visa Type, Country of Citizenship, and Education seem to be the most interesting columns."
   ]
  },
  {
   "cell_type": "code",
   "execution_count": 31,
   "metadata": {
    "collapsed": false,
    "scrolled": true
   },
   "outputs": [
    {
     "data": {
      "text/html": [
       "<div>\n",
       "<table border=\"1\" class=\"dataframe\">\n",
       "  <thead>\n",
       "    <tr style=\"text-align: right;\">\n",
       "      <th></th>\n",
       "      <th>denied</th>\n",
       "      <th>size</th>\n",
       "    </tr>\n",
       "    <tr>\n",
       "      <th>CLASS_OF_ADMISSION</th>\n",
       "      <th></th>\n",
       "      <th></th>\n",
       "    </tr>\n",
       "  </thead>\n",
       "  <tbody>\n",
       "    <tr>\n",
       "      <th>B-1</th>\n",
       "      <td>0.347826</td>\n",
       "      <td>40</td>\n",
       "    </tr>\n",
       "    <tr>\n",
       "      <th>B-2</th>\n",
       "      <td>0.265248</td>\n",
       "      <td>187</td>\n",
       "    </tr>\n",
       "    <tr>\n",
       "      <th>E-1</th>\n",
       "      <td>0.149123</td>\n",
       "      <td>17</td>\n",
       "    </tr>\n",
       "    <tr>\n",
       "      <th>E-2</th>\n",
       "      <td>0.123584</td>\n",
       "      <td>120</td>\n",
       "    </tr>\n",
       "    <tr>\n",
       "      <th>E-3</th>\n",
       "      <td>0.071429</td>\n",
       "      <td>11</td>\n",
       "    </tr>\n",
       "  </tbody>\n",
       "</table>\n",
       "</div>"
      ],
      "text/plain": [
       "                      denied  size\n",
       "CLASS_OF_ADMISSION                \n",
       "B-1                 0.347826    40\n",
       "B-2                 0.265248   187\n",
       "E-1                 0.149123    17\n",
       "E-2                 0.123584   120\n",
       "E-3                 0.071429    11"
      ]
     },
     "execution_count": 31,
     "metadata": {},
     "output_type": "execute_result"
    }
   ],
   "source": [
    "# visa types with a high rate of denial\n",
    "dftype = dfcat[['CLASS_OF_ADMISSION', 'denied']]\n",
    "dftype1 = dftype.groupby('CLASS_OF_ADMISSION').mean()\n",
    "dftype1['size'] = dftype.groupby('CLASS_OF_ADMISSION').agg(sum)\n",
    "dftype = dftype1[(dftype1['denied'] > (pdenied + 2*serror)) & (dftype1['size'] >= 10)]\n",
    "dftype.head()"
   ]
  },
  {
   "cell_type": "code",
   "execution_count": 32,
   "metadata": {
    "collapsed": false
   },
   "outputs": [
    {
     "data": {
      "text/plain": [
       "CLASS_OF_ADMISSION\n",
       "H-1B          64729\n",
       "L-1            5136\n",
       "F-1            3163\n",
       "Not in USA     1554\n",
       "Name: denied, dtype: int64"
      ]
     },
     "execution_count": 32,
     "metadata": {},
     "output_type": "execute_result"
    }
   ],
   "source": [
    "visa_types = dfcat.groupby('CLASS_OF_ADMISSION').count()['denied']\n",
    "visa_types = visa_types.sort_values()[:-5:-1]\n",
    "visa_types"
   ]
  },
  {
   "cell_type": "code",
   "execution_count": 33,
   "metadata": {
    "collapsed": false
   },
   "outputs": [
    {
     "data": {
      "text/html": [
       "<div>\n",
       "<table border=\"1\" class=\"dataframe\">\n",
       "  <thead>\n",
       "    <tr style=\"text-align: right;\">\n",
       "      <th></th>\n",
       "      <th>denied</th>\n",
       "      <th>size</th>\n",
       "    </tr>\n",
       "    <tr>\n",
       "      <th>COUNTRY_OF_CITIZENSHIP</th>\n",
       "      <th></th>\n",
       "      <th></th>\n",
       "    </tr>\n",
       "  </thead>\n",
       "  <tbody>\n",
       "    <tr>\n",
       "      <th>GAMBIA</th>\n",
       "      <td>0.850000</td>\n",
       "      <td>17</td>\n",
       "    </tr>\n",
       "    <tr>\n",
       "      <th>SLOVAKIA</th>\n",
       "      <td>0.400000</td>\n",
       "      <td>12</td>\n",
       "    </tr>\n",
       "    <tr>\n",
       "      <th>GUATEMALA</th>\n",
       "      <td>0.303371</td>\n",
       "      <td>27</td>\n",
       "    </tr>\n",
       "    <tr>\n",
       "      <th>ECUADOR</th>\n",
       "      <td>0.270408</td>\n",
       "      <td>53</td>\n",
       "    </tr>\n",
       "    <tr>\n",
       "      <th>EL SALVADOR</th>\n",
       "      <td>0.237624</td>\n",
       "      <td>24</td>\n",
       "    </tr>\n",
       "  </tbody>\n",
       "</table>\n",
       "</div>"
      ],
      "text/plain": [
       "                          denied  size\n",
       "COUNTRY_OF_CITIZENSHIP                \n",
       "GAMBIA                  0.850000    17\n",
       "SLOVAKIA                0.400000    12\n",
       "GUATEMALA               0.303371    27\n",
       "ECUADOR                 0.270408    53\n",
       "EL SALVADOR             0.237624    24"
      ]
     },
     "execution_count": 33,
     "metadata": {},
     "output_type": "execute_result"
    }
   ],
   "source": [
    "# countries with a high rate of denial\n",
    "dfcit = dfcat[['COUNTRY_OF_CITIZENSHIP', 'denied']]\n",
    "dfcit1 = dfcit.groupby('COUNTRY_OF_CITIZENSHIP').mean()\n",
    "dfcit1['size'] = dfcit.groupby('COUNTRY_OF_CITIZENSHIP').agg(sum)\n",
    "dfcit = dfcit1[(dfcit1['denied'] > (pdenied + 2*serror)) & (dfcit1['size'] >= 10)]\n",
    "dfcit.sort_values('denied')[::-1].head()"
   ]
  },
  {
   "cell_type": "code",
   "execution_count": 34,
   "metadata": {
    "collapsed": false
   },
   "outputs": [
    {
     "data": {
      "text/plain": [
       "COUNTRY_OF_CITIZENSHIP\n",
       "INDIA          47705\n",
       "CHINA           6843\n",
       "SOUTH KOREA     5645\n",
       "CANADA          3139\n",
       "PHILIPPINES     1875\n",
       "ALL_OTHERS     19427\n",
       "Name: denied, dtype: int64"
      ]
     },
     "execution_count": 34,
     "metadata": {},
     "output_type": "execute_result"
    }
   ],
   "source": [
    "countries = dfcat.groupby('COUNTRY_OF_CITIZENSHIP').count()['denied']\n",
    "countries = countries.sort_values()[::-1][:5]\n",
    "countries['ALL_OTHERS'] = 19427\n",
    "countries"
   ]
  },
  {
   "cell_type": "code",
   "execution_count": 35,
   "metadata": {
    "collapsed": false
   },
   "outputs": [
    {
     "data": {
      "text/plain": [
       "([<matplotlib.patches.Wedge at 0x10b33aa90>,\n",
       "  <matplotlib.patches.Wedge at 0x10b3be090>,\n",
       "  <matplotlib.patches.Wedge at 0x10b37ef10>,\n",
       "  <matplotlib.patches.Wedge at 0x10b868850>,\n",
       "  <matplotlib.patches.Wedge at 0x10b7cd490>,\n",
       "  <matplotlib.patches.Wedge at 0x10b9014d0>],\n",
       " [<matplotlib.text.Text at 0x10b46f490>,\n",
       "  <matplotlib.text.Text at 0x10b3bef90>,\n",
       "  <matplotlib.text.Text at 0x10b72e950>,\n",
       "  <matplotlib.text.Text at 0x10b8aa650>,\n",
       "  <matplotlib.text.Text at 0x10b93c510>,\n",
       "  <matplotlib.text.Text at 0x10b4cc310>],\n",
       " [<matplotlib.text.Text at 0x10b46fd10>,\n",
       "  <matplotlib.text.Text at 0x10b37e990>,\n",
       "  <matplotlib.text.Text at 0x10b868310>,\n",
       "  <matplotlib.text.Text at 0x10b8aac50>,\n",
       "  <matplotlib.text.Text at 0x10b93cc90>,\n",
       "  <matplotlib.text.Text at 0x10b4cce50>])"
      ]
     },
     "execution_count": 35,
     "metadata": {},
     "output_type": "execute_result"
    },
    {
     "data": {
      "image/png": "[encoded data removed]",
      "text/plain": [
       "<matplotlib.figure.Figure at 0x108d35c50>"
      ]
     },
     "metadata": {},
     "output_type": "display_data"
    }
   ],
   "source": [
    "country_labels = list(countries.index)\n",
    "country_fracs = countries.values\n",
    "plt.subplot(the_grid[1, 0], aspect=1, title='Applications by Citizenship')\n",
    "plt.pie(country_fracs, labels=country_labels, autopct='%1.1f%%', shadow=True)"
   ]
  },
  {
   "cell_type": "code",
   "execution_count": 36,
   "metadata": {
    "collapsed": false
   },
   "outputs": [
    {
     "data": {
      "text/plain": [
       "FOREIGN_WORKER_INFO_EDUCATION\n",
       "Doctorate      0.033010\n",
       "Master's       0.051275\n",
       "Bachelor's     0.053348\n",
       "Other          0.074332\n",
       "Associate's    0.185270\n",
       "None           0.228803\n",
       "High School    0.270021\n",
       "Name: denied, dtype: float64"
      ]
     },
     "execution_count": 36,
     "metadata": {},
     "output_type": "execute_result"
    }
   ],
   "source": [
    "dfcat.groupby(['FOREIGN_WORKER_INFO_EDUCATION'])['denied'].mean().sort_values()"
   ]
  },
  {
   "cell_type": "code",
   "execution_count": 37,
   "metadata": {
    "collapsed": false
   },
   "outputs": [
    {
     "data": {
      "text/plain": [
       "FOREIGN_WORKER_INFO_EDUCATION\n",
       "Master's       38245\n",
       "Bachelor's     30910\n",
       "None            4812\n",
       "Doctorate       4635\n",
       "Other           3740\n",
       "High School     1411\n",
       "Associate's      869\n",
       "Name: denied, dtype: int64"
      ]
     },
     "execution_count": 37,
     "metadata": {},
     "output_type": "execute_result"
    }
   ],
   "source": [
    "education = dfcat.groupby('FOREIGN_WORKER_INFO_EDUCATION').count()['denied'].sort_values()[::-1]\n",
    "education"
   ]
  },
  {
   "cell_type": "code",
   "execution_count": 38,
   "metadata": {
    "collapsed": false
   },
   "outputs": [
    {
     "data": {
      "text/plain": [
       "([<matplotlib.patches.Wedge at 0x10ccb6d10>,\n",
       "  <matplotlib.patches.Wedge at 0x10d1a3750>,\n",
       "  <matplotlib.patches.Wedge at 0x10d21c1d0>,\n",
       "  <matplotlib.patches.Wedge at 0x10d309090>,\n",
       "  <matplotlib.patches.Wedge at 0x10d2b0e90>,\n",
       "  <matplotlib.patches.Wedge at 0x10d3506d0>,\n",
       "  <matplotlib.patches.Wedge at 0x10d5895d0>],\n",
       " [<matplotlib.text.Text at 0x10d10bcd0>,\n",
       "  <matplotlib.text.Text at 0x10d26cbd0>,\n",
       "  <matplotlib.text.Text at 0x10d0c0250>,\n",
       "  <matplotlib.text.Text at 0x10d309810>,\n",
       "  <matplotlib.text.Text at 0x10d52ac10>,\n",
       "  <matplotlib.text.Text at 0x10d3f50d0>,\n",
       "  <matplotlib.text.Text at 0x10cc2ed10>],\n",
       " [<matplotlib.text.Text at 0x10d1a35d0>,\n",
       "  <matplotlib.text.Text at 0x10d26cfd0>,\n",
       "  <matplotlib.text.Text at 0x10d0c0450>,\n",
       "  <matplotlib.text.Text at 0x10d2b0510>,\n",
       "  <matplotlib.text.Text at 0x10d3503d0>,\n",
       "  <matplotlib.text.Text at 0x10d3f5e50>,\n",
       "  <matplotlib.text.Text at 0x10ca93b10>])"
      ]
     },
     "execution_count": 38,
     "metadata": {},
     "output_type": "execute_result"
    },
    {
     "data": {
      "image/png": "[encoded data removed]",
      "text/plain": [
       "<matplotlib.figure.Figure at 0x10b811790>"
      ]
     },
     "metadata": {},
     "output_type": "display_data"
    }
   ],
   "source": [
    "status_labels = list(status.index)\n",
    "status_fracs = pcert, pcertex, pdenied\n",
    "the_grid = GridSpec(2, 2)\n",
    "plt.subplot(the_grid[0, 0], aspect=1, title='Applications by Case Status')\n",
    "plt.pie(status_fracs, labels=status_labels, autopct='%1.1f%%', shadow=True)\n",
    "\n",
    "country_labels = list(countries.index)\n",
    "country_fracs = countries.values\n",
    "plt.subplot(the_grid[1, 0], aspect=1, title='Applications by Citizenship')\n",
    "plt.pie(country_fracs, labels=country_labels, autopct='%1.1f%%', shadow=True)\n",
    "\n",
    "ed_labels = list(education.index)\n",
    "ed_fracs = education.values\n",
    "plt.subplot(the_grid[1, 1], aspect=1, title='Education of Applicants')\n",
    "plt.pie(ed_fracs, labels=ed_labels, autopct='%1.1f%%', shadow=True)"
   ]
  },
  {
   "cell_type": "code",
   "execution_count": 39,
   "metadata": {
    "collapsed": false
   },
   "outputs": [
    {
     "data": {
      "text/plain": [
       "JOB_INFO_EDUCATION\n",
       "Doctorate      0.025573\n",
       "Master's       0.047168\n",
       "Bachelor's     0.051324\n",
       "Other          0.075218\n",
       "Associate's    0.188406\n",
       "None           0.233772\n",
       "High School    0.304193\n",
       "Name: denied, dtype: float64"
      ]
     },
     "execution_count": 39,
     "metadata": {},
     "output_type": "execute_result"
    }
   ],
   "source": [
    "dfcat.groupby(['JOB_INFO_EDUCATION'])['denied'].mean().sort_values()"
   ]
  },
  {
   "cell_type": "markdown",
   "metadata": {},
   "source": [
    "Applicants with at least a Bachelor's have significantly lower rates of rejection than those without one."
   ]
  },
  {
   "cell_type": "markdown",
   "metadata": {},
   "source": [
    "## Data Preparation for Logistic Regression\n",
    "\n",
    "All of the data are given as unicode, even the numbers, so it has to be converted into the proper data type before the regression can be run. Additionally, dummy variables need to be created for the categorical data."
   ]
  },
  {
   "cell_type": "code",
   "execution_count": 40,
   "metadata": {
    "collapsed": true
   },
   "outputs": [],
   "source": [
    "# interesting fields with binary or numerical data\n",
    "data_fields = ['REFILE', 'EMPLOYER_NUM_EMPLOYEES', \n",
    "               'FOREIGN_WORKER_OWNERSHIP_INTEREST', 'PW_AMOUNT_9089', 'WAGE_OFFER_FROM_9089', 'WAGE_OFFER_TO_9089', \n",
    "               'JOB_INFO_TRAINING', 'JOB_INFO_TRAINING_NUM_MONTHS', 'JOB_INFO_EXPERIENCE', \n",
    "               'JOB_INFO_EXPERIENCE_NUM_MONTHS', 'JOB_INFO_ALT_FIELD', 'JOB_INFO_ALT_COMBO_ED_EXP', \n",
    "               'JOB_INFO_ALT_CMB_ED_OTH_YRS', 'JOB_INFO_FOREIGN_ED', 'JOB_INFO_ALT_OCC', 'JOB_INFO_ALT_OCC_NUM_MONTHS', \n",
    "               'JOB_INFO_JOB_REQ_NORMAL', 'JOB_INFO_FOREIGN_LANG_REQ', 'JOB_INFO_COMBO_OCCUPATION',\n",
    "               'JI_FOREIGN_WORKER_LIVE_ON_PREMISES', 'JI_LIVE_IN_DOMESTIC_SERVICE', 'JI_LIVE_IN_DOM_SVC_CONTRACT', \n",
    "               'RECR_INFO_PROFESSIONAL_OCC', 'RECR_INFO_COLL_UNIV_TEACHER', 'RECR_INFO_COLL_TEACH_COMP_PROC', \n",
    "               'RI_POSTED_NOTICE_AT_WORKSITE', 'RI_LAYOFF_IN_PAST_SIX_MONTHS', 'RI_US_WORKERS_CONSIDERED', \n",
    "               'FOREIGN_WORKER_INFO_TRAINING_COMP', 'FOREIGN_WORKER_INFO_REQ_EXPERIENCE', \n",
    "               'FOREIGN_WORKER_INFO_ALT_EDU_EXPERIENCE', 'FOREIGN_WORKER_INFO_REL_OCCUP_EXP', \n",
    "               'PREPARER_INFO_EMP_COMPLETED']\n",
    "dflogit = data[data_fields]"
   ]
  },
  {
   "cell_type": "code",
   "execution_count": 41,
   "metadata": {
    "collapsed": false
   },
   "outputs": [
    {
     "data": {
      "text/html": [
       "<div>\n",
       "<table border=\"1\" class=\"dataframe\">\n",
       "  <thead>\n",
       "    <tr style=\"text-align: right;\">\n",
       "      <th></th>\n",
       "      <th>REFILE</th>\n",
       "      <th>EMPLOYER_NUM_EMPLOYEES</th>\n",
       "      <th>FOREIGN_WORKER_OWNERSHIP_INTEREST</th>\n",
       "      <th>PW_AMOUNT_9089</th>\n",
       "      <th>WAGE_OFFER_FROM_9089</th>\n",
       "      <th>WAGE_OFFER_TO_9089</th>\n",
       "      <th>JOB_INFO_TRAINING</th>\n",
       "      <th>JOB_INFO_TRAINING_NUM_MONTHS</th>\n",
       "      <th>JOB_INFO_EXPERIENCE</th>\n",
       "      <th>JOB_INFO_EXPERIENCE_NUM_MONTHS</th>\n",
       "      <th>...</th>\n",
       "      <th>RECR_INFO_COLL_UNIV_TEACHER</th>\n",
       "      <th>RECR_INFO_COLL_TEACH_COMP_PROC</th>\n",
       "      <th>RI_POSTED_NOTICE_AT_WORKSITE</th>\n",
       "      <th>RI_LAYOFF_IN_PAST_SIX_MONTHS</th>\n",
       "      <th>RI_US_WORKERS_CONSIDERED</th>\n",
       "      <th>FOREIGN_WORKER_INFO_TRAINING_COMP</th>\n",
       "      <th>FOREIGN_WORKER_INFO_REQ_EXPERIENCE</th>\n",
       "      <th>FOREIGN_WORKER_INFO_ALT_EDU_EXPERIENCE</th>\n",
       "      <th>FOREIGN_WORKER_INFO_REL_OCCUP_EXP</th>\n",
       "      <th>PREPARER_INFO_EMP_COMPLETED</th>\n",
       "    </tr>\n",
       "  </thead>\n",
       "  <tbody>\n",
       "    <tr>\n",
       "      <th>0</th>\n",
       "      <td>N</td>\n",
       "      <td>1935</td>\n",
       "      <td>N</td>\n",
       "      <td>83,366.00</td>\n",
       "      <td>90,000.00</td>\n",
       "      <td>95,000.00</td>\n",
       "      <td>N</td>\n",
       "      <td>NaN</td>\n",
       "      <td>N</td>\n",
       "      <td>NaN</td>\n",
       "      <td>...</td>\n",
       "      <td>N</td>\n",
       "      <td>NaN</td>\n",
       "      <td>Y</td>\n",
       "      <td>N</td>\n",
       "      <td>NaN</td>\n",
       "      <td>A</td>\n",
       "      <td>A</td>\n",
       "      <td>A</td>\n",
       "      <td>Y</td>\n",
       "      <td>N</td>\n",
       "    </tr>\n",
       "    <tr>\n",
       "      <th>1</th>\n",
       "      <td>N</td>\n",
       "      <td>350</td>\n",
       "      <td>N</td>\n",
       "      <td>16,973.00</td>\n",
       "      <td>16,973.00</td>\n",
       "      <td>NaN</td>\n",
       "      <td>N</td>\n",
       "      <td>NaN</td>\n",
       "      <td>N</td>\n",
       "      <td>NaN</td>\n",
       "      <td>...</td>\n",
       "      <td>N</td>\n",
       "      <td>NaN</td>\n",
       "      <td>Y</td>\n",
       "      <td>N</td>\n",
       "      <td>NaN</td>\n",
       "      <td>A</td>\n",
       "      <td>A</td>\n",
       "      <td>A</td>\n",
       "      <td>A</td>\n",
       "      <td>N</td>\n",
       "    </tr>\n",
       "    <tr>\n",
       "      <th>2</th>\n",
       "      <td>N</td>\n",
       "      <td>4</td>\n",
       "      <td>N</td>\n",
       "      <td>49,982.00</td>\n",
       "      <td>65,000.00</td>\n",
       "      <td>NaN</td>\n",
       "      <td>N</td>\n",
       "      <td>NaN</td>\n",
       "      <td>Y</td>\n",
       "      <td>36</td>\n",
       "      <td>...</td>\n",
       "      <td>N</td>\n",
       "      <td>NaN</td>\n",
       "      <td>Y</td>\n",
       "      <td>N</td>\n",
       "      <td>NaN</td>\n",
       "      <td>A</td>\n",
       "      <td>Y</td>\n",
       "      <td>A</td>\n",
       "      <td>A</td>\n",
       "      <td>N</td>\n",
       "    </tr>\n",
       "    <tr>\n",
       "      <th>3</th>\n",
       "      <td>N</td>\n",
       "      <td>8</td>\n",
       "      <td>N</td>\n",
       "      <td>43,514.00</td>\n",
       "      <td>43,514.00</td>\n",
       "      <td>NaN</td>\n",
       "      <td>N</td>\n",
       "      <td>NaN</td>\n",
       "      <td>N</td>\n",
       "      <td>NaN</td>\n",
       "      <td>...</td>\n",
       "      <td>N</td>\n",
       "      <td>NaN</td>\n",
       "      <td>Y</td>\n",
       "      <td>N</td>\n",
       "      <td>NaN</td>\n",
       "      <td>A</td>\n",
       "      <td>A</td>\n",
       "      <td>A</td>\n",
       "      <td>A</td>\n",
       "      <td>N</td>\n",
       "    </tr>\n",
       "    <tr>\n",
       "      <th>4</th>\n",
       "      <td>N</td>\n",
       "      <td>350</td>\n",
       "      <td>N</td>\n",
       "      <td>16,973.00</td>\n",
       "      <td>16,973.00</td>\n",
       "      <td>NaN</td>\n",
       "      <td>N</td>\n",
       "      <td>NaN</td>\n",
       "      <td>N</td>\n",
       "      <td>NaN</td>\n",
       "      <td>...</td>\n",
       "      <td>N</td>\n",
       "      <td>NaN</td>\n",
       "      <td>Y</td>\n",
       "      <td>N</td>\n",
       "      <td>NaN</td>\n",
       "      <td>A</td>\n",
       "      <td>A</td>\n",
       "      <td>A</td>\n",
       "      <td>A</td>\n",
       "      <td>N</td>\n",
       "    </tr>\n",
       "  </tbody>\n",
       "</table>\n",
       "<p>5 rows × 33 columns</p>\n",
       "</div>"
      ],
      "text/plain": [
       "  REFILE  EMPLOYER_NUM_EMPLOYEES FOREIGN_WORKER_OWNERSHIP_INTEREST  \\\n",
       "0      N                    1935                                 N   \n",
       "1      N                     350                                 N   \n",
       "2      N                       4                                 N   \n",
       "3      N                       8                                 N   \n",
       "4      N                     350                                 N   \n",
       "\n",
       "  PW_AMOUNT_9089 WAGE_OFFER_FROM_9089 WAGE_OFFER_TO_9089 JOB_INFO_TRAINING  \\\n",
       "0      83,366.00            90,000.00          95,000.00                 N   \n",
       "1      16,973.00            16,973.00                NaN                 N   \n",
       "2      49,982.00            65,000.00                NaN                 N   \n",
       "3      43,514.00            43,514.00                NaN                 N   \n",
       "4      16,973.00            16,973.00                NaN                 N   \n",
       "\n",
       "   JOB_INFO_TRAINING_NUM_MONTHS JOB_INFO_EXPERIENCE  \\\n",
       "0                           NaN                   N   \n",
       "1                           NaN                   N   \n",
       "2                           NaN                   Y   \n",
       "3                           NaN                   N   \n",
       "4                           NaN                   N   \n",
       "\n",
       "   JOB_INFO_EXPERIENCE_NUM_MONTHS             ...              \\\n",
       "0                             NaN             ...               \n",
       "1                             NaN             ...               \n",
       "2                              36             ...               \n",
       "3                             NaN             ...               \n",
       "4                             NaN             ...               \n",
       "\n",
       "  RECR_INFO_COLL_UNIV_TEACHER RECR_INFO_COLL_TEACH_COMP_PROC  \\\n",
       "0                           N                            NaN   \n",
       "1                           N                            NaN   \n",
       "2                           N                            NaN   \n",
       "3                           N                            NaN   \n",
       "4                           N                            NaN   \n",
       "\n",
       "   RI_POSTED_NOTICE_AT_WORKSITE RI_LAYOFF_IN_PAST_SIX_MONTHS  \\\n",
       "0                             Y                            N   \n",
       "1                             Y                            N   \n",
       "2                             Y                            N   \n",
       "3                             Y                            N   \n",
       "4                             Y                            N   \n",
       "\n",
       "  RI_US_WORKERS_CONSIDERED  FOREIGN_WORKER_INFO_TRAINING_COMP  \\\n",
       "0                      NaN                                  A   \n",
       "1                      NaN                                  A   \n",
       "2                      NaN                                  A   \n",
       "3                      NaN                                  A   \n",
       "4                      NaN                                  A   \n",
       "\n",
       "  FOREIGN_WORKER_INFO_REQ_EXPERIENCE FOREIGN_WORKER_INFO_ALT_EDU_EXPERIENCE  \\\n",
       "0                                  A                                      A   \n",
       "1                                  A                                      A   \n",
       "2                                  Y                                      A   \n",
       "3                                  A                                      A   \n",
       "4                                  A                                      A   \n",
       "\n",
       "  FOREIGN_WORKER_INFO_REL_OCCUP_EXP PREPARER_INFO_EMP_COMPLETED  \n",
       "0                                 Y                           N  \n",
       "1                                 A                           N  \n",
       "2                                 A                           N  \n",
       "3                                 A                           N  \n",
       "4                                 A                           N  \n",
       "\n",
       "[5 rows x 33 columns]"
      ]
     },
     "execution_count": 41,
     "metadata": {},
     "output_type": "execute_result"
    }
   ],
   "source": [
    "dflogit.head()"
   ]
  },
  {
   "cell_type": "code",
   "execution_count": 42,
   "metadata": {
    "collapsed": false
   },
   "outputs": [],
   "source": [
    "def remove_commas(uni):\n",
    "    # converts unicode numbers with commas into floats\n",
    "    string = str(uni)\n",
    "    if ',' in string:\n",
    "        return float(string.replace(',', ''))\n",
    "    elif '#' in string:\n",
    "        return 0\n",
    "\n",
    "def data_clean(df):\n",
    "    # formats datatypes to binary for indicators or floats for numbers\n",
    "    columns = df.columns\n",
    "    dfr = pd.DataFrame()\n",
    "    for column in columns:\n",
    "        name = str(column)\n",
    "        name = name.lower()\n",
    "        if str(df[column][1]) in ['Y', 'N']:\n",
    "            dfr[name] = (df[column] == 'Y').astype(int)\n",
    "        else:\n",
    "            try:\n",
    "                dfr[name] = df[column].apply(str).apply(remove_commas)\n",
    "            except ValueError:\n",
    "                continue\n",
    "    return dfr\n",
    "\n",
    "def add_columns(df1, df2, columns):\n",
    "    # adds columns from one dataframe to another\n",
    "    for column in columns:\n",
    "        df2[column] = df1[column]"
   ]
  },
  {
   "cell_type": "code",
   "execution_count": 43,
   "metadata": {
    "collapsed": true
   },
   "outputs": [],
   "source": [
    "dflogit = data_clean(dflogit)"
   ]
  },
  {
   "cell_type": "code",
   "execution_count": 44,
   "metadata": {
    "collapsed": false
   },
   "outputs": [],
   "source": [
    "# adding prevailing wage comparison features\n",
    "dflogit['lowball'] = (dflogit['pw_amount_9089'] > dflogit['wage_offer_from_9089']).apply(int)\n",
    "dflogit['highoffer'] = (dflogit['pw_amount_9089'] < dflogit['wage_offer_to_9089']).apply(int)"
   ]
  },
  {
   "cell_type": "markdown",
   "metadata": {},
   "source": [
    "I thought that perhaps the how the wage offered to the immigrant worker compared to the prevailing wage of the profession might affect rejection, so I added two feature to identify lowball and higher-than-normal offers."
   ]
  },
  {
   "cell_type": "code",
   "execution_count": 45,
   "metadata": {
    "collapsed": true
   },
   "outputs": [],
   "source": [
    "# formatting data for logistic regression\n",
    "\n",
    "new_columns = ['JOB_INFO_EDUCATION', 'COUNTRY_OF_CITIZENSHIP', 'CLASS_OF_ADMISSION', 'FOREIGN_WORKER_INFO_EDUCATION',\n",
    "               'denied']\n",
    "add_columns(data, dflogit, new_columns)"
   ]
  },
  {
   "cell_type": "code",
   "execution_count": 46,
   "metadata": {
    "collapsed": true
   },
   "outputs": [],
   "source": [
    "dflogit = dflogit.fillna(0)"
   ]
  },
  {
   "cell_type": "code",
   "execution_count": 47,
   "metadata": {
    "collapsed": false
   },
   "outputs": [
    {
     "data": {
      "text/html": [
       "<div>\n",
       "<table border=\"1\" class=\"dataframe\">\n",
       "  <thead>\n",
       "    <tr style=\"text-align: right;\">\n",
       "      <th></th>\n",
       "      <th>refile</th>\n",
       "      <th>employer_num_employees</th>\n",
       "      <th>foreign_worker_ownership_interest</th>\n",
       "      <th>pw_amount_9089</th>\n",
       "      <th>wage_offer_from_9089</th>\n",
       "      <th>wage_offer_to_9089</th>\n",
       "      <th>job_info_training</th>\n",
       "      <th>job_info_training_num_months</th>\n",
       "      <th>job_info_experience</th>\n",
       "      <th>job_info_experience_num_months</th>\n",
       "      <th>...</th>\n",
       "      <th>foreign_worker_info_alt_edu_experience</th>\n",
       "      <th>foreign_worker_info_rel_occup_exp</th>\n",
       "      <th>preparer_info_emp_completed</th>\n",
       "      <th>lowball</th>\n",
       "      <th>highoffer</th>\n",
       "      <th>JOB_INFO_EDUCATION</th>\n",
       "      <th>COUNTRY_OF_CITIZENSHIP</th>\n",
       "      <th>CLASS_OF_ADMISSION</th>\n",
       "      <th>FOREIGN_WORKER_INFO_EDUCATION</th>\n",
       "      <th>denied</th>\n",
       "    </tr>\n",
       "  </thead>\n",
       "  <tbody>\n",
       "    <tr>\n",
       "      <th>0</th>\n",
       "      <td>0</td>\n",
       "      <td>0</td>\n",
       "      <td>0</td>\n",
       "      <td>83366</td>\n",
       "      <td>90000</td>\n",
       "      <td>95000</td>\n",
       "      <td>0</td>\n",
       "      <td>0</td>\n",
       "      <td>0</td>\n",
       "      <td>0</td>\n",
       "      <td>...</td>\n",
       "      <td>0</td>\n",
       "      <td>0</td>\n",
       "      <td>0</td>\n",
       "      <td>0</td>\n",
       "      <td>1</td>\n",
       "      <td>Bachelor's</td>\n",
       "      <td>INDIA</td>\n",
       "      <td>H-1B</td>\n",
       "      <td>Bachelor's</td>\n",
       "      <td>0</td>\n",
       "    </tr>\n",
       "    <tr>\n",
       "      <th>1</th>\n",
       "      <td>0</td>\n",
       "      <td>0</td>\n",
       "      <td>0</td>\n",
       "      <td>16973</td>\n",
       "      <td>16973</td>\n",
       "      <td>0</td>\n",
       "      <td>0</td>\n",
       "      <td>0</td>\n",
       "      <td>0</td>\n",
       "      <td>0</td>\n",
       "      <td>...</td>\n",
       "      <td>0</td>\n",
       "      <td>0</td>\n",
       "      <td>0</td>\n",
       "      <td>0</td>\n",
       "      <td>0</td>\n",
       "      <td>None</td>\n",
       "      <td>SOUTH KOREA</td>\n",
       "      <td>0</td>\n",
       "      <td>None</td>\n",
       "      <td>1</td>\n",
       "    </tr>\n",
       "    <tr>\n",
       "      <th>2</th>\n",
       "      <td>0</td>\n",
       "      <td>0</td>\n",
       "      <td>0</td>\n",
       "      <td>49982</td>\n",
       "      <td>65000</td>\n",
       "      <td>0</td>\n",
       "      <td>0</td>\n",
       "      <td>0</td>\n",
       "      <td>1</td>\n",
       "      <td>0</td>\n",
       "      <td>...</td>\n",
       "      <td>0</td>\n",
       "      <td>0</td>\n",
       "      <td>0</td>\n",
       "      <td>0</td>\n",
       "      <td>0</td>\n",
       "      <td>Doctorate</td>\n",
       "      <td>GERMANY</td>\n",
       "      <td>H-1B</td>\n",
       "      <td>Doctorate</td>\n",
       "      <td>1</td>\n",
       "    </tr>\n",
       "    <tr>\n",
       "      <th>3</th>\n",
       "      <td>0</td>\n",
       "      <td>0</td>\n",
       "      <td>0</td>\n",
       "      <td>43514</td>\n",
       "      <td>43514</td>\n",
       "      <td>0</td>\n",
       "      <td>0</td>\n",
       "      <td>0</td>\n",
       "      <td>0</td>\n",
       "      <td>0</td>\n",
       "      <td>...</td>\n",
       "      <td>0</td>\n",
       "      <td>0</td>\n",
       "      <td>0</td>\n",
       "      <td>0</td>\n",
       "      <td>0</td>\n",
       "      <td>Master's</td>\n",
       "      <td>SOUTH KOREA</td>\n",
       "      <td>E-2</td>\n",
       "      <td>Master's</td>\n",
       "      <td>0</td>\n",
       "    </tr>\n",
       "    <tr>\n",
       "      <th>4</th>\n",
       "      <td>0</td>\n",
       "      <td>0</td>\n",
       "      <td>0</td>\n",
       "      <td>16973</td>\n",
       "      <td>16973</td>\n",
       "      <td>0</td>\n",
       "      <td>0</td>\n",
       "      <td>0</td>\n",
       "      <td>0</td>\n",
       "      <td>0</td>\n",
       "      <td>...</td>\n",
       "      <td>0</td>\n",
       "      <td>0</td>\n",
       "      <td>0</td>\n",
       "      <td>0</td>\n",
       "      <td>0</td>\n",
       "      <td>None</td>\n",
       "      <td>SOUTH KOREA</td>\n",
       "      <td>0</td>\n",
       "      <td>None</td>\n",
       "      <td>1</td>\n",
       "    </tr>\n",
       "  </tbody>\n",
       "</table>\n",
       "<p>5 rows × 40 columns</p>\n",
       "</div>"
      ],
      "text/plain": [
       "   refile  employer_num_employees  foreign_worker_ownership_interest  \\\n",
       "0       0                       0                                  0   \n",
       "1       0                       0                                  0   \n",
       "2       0                       0                                  0   \n",
       "3       0                       0                                  0   \n",
       "4       0                       0                                  0   \n",
       "\n",
       "   pw_amount_9089  wage_offer_from_9089  wage_offer_to_9089  \\\n",
       "0           83366                 90000               95000   \n",
       "1           16973                 16973                   0   \n",
       "2           49982                 65000                   0   \n",
       "3           43514                 43514                   0   \n",
       "4           16973                 16973                   0   \n",
       "\n",
       "   job_info_training  job_info_training_num_months  job_info_experience  \\\n",
       "0                  0                             0                    0   \n",
       "1                  0                             0                    0   \n",
       "2                  0                             0                    1   \n",
       "3                  0                             0                    0   \n",
       "4                  0                             0                    0   \n",
       "\n",
       "   job_info_experience_num_months   ...    \\\n",
       "0                               0   ...     \n",
       "1                               0   ...     \n",
       "2                               0   ...     \n",
       "3                               0   ...     \n",
       "4                               0   ...     \n",
       "\n",
       "   foreign_worker_info_alt_edu_experience  foreign_worker_info_rel_occup_exp  \\\n",
       "0                                       0                                  0   \n",
       "1                                       0                                  0   \n",
       "2                                       0                                  0   \n",
       "3                                       0                                  0   \n",
       "4                                       0                                  0   \n",
       "\n",
       "   preparer_info_emp_completed  lowball  highoffer  JOB_INFO_EDUCATION  \\\n",
       "0                            0        0          1          Bachelor's   \n",
       "1                            0        0          0                None   \n",
       "2                            0        0          0           Doctorate   \n",
       "3                            0        0          0            Master's   \n",
       "4                            0        0          0                None   \n",
       "\n",
       "   COUNTRY_OF_CITIZENSHIP  CLASS_OF_ADMISSION  FOREIGN_WORKER_INFO_EDUCATION  \\\n",
       "0                   INDIA                H-1B                     Bachelor's   \n",
       "1             SOUTH KOREA                   0                           None   \n",
       "2                 GERMANY                H-1B                      Doctorate   \n",
       "3             SOUTH KOREA                 E-2                       Master's   \n",
       "4             SOUTH KOREA                   0                           None   \n",
       "\n",
       "   denied  \n",
       "0       0  \n",
       "1       1  \n",
       "2       1  \n",
       "3       0  \n",
       "4       1  \n",
       "\n",
       "[5 rows x 40 columns]"
      ]
     },
     "execution_count": 47,
     "metadata": {},
     "output_type": "execute_result"
    }
   ],
   "source": [
    "dflogit.head()"
   ]
  },
  {
   "cell_type": "code",
   "execution_count": 48,
   "metadata": {
    "collapsed": false
   },
   "outputs": [
    {
     "data": {
      "text/plain": [
       "refile                                      int64\n",
       "employer_num_employees                      int64\n",
       "foreign_worker_ownership_interest           int64\n",
       "pw_amount_9089                            float64\n",
       "wage_offer_from_9089                      float64\n",
       "wage_offer_to_9089                        float64\n",
       "job_info_training                           int64\n",
       "job_info_training_num_months                int64\n",
       "job_info_experience                         int64\n",
       "job_info_experience_num_months              int64\n",
       "job_info_alt_field                          int64\n",
       "job_info_alt_combo_ed_exp                   int64\n",
       "job_info_alt_cmb_ed_oth_yrs                 int64\n",
       "job_info_foreign_ed                         int64\n",
       "job_info_alt_occ                            int64\n",
       "job_info_alt_occ_num_months                 int64\n",
       "job_info_job_req_normal                     int64\n",
       "job_info_foreign_lang_req                   int64\n",
       "job_info_combo_occupation                   int64\n",
       "ji_foreign_worker_live_on_premises          int64\n",
       "ji_live_in_domestic_service                 int64\n",
       "ji_live_in_dom_svc_contract                 int64\n",
       "recr_info_professional_occ                  int64\n",
       "recr_info_coll_univ_teacher                 int64\n",
       "recr_info_coll_teach_comp_proc              int64\n",
       "ri_posted_notice_at_worksite                int64\n",
       "ri_layoff_in_past_six_months                int64\n",
       "ri_us_workers_considered                    int64\n",
       "foreign_worker_info_training_comp           int64\n",
       "foreign_worker_info_req_experience          int64\n",
       "foreign_worker_info_alt_edu_experience      int64\n",
       "foreign_worker_info_rel_occup_exp           int64\n",
       "preparer_info_emp_completed                 int64\n",
       "lowball                                     int64\n",
       "highoffer                                   int64\n",
       "JOB_INFO_EDUCATION                         object\n",
       "COUNTRY_OF_CITIZENSHIP                     object\n",
       "CLASS_OF_ADMISSION                         object\n",
       "FOREIGN_WORKER_INFO_EDUCATION              object\n",
       "denied                                      int64\n",
       "dtype: object"
      ]
     },
     "execution_count": 48,
     "metadata": {},
     "output_type": "execute_result"
    }
   ],
   "source": [
    "# checking data types\n",
    "dflogit.dtypes"
   ]
  },
  {
   "cell_type": "code",
   "execution_count": 49,
   "metadata": {
    "collapsed": false
   },
   "outputs": [
    {
     "data": {
      "text/plain": [
       "84634"
      ]
     },
     "execution_count": 49,
     "metadata": {},
     "output_type": "execute_result"
    }
   ],
   "source": [
    "len(dflogit)"
   ]
  },
  {
   "cell_type": "code",
   "execution_count": 50,
   "metadata": {
    "collapsed": false
   },
   "outputs": [
    {
     "data": {
      "text/html": [
       "<div>\n",
       "<table border=\"1\" class=\"dataframe\">\n",
       "  <thead>\n",
       "    <tr style=\"text-align: right;\">\n",
       "      <th></th>\n",
       "      <th>pw_amount_9089</th>\n",
       "      <th>wage_offer_from_9089</th>\n",
       "      <th>wage_offer_to_9089</th>\n",
       "    </tr>\n",
       "  </thead>\n",
       "  <tbody>\n",
       "    <tr>\n",
       "      <th>count</th>\n",
       "      <td>82951.000000</td>\n",
       "      <td>82247.000000</td>\n",
       "      <td>22451.000000</td>\n",
       "    </tr>\n",
       "    <tr>\n",
       "      <th>mean</th>\n",
       "      <td>85402.096103</td>\n",
       "      <td>93688.169319</td>\n",
       "      <td>127946.312091</td>\n",
       "    </tr>\n",
       "    <tr>\n",
       "      <th>std</th>\n",
       "      <td>38569.882008</td>\n",
       "      <td>39830.833135</td>\n",
       "      <td>44435.788980</td>\n",
       "    </tr>\n",
       "    <tr>\n",
       "      <th>min</th>\n",
       "      <td>1067.200000</td>\n",
       "      <td>1060.000000</td>\n",
       "      <td>1000.000000</td>\n",
       "    </tr>\n",
       "    <tr>\n",
       "      <th>25%</th>\n",
       "      <td>67808.000000</td>\n",
       "      <td>72467.000000</td>\n",
       "      <td>102200.000000</td>\n",
       "    </tr>\n",
       "    <tr>\n",
       "      <th>50%</th>\n",
       "      <td>84802.000000</td>\n",
       "      <td>90459.000000</td>\n",
       "      <td>127300.000000</td>\n",
       "    </tr>\n",
       "    <tr>\n",
       "      <th>75%</th>\n",
       "      <td>103938.000000</td>\n",
       "      <td>110410.000000</td>\n",
       "      <td>148400.000000</td>\n",
       "    </tr>\n",
       "    <tr>\n",
       "      <th>max</th>\n",
       "      <td>5067600.000000</td>\n",
       "      <td>1145000.000000</td>\n",
       "      <td>1347000.000000</td>\n",
       "    </tr>\n",
       "  </tbody>\n",
       "</table>\n",
       "</div>"
      ],
      "text/plain": [
       "       pw_amount_9089  wage_offer_from_9089  wage_offer_to_9089\n",
       "count    82951.000000          82247.000000        22451.000000\n",
       "mean     85402.096103          93688.169319       127946.312091\n",
       "std      38569.882008          39830.833135        44435.788980\n",
       "min       1067.200000           1060.000000         1000.000000\n",
       "25%      67808.000000          72467.000000       102200.000000\n",
       "50%      84802.000000          90459.000000       127300.000000\n",
       "75%     103938.000000         110410.000000       148400.000000\n",
       "max    5067600.000000        1145000.000000      1347000.000000"
      ]
     },
     "execution_count": 50,
     "metadata": {},
     "output_type": "execute_result"
    }
   ],
   "source": [
    "wages = dflogit[['pw_amount_9089', 'wage_offer_from_9089', 'wage_offer_to_9089']].replace('0', np.nan)\n",
    "wages.describe()"
   ]
  },
  {
   "cell_type": "code",
   "execution_count": 51,
   "metadata": {
    "collapsed": false
   },
   "outputs": [
    {
     "data": {
      "image/png": "[encoded data removed]",
      "text/plain": [
       "<matplotlib.figure.Figure at 0x10d9c0b90>"
      ]
     },
     "metadata": {},
     "output_type": "display_data"
    }
   ],
   "source": [
    "# histograms of wage data\n",
    "fig, ax = plt.subplots(ncols=3)\n",
    "index = 0\n",
    "titles = ['Prevailing Wage', 'Low Offer', 'High Offer']\n",
    "for column in wages.columns:\n",
    "    column = str(column)\n",
    "    ax[index].hist(wages[column].values, range=(0, 250000))\n",
    "    ax[index].ticklabel_format(style='sci', axis='x', scilimits=(0,0))\n",
    "    ax[index].set_title(titles[index])\n",
    "    index += 1"
   ]
  },
  {
   "cell_type": "code",
   "execution_count": null,
   "metadata": {
    "collapsed": true
   },
   "outputs": [],
   "source": []
  },
  {
   "cell_type": "code",
   "execution_count": 52,
   "metadata": {
    "collapsed": false
   },
   "outputs": [
    {
     "data": {
      "text/plain": [
       "'denied ~ refile + employer_num_employees + foreign_worker_ownership_interest + pw_amount_9089 + wage_offer_from_9089 + wage_offer_to_9089 + job_info_training + job_info_training_num_months + job_info_experience + job_info_experience_num_months + job_info_alt_field + job_info_alt_combo_ed_exp + job_info_alt_cmb_ed_oth_yrs + job_info_foreign_ed + job_info_alt_occ + job_info_alt_occ_num_months + job_info_job_req_normal + job_info_foreign_lang_req + job_info_combo_occupation + ji_foreign_worker_live_on_premises + ji_live_in_domestic_service + ji_live_in_dom_svc_contract + recr_info_professional_occ + recr_info_coll_univ_teacher + recr_info_coll_teach_comp_proc + ri_posted_notice_at_worksite + ri_layoff_in_past_six_months + ri_us_workers_considered + foreign_worker_info_training_comp + foreign_worker_info_req_experience + foreign_worker_info_alt_edu_experience + foreign_worker_info_rel_occup_exp + preparer_info_emp_completed + lowball + highoffer + C(JOB_INFO_EDUCATION) + C(COUNTRY_OF_CITIZENSHIP) + C(CLASS_OF_ADMISSION) + C(FOREIGN_WORKER_INFO_EDUCATION)'"
      ]
     },
     "execution_count": 52,
     "metadata": {},
     "output_type": "execute_result"
    }
   ],
   "source": [
    "params = dflogit.columns[:-5]\n",
    "dummies = ['C(JOB_INFO_EDUCATION)', 'C(COUNTRY_OF_CITIZENSHIP)', 'C(CLASS_OF_ADMISSION)', 'C(FOREIGN_WORKER_INFO_EDUCATION)']\n",
    "f = 'denied ~ ' + ' + '.join(params) + ' + ' + ' + '.join(dummies)\n",
    "f"
   ]
  },
  {
   "cell_type": "code",
   "execution_count": 53,
   "metadata": {
    "collapsed": false,
    "scrolled": true
   },
   "outputs": [
    {
     "name": "stdout",
     "output_type": "stream",
     "text": [
      "Index([u'Intercept', u'C(JOB_INFO_EDUCATION)[T.Associate's]',\n",
      "       u'C(JOB_INFO_EDUCATION)[T.Bachelor's]',\n",
      "       u'C(JOB_INFO_EDUCATION)[T.Doctorate]',\n",
      "       u'C(JOB_INFO_EDUCATION)[T.High School]',\n",
      "       u'C(JOB_INFO_EDUCATION)[T.Master's]', u'C(JOB_INFO_EDUCATION)[T.None]',\n",
      "       u'C(JOB_INFO_EDUCATION)[T.Other]',\n",
      "       u'C(COUNTRY_OF_CITIZENSHIP)[T.AFGHANISTAN]',\n",
      "       u'C(COUNTRY_OF_CITIZENSHIP)[T.ALBANIA]',\n",
      "       ...\n",
      "       u'ri_posted_notice_at_worksite', u'ri_layoff_in_past_six_months',\n",
      "       u'ri_us_workers_considered', u'foreign_worker_info_training_comp',\n",
      "       u'foreign_worker_info_req_experience',\n",
      "       u'foreign_worker_info_alt_edu_experience',\n",
      "       u'foreign_worker_info_rel_occup_exp', u'preparer_info_emp_completed',\n",
      "       u'lowball', u'highoffer'],\n",
      "      dtype='object', length=278)\n"
     ]
    }
   ],
   "source": [
    "# prep dataframes for sklearn logit\n",
    "y, X = dmatrices(f, dflogit, NA_action='raise', return_type=\"dataframe\")\n",
    "print X.columns"
   ]
  },
  {
   "cell_type": "code",
   "execution_count": 54,
   "metadata": {
    "collapsed": false
   },
   "outputs": [
    {
     "data": {
      "text/plain": [
       "84634"
      ]
     },
     "execution_count": 54,
     "metadata": {},
     "output_type": "execute_result"
    }
   ],
   "source": [
    "len(y)"
   ]
  },
  {
   "cell_type": "code",
   "execution_count": 55,
   "metadata": {
    "collapsed": true
   },
   "outputs": [],
   "source": [
    "# flattening y into a 1-D array\n",
    "y = np.ravel(y)"
   ]
  },
  {
   "cell_type": "markdown",
   "metadata": {},
   "source": [
    "## Logistic Regression"
   ]
  },
  {
   "cell_type": "code",
   "execution_count": 71,
   "metadata": {
    "collapsed": true
   },
   "outputs": [],
   "source": [
    "logit_params = {'C': [.01, .1, 1., 10., 100.]}"
   ]
  },
  {
   "cell_type": "code",
   "execution_count": 72,
   "metadata": {
    "collapsed": false
   },
   "outputs": [
    {
     "data": {
      "text/plain": [
       "GridSearchCV(cv=10,\n",
       "       estimator=LogisticRegression(C=1.0, class_weight='auto', dual=False, fit_intercept=True,\n",
       "          intercept_scaling=1, penalty='l2', random_state=None, tol=0.0001),\n",
       "       fit_params={}, iid=True, loss_func=None, n_jobs=1,\n",
       "       param_grid={'C': [0.01, 0.1, 1.0, 10.0, 100.0]},\n",
       "       pre_dispatch='2*n_jobs', refit=True, score_func=None, scoring=None,\n",
       "       verbose=0)"
      ]
     },
     "execution_count": 72,
     "metadata": {},
     "output_type": "execute_result"
    }
   ],
   "source": [
    "lgt = LogisticRegression(class_weight='auto')\n",
    "clf = GridSearchCV(lgt, logit_params, cv=10, )\n",
    "clf.fit(X, y)"
   ]
  },
  {
   "cell_type": "code",
   "execution_count": 77,
   "metadata": {
    "collapsed": false
   },
   "outputs": [
    {
     "data": {
      "text/plain": [
       "0.69038447905097244"
      ]
     },
     "execution_count": 77,
     "metadata": {},
     "output_type": "execute_result"
    }
   ],
   "source": [
    "clf.score(X, y)"
   ]
  },
  {
   "cell_type": "code",
   "execution_count": null,
   "metadata": {
    "collapsed": true
   },
   "outputs": [],
   "source": []
  },
  {
   "cell_type": "code",
   "execution_count": null,
   "metadata": {
    "collapsed": true
   },
   "outputs": [],
   "source": []
  },
  {
   "cell_type": "code",
   "execution_count": 330,
   "metadata": {
    "collapsed": false
   },
   "outputs": [
    {
     "data": {
      "text/plain": [
       "0.067301557293759015"
      ]
     },
     "execution_count": 330,
     "metadata": {},
     "output_type": "execute_result"
    }
   ],
   "source": [
    "y.mean()"
   ]
  },
  {
   "cell_type": "markdown",
   "metadata": {},
   "source": [
    "At first glance, the model is doing worse than the null (accepting every application)."
   ]
  },
  {
   "cell_type": "code",
   "execution_count": 152,
   "metadata": {
    "collapsed": false
   },
   "outputs": [
    {
     "data": {
      "text/html": [
       "<div>\n",
       "<table border=\"1\" class=\"dataframe\">\n",
       "  <thead>\n",
       "    <tr style=\"text-align: right;\">\n",
       "      <th></th>\n",
       "      <th>0</th>\n",
       "      <th>1</th>\n",
       "    </tr>\n",
       "  </thead>\n",
       "  <tbody>\n",
       "    <tr>\n",
       "      <th>79</th>\n",
       "      <td>C(COUNTRY_OF_CITIZENSHIP)[T.INDIA]</td>\n",
       "      <td>[-0.210501400157]</td>\n",
       "    </tr>\n",
       "    <tr>\n",
       "      <th>257</th>\n",
       "      <td>job_info_alt_occ</td>\n",
       "      <td>[-0.185110497166]</td>\n",
       "    </tr>\n",
       "    <tr>\n",
       "      <th>251</th>\n",
       "      <td>job_info_experience</td>\n",
       "      <td>[-0.136683492607]</td>\n",
       "    </tr>\n",
       "    <tr>\n",
       "      <th>254</th>\n",
       "      <td>job_info_alt_combo_ed_exp</td>\n",
       "      <td>[-0.129689930704]</td>\n",
       "    </tr>\n",
       "    <tr>\n",
       "      <th>205</th>\n",
       "      <td>C(CLASS_OF_ADMISSION)[T.H-1B]</td>\n",
       "      <td>[-0.118086633799]</td>\n",
       "    </tr>\n",
       "    <tr>\n",
       "      <th>215</th>\n",
       "      <td>C(CLASS_OF_ADMISSION)[T.L-1]</td>\n",
       "      <td>[-0.0915994879414]</td>\n",
       "    </tr>\n",
       "    <tr>\n",
       "      <th>5</th>\n",
       "      <td>C(JOB_INFO_EDUCATION)[T.Master's]</td>\n",
       "      <td>[-0.0895322439398]</td>\n",
       "    </tr>\n",
       "    <tr>\n",
       "      <th>265</th>\n",
       "      <td>recr_info_professional_occ</td>\n",
       "      <td>[-0.082052097418]</td>\n",
       "    </tr>\n",
       "    <tr>\n",
       "      <th>253</th>\n",
       "      <td>job_info_alt_field</td>\n",
       "      <td>[-0.0667763532009]</td>\n",
       "    </tr>\n",
       "    <tr>\n",
       "      <th>238</th>\n",
       "      <td>C(FOREIGN_WORKER_INFO_EDUCATION)[T.Doctorate]</td>\n",
       "      <td>[-0.0611430183019]</td>\n",
       "    </tr>\n",
       "  </tbody>\n",
       "</table>\n",
       "</div>"
      ],
      "text/plain": [
       "                                                 0                   1\n",
       "79              C(COUNTRY_OF_CITIZENSHIP)[T.INDIA]   [-0.210501400157]\n",
       "257                               job_info_alt_occ   [-0.185110497166]\n",
       "251                            job_info_experience   [-0.136683492607]\n",
       "254                      job_info_alt_combo_ed_exp   [-0.129689930704]\n",
       "205                  C(CLASS_OF_ADMISSION)[T.H-1B]   [-0.118086633799]\n",
       "215                   C(CLASS_OF_ADMISSION)[T.L-1]  [-0.0915994879414]\n",
       "5                C(JOB_INFO_EDUCATION)[T.Master's]  [-0.0895322439398]\n",
       "265                     recr_info_professional_occ   [-0.082052097418]\n",
       "253                             job_info_alt_field  [-0.0667763532009]\n",
       "238  C(FOREIGN_WORKER_INFO_EDUCATION)[T.Doctorate]  [-0.0611430183019]"
      ]
     },
     "execution_count": 152,
     "metadata": {},
     "output_type": "execute_result"
    }
   ],
   "source": [
    "# examining the coefficients\n",
    "logit_coef = pd.DataFrame(zip(X.columns, np.transpose(clf.best_estimator_.coef_))).sort_values(by=1)\n",
    "logit_coef.head(10)"
   ]
  },
  {
   "cell_type": "code",
   "execution_count": 153,
   "metadata": {
    "collapsed": false
   },
   "outputs": [
    {
     "data": {
      "text/html": [
       "<div>\n",
       "<table border=\"1\" class=\"dataframe\">\n",
       "  <thead>\n",
       "    <tr style=\"text-align: right;\">\n",
       "      <th></th>\n",
       "      <th>0</th>\n",
       "      <th>1</th>\n",
       "    </tr>\n",
       "  </thead>\n",
       "  <tbody>\n",
       "    <tr>\n",
       "      <th>260</th>\n",
       "      <td>job_info_foreign_lang_req</td>\n",
       "      <td>[0.0835561412303]</td>\n",
       "    </tr>\n",
       "    <tr>\n",
       "      <th>239</th>\n",
       "      <td>C(FOREIGN_WORKER_INFO_EDUCATION)[T.High School]</td>\n",
       "      <td>[0.110492096899]</td>\n",
       "    </tr>\n",
       "    <tr>\n",
       "      <th>133</th>\n",
       "      <td>C(COUNTRY_OF_CITIZENSHIP)[T.PHILIPPINES]</td>\n",
       "      <td>[0.112495224347]</td>\n",
       "    </tr>\n",
       "    <tr>\n",
       "      <th>113</th>\n",
       "      <td>C(COUNTRY_OF_CITIZENSHIP)[T.MEXICO]</td>\n",
       "      <td>[0.112744016898]</td>\n",
       "    </tr>\n",
       "    <tr>\n",
       "      <th>4</th>\n",
       "      <td>C(JOB_INFO_EDUCATION)[T.High School]</td>\n",
       "      <td>[0.113558841641]</td>\n",
       "    </tr>\n",
       "    <tr>\n",
       "      <th>268</th>\n",
       "      <td>ri_posted_notice_at_worksite</td>\n",
       "      <td>[0.171325294735]</td>\n",
       "    </tr>\n",
       "    <tr>\n",
       "      <th>241</th>\n",
       "      <td>C(FOREIGN_WORKER_INFO_EDUCATION)[T.None]</td>\n",
       "      <td>[0.234970877904]</td>\n",
       "    </tr>\n",
       "    <tr>\n",
       "      <th>6</th>\n",
       "      <td>C(JOB_INFO_EDUCATION)[T.None]</td>\n",
       "      <td>[0.32483780689]</td>\n",
       "    </tr>\n",
       "    <tr>\n",
       "      <th>0</th>\n",
       "      <td>Intercept</td>\n",
       "      <td>[0.33705841348]</td>\n",
       "    </tr>\n",
       "    <tr>\n",
       "      <th>259</th>\n",
       "      <td>job_info_job_req_normal</td>\n",
       "      <td>[0.560925303513]</td>\n",
       "    </tr>\n",
       "  </tbody>\n",
       "</table>\n",
       "</div>"
      ],
      "text/plain": [
       "                                                   0                  1\n",
       "260                        job_info_foreign_lang_req  [0.0835561412303]\n",
       "239  C(FOREIGN_WORKER_INFO_EDUCATION)[T.High School]   [0.110492096899]\n",
       "133         C(COUNTRY_OF_CITIZENSHIP)[T.PHILIPPINES]   [0.112495224347]\n",
       "113              C(COUNTRY_OF_CITIZENSHIP)[T.MEXICO]   [0.112744016898]\n",
       "4               C(JOB_INFO_EDUCATION)[T.High School]   [0.113558841641]\n",
       "268                     ri_posted_notice_at_worksite   [0.171325294735]\n",
       "241         C(FOREIGN_WORKER_INFO_EDUCATION)[T.None]   [0.234970877904]\n",
       "6                      C(JOB_INFO_EDUCATION)[T.None]    [0.32483780689]\n",
       "0                                          Intercept    [0.33705841348]\n",
       "259                          job_info_job_req_normal   [0.560925303513]"
      ]
     },
     "execution_count": 153,
     "metadata": {},
     "output_type": "execute_result"
    }
   ],
   "source": [
    "logit_coef.tail(10)"
   ]
  },
  {
   "cell_type": "markdown",
   "metadata": {},
   "source": [
    "According to the model, the strongest factor leading to application rejection is whether an applicant has Mexican citizenship. Appicants from the Philippines, Poland, and South America are also rejected at relatively high rates. Education requirements also matter: positions requiring only High School or an Associates Degree have more risk of rejection. Interestingly, foreign workers with an ownership stake in the hiring company may be at a disadvantage. Perhaps this is intended to encourage moneyed immigrants to simply apply for an investor visa (EB-5 and E-2). Some markers for rejection seem to point to a possibility for exploitation, with jobs requiring the worker to live on-site and live-in domestic workers facing heightened scrutiny. \n",
    "\n",
    "By far the strongest factor strengthening an application is the prevailing wage of the occupation. Simply put, better pay means a higher chance of acceptance. The second strongest factor is the size of the hiring company, with larger companies having a higher acceptance rate. Additional factors that strengthen an application are education, and experience. Jobs requiring at least a Bachelor's and a number of years of experience will have the highest acceptance rates. Not surprisingly, following all regulations, such as displaying a notice of filing at the workplace, reduces the risk of rejection. Candidates from India and South Korea have the best chances at acceptance."
   ]
  },
  {
   "cell_type": "markdown",
   "metadata": {},
   "source": [
    "### Evaluating the Model"
   ]
  },
  {
   "cell_type": "code",
   "execution_count": 78,
   "metadata": {
    "collapsed": false
   },
   "outputs": [
    {
     "data": {
      "text/plain": [
       "LogisticRegression(C=1.0, class_weight=None, dual=False, fit_intercept=True,\n",
       "          intercept_scaling=1, penalty='l2', random_state=None, tol=0.0001)"
      ]
     },
     "execution_count": 78,
     "metadata": {},
     "output_type": "execute_result"
    }
   ],
   "source": [
    "# evaluating the model by splitting into train and test sets\n",
    "X_train, X_test, y_train, y_test = train_test_split(X, y, test_size=.1, random_state=0)\n",
    "model2 = LogisticRegression()\n",
    "model2.fit(X_train, y_train)"
   ]
  },
  {
   "cell_type": "code",
   "execution_count": 79,
   "metadata": {
    "collapsed": false
   },
   "outputs": [
    {
     "data": {
      "text/plain": [
       "array([ 0.,  0.,  0., ...,  0.,  0.,  0.])"
      ]
     },
     "execution_count": 79,
     "metadata": {},
     "output_type": "execute_result"
    }
   ],
   "source": [
    "# predicting class labels for the test set\n",
    "predicted = model2.predict(X_test)\n",
    "predicted"
   ]
  },
  {
   "cell_type": "markdown",
   "metadata": {},
   "source": [
    "The default decision point for logistic regression is .5, but since application rejection is so rare, this does not identify many weak applications (too many type 2 errors). Lowering the threshold for classification will scoop up more rejected applications."
   ]
  },
  {
   "cell_type": "code",
   "execution_count": 146,
   "metadata": {
    "collapsed": false,
    "scrolled": true
   },
   "outputs": [],
   "source": [
    "# generating class probabilities, the adjusting the decision cutoff\n",
    "#probs = model2.predict_proba(X_test)\n",
    "probs = clf.predict_proba(X_test)\n",
    "count = []\n",
    "for prob in probs:\n",
    "    if prob[1] > .57:\n",
    "        count.append(1)\n",
    "    else:\n",
    "        count.append(0)\n",
    "predict2 = np.array(count)"
   ]
  },
  {
   "cell_type": "code",
   "execution_count": 147,
   "metadata": {
    "collapsed": false
   },
   "outputs": [
    {
     "name": "stdout",
     "output_type": "stream",
     "text": [
      "0.816398865784\n",
      "0.730698797288\n"
     ]
    }
   ],
   "source": [
    "# generating evaluation metrics\n",
    "print metrics.accuracy_score(y_test, predict2)\n",
    "print metrics.roc_auc_score(y_test, probs[:, 1])"
   ]
  },
  {
   "cell_type": "code",
   "execution_count": 148,
   "metadata": {
    "collapsed": false
   },
   "outputs": [
    {
     "name": "stdout",
     "output_type": "stream",
     "text": [
      "[[6632 1286]\n",
      " [ 268  278]]\n",
      "             precision    recall  f1-score   support\n",
      "\n",
      "        0.0       0.96      0.84      0.90      7918\n",
      "        1.0       0.18      0.51      0.26       546\n",
      "\n",
      "avg / total       0.91      0.82      0.85      8464\n",
      "\n"
     ]
    }
   ],
   "source": [
    "print metrics.confusion_matrix(y_test, predict2)\n",
    "print metrics.classification_report(y_test, predict2)"
   ]
  },
  {
   "cell_type": "markdown",
   "metadata": {},
   "source": [
    "While the model does have a lot of false-positives, these are not very costly. The result will simply be flagging an application as a possible rejection, leading to a strengthening of a possible weak application. The model identified over half of all rejections, and flagged about one sixth of accepted applications as weak. This means that the model *is* usefull in that applications classified as weak are rejected at triple the base-rate."
   ]
  },
  {
   "cell_type": "code",
   "execution_count": 337,
   "metadata": {
    "collapsed": false
   },
   "outputs": [
    {
     "name": "stdout",
     "output_type": "stream",
     "text": [
      "[ 0.93265595  0.93265595  0.93265595  0.93265595  0.93265595  0.93265595\n",
      "  0.93288432  0.93276616  0.93275821  0.93275821]\n",
      "0.932710263272\n"
     ]
    }
   ],
   "source": [
    "# evaluating the model using 10-fold cross-validation\n",
    "scores = cross_val_score(LogisticRegression(), X, y, scoring='accuracy', cv=10)\n",
    "print scores\n",
    "print scores.mean()"
   ]
  },
  {
   "cell_type": "markdown",
   "metadata": {},
   "source": [
    "Cross validation shows that the model generalizes reasonably well over different data samples."
   ]
  },
  {
   "cell_type": "markdown",
   "metadata": {},
   "source": [
    "## Decision Tree"
   ]
  },
  {
   "cell_type": "code",
   "execution_count": null,
   "metadata": {
    "collapsed": true
   },
   "outputs": [],
   "source": [
    "# creating and fitting a decision tree to the data\n",
    "tmodel = DecisionTreeClassifier()\n",
    "tmodel = tmodel.fit(X, y)"
   ]
  },
  {
   "cell_type": "code",
   "execution_count": null,
   "metadata": {
    "collapsed": false
   },
   "outputs": [],
   "source": [
    "# checking the accuracy on the training set\n",
    "tmodel.score(X, y)"
   ]
  },
  {
   "cell_type": "markdown",
   "metadata": {},
   "source": [
    "The tree is quite a bit more accurate than the logistic regression."
   ]
  },
  {
   "cell_type": "code",
   "execution_count": null,
   "metadata": {
    "collapsed": false
   },
   "outputs": [],
   "source": [
    "y.mean()"
   ]
  },
  {
   "cell_type": "code",
   "execution_count": null,
   "metadata": {
    "collapsed": false,
    "scrolled": true
   },
   "outputs": [],
   "source": [
    "# examining the feature importances\n",
    "pd.DataFrame(zip(X.columns, np.transpose(tmodel.feature_importances_ ))).sort_values(1).tail(20)"
   ]
  },
  {
   "cell_type": "markdown",
   "metadata": {},
   "source": [
    "The feature importance table largely corroborrates the conclusions from the logistic regression model. Strengthening factors have far more influence on acceptance than weakening factors, which makes sense, given the low rate or rejection. One new insight from the tree model is that having the employer complete the application is a significant factor. This, along with the importance of the size of the company, leads me to the narrative that large companies can dedicate significant resources, perhaps even dedicated employees, to ensuring that applications are well prepared."
   ]
  },
  {
   "cell_type": "markdown",
   "metadata": {},
   "source": [
    "### Evaluating the Model"
   ]
  },
  {
   "cell_type": "code",
   "execution_count": null,
   "metadata": {
    "collapsed": false
   },
   "outputs": [],
   "source": [
    "# evaluating the tree with train and test sets\n",
    "tmodel2 = DecisionTreeClassifier()\n",
    "tmodel2.fit(X_train, y_train)"
   ]
  },
  {
   "cell_type": "code",
   "execution_count": null,
   "metadata": {
    "collapsed": false
   },
   "outputs": [],
   "source": [
    "# predicting class labels for the test set\n",
    "tpredicted = tmodel2.predict(X_test)\n",
    "tpredicted"
   ]
  },
  {
   "cell_type": "code",
   "execution_count": null,
   "metadata": {
    "collapsed": false
   },
   "outputs": [],
   "source": [
    "# Adjusting decision cutoff to balance type I and type II errors\n",
    "tprobs = tmodel2.predict_proba(X_test)\n",
    "tcount = []\n",
    "for prob in tprobs:\n",
    "    if prob[1] > .3:\n",
    "        tcount.append(1)\n",
    "    else:\n",
    "        tcount.append(0)\n",
    "tpredict2 = np.array(tcount)"
   ]
  },
  {
   "cell_type": "code",
   "execution_count": null,
   "metadata": {
    "collapsed": false
   },
   "outputs": [],
   "source": [
    "# generating evaluation metrics\n",
    "print metrics.accuracy_score(y_test, tpredict2)\n",
    "print metrics.roc_auc_score(y_test, tprobs[:, 1])"
   ]
  },
  {
   "cell_type": "code",
   "execution_count": null,
   "metadata": {
    "collapsed": false
   },
   "outputs": [],
   "source": [
    "print metrics.confusion_matrix(y_test, tpredict2)\n",
    "print metrics.classification_report(y_test, tpredict2)"
   ]
  },
  {
   "cell_type": "markdown",
   "metadata": {},
   "source": [
    "The results show that the decision tree does not identify as many of the rejected applications as the logit model, it does produce significantly fewer false positive (type 1) errors. Running an application through both models will give a better idea of the risk. Applications flagged by logit but not decision tree have a higher chance of being false positives, and may not be especially weak. Applications flagged by the tree but logit may also be false positives, but should be regarded with more suspicion than those only flagged by logit, due to the lower rate of type 1 errors in the tree model. Applications classified as weak by both models are at an especially high risk of rejection."
   ]
  },
  {
   "cell_type": "code",
   "execution_count": null,
   "metadata": {
    "collapsed": false
   },
   "outputs": [],
   "source": [
    "# evaluating the model using 10-fold cross-validation\n",
    "scores = cross_val_score(DecisionTreeClassifier(), X, y, scoring='accuracy', cv=10)\n",
    "print scores\n",
    "print scores.mean()"
   ]
  },
  {
   "cell_type": "markdown",
   "metadata": {},
   "source": [
    "## Model Comparison"
   ]
  },
  {
   "cell_type": "code",
   "execution_count": null,
   "metadata": {
    "collapsed": false
   },
   "outputs": [],
   "source": [
    "metrics.confusion_matrix(predict2, tpredict2)"
   ]
  },
  {
   "cell_type": "markdown",
   "metadata": {},
   "source": [
    "The models agree in about 75% of cases, with the logit model predicting a significantly higher number of weak applications."
   ]
  },
  {
   "cell_type": "markdown",
   "metadata": {},
   "source": [
    "# H-1B Visas"
   ]
  },
  {
   "cell_type": "code",
   "execution_count": null,
   "metadata": {
    "collapsed": true
   },
   "outputs": [],
   "source": [
    "hdf = dflogit[dflogit.CLASS_OF_ADMISSION == 'H-1B']"
   ]
  },
  {
   "cell_type": "code",
   "execution_count": 687,
   "metadata": {
    "collapsed": false
   },
   "outputs": [
    {
     "data": {
      "text/plain": [
       "Index([u'Intercept', u'C(JOB_INFO_EDUCATION)[T.Bachelor's]',\n",
       "       u'C(JOB_INFO_EDUCATION)[T.Doctorate]',\n",
       "       u'C(JOB_INFO_EDUCATION)[T.High School]',\n",
       "       u'C(JOB_INFO_EDUCATION)[T.Master's]', u'C(JOB_INFO_EDUCATION)[T.None]',\n",
       "       u'C(JOB_INFO_EDUCATION)[T.Other]',\n",
       "       u'C(COUNTRY_OF_CITIZENSHIP)[T.AFGHANISTAN]',\n",
       "       u'C(COUNTRY_OF_CITIZENSHIP)[T.ALBANIA]',\n",
       "       u'C(COUNTRY_OF_CITIZENSHIP)[T.ALGERIA]',\n",
       "       ...\n",
       "       u'job_info_job_req_normal', u'job_info_foreign_lang_req',\n",
       "       u'job_info_combo_occupation', u'ji_foreign_worker_live_on_premises',\n",
       "       u'ji_live_in_domestic_service', u'recr_info_professional_occ',\n",
       "       u'recr_info_coll_univ_teacher', u'ri_posted_notice_at_worksite',\n",
       "       u'ri_layoff_in_past_six_months', u'preparer_info_emp_completed'],\n",
       "      dtype='object', length=209)"
      ]
     },
     "execution_count": 687,
     "metadata": {},
     "output_type": "execute_result"
    }
   ],
   "source": [
    "# prep dataframes for sklearn logit\n",
    "hy, hX = dmatrices(f, hdf, NA_action='raise', return_type=\"dataframe\")\n",
    "hX.columns"
   ]
  },
  {
   "cell_type": "code",
   "execution_count": 690,
   "metadata": {
    "collapsed": false
   },
   "outputs": [],
   "source": [
    "# flattening hy into a 1-D array\n",
    "hy = np.ravel(hy)"
   ]
  },
  {
   "cell_type": "code",
   "execution_count": 692,
   "metadata": {
    "collapsed": true
   },
   "outputs": [],
   "source": [
    "# creating a logistic regression model, and fit with hX and hy\n",
    "hmodel = LogisticRegression()\n",
    "hmodel = hmodel.fit(hX, hy)"
   ]
  },
  {
   "cell_type": "code",
   "execution_count": 695,
   "metadata": {
    "collapsed": false
   },
   "outputs": [
    {
     "data": {
      "text/plain": [
       "0.95153640562962505"
      ]
     },
     "execution_count": 695,
     "metadata": {},
     "output_type": "execute_result"
    }
   ],
   "source": [
    "# checking the accuracy on the training set\n",
    "hmodel.score(hX, hy)"
   ]
  },
  {
   "cell_type": "code",
   "execution_count": 696,
   "metadata": {
    "collapsed": false
   },
   "outputs": [
    {
     "data": {
      "text/plain": [
       "0.048000123592207511"
      ]
     },
     "execution_count": 696,
     "metadata": {},
     "output_type": "execute_result"
    }
   ],
   "source": [
    "hy.mean()"
   ]
  },
  {
   "cell_type": "code",
   "execution_count": 697,
   "metadata": {
    "collapsed": true
   },
   "outputs": [
    {
     "data": {
      "text/html": [
       "<div>\n",
       "<table border=\"1\" class=\"dataframe\">\n",
       "  <thead>\n",
       "    <tr style=\"text-align: right;\">\n",
       "      <th></th>\n",
       "      <th>0</th>\n",
       "      <th>1</th>\n",
       "    </tr>\n",
       "  </thead>\n",
       "  <tbody>\n",
       "    <tr>\n",
       "      <th>192</th>\n",
       "      <td>job_info_experience_num_months</td>\n",
       "      <td>[-0.00499028835077]</td>\n",
       "    </tr>\n",
       "    <tr>\n",
       "      <th>190</th>\n",
       "      <td>job_info_training_num_months</td>\n",
       "      <td>[-0.0031027054786]</td>\n",
       "    </tr>\n",
       "    <tr>\n",
       "      <th>195</th>\n",
       "      <td>job_info_alt_cmb_ed_oth_yrs</td>\n",
       "      <td>[-0.00126795991454]</td>\n",
       "    </tr>\n",
       "    <tr>\n",
       "      <th>196</th>\n",
       "      <td>job_info_foreign_ed</td>\n",
       "      <td>[-0.000863969311314]</td>\n",
       "    </tr>\n",
       "    <tr>\n",
       "      <th>0</th>\n",
       "      <td>Intercept</td>\n",
       "      <td>[-0.000836867036345]</td>\n",
       "    </tr>\n",
       "    <tr>\n",
       "      <th>206</th>\n",
       "      <td>ri_posted_notice_at_worksite</td>\n",
       "      <td>[-0.000794645661158]</td>\n",
       "    </tr>\n",
       "    <tr>\n",
       "      <th>191</th>\n",
       "      <td>job_info_experience</td>\n",
       "      <td>[-0.000698548603988]</td>\n",
       "    </tr>\n",
       "    <tr>\n",
       "      <th>204</th>\n",
       "      <td>recr_info_professional_occ</td>\n",
       "      <td>[-0.000631678812752]</td>\n",
       "    </tr>\n",
       "    <tr>\n",
       "      <th>199</th>\n",
       "      <td>job_info_job_req_normal</td>\n",
       "      <td>[-0.000561541567973]</td>\n",
       "    </tr>\n",
       "    <tr>\n",
       "      <th>197</th>\n",
       "      <td>job_info_alt_occ</td>\n",
       "      <td>[-0.000421074696638]</td>\n",
       "    </tr>\n",
       "    <tr>\n",
       "      <th>208</th>\n",
       "      <td>preparer_info_emp_completed</td>\n",
       "      <td>[-0.000390400153568]</td>\n",
       "    </tr>\n",
       "    <tr>\n",
       "      <th>74</th>\n",
       "      <td>C(COUNTRY_OF_CITIZENSHIP)[T.INDIA]</td>\n",
       "      <td>[-0.00038219605675]</td>\n",
       "    </tr>\n",
       "    <tr>\n",
       "      <th>194</th>\n",
       "      <td>job_info_alt_combo_ed_exp</td>\n",
       "      <td>[-0.000336194901338]</td>\n",
       "    </tr>\n",
       "    <tr>\n",
       "      <th>193</th>\n",
       "      <td>job_info_alt_field</td>\n",
       "      <td>[-0.000324970681453]</td>\n",
       "    </tr>\n",
       "    <tr>\n",
       "      <th>4</th>\n",
       "      <td>C(JOB_INFO_EDUCATION)[T.Master's]</td>\n",
       "      <td>[-0.000285345444026]</td>\n",
       "    </tr>\n",
       "    <tr>\n",
       "      <th>1</th>\n",
       "      <td>C(JOB_INFO_EDUCATION)[T.Bachelor's]</td>\n",
       "      <td>[-0.000282588349143]</td>\n",
       "    </tr>\n",
       "    <tr>\n",
       "      <th>179</th>\n",
       "      <td>C(FOREIGN_WORKER_INFO_EDUCATION)[T.Bachelor's]</td>\n",
       "      <td>[-0.000278868888795]</td>\n",
       "    </tr>\n",
       "    <tr>\n",
       "      <th>180</th>\n",
       "      <td>C(FOREIGN_WORKER_INFO_EDUCATION)[T.Doctorate]</td>\n",
       "      <td>[-0.000264545736459]</td>\n",
       "    </tr>\n",
       "    <tr>\n",
       "      <th>205</th>\n",
       "      <td>recr_info_coll_univ_teacher</td>\n",
       "      <td>[-0.000254956674776]</td>\n",
       "    </tr>\n",
       "    <tr>\n",
       "      <th>182</th>\n",
       "      <td>C(FOREIGN_WORKER_INFO_EDUCATION)[T.Master's]</td>\n",
       "      <td>[-0.000246081776289]</td>\n",
       "    </tr>\n",
       "    <tr>\n",
       "      <th>2</th>\n",
       "      <td>C(JOB_INFO_EDUCATION)[T.Doctorate]</td>\n",
       "      <td>[-0.000232546758895]</td>\n",
       "    </tr>\n",
       "    <tr>\n",
       "      <th>38</th>\n",
       "      <td>C(COUNTRY_OF_CITIZENSHIP)[T.CHINA]</td>\n",
       "      <td>[-0.000150667031815]</td>\n",
       "    </tr>\n",
       "    <tr>\n",
       "      <th>6</th>\n",
       "      <td>C(JOB_INFO_EDUCATION)[T.Other]</td>\n",
       "      <td>[-0.000111108842524]</td>\n",
       "    </tr>\n",
       "    <tr>\n",
       "      <th>184</th>\n",
       "      <td>C(FOREIGN_WORKER_INFO_EDUCATION)[T.Other]</td>\n",
       "      <td>[-9.71216030026e-05]</td>\n",
       "    </tr>\n",
       "    <tr>\n",
       "      <th>145</th>\n",
       "      <td>C(COUNTRY_OF_CITIZENSHIP)[T.SOUTH KOREA]</td>\n",
       "      <td>[-8.63525262234e-05]</td>\n",
       "    </tr>\n",
       "    <tr>\n",
       "      <th>189</th>\n",
       "      <td>job_info_training</td>\n",
       "      <td>[-6.05242341864e-05]</td>\n",
       "    </tr>\n",
       "    <tr>\n",
       "      <th>188</th>\n",
       "      <td>pw_amount_9089</td>\n",
       "      <td>[-3.51038235757e-05]</td>\n",
       "    </tr>\n",
       "    <tr>\n",
       "      <th>36</th>\n",
       "      <td>C(COUNTRY_OF_CITIZENSHIP)[T.CANADA]</td>\n",
       "      <td>[-2.67562606489e-05]</td>\n",
       "    </tr>\n",
       "    <tr>\n",
       "      <th>164</th>\n",
       "      <td>C(COUNTRY_OF_CITIZENSHIP)[T.TURKEY]</td>\n",
       "      <td>[-2.53700787888e-05]</td>\n",
       "    </tr>\n",
       "    <tr>\n",
       "      <th>112</th>\n",
       "      <td>C(COUNTRY_OF_CITIZENSHIP)[T.NEPAL]</td>\n",
       "      <td>[-2.35245873692e-05]</td>\n",
       "    </tr>\n",
       "    <tr>\n",
       "      <th>...</th>\n",
       "      <td>...</td>\n",
       "      <td>...</td>\n",
       "    </tr>\n",
       "    <tr>\n",
       "      <th>151</th>\n",
       "      <td>C(COUNTRY_OF_CITIZENSHIP)[T.ST VINCENT]</td>\n",
       "      <td>[9.31431312487e-07]</td>\n",
       "    </tr>\n",
       "    <tr>\n",
       "      <th>159</th>\n",
       "      <td>C(COUNTRY_OF_CITIZENSHIP)[T.TANZANIA]</td>\n",
       "      <td>[9.71417136179e-07]</td>\n",
       "    </tr>\n",
       "    <tr>\n",
       "      <th>150</th>\n",
       "      <td>C(COUNTRY_OF_CITIZENSHIP)[T.ST LUCIA]</td>\n",
       "      <td>[1.03013608472e-06]</td>\n",
       "    </tr>\n",
       "    <tr>\n",
       "      <th>96</th>\n",
       "      <td>C(COUNTRY_OF_CITIZENSHIP)[T.LUXEMBOURG]</td>\n",
       "      <td>[1.13435496223e-06]</td>\n",
       "    </tr>\n",
       "    <tr>\n",
       "      <th>120</th>\n",
       "      <td>C(COUNTRY_OF_CITIZENSHIP)[T.PAKISTAN]</td>\n",
       "      <td>[1.16325231625e-06]</td>\n",
       "    </tr>\n",
       "    <tr>\n",
       "      <th>55</th>\n",
       "      <td>C(COUNTRY_OF_CITIZENSHIP)[T.ETHIOPIA]</td>\n",
       "      <td>[1.43668924628e-06]</td>\n",
       "    </tr>\n",
       "    <tr>\n",
       "      <th>3</th>\n",
       "      <td>C(JOB_INFO_EDUCATION)[T.High School]</td>\n",
       "      <td>[1.7360833528e-06]</td>\n",
       "    </tr>\n",
       "    <tr>\n",
       "      <th>27</th>\n",
       "      <td>C(COUNTRY_OF_CITIZENSHIP)[T.BOSNIA AND HERZEGO...</td>\n",
       "      <td>[1.83457067357e-06]</td>\n",
       "    </tr>\n",
       "    <tr>\n",
       "      <th>9</th>\n",
       "      <td>C(COUNTRY_OF_CITIZENSHIP)[T.ALGERIA]</td>\n",
       "      <td>[1.85040008848e-06]</td>\n",
       "    </tr>\n",
       "    <tr>\n",
       "      <th>138</th>\n",
       "      <td>C(COUNTRY_OF_CITIZENSHIP)[T.SERBIA AND MONTENE...</td>\n",
       "      <td>[1.96796208914e-06]</td>\n",
       "    </tr>\n",
       "    <tr>\n",
       "      <th>82</th>\n",
       "      <td>C(COUNTRY_OF_CITIZENSHIP)[T.JAMAICA]</td>\n",
       "      <td>[2.49741504272e-06]</td>\n",
       "    </tr>\n",
       "    <tr>\n",
       "      <th>107</th>\n",
       "      <td>C(COUNTRY_OF_CITIZENSHIP)[T.MOLDOVA]</td>\n",
       "      <td>[2.61919348697e-06]</td>\n",
       "    </tr>\n",
       "    <tr>\n",
       "      <th>144</th>\n",
       "      <td>C(COUNTRY_OF_CITIZENSHIP)[T.SOUTH AFRICA]</td>\n",
       "      <td>[2.70086494918e-06]</td>\n",
       "    </tr>\n",
       "    <tr>\n",
       "      <th>46</th>\n",
       "      <td>C(COUNTRY_OF_CITIZENSHIP)[T.DENMARK]</td>\n",
       "      <td>[2.94024032921e-06]</td>\n",
       "    </tr>\n",
       "    <tr>\n",
       "      <th>64</th>\n",
       "      <td>C(COUNTRY_OF_CITIZENSHIP)[T.GRENADA]</td>\n",
       "      <td>[3.10023253927e-06]</td>\n",
       "    </tr>\n",
       "    <tr>\n",
       "      <th>125</th>\n",
       "      <td>C(COUNTRY_OF_CITIZENSHIP)[T.PERU]</td>\n",
       "      <td>[3.30144738854e-06]</td>\n",
       "    </tr>\n",
       "    <tr>\n",
       "      <th>141</th>\n",
       "      <td>C(COUNTRY_OF_CITIZENSHIP)[T.SLOVAKIA]</td>\n",
       "      <td>[3.95876736336e-06]</td>\n",
       "    </tr>\n",
       "    <tr>\n",
       "      <th>202</th>\n",
       "      <td>ji_foreign_worker_live_on_premises</td>\n",
       "      <td>[4.83873343536e-06]</td>\n",
       "    </tr>\n",
       "    <tr>\n",
       "      <th>200</th>\n",
       "      <td>job_info_foreign_lang_req</td>\n",
       "      <td>[6.51110738243e-06]</td>\n",
       "    </tr>\n",
       "    <tr>\n",
       "      <th>11</th>\n",
       "      <td>C(COUNTRY_OF_CITIZENSHIP)[T.ARGENTINA]</td>\n",
       "      <td>[7.26390199427e-06]</td>\n",
       "    </tr>\n",
       "    <tr>\n",
       "      <th>173</th>\n",
       "      <td>C(COUNTRY_OF_CITIZENSHIP)[T.VENEZUELA]</td>\n",
       "      <td>[8.2246168368e-06]</td>\n",
       "    </tr>\n",
       "    <tr>\n",
       "      <th>185</th>\n",
       "      <td>refile</td>\n",
       "      <td>[9.37278266599e-06]</td>\n",
       "    </tr>\n",
       "    <tr>\n",
       "      <th>170</th>\n",
       "      <td>C(COUNTRY_OF_CITIZENSHIP)[T.UNITED STATES OF A...</td>\n",
       "      <td>[1.14992522136e-05]</td>\n",
       "    </tr>\n",
       "    <tr>\n",
       "      <th>181</th>\n",
       "      <td>C(FOREIGN_WORKER_INFO_EDUCATION)[T.High School]</td>\n",
       "      <td>[1.17439466802e-05]</td>\n",
       "    </tr>\n",
       "    <tr>\n",
       "      <th>187</th>\n",
       "      <td>foreign_worker_ownership_interest</td>\n",
       "      <td>[1.45743271453e-05]</td>\n",
       "    </tr>\n",
       "    <tr>\n",
       "      <th>183</th>\n",
       "      <td>C(FOREIGN_WORKER_INFO_EDUCATION)[T.None]</td>\n",
       "      <td>[2.27686248423e-05]</td>\n",
       "    </tr>\n",
       "    <tr>\n",
       "      <th>126</th>\n",
       "      <td>C(COUNTRY_OF_CITIZENSHIP)[T.PHILIPPINES]</td>\n",
       "      <td>[3.13166639954e-05]</td>\n",
       "    </tr>\n",
       "    <tr>\n",
       "      <th>106</th>\n",
       "      <td>C(COUNTRY_OF_CITIZENSHIP)[T.MEXICO]</td>\n",
       "      <td>[3.88434524211e-05]</td>\n",
       "    </tr>\n",
       "    <tr>\n",
       "      <th>5</th>\n",
       "      <td>C(JOB_INFO_EDUCATION)[T.None]</td>\n",
       "      <td>[5.27788063334e-05]</td>\n",
       "    </tr>\n",
       "    <tr>\n",
       "      <th>198</th>\n",
       "      <td>job_info_alt_occ_num_months</td>\n",
       "      <td>[0.00311185092426]</td>\n",
       "    </tr>\n",
       "  </tbody>\n",
       "</table>\n",
       "<p>209 rows × 2 columns</p>\n",
       "</div>"
      ],
      "text/plain": [
       "                                                     0                     1\n",
       "192                     job_info_experience_num_months   [-0.00499028835077]\n",
       "190                       job_info_training_num_months    [-0.0031027054786]\n",
       "195                        job_info_alt_cmb_ed_oth_yrs   [-0.00126795991454]\n",
       "196                                job_info_foreign_ed  [-0.000863969311314]\n",
       "0                                            Intercept  [-0.000836867036345]\n",
       "206                       ri_posted_notice_at_worksite  [-0.000794645661158]\n",
       "191                                job_info_experience  [-0.000698548603988]\n",
       "204                         recr_info_professional_occ  [-0.000631678812752]\n",
       "199                            job_info_job_req_normal  [-0.000561541567973]\n",
       "197                                   job_info_alt_occ  [-0.000421074696638]\n",
       "208                        preparer_info_emp_completed  [-0.000390400153568]\n",
       "74                  C(COUNTRY_OF_CITIZENSHIP)[T.INDIA]   [-0.00038219605675]\n",
       "194                          job_info_alt_combo_ed_exp  [-0.000336194901338]\n",
       "193                                 job_info_alt_field  [-0.000324970681453]\n",
       "4                    C(JOB_INFO_EDUCATION)[T.Master's]  [-0.000285345444026]\n",
       "1                  C(JOB_INFO_EDUCATION)[T.Bachelor's]  [-0.000282588349143]\n",
       "179     C(FOREIGN_WORKER_INFO_EDUCATION)[T.Bachelor's]  [-0.000278868888795]\n",
       "180      C(FOREIGN_WORKER_INFO_EDUCATION)[T.Doctorate]  [-0.000264545736459]\n",
       "205                        recr_info_coll_univ_teacher  [-0.000254956674776]\n",
       "182       C(FOREIGN_WORKER_INFO_EDUCATION)[T.Master's]  [-0.000246081776289]\n",
       "2                   C(JOB_INFO_EDUCATION)[T.Doctorate]  [-0.000232546758895]\n",
       "38                  C(COUNTRY_OF_CITIZENSHIP)[T.CHINA]  [-0.000150667031815]\n",
       "6                       C(JOB_INFO_EDUCATION)[T.Other]  [-0.000111108842524]\n",
       "184          C(FOREIGN_WORKER_INFO_EDUCATION)[T.Other]  [-9.71216030026e-05]\n",
       "145           C(COUNTRY_OF_CITIZENSHIP)[T.SOUTH KOREA]  [-8.63525262234e-05]\n",
       "189                                  job_info_training  [-6.05242341864e-05]\n",
       "188                                     pw_amount_9089  [-3.51038235757e-05]\n",
       "36                 C(COUNTRY_OF_CITIZENSHIP)[T.CANADA]  [-2.67562606489e-05]\n",
       "164                C(COUNTRY_OF_CITIZENSHIP)[T.TURKEY]  [-2.53700787888e-05]\n",
       "112                 C(COUNTRY_OF_CITIZENSHIP)[T.NEPAL]  [-2.35245873692e-05]\n",
       "..                                                 ...                   ...\n",
       "151            C(COUNTRY_OF_CITIZENSHIP)[T.ST VINCENT]   [9.31431312487e-07]\n",
       "159              C(COUNTRY_OF_CITIZENSHIP)[T.TANZANIA]   [9.71417136179e-07]\n",
       "150              C(COUNTRY_OF_CITIZENSHIP)[T.ST LUCIA]   [1.03013608472e-06]\n",
       "96             C(COUNTRY_OF_CITIZENSHIP)[T.LUXEMBOURG]   [1.13435496223e-06]\n",
       "120              C(COUNTRY_OF_CITIZENSHIP)[T.PAKISTAN]   [1.16325231625e-06]\n",
       "55               C(COUNTRY_OF_CITIZENSHIP)[T.ETHIOPIA]   [1.43668924628e-06]\n",
       "3                 C(JOB_INFO_EDUCATION)[T.High School]    [1.7360833528e-06]\n",
       "27   C(COUNTRY_OF_CITIZENSHIP)[T.BOSNIA AND HERZEGO...   [1.83457067357e-06]\n",
       "9                 C(COUNTRY_OF_CITIZENSHIP)[T.ALGERIA]   [1.85040008848e-06]\n",
       "138  C(COUNTRY_OF_CITIZENSHIP)[T.SERBIA AND MONTENE...   [1.96796208914e-06]\n",
       "82                C(COUNTRY_OF_CITIZENSHIP)[T.JAMAICA]   [2.49741504272e-06]\n",
       "107               C(COUNTRY_OF_CITIZENSHIP)[T.MOLDOVA]   [2.61919348697e-06]\n",
       "144          C(COUNTRY_OF_CITIZENSHIP)[T.SOUTH AFRICA]   [2.70086494918e-06]\n",
       "46                C(COUNTRY_OF_CITIZENSHIP)[T.DENMARK]   [2.94024032921e-06]\n",
       "64                C(COUNTRY_OF_CITIZENSHIP)[T.GRENADA]   [3.10023253927e-06]\n",
       "125                  C(COUNTRY_OF_CITIZENSHIP)[T.PERU]   [3.30144738854e-06]\n",
       "141              C(COUNTRY_OF_CITIZENSHIP)[T.SLOVAKIA]   [3.95876736336e-06]\n",
       "202                 ji_foreign_worker_live_on_premises   [4.83873343536e-06]\n",
       "200                          job_info_foreign_lang_req   [6.51110738243e-06]\n",
       "11              C(COUNTRY_OF_CITIZENSHIP)[T.ARGENTINA]   [7.26390199427e-06]\n",
       "173             C(COUNTRY_OF_CITIZENSHIP)[T.VENEZUELA]    [8.2246168368e-06]\n",
       "185                                             refile   [9.37278266599e-06]\n",
       "170  C(COUNTRY_OF_CITIZENSHIP)[T.UNITED STATES OF A...   [1.14992522136e-05]\n",
       "181    C(FOREIGN_WORKER_INFO_EDUCATION)[T.High School]   [1.17439466802e-05]\n",
       "187                  foreign_worker_ownership_interest   [1.45743271453e-05]\n",
       "183           C(FOREIGN_WORKER_INFO_EDUCATION)[T.None]   [2.27686248423e-05]\n",
       "126           C(COUNTRY_OF_CITIZENSHIP)[T.PHILIPPINES]   [3.13166639954e-05]\n",
       "106                C(COUNTRY_OF_CITIZENSHIP)[T.MEXICO]   [3.88434524211e-05]\n",
       "5                        C(JOB_INFO_EDUCATION)[T.None]   [5.27788063334e-05]\n",
       "198                        job_info_alt_occ_num_months    [0.00311185092426]\n",
       "\n",
       "[209 rows x 2 columns]"
      ]
     },
     "execution_count": 697,
     "metadata": {},
     "output_type": "execute_result"
    }
   ],
   "source": [
    "# examining the coefficients\n",
    "(pd.DataFrame(zip(hX.columns, np.transpose(hmodel.coef_))).sort_values(by=1))"
   ]
  },
  {
   "cell_type": "code",
   "execution_count": 698,
   "metadata": {
    "collapsed": false
   },
   "outputs": [
    {
     "data": {
      "text/plain": [
       "LogisticRegression(C=1.0, class_weight=None, dual=False, fit_intercept=True,\n",
       "          intercept_scaling=1, penalty='l2', random_state=None, tol=0.0001)"
      ]
     },
     "execution_count": 698,
     "metadata": {},
     "output_type": "execute_result"
    }
   ],
   "source": [
    "# evaluating the model by splitting into train and test sets\n",
    "hX_train, hX_test, hy_train, hy_test = train_test_split(hX, hy, test_size=.1, random_state=0)\n",
    "hmodel2 = LogisticRegression()\n",
    "hmodel2.fit(hX_train, hy_train)"
   ]
  },
  {
   "cell_type": "code",
   "execution_count": 699,
   "metadata": {
    "collapsed": false
   },
   "outputs": [
    {
     "data": {
      "text/plain": [
       "array([ 0.,  0.,  0., ...,  1.,  0.,  0.])"
      ]
     },
     "execution_count": 699,
     "metadata": {},
     "output_type": "execute_result"
    }
   ],
   "source": [
    "# predicting class labels for the test set\n",
    "hpredicted = hmodel2.predict(hX_test)\n",
    "hpredicted"
   ]
  },
  {
   "cell_type": "code",
   "execution_count": 709,
   "metadata": {
    "collapsed": true
   },
   "outputs": [],
   "source": [
    "# generating class probabilities, the adjusting the decision cutoff\n",
    "hprobs = hmodel2.predict_proba(hX_test)\n",
    "hcount = []\n",
    "for prob in hprobs:\n",
    "    if prob[1] > .05:\n",
    "        hcount.append(1)\n",
    "    else:\n",
    "        hcount.append(0)\n",
    "hpredict2 = np.array(hcount)"
   ]
  },
  {
   "cell_type": "code",
   "execution_count": 710,
   "metadata": {
    "collapsed": false
   },
   "outputs": [
    {
     "name": "stdout",
     "output_type": "stream",
     "text": [
      "0.575312837942\n",
      "0.609608244279\n"
     ]
    }
   ],
   "source": [
    "# generating evaluation metrics\n",
    "print metrics.accuracy_score(hy_test, hpredict2)\n",
    "print metrics.roc_auc_score(hy_test, hprobs[:, 1])"
   ]
  },
  {
   "cell_type": "code",
   "execution_count": 711,
   "metadata": {
    "collapsed": false
   },
   "outputs": [
    {
     "name": "stdout",
     "output_type": "stream",
     "text": [
      "[[3545 2606]\n",
      " [ 143  179]]\n",
      "             precision    recall  f1-score   support\n",
      "\n",
      "        0.0       0.96      0.58      0.72      6151\n",
      "        1.0       0.06      0.56      0.12       322\n",
      "\n",
      "avg / total       0.92      0.58      0.69      6473\n",
      "\n"
     ]
    }
   ],
   "source": [
    "print metrics.confusion_matrix(hy_test, hpredict2)\n",
    "print metrics.classification_report(hy_test, hpredict2)"
   ]
  },
  {
   "cell_type": "code",
   "execution_count": null,
   "metadata": {
    "collapsed": true
   },
   "outputs": [],
   "source": []
  },
  {
   "cell_type": "code",
   "execution_count": null,
   "metadata": {
    "collapsed": true
   },
   "outputs": [],
   "source": []
  },
  {
   "cell_type": "code",
   "execution_count": null,
   "metadata": {
    "collapsed": true
   },
   "outputs": [],
   "source": []
  }
 ],
 "metadata": {
  "kernelspec": {
   "display_name": "Python 2",
   "language": "python",
   "name": "python2"
  },
  "language_info": {
   "codemirror_mode": {
    "name": "ipython",
    "version": 2
   },
   "file_extension": ".py",
   "mimetype": "text/x-python",
   "name": "python",
   "nbconvert_exporter": "python",
   "pygments_lexer": "ipython2",
   "version": "2.7.10"
  }
 },
 "nbformat": 4,
 "nbformat_minor": 0
}

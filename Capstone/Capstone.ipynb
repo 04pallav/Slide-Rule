{
 "cells": [
  {
   "cell_type": "markdown",
   "metadata": {},
   "source": [
    "# Predicting Acceptance of US Visa Applications Using Machine Learning\n",
    "Capstone Project for SlideRule Intensive Data Science workshop.\n",
    "\n",
    "Charles Franzen"
   ]
  },
  {
   "cell_type": "markdown",
   "metadata": {},
   "source": [
    "## The Project\n",
    "\n",
    "Each year hundreds of thousands of applications are filed for work visas in the US. So many, in fact, that legistated caps on the number of H-1B applications have been reached every single year since 2007. In 2008, the quota was reached on the first day of open applications. In light of this, companies and potential employees that are lucky enough to get their application in via the lottery want to ensure that they have as high a chance as possible of having their application approved.\n",
    "\n",
    "This project investigates application data sets and create models that predict the risk of rejection of a new application. These models can evaluate the strength of an application before it is submitted, and provide insights into how a weak application can be improved. The models also elucidate the most important factors determining the fate of a visa application.\n",
    "\n",
    "## The Data\n",
    "\n",
    "The data are published by the US Dapartment of Labor. The data sets are comprised of quarterly application data and decisions for different types of visas in 2015. The data (72 MB) is found at:\n",
    "\n",
    "        http://www.foreignlaborcert.doleta.gov/docs/py2015q4/PERM_Disclosure_Data_FY15_Q4.xlsx\n",
    "        \n",
    "With the record layout at:\n",
    "\n",
    "        http://www.foreignlaborcert.doleta.gov/docs/py2015q4/PERM_FY15_Record_Layout.doc\n",
    "\n",
    "The data fields cover a wide range of information, including details about the country of origin of the applicant, location and type of the job, pay and educational requirements of the job, education of the applicant, and whether all regulatory hurdles have been cleared.\n",
    "\n",
    "H-1B visas are work visas that are only for 'specialty applications', and therefore can act as a bellweather for how much highly-educated talent the US is importing.\n",
    "\n",
    "## Methodology\n",
    "\n",
    "I have treated this as a supervised learning classification problem. The binary variable 'denied' indicates whether an application was rejected.\n",
    "\n",
    "### Libraries\n",
    "\n",
    "pandas for:\n",
    "\n",
    "        data loading, wrangling, cleaning, and manipulation\n",
    "        feature selection and engineering\n",
    "        descriptive statistics\n",
    "\n",
    "numpy for:\n",
    "\n",
    "        array data structure, the primary input for classifiers\n",
    "        model comparison\n",
    "        matrix manipulation\n",
    "\n",
    "patsy for:\n",
    "\n",
    "        dummy variable creation\n",
    "        array formatting for classifiers\n",
    "        \n",
    "scikit-learn for:\n",
    "\n",
    "        classifier models\n",
    "        parameter gridsearch\n",
    "        model evaluation\n",
    "        \n",
    "matplotlib for:\n",
    "        \n",
    "        data visualization\n",
    "        \n",
    "### Data Wrangling and Cleaning\n",
    "\n",
    "The data come in the form of MS Excel spreadsheets, which are easily loaded into pandas dataframes. All the data are formatted as unicode strings, some of which pandas handles automatically. For example, the submission dates are automatically read as pandas date-time objects. Some strings require a little more work to prepare them for the classifiers. Yes/No fields are converted in to binary integers, and commas are removed from numerical data before converting them to floats. To deal with categorical data, dummy variables are created for each category using a patsy formula. NaNs are handled by filling in a 0, since I prefer that a feature is underweighted due to extra zeros, rather than overweighted due to extra ones.\n",
    "\n",
    "### Feature Selection and Engineering\n",
    "\n",
    "Since the data set is large, I've included as many features as possible, since I do not want to rely on intuition or fuzzy logic to build the model. Including as much information as possible increases the chances of unveiling a new or surprising insight. To capture seasonal variations, the month of each application submission was extracted and treated as a categorical variable. In order to gauge the effect of higher or lower than normal salary offers, A feature was created to identify offers with a significantly higher or lower salary than the prevailing wage for the job.\n",
    "\n",
    "### Model Fitting\n",
    "\n",
    "Models were fit using GridSearchCV, which searches through a grid of parameters for each model, returning the model that gives the highest k-fold cross validation score.\n",
    "\n",
    "#### Logistic Regression (Logit)\n",
    "\n",
    "Logistic regression is usefull in that it returns coefficients for each feature, which might be positive or negative, giving an indication of whether a particular feature is weakening or strengthening an application. This is in contrast to decision tree-based models, which only report 'feature importance'.\n",
    "\n",
    "Scikit Learn does not provide a method for adjusting the threshold probability for classification (default is .5), so this had to be adjusted manually. This was repeated for all other classifiers.\n",
    "\n",
    "#### Decision Tree Classification (DTC)\n",
    "\n",
    "Once the data is formatted for Logistic Regression, it is easy to fit a decision tree and, indeed, all the other classifiers. Decision Trees are somewhat computationaly expensive, so the number of parameter combinations that can be tested is limited.\n",
    "\n",
    "#### Random Forest  (RF)\n",
    "\n",
    "This ensemble method pairs well with Decisions Trees, as it creates random trees and evaluates them. This is a good way to check many different trees, as opposed to DTC. As it creates and compares 10 different trees every time it's called, RF gets very expensive, so cross-validation was limited to 5-fold.\n",
    "\n",
    "#### Gradient Boosting Classifier (GBC)\n",
    "\n",
    "This ensemble method creates a strong learner out of many weak learners (trees in this case). It begins with a base model, then iteratively adjusts it, stepping down the cost-function gradient. A modification of the model fits the base tree to a random sample of the training set. This is called Stochastic Gradient Boosting, and was identified by grid search as a more accurate model. Gradient Boosting is also very expensive, so parameter optimization was limited.\n",
    "\n",
    "#### Voting Classifier (Vote)\n",
    "\n",
    "In order to summarize the combined wisdom of the different models, a voting classifier is used, identifying the riskiest applications by consensus.\n",
    "\n",
    "### Model Evaluation\n",
    "\n",
    "Accuracy does not turn out to be a very useful way of evaluating the models. Instead, precision and recall are much more important. The goal is to find a model that flags at least half of all rejected applications, and for the flagged applications to be at as high a risk as possible of being rejected. This way, if an application is flagged, it will be known that it at much higher than average risk of being rejected, and a decision can be made accordingly.\n",
    "\n",
    "To do the evaluation, I used confusion matrices to analyze precision and recall for each model. I also tuned the probability at which an application was flagged risky, using binary search in most cases, and linear search in the one case (DCT) where this did not work.\n",
    "\n",
    "I also did a final k-fold cross-validation to ensure that there were not wild variations in accuracy across different data samples, which might indicate overfitting to training data.\n",
    "\n",
    "## Results\n",
    "\n",
    "The selected models were very effective in searching out risky applications. The null hypothesis is for this problem is the risk that an application will be rejected if no applications are flagged as risky, which is about 7%.\n",
    "\n",
    "$ H_{null}=.067$\n",
    "\n",
    "For every model, flagged applications were at a much greater risk of rejection:\n",
    "\n",
    "    Model        Risk\n",
    "    \n",
    "    Logit        .18\n",
    "    DTC          .34\n",
    "    RF           .31\n",
    "    GBC          .23\n",
    "    Vote         .24\n",
    "        \n",
    "\n",
    "All of the coefficients and feature importances are listed below, but the primary trend is that highly-paid specialists are at the lowest risk of being rejected. Positions requiring little or no education, or with low wages and, especially, wages below the prevailing wage for the industry are rejected at high rates. Applications prepared in house by the sponsoring company are also at an advantage. H-1B visas are rejected at a lower rate than other visa types.\n",
    "\n",
    "A less prominent narrative concerns the opportunity to exploit foreign workers: jobs that require the worker to live at the work site and live in domestic workers are rejected at a higher-than-normal rate. In jobs like these, the worker is at considerable risk of exploitation at the hands of their employer, so this may be a measure to prevent human trafficking or labor abuses.\n",
    "\n",
    "There are geographical and seasonal patterns. Indians have a low rate of rejection, and Mexicans a high one, and March is the best month to turn in a application, but these variables are of dubious causal significance.\n",
    "\n",
    "## Limitations\n",
    "\n",
    "Since the base rate of application rejection is so low (6.7% for all visa types), it is difficult to suss out relevant variables. The models tended to have a high number of false-negatives (type II errors).\n",
    "\n",
    "The models also end up provinding some unhelpful insights. For example, country of citizenship is a strong factor in application acceptance. It won't be helpful to most applicants to tell them to change their citizenship.\n",
    "\n",
    "## Further Research\n",
    "\n",
    "All of the important features can be examined for further correlations/patterns. Some features seem likely candidates for dimensionality reduction through PCA, like the three wage features.\n",
    "\n",
    "Risk assessment for specific visa types could be carried out using these same techniques. H-1B is the likely candidate.\n",
    "\n",
    "The project could be wrapped in a web application and tested on real world data, asking visa applicants to input their info and report back their results, which could be compared to the model's prediction. When new quarterly data are published, the model's predictive capabilities can be tested in earnest.\n",
    "\n",
    "This projects also acts as a proof-of-concept for application analysis. It could easily be applied to other types of applications for which large data sets exist.\n",
    "\n",
    "## Client Recommendations\n",
    "\n",
    "To minimize the risk of a costly rejection, companies should screen foreign applicants and choose the best qualified, with the lowest chances of rejection. Screened applicants should then have their applications prepared either in house or by an immigration professional (most likely a lawyer).\n",
    "\n",
    "If all available candidates are risky, the company should look at the application features that are most significantly increasing risk and alter the application and their job offer to reduce risk. Common recommendations will be to apply for H-1B visas and increase the wage being offered. "
   ]
  },
  {
   "cell_type": "markdown",
   "metadata": {},
   "source": [
    "# Code"
   ]
  },
  {
   "cell_type": "markdown",
   "metadata": {},
   "source": [
    "## Import Modules"
   ]
  },
  {
   "cell_type": "code",
   "execution_count": 1,
   "metadata": {
    "collapsed": false
   },
   "outputs": [],
   "source": [
    "% matplotlib inline\n",
    "import matplotlib.pyplot as plt\n",
    "from matplotlib.gridspec import GridSpec\n",
    "import numpy as np\n",
    "import pandas as pd\n",
    "from patsy import dmatrices\n",
    "from sklearn.linear_model import LogisticRegression\n",
    "from sklearn.cross_validation import train_test_split,  cross_val_score\n",
    "from sklearn import metrics\n",
    "from sklearn.tree import DecisionTreeClassifier\n",
    "from sklearn.grid_search import GridSearchCV\n",
    "from sklearn.ensemble import RandomForestClassifier, GradientBoostingClassifier"
   ]
  },
  {
   "cell_type": "code",
   "execution_count": 2,
   "metadata": {
    "collapsed": false
   },
   "outputs": [],
   "source": [
    "# setting matplotlib style\n",
    "plt.style.use('fivethirtyeight')"
   ]
  },
  {
   "cell_type": "markdown",
   "metadata": {},
   "source": [
    "## Data Loading and Initial Processing\n",
    "Withdrawn applications are removed from the data set, since there was no decision made."
   ]
  },
  {
   "cell_type": "code",
   "execution_count": 3,
   "metadata": {
    "collapsed": true
   },
   "outputs": [],
   "source": [
    "# loading data\n",
    "data = pd.read_excel('Data/PERM_Disclosure_Data_FY15_Q4.xlsx', 'DDFY2015_Final')\n",
    "\n",
    "# removing withdrawn applications\n",
    "data = data[data['CASE_STATUS'] != 'Withdrawn']\n",
    "\n",
    "# adding a binary series with 1 indicating that an application was denied\n",
    "data['denied'] = (data.CASE_STATUS == 'Denied').astype(int)"
   ]
  },
  {
   "cell_type": "code",
   "execution_count": 4,
   "metadata": {
    "collapsed": false
   },
   "outputs": [],
   "source": [
    "# converting dates into months\n",
    "data['month'] = data.DECISION_DATE.dt.month"
   ]
  },
  {
   "cell_type": "markdown",
   "metadata": {},
   "source": [
    "## Descriptive Statistics"
   ]
  },
  {
   "cell_type": "code",
   "execution_count": 5,
   "metadata": {
    "collapsed": false
   },
   "outputs": [
    {
     "data": {
      "text/plain": [
       "Certified            40176\n",
       "Certified-Expired    38762\n",
       "Denied                5696\n",
       "Name: CASE_STATUS, dtype: int64"
      ]
     },
     "execution_count": 5,
     "metadata": {},
     "output_type": "execute_result"
    }
   ],
   "source": [
    "status = data['CASE_STATUS'].value_counts()\n",
    "status"
   ]
  },
  {
   "cell_type": "code",
   "execution_count": 6,
   "metadata": {
    "collapsed": false
   },
   "outputs": [
    {
     "name": "stdout",
     "output_type": "stream",
     "text": [
      "Certified: \t\t0.474702838103 \n",
      "Certified-Expired: \t0.457995604603 \n",
      "Denied: \t\t0.0673015572938 \n",
      "Size: \t\t\t84634\n"
     ]
    }
   ],
   "source": [
    "pcert, pcertex, pdenied = (data['CASE_STATUS'].value_counts().values) / float(len(data))\n",
    "size = len(data)\n",
    "print 'Certified: \\t\\t', pcert, '\\nCertified-Expired: \\t', pcertex, '\\nDenied: \\t\\t', pdenied, '\\nSize: \\t\\t\\t', size\n",
    "                                                                 "
   ]
  },
  {
   "cell_type": "code",
   "execution_count": 78,
   "metadata": {
    "collapsed": false
   },
   "outputs": [
    {
     "data": {
      "text/plain": [
       "([<matplotlib.patches.Wedge at 0x1167494d0>,\n",
       "  <matplotlib.patches.Wedge at 0x116d38490>,\n",
       "  <matplotlib.patches.Wedge at 0x116b99410>],\n",
       " [<matplotlib.text.Text at 0x116bed990>,\n",
       "  <matplotlib.text.Text at 0x116b99290>,\n",
       "  <matplotlib.text.Text at 0x116c92b50>],\n",
       " [<matplotlib.text.Text at 0x116bed8d0>,\n",
       "  <matplotlib.text.Text at 0x116b99ad0>,\n",
       "  <matplotlib.text.Text at 0x116c92b90>])"
      ]
     },
     "execution_count": 78,
     "metadata": {},
     "output_type": "execute_result"
    },
    {
     "data": {
      "image/png": "[encoded data removed]",
      "text/plain": [
       "<matplotlib.figure.Figure at 0x1153d9d50>"
      ]
     },
     "metadata": {},
     "output_type": "display_data"
    }
   ],
   "source": [
    "labels = list(status.index)\n",
    "plt.figure(figsize=[8, 8])\n",
    "fracs = pcert, pcertex, pdenied\n",
    "the_grid = GridSpec(2, 2)\n",
    "plt.subplot(the_grid[0, 0], aspect=1, title='Applications by Case Status')\n",
    "plt.pie(fracs, labels=labels, autopct='%1.1f%%', shadow=True)"
   ]
  },
  {
   "cell_type": "markdown",
   "metadata": {},
   "source": [
    "Base rate of denials is low, at 6.7%, and many accepted applications are allowed to expire."
   ]
  },
  {
   "cell_type": "code",
   "execution_count": 51,
   "metadata": {
    "collapsed": false
   },
   "outputs": [
    {
     "name": "stdout",
     "output_type": "stream",
     "text": [
      "Standard Error:  0.000861213341343\n"
     ]
    }
   ],
   "source": [
    "serror = (pdenied*(1-pdenied)/float(len(data))) ** .5\n",
    "print 'Standard Error: ',serror"
   ]
  },
  {
   "cell_type": "markdown",
   "metadata": {},
   "source": [
    "### Categorical Data"
   ]
  },
  {
   "cell_type": "code",
   "execution_count": 52,
   "metadata": {
    "collapsed": true
   },
   "outputs": [],
   "source": [
    "# possibly interesting columns of categorical data\n",
    "dfcat = data[['denied', 'EMPLOYER_NAME', 'EMPLOYER_STATE', 'AGENT_FIRM_NAME', 'PW_SOC_TITLE', 'JOB_INFO_EDUCATION', \n",
    "              'COUNTRY_OF_CITIZENSHIP', 'CLASS_OF_ADMISSION', 'FOREIGN_WORKER_INFO_EDUCATION', \n",
    "              'FOREIGN_WORKER_INFO_MAJOR']]"
   ]
  },
  {
   "cell_type": "markdown",
   "metadata": {},
   "source": [
    "After exploring the columns, Visa Type, Country of Citizenship, and Education seem to be the most interesting columns."
   ]
  },
  {
   "cell_type": "code",
   "execution_count": 53,
   "metadata": {
    "collapsed": false,
    "scrolled": true
   },
   "outputs": [
    {
     "data": {
      "text/html": [
       "<div>\n",
       "<table border=\"1\" class=\"dataframe\">\n",
       "  <thead>\n",
       "    <tr style=\"text-align: right;\">\n",
       "      <th></th>\n",
       "      <th>denied</th>\n",
       "      <th>size</th>\n",
       "    </tr>\n",
       "    <tr>\n",
       "      <th>CLASS_OF_ADMISSION</th>\n",
       "      <th></th>\n",
       "      <th></th>\n",
       "    </tr>\n",
       "  </thead>\n",
       "  <tbody>\n",
       "    <tr>\n",
       "      <th>B-1</th>\n",
       "      <td>0.347826</td>\n",
       "      <td>40</td>\n",
       "    </tr>\n",
       "    <tr>\n",
       "      <th>B-2</th>\n",
       "      <td>0.265248</td>\n",
       "      <td>187</td>\n",
       "    </tr>\n",
       "    <tr>\n",
       "      <th>E-1</th>\n",
       "      <td>0.149123</td>\n",
       "      <td>17</td>\n",
       "    </tr>\n",
       "    <tr>\n",
       "      <th>E-2</th>\n",
       "      <td>0.123584</td>\n",
       "      <td>120</td>\n",
       "    </tr>\n",
       "    <tr>\n",
       "      <th>E-3</th>\n",
       "      <td>0.071429</td>\n",
       "      <td>11</td>\n",
       "    </tr>\n",
       "  </tbody>\n",
       "</table>\n",
       "</div>"
      ],
      "text/plain": [
       "                      denied  size\n",
       "CLASS_OF_ADMISSION                \n",
       "B-1                 0.347826    40\n",
       "B-2                 0.265248   187\n",
       "E-1                 0.149123    17\n",
       "E-2                 0.123584   120\n",
       "E-3                 0.071429    11"
      ]
     },
     "execution_count": 53,
     "metadata": {},
     "output_type": "execute_result"
    }
   ],
   "source": [
    "# visa types with a high rate of denial\n",
    "dftype = dfcat[['CLASS_OF_ADMISSION', 'denied']]\n",
    "dftype1 = dftype.groupby('CLASS_OF_ADMISSION').mean()\n",
    "dftype1['size'] = dftype.groupby('CLASS_OF_ADMISSION').agg(sum)\n",
    "dftype = dftype1[(dftype1['denied'] > (pdenied + 2*serror)) & (dftype1['size'] >= 10)]\n",
    "dftype.head()"
   ]
  },
  {
   "cell_type": "code",
   "execution_count": 54,
   "metadata": {
    "collapsed": false
   },
   "outputs": [
    {
     "data": {
      "text/plain": [
       "CLASS_OF_ADMISSION\n",
       "H-1B          64729\n",
       "L-1            5136\n",
       "F-1            3163\n",
       "Not in USA     1554\n",
       "Name: denied, dtype: int64"
      ]
     },
     "execution_count": 54,
     "metadata": {},
     "output_type": "execute_result"
    }
   ],
   "source": [
    "visa_types = dfcat.groupby('CLASS_OF_ADMISSION').count()['denied']\n",
    "visa_types = visa_types.sort_values()[:-5:-1]\n",
    "visa_types"
   ]
  },
  {
   "cell_type": "code",
   "execution_count": 55,
   "metadata": {
    "collapsed": false
   },
   "outputs": [
    {
     "data": {
      "text/html": [
       "<div>\n",
       "<table border=\"1\" class=\"dataframe\">\n",
       "  <thead>\n",
       "    <tr style=\"text-align: right;\">\n",
       "      <th></th>\n",
       "      <th>denied</th>\n",
       "      <th>size</th>\n",
       "    </tr>\n",
       "    <tr>\n",
       "      <th>COUNTRY_OF_CITIZENSHIP</th>\n",
       "      <th></th>\n",
       "      <th></th>\n",
       "    </tr>\n",
       "  </thead>\n",
       "  <tbody>\n",
       "    <tr>\n",
       "      <th>GAMBIA</th>\n",
       "      <td>0.850000</td>\n",
       "      <td>17</td>\n",
       "    </tr>\n",
       "    <tr>\n",
       "      <th>SLOVAKIA</th>\n",
       "      <td>0.400000</td>\n",
       "      <td>12</td>\n",
       "    </tr>\n",
       "    <tr>\n",
       "      <th>GUATEMALA</th>\n",
       "      <td>0.303371</td>\n",
       "      <td>27</td>\n",
       "    </tr>\n",
       "    <tr>\n",
       "      <th>ECUADOR</th>\n",
       "      <td>0.270408</td>\n",
       "      <td>53</td>\n",
       "    </tr>\n",
       "    <tr>\n",
       "      <th>EL SALVADOR</th>\n",
       "      <td>0.237624</td>\n",
       "      <td>24</td>\n",
       "    </tr>\n",
       "  </tbody>\n",
       "</table>\n",
       "</div>"
      ],
      "text/plain": [
       "                          denied  size\n",
       "COUNTRY_OF_CITIZENSHIP                \n",
       "GAMBIA                  0.850000    17\n",
       "SLOVAKIA                0.400000    12\n",
       "GUATEMALA               0.303371    27\n",
       "ECUADOR                 0.270408    53\n",
       "EL SALVADOR             0.237624    24"
      ]
     },
     "execution_count": 55,
     "metadata": {},
     "output_type": "execute_result"
    }
   ],
   "source": [
    "# countries with a high rate of denial\n",
    "dfcit = dfcat[['COUNTRY_OF_CITIZENSHIP', 'denied']]\n",
    "dfcit1 = dfcit.groupby('COUNTRY_OF_CITIZENSHIP').mean()\n",
    "dfcit1['size'] = dfcit.groupby('COUNTRY_OF_CITIZENSHIP').agg(sum)\n",
    "dfcit = dfcit1[(dfcit1['denied'] > (pdenied + 2*serror)) & (dfcit1['size'] >= 10)]\n",
    "dfcit.sort_values('denied')[::-1].head()"
   ]
  },
  {
   "cell_type": "code",
   "execution_count": 56,
   "metadata": {
    "collapsed": false
   },
   "outputs": [
    {
     "data": {
      "text/plain": [
       "COUNTRY_OF_CITIZENSHIP\n",
       "INDIA          47705\n",
       "CHINA           6843\n",
       "SOUTH KOREA     5645\n",
       "CANADA          3139\n",
       "PHILIPPINES     1875\n",
       "ALL_OTHERS     19427\n",
       "Name: denied, dtype: int64"
      ]
     },
     "execution_count": 56,
     "metadata": {},
     "output_type": "execute_result"
    }
   ],
   "source": [
    "countries = dfcat.groupby('COUNTRY_OF_CITIZENSHIP').count()['denied']\n",
    "countries = countries.sort_values()[::-1][:5]\n",
    "countries['ALL_OTHERS'] = 19427\n",
    "countries"
   ]
  },
  {
   "cell_type": "code",
   "execution_count": 84,
   "metadata": {
    "collapsed": false
   },
   "outputs": [
    {
     "data": {
      "text/plain": [
       "([<matplotlib.patches.Wedge at 0x118a2fed0>,\n",
       "  <matplotlib.patches.Wedge at 0x118b98590>,\n",
       "  <matplotlib.patches.Wedge at 0x118cff5d0>,\n",
       "  <matplotlib.patches.Wedge at 0x1187ff850>,\n",
       "  <matplotlib.patches.Wedge at 0x118ca7090>,\n",
       "  <matplotlib.patches.Wedge at 0x118bd2a10>],\n",
       " [<matplotlib.text.Text at 0x118b65a50>,\n",
       "  <matplotlib.text.Text at 0x118cff1d0>,\n",
       "  <matplotlib.text.Text at 0x118a21ed0>,\n",
       "  <matplotlib.text.Text at 0x118c4a790>,\n",
       "  <matplotlib.text.Text at 0x118ca7dd0>,\n",
       "  <matplotlib.text.Text at 0x118dd5790>],\n",
       " [<matplotlib.text.Text at 0x118b65f50>,\n",
       "  <matplotlib.text.Text at 0x118cff890>,\n",
       "  <matplotlib.text.Text at 0x1187ff310>,\n",
       "  <matplotlib.text.Text at 0x118c4ad50>,\n",
       "  <matplotlib.text.Text at 0x118bd2750>,\n",
       "  <matplotlib.text.Text at 0x118dd5e90>])"
      ]
     },
     "execution_count": 84,
     "metadata": {},
     "output_type": "execute_result"
    },
    {
     "data": {
      "image/png": "[encoded data removed]",
      "text/plain": [
       "<matplotlib.figure.Figure at 0x11511f090>"
      ]
     },
     "metadata": {},
     "output_type": "display_data"
    }
   ],
   "source": [
    "country_labels = list(countries.index)\n",
    "country_fracs = countries.values\n",
    "plt.figure(figsize=[12, 12])\n",
    "plt.subplot(the_grid[1, 0], aspect=1, title='Applications by Citizenship')\n",
    "plt.pie(country_fracs, labels=country_labels, autopct='%1.1f%%', shadow=True)"
   ]
  },
  {
   "cell_type": "code",
   "execution_count": 58,
   "metadata": {
    "collapsed": false
   },
   "outputs": [
    {
     "data": {
      "text/plain": [
       "FOREIGN_WORKER_INFO_EDUCATION\n",
       "Doctorate      0.033010\n",
       "Master's       0.051275\n",
       "Bachelor's     0.053348\n",
       "Other          0.074332\n",
       "Associate's    0.185270\n",
       "None           0.228803\n",
       "High School    0.270021\n",
       "Name: denied, dtype: float64"
      ]
     },
     "execution_count": 58,
     "metadata": {},
     "output_type": "execute_result"
    }
   ],
   "source": [
    "dfcat.groupby(['FOREIGN_WORKER_INFO_EDUCATION'])['denied'].mean().sort_values()"
   ]
  },
  {
   "cell_type": "code",
   "execution_count": 59,
   "metadata": {
    "collapsed": false
   },
   "outputs": [
    {
     "data": {
      "text/plain": [
       "FOREIGN_WORKER_INFO_EDUCATION\n",
       "Master's       38245\n",
       "Bachelor's     30910\n",
       "None            4812\n",
       "Doctorate       4635\n",
       "Other           3740\n",
       "High School     1411\n",
       "Associate's      869\n",
       "Name: denied, dtype: int64"
      ]
     },
     "execution_count": 59,
     "metadata": {},
     "output_type": "execute_result"
    }
   ],
   "source": [
    "education = dfcat.groupby('FOREIGN_WORKER_INFO_EDUCATION').count()['denied'].sort_values()[::-1]\n",
    "education"
   ]
  },
  {
   "cell_type": "code",
   "execution_count": 94,
   "metadata": {
    "collapsed": false
   },
   "outputs": [
    {
     "data": {
      "text/plain": [
       "([<matplotlib.patches.Wedge at 0x1265f1250>,\n",
       "  <matplotlib.patches.Wedge at 0x12316cc50>,\n",
       "  <matplotlib.patches.Wedge at 0x126a4a090>,\n",
       "  <matplotlib.patches.Wedge at 0x126aaa9d0>,\n",
       "  <matplotlib.patches.Wedge at 0x126b77f50>,\n",
       "  <matplotlib.patches.Wedge at 0x1268fe4d0>,\n",
       "  <matplotlib.patches.Wedge at 0x126c0bc50>],\n",
       " [<matplotlib.text.Text at 0x1265f1dd0>,\n",
       "  <matplotlib.text.Text at 0x1267bd450>,\n",
       "  <matplotlib.text.Text at 0x126a4ac10>,\n",
       "  <matplotlib.text.Text at 0x126b77550>,\n",
       "  <matplotlib.text.Text at 0x1268b5b10>,\n",
       "  <matplotlib.text.Text at 0x1268fee50>,\n",
       "  <matplotlib.text.Text at 0x12632cc90>],\n",
       " [<matplotlib.text.Text at 0x12316c290>,\n",
       "  <matplotlib.text.Text at 0x1267bdf50>,\n",
       "  <matplotlib.text.Text at 0x126aaa390>,\n",
       "  <matplotlib.text.Text at 0x126b77b90>,\n",
       "  <matplotlib.text.Text at 0x1268fe050>,\n",
       "  <matplotlib.text.Text at 0x126c0b650>,\n",
       "  <matplotlib.text.Text at 0x1263f63d0>])"
      ]
     },
     "execution_count": 94,
     "metadata": {},
     "output_type": "execute_result"
    },
    {
     "data": {
      "image/png": "[encoded data removed]",
      "text/plain": [
       "<matplotlib.figure.Figure at 0x125110450>"
      ]
     },
     "metadata": {},
     "output_type": "display_data"
    }
   ],
   "source": [
    "status_labels = list(status.index)\n",
    "status_fracs = pcert, pcertex, pdenied\n",
    "plt.figure(figsize=[30, 30])\n",
    "the_grid = GridSpec(3, 1)\n",
    "plt.subplot(the_grid[2, 0], aspect=1, title='Applications by Case Status')\n",
    "plt.pie(status_fracs, labels=status_labels, autopct='%1.1f%%', shadow=True)\n",
    "\n",
    "country_labels = list(countries.index)\n",
    "country_fracs = countries.values\n",
    "plt.subplot(the_grid[0, 0], aspect=1, title='Applications by Citizenship')\n",
    "plt.pie(country_fracs, labels=country_labels, autopct='%1.1f%%', shadow=True)\n",
    "\n",
    "ed_labels = list(education.index)\n",
    "ed_fracs = education.values\n",
    "plt.subplot(the_grid[1, 0], aspect=1, title='Education of Applicants')\n",
    "plt.pie(ed_fracs, labels=ed_labels, autopct='%1.1f%%', shadow=True)"
   ]
  },
  {
   "cell_type": "code",
   "execution_count": 61,
   "metadata": {
    "collapsed": false
   },
   "outputs": [
    {
     "data": {
      "text/plain": [
       "JOB_INFO_EDUCATION\n",
       "Doctorate      0.025573\n",
       "Master's       0.047168\n",
       "Bachelor's     0.051324\n",
       "Other          0.075218\n",
       "Associate's    0.188406\n",
       "None           0.233772\n",
       "High School    0.304193\n",
       "Name: denied, dtype: float64"
      ]
     },
     "execution_count": 61,
     "metadata": {},
     "output_type": "execute_result"
    }
   ],
   "source": [
    "dfcat.groupby(['JOB_INFO_EDUCATION'])['denied'].mean().sort_values()"
   ]
  },
  {
   "cell_type": "markdown",
   "metadata": {},
   "source": [
    "Applicants with at least a Bachelor's have significantly lower rates of rejection than those without one."
   ]
  },
  {
   "cell_type": "markdown",
   "metadata": {},
   "source": [
    "## Data Preparation for Logistic Regression\n",
    "\n",
    "All of the data are given as unicode, even the numbers, so it has to be converted into the proper data type before the regression can be run. Additionally, dummy variables need to be created for the categorical data."
   ]
  },
  {
   "cell_type": "code",
   "execution_count": 78,
   "metadata": {
    "collapsed": false
   },
   "outputs": [],
   "source": [
    "# interesting fields with binary or numerical data\n",
    "data_fields = ['REFILE', 'EMPLOYER_NUM_EMPLOYEES', \n",
    "               'FOREIGN_WORKER_OWNERSHIP_INTEREST', 'PW_AMOUNT_9089', 'WAGE_OFFER_FROM_9089', 'WAGE_OFFER_TO_9089', \n",
    "               'JOB_INFO_TRAINING', 'JOB_INFO_TRAINING_NUM_MONTHS', 'JOB_INFO_EXPERIENCE', \n",
    "               'JOB_INFO_EXPERIENCE_NUM_MONTHS', 'JOB_INFO_ALT_FIELD', 'JOB_INFO_ALT_COMBO_ED_EXP', \n",
    "               'JOB_INFO_ALT_CMB_ED_OTH_YRS', 'JOB_INFO_FOREIGN_ED', 'JOB_INFO_ALT_OCC', 'JOB_INFO_ALT_OCC_NUM_MONTHS', \n",
    "               'JOB_INFO_JOB_REQ_NORMAL', 'JOB_INFO_FOREIGN_LANG_REQ', 'JOB_INFO_COMBO_OCCUPATION',\n",
    "               'JI_FOREIGN_WORKER_LIVE_ON_PREMISES', 'JI_LIVE_IN_DOMESTIC_SERVICE', 'JI_LIVE_IN_DOM_SVC_CONTRACT', \n",
    "               'RECR_INFO_PROFESSIONAL_OCC', 'RECR_INFO_COLL_UNIV_TEACHER', 'RECR_INFO_COLL_TEACH_COMP_PROC', \n",
    "               'RI_POSTED_NOTICE_AT_WORKSITE', 'RI_LAYOFF_IN_PAST_SIX_MONTHS', 'RI_US_WORKERS_CONSIDERED', \n",
    "               'FOREIGN_WORKER_INFO_TRAINING_COMP', 'FOREIGN_WORKER_INFO_REQ_EXPERIENCE', \n",
    "               'FOREIGN_WORKER_INFO_ALT_EDU_EXPERIENCE', 'FOREIGN_WORKER_INFO_REL_OCCUP_EXP', \n",
    "               'PREPARER_INFO_EMP_COMPLETED']\n",
    "dflogit = data[data_fields]"
   ]
  },
  {
   "cell_type": "code",
   "execution_count": 79,
   "metadata": {
    "collapsed": false
   },
   "outputs": [
    {
     "data": {
      "text/html": [
       "<div>\n",
       "<table border=\"1\" class=\"dataframe\">\n",
       "  <thead>\n",
       "    <tr style=\"text-align: right;\">\n",
       "      <th></th>\n",
       "      <th>REFILE</th>\n",
       "      <th>EMPLOYER_NUM_EMPLOYEES</th>\n",
       "      <th>FOREIGN_WORKER_OWNERSHIP_INTEREST</th>\n",
       "      <th>PW_AMOUNT_9089</th>\n",
       "      <th>WAGE_OFFER_FROM_9089</th>\n",
       "      <th>WAGE_OFFER_TO_9089</th>\n",
       "      <th>JOB_INFO_TRAINING</th>\n",
       "      <th>JOB_INFO_TRAINING_NUM_MONTHS</th>\n",
       "      <th>JOB_INFO_EXPERIENCE</th>\n",
       "      <th>JOB_INFO_EXPERIENCE_NUM_MONTHS</th>\n",
       "      <th>...</th>\n",
       "      <th>RECR_INFO_COLL_UNIV_TEACHER</th>\n",
       "      <th>RECR_INFO_COLL_TEACH_COMP_PROC</th>\n",
       "      <th>RI_POSTED_NOTICE_AT_WORKSITE</th>\n",
       "      <th>RI_LAYOFF_IN_PAST_SIX_MONTHS</th>\n",
       "      <th>RI_US_WORKERS_CONSIDERED</th>\n",
       "      <th>FOREIGN_WORKER_INFO_TRAINING_COMP</th>\n",
       "      <th>FOREIGN_WORKER_INFO_REQ_EXPERIENCE</th>\n",
       "      <th>FOREIGN_WORKER_INFO_ALT_EDU_EXPERIENCE</th>\n",
       "      <th>FOREIGN_WORKER_INFO_REL_OCCUP_EXP</th>\n",
       "      <th>PREPARER_INFO_EMP_COMPLETED</th>\n",
       "    </tr>\n",
       "  </thead>\n",
       "  <tbody>\n",
       "    <tr>\n",
       "      <th>0</th>\n",
       "      <td>N</td>\n",
       "      <td>1935</td>\n",
       "      <td>N</td>\n",
       "      <td>83,366.00</td>\n",
       "      <td>90,000.00</td>\n",
       "      <td>95,000.00</td>\n",
       "      <td>N</td>\n",
       "      <td>NaN</td>\n",
       "      <td>N</td>\n",
       "      <td>NaN</td>\n",
       "      <td>...</td>\n",
       "      <td>N</td>\n",
       "      <td>NaN</td>\n",
       "      <td>Y</td>\n",
       "      <td>N</td>\n",
       "      <td>NaN</td>\n",
       "      <td>A</td>\n",
       "      <td>A</td>\n",
       "      <td>A</td>\n",
       "      <td>Y</td>\n",
       "      <td>N</td>\n",
       "    </tr>\n",
       "    <tr>\n",
       "      <th>1</th>\n",
       "      <td>N</td>\n",
       "      <td>350</td>\n",
       "      <td>N</td>\n",
       "      <td>16,973.00</td>\n",
       "      <td>16,973.00</td>\n",
       "      <td>NaN</td>\n",
       "      <td>N</td>\n",
       "      <td>NaN</td>\n",
       "      <td>N</td>\n",
       "      <td>NaN</td>\n",
       "      <td>...</td>\n",
       "      <td>N</td>\n",
       "      <td>NaN</td>\n",
       "      <td>Y</td>\n",
       "      <td>N</td>\n",
       "      <td>NaN</td>\n",
       "      <td>A</td>\n",
       "      <td>A</td>\n",
       "      <td>A</td>\n",
       "      <td>A</td>\n",
       "      <td>N</td>\n",
       "    </tr>\n",
       "    <tr>\n",
       "      <th>2</th>\n",
       "      <td>N</td>\n",
       "      <td>4</td>\n",
       "      <td>N</td>\n",
       "      <td>49,982.00</td>\n",
       "      <td>65,000.00</td>\n",
       "      <td>NaN</td>\n",
       "      <td>N</td>\n",
       "      <td>NaN</td>\n",
       "      <td>Y</td>\n",
       "      <td>36</td>\n",
       "      <td>...</td>\n",
       "      <td>N</td>\n",
       "      <td>NaN</td>\n",
       "      <td>Y</td>\n",
       "      <td>N</td>\n",
       "      <td>NaN</td>\n",
       "      <td>A</td>\n",
       "      <td>Y</td>\n",
       "      <td>A</td>\n",
       "      <td>A</td>\n",
       "      <td>N</td>\n",
       "    </tr>\n",
       "    <tr>\n",
       "      <th>3</th>\n",
       "      <td>N</td>\n",
       "      <td>8</td>\n",
       "      <td>N</td>\n",
       "      <td>43,514.00</td>\n",
       "      <td>43,514.00</td>\n",
       "      <td>NaN</td>\n",
       "      <td>N</td>\n",
       "      <td>NaN</td>\n",
       "      <td>N</td>\n",
       "      <td>NaN</td>\n",
       "      <td>...</td>\n",
       "      <td>N</td>\n",
       "      <td>NaN</td>\n",
       "      <td>Y</td>\n",
       "      <td>N</td>\n",
       "      <td>NaN</td>\n",
       "      <td>A</td>\n",
       "      <td>A</td>\n",
       "      <td>A</td>\n",
       "      <td>A</td>\n",
       "      <td>N</td>\n",
       "    </tr>\n",
       "    <tr>\n",
       "      <th>4</th>\n",
       "      <td>N</td>\n",
       "      <td>350</td>\n",
       "      <td>N</td>\n",
       "      <td>16,973.00</td>\n",
       "      <td>16,973.00</td>\n",
       "      <td>NaN</td>\n",
       "      <td>N</td>\n",
       "      <td>NaN</td>\n",
       "      <td>N</td>\n",
       "      <td>NaN</td>\n",
       "      <td>...</td>\n",
       "      <td>N</td>\n",
       "      <td>NaN</td>\n",
       "      <td>Y</td>\n",
       "      <td>N</td>\n",
       "      <td>NaN</td>\n",
       "      <td>A</td>\n",
       "      <td>A</td>\n",
       "      <td>A</td>\n",
       "      <td>A</td>\n",
       "      <td>N</td>\n",
       "    </tr>\n",
       "  </tbody>\n",
       "</table>\n",
       "<p>5 rows × 33 columns</p>\n",
       "</div>"
      ],
      "text/plain": [
       "  REFILE  EMPLOYER_NUM_EMPLOYEES FOREIGN_WORKER_OWNERSHIP_INTEREST  \\\n",
       "0      N                    1935                                 N   \n",
       "1      N                     350                                 N   \n",
       "2      N                       4                                 N   \n",
       "3      N                       8                                 N   \n",
       "4      N                     350                                 N   \n",
       "\n",
       "  PW_AMOUNT_9089 WAGE_OFFER_FROM_9089 WAGE_OFFER_TO_9089 JOB_INFO_TRAINING  \\\n",
       "0      83,366.00            90,000.00          95,000.00                 N   \n",
       "1      16,973.00            16,973.00                NaN                 N   \n",
       "2      49,982.00            65,000.00                NaN                 N   \n",
       "3      43,514.00            43,514.00                NaN                 N   \n",
       "4      16,973.00            16,973.00                NaN                 N   \n",
       "\n",
       "   JOB_INFO_TRAINING_NUM_MONTHS JOB_INFO_EXPERIENCE  \\\n",
       "0                           NaN                   N   \n",
       "1                           NaN                   N   \n",
       "2                           NaN                   Y   \n",
       "3                           NaN                   N   \n",
       "4                           NaN                   N   \n",
       "\n",
       "   JOB_INFO_EXPERIENCE_NUM_MONTHS             ...              \\\n",
       "0                             NaN             ...               \n",
       "1                             NaN             ...               \n",
       "2                              36             ...               \n",
       "3                             NaN             ...               \n",
       "4                             NaN             ...               \n",
       "\n",
       "  RECR_INFO_COLL_UNIV_TEACHER RECR_INFO_COLL_TEACH_COMP_PROC  \\\n",
       "0                           N                            NaN   \n",
       "1                           N                            NaN   \n",
       "2                           N                            NaN   \n",
       "3                           N                            NaN   \n",
       "4                           N                            NaN   \n",
       "\n",
       "   RI_POSTED_NOTICE_AT_WORKSITE RI_LAYOFF_IN_PAST_SIX_MONTHS  \\\n",
       "0                             Y                            N   \n",
       "1                             Y                            N   \n",
       "2                             Y                            N   \n",
       "3                             Y                            N   \n",
       "4                             Y                            N   \n",
       "\n",
       "  RI_US_WORKERS_CONSIDERED  FOREIGN_WORKER_INFO_TRAINING_COMP  \\\n",
       "0                      NaN                                  A   \n",
       "1                      NaN                                  A   \n",
       "2                      NaN                                  A   \n",
       "3                      NaN                                  A   \n",
       "4                      NaN                                  A   \n",
       "\n",
       "  FOREIGN_WORKER_INFO_REQ_EXPERIENCE FOREIGN_WORKER_INFO_ALT_EDU_EXPERIENCE  \\\n",
       "0                                  A                                      A   \n",
       "1                                  A                                      A   \n",
       "2                                  Y                                      A   \n",
       "3                                  A                                      A   \n",
       "4                                  A                                      A   \n",
       "\n",
       "  FOREIGN_WORKER_INFO_REL_OCCUP_EXP PREPARER_INFO_EMP_COMPLETED  \n",
       "0                                 Y                           N  \n",
       "1                                 A                           N  \n",
       "2                                 A                           N  \n",
       "3                                 A                           N  \n",
       "4                                 A                           N  \n",
       "\n",
       "[5 rows x 33 columns]"
      ]
     },
     "execution_count": 79,
     "metadata": {},
     "output_type": "execute_result"
    }
   ],
   "source": [
    "dflogit.head()"
   ]
  },
  {
   "cell_type": "markdown",
   "metadata": {},
   "source": [
    "The data cleaning ended up being a little tricky, as some columns were initially dropped without me noticing. The cleaning operation converts unicode numbers into floats and Y/N indicators into binary."
   ]
  },
  {
   "cell_type": "code",
   "execution_count": 80,
   "metadata": {
    "collapsed": false
   },
   "outputs": [],
   "source": [
    "def remove_commas(uni):\n",
    "    # converts unicode numbers with commas into floats\n",
    "    string = str(uni)\n",
    "    if ',' in string:\n",
    "        return float(string.replace(',', ''))\n",
    "    elif '#' in string:\n",
    "        return 0\n",
    "\n",
    "def data_clean(df):\n",
    "    # formats datatypes to binary for indicators or floats for numbers\n",
    "    columns = df.columns\n",
    "    dfr = pd.DataFrame()\n",
    "    for column in columns:\n",
    "        name = str(column)\n",
    "        name = name.lower()\n",
    "        if str(df[column][1]) in ['Y', 'N']:\n",
    "            dfr[name] = (df[column] == 'Y').astype(int)\n",
    "        else:\n",
    "            try:\n",
    "                dfr[name] = df[column].apply(str).apply(remove_commas)\n",
    "            except ValueError:\n",
    "                continue\n",
    "    return dfr\n",
    "\n",
    "def add_columns(df1, df2, columns):\n",
    "    # adds columns from one dataframe to another\n",
    "    for column in columns:\n",
    "        df2[column] = df1[column]"
   ]
  },
  {
   "cell_type": "code",
   "execution_count": 81,
   "metadata": {
    "collapsed": true
   },
   "outputs": [],
   "source": [
    "dflogit = data_clean(dflogit)"
   ]
  },
  {
   "cell_type": "code",
   "execution_count": 82,
   "metadata": {
    "collapsed": false
   },
   "outputs": [],
   "source": [
    "# adding prevailing wage comparison features\n",
    "dflogit['lowball'] = (dflogit['pw_amount_9089'] > dflogit['wage_offer_from_9089']).apply(int)\n",
    "dflogit['highoffer'] = (dflogit['pw_amount_9089'] < dflogit['wage_offer_to_9089']).apply(int)"
   ]
  },
  {
   "cell_type": "markdown",
   "metadata": {},
   "source": [
    "I thought that perhaps the how the wage offered to the immigrant worker compared to the prevailing wage of the profession might affect rejection, so I added two feature to identify lowball and higher-than-normal offers."
   ]
  },
  {
   "cell_type": "code",
   "execution_count": 83,
   "metadata": {
    "collapsed": true
   },
   "outputs": [],
   "source": [
    "# formatting data for logistic regression\n",
    "\n",
    "new_columns = ['month', 'JOB_INFO_EDUCATION', 'COUNTRY_OF_CITIZENSHIP', 'CLASS_OF_ADMISSION', 'FOREIGN_WORKER_INFO_EDUCATION',\n",
    "               'denied']\n",
    "add_columns(data, dflogit, new_columns)"
   ]
  },
  {
   "cell_type": "markdown",
   "metadata": {},
   "source": [
    "Missing data is replaced with a 0, since classifiers cannot handle NaNs. setting the default to 0 will minimize the distortion."
   ]
  },
  {
   "cell_type": "code",
   "execution_count": 84,
   "metadata": {
    "collapsed": true
   },
   "outputs": [],
   "source": [
    "# dealing with missing data\n",
    "dflogit = dflogit.fillna(0)"
   ]
  },
  {
   "cell_type": "code",
   "execution_count": 85,
   "metadata": {
    "collapsed": false
   },
   "outputs": [
    {
     "data": {
      "text/html": [
       "<div>\n",
       "<table border=\"1\" class=\"dataframe\">\n",
       "  <thead>\n",
       "    <tr style=\"text-align: right;\">\n",
       "      <th></th>\n",
       "      <th>refile</th>\n",
       "      <th>employer_num_employees</th>\n",
       "      <th>foreign_worker_ownership_interest</th>\n",
       "      <th>pw_amount_9089</th>\n",
       "      <th>wage_offer_from_9089</th>\n",
       "      <th>wage_offer_to_9089</th>\n",
       "      <th>job_info_training</th>\n",
       "      <th>job_info_training_num_months</th>\n",
       "      <th>job_info_experience</th>\n",
       "      <th>job_info_experience_num_months</th>\n",
       "      <th>...</th>\n",
       "      <th>foreign_worker_info_rel_occup_exp</th>\n",
       "      <th>preparer_info_emp_completed</th>\n",
       "      <th>lowball</th>\n",
       "      <th>highoffer</th>\n",
       "      <th>month</th>\n",
       "      <th>JOB_INFO_EDUCATION</th>\n",
       "      <th>COUNTRY_OF_CITIZENSHIP</th>\n",
       "      <th>CLASS_OF_ADMISSION</th>\n",
       "      <th>FOREIGN_WORKER_INFO_EDUCATION</th>\n",
       "      <th>denied</th>\n",
       "    </tr>\n",
       "  </thead>\n",
       "  <tbody>\n",
       "    <tr>\n",
       "      <th>0</th>\n",
       "      <td>0</td>\n",
       "      <td>0</td>\n",
       "      <td>0</td>\n",
       "      <td>83366</td>\n",
       "      <td>90000</td>\n",
       "      <td>95000</td>\n",
       "      <td>0</td>\n",
       "      <td>0</td>\n",
       "      <td>0</td>\n",
       "      <td>0</td>\n",
       "      <td>...</td>\n",
       "      <td>0</td>\n",
       "      <td>0</td>\n",
       "      <td>0</td>\n",
       "      <td>1</td>\n",
       "      <td>5</td>\n",
       "      <td>Bachelor's</td>\n",
       "      <td>INDIA</td>\n",
       "      <td>H-1B</td>\n",
       "      <td>Bachelor's</td>\n",
       "      <td>0</td>\n",
       "    </tr>\n",
       "    <tr>\n",
       "      <th>1</th>\n",
       "      <td>0</td>\n",
       "      <td>0</td>\n",
       "      <td>0</td>\n",
       "      <td>16973</td>\n",
       "      <td>16973</td>\n",
       "      <td>0</td>\n",
       "      <td>0</td>\n",
       "      <td>0</td>\n",
       "      <td>0</td>\n",
       "      <td>0</td>\n",
       "      <td>...</td>\n",
       "      <td>0</td>\n",
       "      <td>0</td>\n",
       "      <td>0</td>\n",
       "      <td>0</td>\n",
       "      <td>6</td>\n",
       "      <td>None</td>\n",
       "      <td>SOUTH KOREA</td>\n",
       "      <td>0</td>\n",
       "      <td>None</td>\n",
       "      <td>1</td>\n",
       "    </tr>\n",
       "    <tr>\n",
       "      <th>2</th>\n",
       "      <td>0</td>\n",
       "      <td>0</td>\n",
       "      <td>0</td>\n",
       "      <td>49982</td>\n",
       "      <td>65000</td>\n",
       "      <td>0</td>\n",
       "      <td>0</td>\n",
       "      <td>0</td>\n",
       "      <td>1</td>\n",
       "      <td>0</td>\n",
       "      <td>...</td>\n",
       "      <td>0</td>\n",
       "      <td>0</td>\n",
       "      <td>0</td>\n",
       "      <td>0</td>\n",
       "      <td>10</td>\n",
       "      <td>Doctorate</td>\n",
       "      <td>GERMANY</td>\n",
       "      <td>H-1B</td>\n",
       "      <td>Doctorate</td>\n",
       "      <td>1</td>\n",
       "    </tr>\n",
       "    <tr>\n",
       "      <th>3</th>\n",
       "      <td>0</td>\n",
       "      <td>0</td>\n",
       "      <td>0</td>\n",
       "      <td>43514</td>\n",
       "      <td>43514</td>\n",
       "      <td>0</td>\n",
       "      <td>0</td>\n",
       "      <td>0</td>\n",
       "      <td>0</td>\n",
       "      <td>0</td>\n",
       "      <td>...</td>\n",
       "      <td>0</td>\n",
       "      <td>0</td>\n",
       "      <td>0</td>\n",
       "      <td>0</td>\n",
       "      <td>5</td>\n",
       "      <td>Master's</td>\n",
       "      <td>SOUTH KOREA</td>\n",
       "      <td>E-2</td>\n",
       "      <td>Master's</td>\n",
       "      <td>0</td>\n",
       "    </tr>\n",
       "    <tr>\n",
       "      <th>4</th>\n",
       "      <td>0</td>\n",
       "      <td>0</td>\n",
       "      <td>0</td>\n",
       "      <td>16973</td>\n",
       "      <td>16973</td>\n",
       "      <td>0</td>\n",
       "      <td>0</td>\n",
       "      <td>0</td>\n",
       "      <td>0</td>\n",
       "      <td>0</td>\n",
       "      <td>...</td>\n",
       "      <td>0</td>\n",
       "      <td>0</td>\n",
       "      <td>0</td>\n",
       "      <td>0</td>\n",
       "      <td>6</td>\n",
       "      <td>None</td>\n",
       "      <td>SOUTH KOREA</td>\n",
       "      <td>0</td>\n",
       "      <td>None</td>\n",
       "      <td>1</td>\n",
       "    </tr>\n",
       "  </tbody>\n",
       "</table>\n",
       "<p>5 rows × 41 columns</p>\n",
       "</div>"
      ],
      "text/plain": [
       "   refile  employer_num_employees  foreign_worker_ownership_interest  \\\n",
       "0       0                       0                                  0   \n",
       "1       0                       0                                  0   \n",
       "2       0                       0                                  0   \n",
       "3       0                       0                                  0   \n",
       "4       0                       0                                  0   \n",
       "\n",
       "   pw_amount_9089  wage_offer_from_9089  wage_offer_to_9089  \\\n",
       "0           83366                 90000               95000   \n",
       "1           16973                 16973                   0   \n",
       "2           49982                 65000                   0   \n",
       "3           43514                 43514                   0   \n",
       "4           16973                 16973                   0   \n",
       "\n",
       "   job_info_training  job_info_training_num_months  job_info_experience  \\\n",
       "0                  0                             0                    0   \n",
       "1                  0                             0                    0   \n",
       "2                  0                             0                    1   \n",
       "3                  0                             0                    0   \n",
       "4                  0                             0                    0   \n",
       "\n",
       "   job_info_experience_num_months   ...    foreign_worker_info_rel_occup_exp  \\\n",
       "0                               0   ...                                    0   \n",
       "1                               0   ...                                    0   \n",
       "2                               0   ...                                    0   \n",
       "3                               0   ...                                    0   \n",
       "4                               0   ...                                    0   \n",
       "\n",
       "   preparer_info_emp_completed  lowball  highoffer  month  JOB_INFO_EDUCATION  \\\n",
       "0                            0        0          1      5          Bachelor's   \n",
       "1                            0        0          0      6                None   \n",
       "2                            0        0          0     10           Doctorate   \n",
       "3                            0        0          0      5            Master's   \n",
       "4                            0        0          0      6                None   \n",
       "\n",
       "   COUNTRY_OF_CITIZENSHIP  CLASS_OF_ADMISSION  FOREIGN_WORKER_INFO_EDUCATION  \\\n",
       "0                   INDIA                H-1B                     Bachelor's   \n",
       "1             SOUTH KOREA                   0                           None   \n",
       "2                 GERMANY                H-1B                      Doctorate   \n",
       "3             SOUTH KOREA                 E-2                       Master's   \n",
       "4             SOUTH KOREA                   0                           None   \n",
       "\n",
       "   denied  \n",
       "0       0  \n",
       "1       1  \n",
       "2       1  \n",
       "3       0  \n",
       "4       1  \n",
       "\n",
       "[5 rows x 41 columns]"
      ]
     },
     "execution_count": 85,
     "metadata": {},
     "output_type": "execute_result"
    }
   ],
   "source": [
    "dflogit.head()"
   ]
  },
  {
   "cell_type": "code",
   "execution_count": 86,
   "metadata": {
    "collapsed": false
   },
   "outputs": [
    {
     "name": "stdout",
     "output_type": "stream",
     "text": [
      "n:  84634\n",
      "features:  41\n"
     ]
    },
    {
     "data": {
      "text/plain": [
       "refile                                      int64\n",
       "employer_num_employees                      int64\n",
       "foreign_worker_ownership_interest           int64\n",
       "pw_amount_9089                            float64\n",
       "wage_offer_from_9089                      float64\n",
       "wage_offer_to_9089                        float64\n",
       "job_info_training                           int64\n",
       "job_info_training_num_months                int64\n",
       "job_info_experience                         int64\n",
       "job_info_experience_num_months              int64\n",
       "job_info_alt_field                          int64\n",
       "job_info_alt_combo_ed_exp                   int64\n",
       "job_info_alt_cmb_ed_oth_yrs                 int64\n",
       "job_info_foreign_ed                         int64\n",
       "job_info_alt_occ                            int64\n",
       "job_info_alt_occ_num_months                 int64\n",
       "job_info_job_req_normal                     int64\n",
       "job_info_foreign_lang_req                   int64\n",
       "job_info_combo_occupation                   int64\n",
       "ji_foreign_worker_live_on_premises          int64\n",
       "ji_live_in_domestic_service                 int64\n",
       "ji_live_in_dom_svc_contract                 int64\n",
       "recr_info_professional_occ                  int64\n",
       "recr_info_coll_univ_teacher                 int64\n",
       "recr_info_coll_teach_comp_proc              int64\n",
       "ri_posted_notice_at_worksite                int64\n",
       "ri_layoff_in_past_six_months                int64\n",
       "ri_us_workers_considered                    int64\n",
       "foreign_worker_info_training_comp           int64\n",
       "foreign_worker_info_req_experience          int64\n",
       "foreign_worker_info_alt_edu_experience      int64\n",
       "foreign_worker_info_rel_occup_exp           int64\n",
       "preparer_info_emp_completed                 int64\n",
       "lowball                                     int64\n",
       "highoffer                                   int64\n",
       "month                                       int64\n",
       "JOB_INFO_EDUCATION                         object\n",
       "COUNTRY_OF_CITIZENSHIP                     object\n",
       "CLASS_OF_ADMISSION                         object\n",
       "FOREIGN_WORKER_INFO_EDUCATION              object\n",
       "denied                                      int64\n",
       "dtype: object"
      ]
     },
     "execution_count": 86,
     "metadata": {},
     "output_type": "execute_result"
    }
   ],
   "source": [
    "# checking that no columns or data points were dropped\n",
    "print 'n: ', len(dflogit)\n",
    "print 'features: ', len(dflogit.columns)\n",
    "\n",
    "# checking data types\n",
    "dflogit.dtypes"
   ]
  },
  {
   "cell_type": "code",
   "execution_count": 87,
   "metadata": {
    "collapsed": false
   },
   "outputs": [
    {
     "data": {
      "text/html": [
       "<div>\n",
       "<table border=\"1\" class=\"dataframe\">\n",
       "  <thead>\n",
       "    <tr style=\"text-align: right;\">\n",
       "      <th></th>\n",
       "      <th>pw_amount_9089</th>\n",
       "      <th>wage_offer_from_9089</th>\n",
       "      <th>wage_offer_to_9089</th>\n",
       "    </tr>\n",
       "  </thead>\n",
       "  <tbody>\n",
       "    <tr>\n",
       "      <th>count</th>\n",
       "      <td>82951.000000</td>\n",
       "      <td>82247.000000</td>\n",
       "      <td>22451.000000</td>\n",
       "    </tr>\n",
       "    <tr>\n",
       "      <th>mean</th>\n",
       "      <td>85402.096103</td>\n",
       "      <td>93688.169319</td>\n",
       "      <td>127946.312091</td>\n",
       "    </tr>\n",
       "    <tr>\n",
       "      <th>std</th>\n",
       "      <td>38569.882008</td>\n",
       "      <td>39830.833135</td>\n",
       "      <td>44435.788980</td>\n",
       "    </tr>\n",
       "    <tr>\n",
       "      <th>min</th>\n",
       "      <td>1067.200000</td>\n",
       "      <td>1060.000000</td>\n",
       "      <td>1000.000000</td>\n",
       "    </tr>\n",
       "    <tr>\n",
       "      <th>25%</th>\n",
       "      <td>67808.000000</td>\n",
       "      <td>72467.000000</td>\n",
       "      <td>102200.000000</td>\n",
       "    </tr>\n",
       "    <tr>\n",
       "      <th>50%</th>\n",
       "      <td>84802.000000</td>\n",
       "      <td>90459.000000</td>\n",
       "      <td>127300.000000</td>\n",
       "    </tr>\n",
       "    <tr>\n",
       "      <th>75%</th>\n",
       "      <td>103938.000000</td>\n",
       "      <td>110410.000000</td>\n",
       "      <td>148400.000000</td>\n",
       "    </tr>\n",
       "    <tr>\n",
       "      <th>max</th>\n",
       "      <td>5067600.000000</td>\n",
       "      <td>1145000.000000</td>\n",
       "      <td>1347000.000000</td>\n",
       "    </tr>\n",
       "  </tbody>\n",
       "</table>\n",
       "</div>"
      ],
      "text/plain": [
       "       pw_amount_9089  wage_offer_from_9089  wage_offer_to_9089\n",
       "count    82951.000000          82247.000000        22451.000000\n",
       "mean     85402.096103          93688.169319       127946.312091\n",
       "std      38569.882008          39830.833135        44435.788980\n",
       "min       1067.200000           1060.000000         1000.000000\n",
       "25%      67808.000000          72467.000000       102200.000000\n",
       "50%      84802.000000          90459.000000       127300.000000\n",
       "75%     103938.000000         110410.000000       148400.000000\n",
       "max    5067600.000000        1145000.000000      1347000.000000"
      ]
     },
     "execution_count": 87,
     "metadata": {},
     "output_type": "execute_result"
    }
   ],
   "source": [
    "wages = dflogit[['pw_amount_9089', 'wage_offer_from_9089', 'wage_offer_to_9089']].replace('0', np.nan)\n",
    "wages.describe()"
   ]
  },
  {
   "cell_type": "code",
   "execution_count": 88,
   "metadata": {
    "collapsed": false
   },
   "outputs": [
    {
     "data": {
      "application/javascript": [
       "/* Put everything inside the global mpl namespace */\n",
       "window.mpl = {};\n",
       "\n",
       "mpl.get_websocket_type = function() {\n",
       "    if (typeof(WebSocket) !== 'undefined') {\n",
       "        return WebSocket;\n",
       "    } else if (typeof(MozWebSocket) !== 'undefined') {\n",
       "        return MozWebSocket;\n",
       "    } else {\n",
       "        alert('Your browser does not have WebSocket support.' +\n",
       "              'Please try Chrome, Safari or Firefox ≥ 6. ' +\n",
       "              'Firefox 4 and 5 are also supported but you ' +\n",
       "              'have to enable WebSockets in about:config.');\n",
       "    };\n",
       "}\n",
       "\n",
       "mpl.figure = function(figure_id, websocket, ondownload, parent_element) {\n",
       "    this.id = figure_id;\n",
       "\n",
       "    this.ws = websocket;\n",
       "\n",
       "    this.supports_binary = (this.ws.binaryType != undefined);\n",
       "\n",
       "    if (!this.supports_binary) {\n",
       "        var warnings = document.getElementById(\"mpl-warnings\");\n",
       "        if (warnings) {\n",
       "            warnings.style.display = 'block';\n",
       "            warnings.textContent = (\n",
       "                \"This browser does not support binary websocket messages. \" +\n",
       "                    \"Performance may be slow.\");\n",
       "        }\n",
       "    }\n",
       "\n",
       "    this.imageObj = new Image();\n",
       "\n",
       "    this.context = undefined;\n",
       "    this.message = undefined;\n",
       "    this.canvas = undefined;\n",
       "    this.rubberband_canvas = undefined;\n",
       "    this.rubberband_context = undefined;\n",
       "    this.format_dropdown = undefined;\n",
       "\n",
       "    this.image_mode = 'full';\n",
       "\n",
       "    this.root = $('<div/>');\n",
       "    this._root_extra_style(this.root)\n",
       "    this.root.attr('style', 'display: inline-block');\n",
       "\n",
       "    $(parent_element).append(this.root);\n",
       "\n",
       "    this._init_header(this);\n",
       "    this._init_canvas(this);\n",
       "    this._init_toolbar(this);\n",
       "\n",
       "    var fig = this;\n",
       "\n",
       "    this.waiting = false;\n",
       "\n",
       "    this.ws.onopen =  function () {\n",
       "            fig.send_message(\"supports_binary\", {value: fig.supports_binary});\n",
       "            fig.send_message(\"send_image_mode\", {});\n",
       "            fig.send_message(\"refresh\", {});\n",
       "        }\n",
       "\n",
       "    this.imageObj.onload = function() {\n",
       "            if (fig.image_mode == 'full') {\n",
       "                // Full images could contain transparency (where diff images\n",
       "                // almost always do), so we need to clear the canvas so that\n",
       "                // there is no ghosting.\n",
       "                fig.context.clearRect(0, 0, fig.canvas.width, fig.canvas.height);\n",
       "            }\n",
       "            fig.context.drawImage(fig.imageObj, 0, 0);\n",
       "            fig.waiting = false;\n",
       "        };\n",
       "\n",
       "    this.imageObj.onunload = function() {\n",
       "        this.ws.close();\n",
       "    }\n",
       "\n",
       "    this.ws.onmessage = this._make_on_message_function(this);\n",
       "\n",
       "    this.ondownload = ondownload;\n",
       "}\n",
       "\n",
       "mpl.figure.prototype._init_header = function() {\n",
       "    var titlebar = $(\n",
       "        '<div class=\"ui-dialog-titlebar ui-widget-header ui-corner-all ' +\n",
       "        'ui-helper-clearfix\"/>');\n",
       "    var titletext = $(\n",
       "        '<div class=\"ui-dialog-title\" style=\"width: 100%; ' +\n",
       "        'text-align: center; padding: 3px;\"/>');\n",
       "    titlebar.append(titletext)\n",
       "    this.root.append(titlebar);\n",
       "    this.header = titletext[0];\n",
       "}\n",
       "\n",
       "\n",
       "\n",
       "mpl.figure.prototype._canvas_extra_style = function(canvas_div) {\n",
       "\n",
       "}\n",
       "\n",
       "\n",
       "mpl.figure.prototype._root_extra_style = function(canvas_div) {\n",
       "\n",
       "}\n",
       "\n",
       "mpl.figure.prototype._init_canvas = function() {\n",
       "    var fig = this;\n",
       "\n",
       "    var canvas_div = $('<div/>');\n",
       "\n",
       "    canvas_div.attr('style', 'position: relative; clear: both; outline: 0');\n",
       "\n",
       "    function canvas_keyboard_event(event) {\n",
       "        return fig.key_event(event, event['data']);\n",
       "    }\n",
       "\n",
       "    canvas_div.keydown('key_press', canvas_keyboard_event);\n",
       "    canvas_div.keyup('key_release', canvas_keyboard_event);\n",
       "    this.canvas_div = canvas_div\n",
       "    this._canvas_extra_style(canvas_div)\n",
       "    this.root.append(canvas_div);\n",
       "\n",
       "    var canvas = $('<canvas/>');\n",
       "    canvas.addClass('mpl-canvas');\n",
       "    canvas.attr('style', \"left: 0; top: 0; z-index: 0; outline: 0\")\n",
       "\n",
       "    this.canvas = canvas[0];\n",
       "    this.context = canvas[0].getContext(\"2d\");\n",
       "\n",
       "    var rubberband = $('<canvas/>');\n",
       "    rubberband.attr('style', \"position: absolute; left: 0; top: 0; z-index: 1;\")\n",
       "\n",
       "    var pass_mouse_events = true;\n",
       "\n",
       "    canvas_div.resizable({\n",
       "        start: function(event, ui) {\n",
       "            pass_mouse_events = false;\n",
       "        },\n",
       "        resize: function(event, ui) {\n",
       "            fig.request_resize(ui.size.width, ui.size.height);\n",
       "        },\n",
       "        stop: function(event, ui) {\n",
       "            pass_mouse_events = true;\n",
       "            fig.request_resize(ui.size.width, ui.size.height);\n",
       "        },\n",
       "    });\n",
       "\n",
       "    function mouse_event_fn(event) {\n",
       "        if (pass_mouse_events)\n",
       "            return fig.mouse_event(event, event['data']);\n",
       "    }\n",
       "\n",
       "    rubberband.mousedown('button_press', mouse_event_fn);\n",
       "    rubberband.mouseup('button_release', mouse_event_fn);\n",
       "    // Throttle sequential mouse events to 1 every 20ms.\n",
       "    rubberband.mousemove('motion_notify', mouse_event_fn);\n",
       "\n",
       "    rubberband.mouseenter('figure_enter', mouse_event_fn);\n",
       "    rubberband.mouseleave('figure_leave', mouse_event_fn);\n",
       "\n",
       "    canvas_div.on(\"wheel\", function (event) {\n",
       "        event = event.originalEvent;\n",
       "        event['data'] = 'scroll'\n",
       "        if (event.deltaY < 0) {\n",
       "            event.step = 1;\n",
       "        } else {\n",
       "            event.step = -1;\n",
       "        }\n",
       "        mouse_event_fn(event);\n",
       "    });\n",
       "\n",
       "    canvas_div.append(canvas);\n",
       "    canvas_div.append(rubberband);\n",
       "\n",
       "    this.rubberband = rubberband;\n",
       "    this.rubberband_canvas = rubberband[0];\n",
       "    this.rubberband_context = rubberband[0].getContext(\"2d\");\n",
       "    this.rubberband_context.strokeStyle = \"#000000\";\n",
       "\n",
       "    this._resize_canvas = function(width, height) {\n",
       "        // Keep the size of the canvas, canvas container, and rubber band\n",
       "        // canvas in synch.\n",
       "        canvas_div.css('width', width)\n",
       "        canvas_div.css('height', height)\n",
       "\n",
       "        canvas.attr('width', width);\n",
       "        canvas.attr('height', height);\n",
       "\n",
       "        rubberband.attr('width', width);\n",
       "        rubberband.attr('height', height);\n",
       "    }\n",
       "\n",
       "    // Set the figure to an initial 600x600px, this will subsequently be updated\n",
       "    // upon first draw.\n",
       "    this._resize_canvas(600, 600);\n",
       "\n",
       "    // Disable right mouse context menu.\n",
       "    $(this.rubberband_canvas).bind(\"contextmenu\",function(e){\n",
       "        return false;\n",
       "    });\n",
       "\n",
       "    function set_focus () {\n",
       "        canvas.focus();\n",
       "        canvas_div.focus();\n",
       "    }\n",
       "\n",
       "    window.setTimeout(set_focus, 100);\n",
       "}\n",
       "\n",
       "mpl.figure.prototype._init_toolbar = function() {\n",
       "    var fig = this;\n",
       "\n",
       "    var nav_element = $('<div/>')\n",
       "    nav_element.attr('style', 'width: 100%');\n",
       "    this.root.append(nav_element);\n",
       "\n",
       "    // Define a callback function for later on.\n",
       "    function toolbar_event(event) {\n",
       "        return fig.toolbar_button_onclick(event['data']);\n",
       "    }\n",
       "    function toolbar_mouse_event(event) {\n",
       "        return fig.toolbar_button_onmouseover(event['data']);\n",
       "    }\n",
       "\n",
       "    for(var toolbar_ind in mpl.toolbar_items) {\n",
       "        var name = mpl.toolbar_items[toolbar_ind][0];\n",
       "        var tooltip = mpl.toolbar_items[toolbar_ind][1];\n",
       "        var image = mpl.toolbar_items[toolbar_ind][2];\n",
       "        var method_name = mpl.toolbar_items[toolbar_ind][3];\n",
       "\n",
       "        if (!name) {\n",
       "            // put a spacer in here.\n",
       "            continue;\n",
       "        }\n",
       "        var button = $('<button/>');\n",
       "        button.addClass('ui-button ui-widget ui-state-default ui-corner-all ' +\n",
       "                        'ui-button-icon-only');\n",
       "        button.attr('role', 'button');\n",
       "        button.attr('aria-disabled', 'false');\n",
       "        button.click(method_name, toolbar_event);\n",
       "        button.mouseover(tooltip, toolbar_mouse_event);\n",
       "\n",
       "        var icon_img = $('<span/>');\n",
       "        icon_img.addClass('ui-button-icon-primary ui-icon');\n",
       "        icon_img.addClass(image);\n",
       "        icon_img.addClass('ui-corner-all');\n",
       "\n",
       "        var tooltip_span = $('<span/>');\n",
       "        tooltip_span.addClass('ui-button-text');\n",
       "        tooltip_span.html(tooltip);\n",
       "\n",
       "        button.append(icon_img);\n",
       "        button.append(tooltip_span);\n",
       "\n",
       "        nav_element.append(button);\n",
       "    }\n",
       "\n",
       "    var fmt_picker_span = $('<span/>');\n",
       "\n",
       "    var fmt_picker = $('<select/>');\n",
       "    fmt_picker.addClass('mpl-toolbar-option ui-widget ui-widget-content');\n",
       "    fmt_picker_span.append(fmt_picker);\n",
       "    nav_element.append(fmt_picker_span);\n",
       "    this.format_dropdown = fmt_picker[0];\n",
       "\n",
       "    for (var ind in mpl.extensions) {\n",
       "        var fmt = mpl.extensions[ind];\n",
       "        var option = $(\n",
       "            '<option/>', {selected: fmt === mpl.default_extension}).html(fmt);\n",
       "        fmt_picker.append(option)\n",
       "    }\n",
       "\n",
       "    // Add hover states to the ui-buttons\n",
       "    $( \".ui-button\" ).hover(\n",
       "        function() { $(this).addClass(\"ui-state-hover\");},\n",
       "        function() { $(this).removeClass(\"ui-state-hover\");}\n",
       "    );\n",
       "\n",
       "    var status_bar = $('<span class=\"mpl-message\"/>');\n",
       "    nav_element.append(status_bar);\n",
       "    this.message = status_bar[0];\n",
       "}\n",
       "\n",
       "mpl.figure.prototype.request_resize = function(x_pixels, y_pixels) {\n",
       "    // Request matplotlib to resize the figure. Matplotlib will then trigger a resize in the client,\n",
       "    // which will in turn request a refresh of the image.\n",
       "    this.send_message('resize', {'width': x_pixels, 'height': y_pixels});\n",
       "}\n",
       "\n",
       "mpl.figure.prototype.send_message = function(type, properties) {\n",
       "    properties['type'] = type;\n",
       "    properties['figure_id'] = this.id;\n",
       "    this.ws.send(JSON.stringify(properties));\n",
       "}\n",
       "\n",
       "mpl.figure.prototype.send_draw_message = function() {\n",
       "    if (!this.waiting) {\n",
       "        this.waiting = true;\n",
       "        this.ws.send(JSON.stringify({type: \"draw\", figure_id: this.id}));\n",
       "    }\n",
       "}\n",
       "\n",
       "\n",
       "mpl.figure.prototype.handle_save = function(fig, msg) {\n",
       "    var format_dropdown = fig.format_dropdown;\n",
       "    var format = format_dropdown.options[format_dropdown.selectedIndex].value;\n",
       "    fig.ondownload(fig, format);\n",
       "}\n",
       "\n",
       "\n",
       "mpl.figure.prototype.handle_resize = function(fig, msg) {\n",
       "    var size = msg['size'];\n",
       "    if (size[0] != fig.canvas.width || size[1] != fig.canvas.height) {\n",
       "        fig._resize_canvas(size[0], size[1]);\n",
       "        fig.send_message(\"refresh\", {});\n",
       "    };\n",
       "}\n",
       "\n",
       "mpl.figure.prototype.handle_rubberband = function(fig, msg) {\n",
       "    var x0 = msg['x0'];\n",
       "    var y0 = fig.canvas.height - msg['y0'];\n",
       "    var x1 = msg['x1'];\n",
       "    var y1 = fig.canvas.height - msg['y1'];\n",
       "    x0 = Math.floor(x0) + 0.5;\n",
       "    y0 = Math.floor(y0) + 0.5;\n",
       "    x1 = Math.floor(x1) + 0.5;\n",
       "    y1 = Math.floor(y1) + 0.5;\n",
       "    var min_x = Math.min(x0, x1);\n",
       "    var min_y = Math.min(y0, y1);\n",
       "    var width = Math.abs(x1 - x0);\n",
       "    var height = Math.abs(y1 - y0);\n",
       "\n",
       "    fig.rubberband_context.clearRect(\n",
       "        0, 0, fig.canvas.width, fig.canvas.height);\n",
       "\n",
       "    fig.rubberband_context.strokeRect(min_x, min_y, width, height);\n",
       "}\n",
       "\n",
       "mpl.figure.prototype.handle_figure_label = function(fig, msg) {\n",
       "    // Updates the figure title.\n",
       "    fig.header.textContent = msg['label'];\n",
       "}\n",
       "\n",
       "mpl.figure.prototype.handle_cursor = function(fig, msg) {\n",
       "    var cursor = msg['cursor'];\n",
       "    switch(cursor)\n",
       "    {\n",
       "    case 0:\n",
       "        cursor = 'pointer';\n",
       "        break;\n",
       "    case 1:\n",
       "        cursor = 'default';\n",
       "        break;\n",
       "    case 2:\n",
       "        cursor = 'crosshair';\n",
       "        break;\n",
       "    case 3:\n",
       "        cursor = 'move';\n",
       "        break;\n",
       "    }\n",
       "    fig.rubberband_canvas.style.cursor = cursor;\n",
       "}\n",
       "\n",
       "mpl.figure.prototype.handle_message = function(fig, msg) {\n",
       "    fig.message.textContent = msg['message'];\n",
       "}\n",
       "\n",
       "mpl.figure.prototype.handle_draw = function(fig, msg) {\n",
       "    // Request the server to send over a new figure.\n",
       "    fig.send_draw_message();\n",
       "}\n",
       "\n",
       "mpl.figure.prototype.handle_image_mode = function(fig, msg) {\n",
       "    fig.image_mode = msg['mode'];\n",
       "}\n",
       "\n",
       "mpl.figure.prototype.updated_canvas_event = function() {\n",
       "    // Called whenever the canvas gets updated.\n",
       "    this.send_message(\"ack\", {});\n",
       "}\n",
       "\n",
       "// A function to construct a web socket function for onmessage handling.\n",
       "// Called in the figure constructor.\n",
       "mpl.figure.prototype._make_on_message_function = function(fig) {\n",
       "    return function socket_on_message(evt) {\n",
       "        if (evt.data instanceof Blob) {\n",
       "            /* FIXME: We get \"Resource interpreted as Image but\n",
       "             * transferred with MIME type text/plain:\" errors on\n",
       "             * Chrome.  But how to set the MIME type?  It doesn't seem\n",
       "             * to be part of the websocket stream */\n",
       "            evt.data.type = \"image/png\";\n",
       "\n",
       "            /* Free the memory for the previous frames */\n",
       "            if (fig.imageObj.src) {\n",
       "                (window.URL || window.webkitURL).revokeObjectURL(\n",
       "                    fig.imageObj.src);\n",
       "            }\n",
       "\n",
       "            fig.imageObj.src = (window.URL || window.webkitURL).createObjectURL(\n",
       "                evt.data);\n",
       "            fig.updated_canvas_event();\n",
       "            return;\n",
       "        }\n",
       "        else if (typeof evt.data === 'string' && evt.data.slice(0, 21) == \"data:image/png;base64\") {\n",
       "            fig.imageObj.src = evt.data;\n",
       "            fig.updated_canvas_event();\n",
       "            return;\n",
       "        }\n",
       "\n",
       "        var msg = JSON.parse(evt.data);\n",
       "        var msg_type = msg['type'];\n",
       "\n",
       "        // Call the  \"handle_{type}\" callback, which takes\n",
       "        // the figure and JSON message as its only arguments.\n",
       "        try {\n",
       "            var callback = fig[\"handle_\" + msg_type];\n",
       "        } catch (e) {\n",
       "            console.log(\"No handler for the '\" + msg_type + \"' message type: \", msg);\n",
       "            return;\n",
       "        }\n",
       "\n",
       "        if (callback) {\n",
       "            try {\n",
       "                // console.log(\"Handling '\" + msg_type + \"' message: \", msg);\n",
       "                callback(fig, msg);\n",
       "            } catch (e) {\n",
       "                console.log(\"Exception inside the 'handler_\" + msg_type + \"' callback:\", e, e.stack, msg);\n",
       "            }\n",
       "        }\n",
       "    };\n",
       "}\n",
       "\n",
       "// from http://stackoverflow.com/questions/1114465/getting-mouse-location-in-canvas\n",
       "mpl.findpos = function(e) {\n",
       "    //this section is from http://www.quirksmode.org/js/events_properties.html\n",
       "    var targ;\n",
       "    if (!e)\n",
       "        e = window.event;\n",
       "    if (e.target)\n",
       "        targ = e.target;\n",
       "    else if (e.srcElement)\n",
       "        targ = e.srcElement;\n",
       "    if (targ.nodeType == 3) // defeat Safari bug\n",
       "        targ = targ.parentNode;\n",
       "\n",
       "    // jQuery normalizes the pageX and pageY\n",
       "    // pageX,Y are the mouse positions relative to the document\n",
       "    // offset() returns the position of the element relative to the document\n",
       "    var x = e.pageX - $(targ).offset().left;\n",
       "    var y = e.pageY - $(targ).offset().top;\n",
       "\n",
       "    return {\"x\": x, \"y\": y};\n",
       "};\n",
       "\n",
       "mpl.figure.prototype.mouse_event = function(event, name) {\n",
       "    var canvas_pos = mpl.findpos(event)\n",
       "\n",
       "    if (name === 'button_press')\n",
       "    {\n",
       "        this.canvas.focus();\n",
       "        this.canvas_div.focus();\n",
       "    }\n",
       "\n",
       "    var x = canvas_pos.x;\n",
       "    var y = canvas_pos.y;\n",
       "\n",
       "    this.send_message(name, {x: x, y: y, button: event.button,\n",
       "                             step: event.step});\n",
       "\n",
       "    /* This prevents the web browser from automatically changing to\n",
       "     * the text insertion cursor when the button is pressed.  We want\n",
       "     * to control all of the cursor setting manually through the\n",
       "     * 'cursor' event from matplotlib */\n",
       "    event.preventDefault();\n",
       "    return false;\n",
       "}\n",
       "\n",
       "mpl.figure.prototype._key_event_extra = function(event, name) {\n",
       "    // Handle any extra behaviour associated with a key event\n",
       "}\n",
       "\n",
       "mpl.figure.prototype.key_event = function(event, name) {\n",
       "\n",
       "    // Prevent repeat events\n",
       "    if (name == 'key_press')\n",
       "    {\n",
       "        if (event.which === this._key)\n",
       "            return;\n",
       "        else\n",
       "            this._key = event.which;\n",
       "    }\n",
       "    if (name == 'key_release')\n",
       "        this._key = null;\n",
       "\n",
       "    var value = '';\n",
       "    if (event.ctrlKey && event.which != 17)\n",
       "        value += \"ctrl+\";\n",
       "    if (event.altKey && event.which != 18)\n",
       "        value += \"alt+\";\n",
       "    if (event.shiftKey && event.which != 16)\n",
       "        value += \"shift+\";\n",
       "\n",
       "    value += 'k';\n",
       "    value += event.which.toString();\n",
       "\n",
       "    this._key_event_extra(event, name);\n",
       "\n",
       "    this.send_message(name, {key: value});\n",
       "    return false;\n",
       "}\n",
       "\n",
       "mpl.figure.prototype.toolbar_button_onclick = function(name) {\n",
       "    if (name == 'download') {\n",
       "        this.handle_save(this, null);\n",
       "    } else {\n",
       "        this.send_message(\"toolbar_button\", {name: name});\n",
       "    }\n",
       "};\n",
       "\n",
       "mpl.figure.prototype.toolbar_button_onmouseover = function(tooltip) {\n",
       "    this.message.textContent = tooltip;\n",
       "};\n",
       "mpl.toolbar_items = [[\"Home\", \"Reset original view\", \"fa fa-home icon-home\", \"home\"], [\"Back\", \"Back to  previous view\", \"fa fa-arrow-left icon-arrow-left\", \"back\"], [\"Forward\", \"Forward to next view\", \"fa fa-arrow-right icon-arrow-right\", \"forward\"], [\"\", \"\", \"\", \"\"], [\"Pan\", \"Pan axes with left mouse, zoom with right\", \"fa fa-arrows icon-move\", \"pan\"], [\"Zoom\", \"Zoom to rectangle\", \"fa fa-square-o icon-check-empty\", \"zoom\"], [\"\", \"\", \"\", \"\"], [\"Download\", \"Download plot\", \"fa fa-floppy-o icon-save\", \"download\"]];\n",
       "\n",
       "mpl.extensions = [\"eps\", \"jpeg\", \"pdf\", \"png\", \"ps\", \"raw\", \"svg\", \"tif\"];\n",
       "\n",
       "mpl.default_extension = \"png\";var comm_websocket_adapter = function(comm) {\n",
       "    // Create a \"websocket\"-like object which calls the given IPython comm\n",
       "    // object with the appropriate methods. Currently this is a non binary\n",
       "    // socket, so there is still some room for performance tuning.\n",
       "    var ws = {};\n",
       "\n",
       "    ws.close = function() {\n",
       "        comm.close()\n",
       "    };\n",
       "    ws.send = function(m) {\n",
       "        //console.log('sending', m);\n",
       "        comm.send(m);\n",
       "    };\n",
       "    // Register the callback with on_msg.\n",
       "    comm.on_msg(function(msg) {\n",
       "        //console.log('receiving', msg['content']['data'], msg);\n",
       "        // Pass the mpl event to the overriden (by mpl) onmessage function.\n",
       "        ws.onmessage(msg['content']['data'])\n",
       "    });\n",
       "    return ws;\n",
       "}\n",
       "\n",
       "mpl.mpl_figure_comm = function(comm, msg) {\n",
       "    // This is the function which gets called when the mpl process\n",
       "    // starts-up an IPython Comm through the \"matplotlib\" channel.\n",
       "\n",
       "    var id = msg.content.data.id;\n",
       "    // Get hold of the div created by the display call when the Comm\n",
       "    // socket was opened in Python.\n",
       "    var element = $(\"#\" + id);\n",
       "    var ws_proxy = comm_websocket_adapter(comm)\n",
       "\n",
       "    function ondownload(figure, format) {\n",
       "        window.open(figure.imageObj.src);\n",
       "    }\n",
       "\n",
       "    var fig = new mpl.figure(id, ws_proxy,\n",
       "                           ondownload,\n",
       "                           element.get(0));\n",
       "\n",
       "    // Call onopen now - mpl needs it, as it is assuming we've passed it a real\n",
       "    // web socket which is closed, not our websocket->open comm proxy.\n",
       "    ws_proxy.onopen();\n",
       "\n",
       "    fig.parent_element = element.get(0);\n",
       "    fig.cell_info = mpl.find_output_cell(\"<div id='\" + id + \"'></div>\");\n",
       "    if (!fig.cell_info) {\n",
       "        console.error(\"Failed to find cell for figure\", id, fig);\n",
       "        return;\n",
       "    }\n",
       "\n",
       "    var output_index = fig.cell_info[2]\n",
       "    var cell = fig.cell_info[0];\n",
       "\n",
       "};\n",
       "\n",
       "mpl.figure.prototype.handle_close = function(fig, msg) {\n",
       "    // Update the output cell to use the data from the current canvas.\n",
       "    fig.push_to_output();\n",
       "    var dataURL = fig.canvas.toDataURL();\n",
       "    // Re-enable the keyboard manager in IPython - without this line, in FF,\n",
       "    // the notebook keyboard shortcuts fail.\n",
       "    IPython.keyboard_manager.enable()\n",
       "    $(fig.parent_element).html('<img src=\"' + dataURL + '\">');\n",
       "    fig.send_message('closing', {});\n",
       "    fig.ws.close()\n",
       "}\n",
       "\n",
       "mpl.figure.prototype.push_to_output = function(remove_interactive) {\n",
       "    // Turn the data on the canvas into data in the output cell.\n",
       "    var dataURL = this.canvas.toDataURL();\n",
       "    this.cell_info[1]['text/html'] = '<img src=\"' + dataURL + '\">';\n",
       "}\n",
       "\n",
       "mpl.figure.prototype.updated_canvas_event = function() {\n",
       "    // Tell IPython that the notebook contents must change.\n",
       "    IPython.notebook.set_dirty(true);\n",
       "    this.send_message(\"ack\", {});\n",
       "    var fig = this;\n",
       "    // Wait a second, then push the new image to the DOM so\n",
       "    // that it is saved nicely (might be nice to debounce this).\n",
       "    setTimeout(function () { fig.push_to_output() }, 1000);\n",
       "}\n",
       "\n",
       "mpl.figure.prototype._init_toolbar = function() {\n",
       "    var fig = this;\n",
       "\n",
       "    var nav_element = $('<div/>')\n",
       "    nav_element.attr('style', 'width: 100%');\n",
       "    this.root.append(nav_element);\n",
       "\n",
       "    // Define a callback function for later on.\n",
       "    function toolbar_event(event) {\n",
       "        return fig.toolbar_button_onclick(event['data']);\n",
       "    }\n",
       "    function toolbar_mouse_event(event) {\n",
       "        return fig.toolbar_button_onmouseover(event['data']);\n",
       "    }\n",
       "\n",
       "    for(var toolbar_ind in mpl.toolbar_items){\n",
       "        var name = mpl.toolbar_items[toolbar_ind][0];\n",
       "        var tooltip = mpl.toolbar_items[toolbar_ind][1];\n",
       "        var image = mpl.toolbar_items[toolbar_ind][2];\n",
       "        var method_name = mpl.toolbar_items[toolbar_ind][3];\n",
       "\n",
       "        if (!name) { continue; };\n",
       "\n",
       "        var button = $('<button class=\"btn btn-default\" href=\"#\" title=\"' + name + '\"><i class=\"fa ' + image + ' fa-lg\"></i></button>');\n",
       "        button.click(method_name, toolbar_event);\n",
       "        button.mouseover(tooltip, toolbar_mouse_event);\n",
       "        nav_element.append(button);\n",
       "    }\n",
       "\n",
       "    // Add the status bar.\n",
       "    var status_bar = $('<span class=\"mpl-message\" style=\"text-align:right; float: right;\"/>');\n",
       "    nav_element.append(status_bar);\n",
       "    this.message = status_bar[0];\n",
       "\n",
       "    // Add the close button to the window.\n",
       "    var buttongrp = $('<div class=\"btn-group inline pull-right\"></div>');\n",
       "    var button = $('<button class=\"btn btn-mini btn-danger\" href=\"#\" title=\"Close figure\"><i class=\"fa fa-times icon-remove icon-large\"></i></button>');\n",
       "    button.click(function (evt) { fig.handle_close(fig, {}); } );\n",
       "    button.mouseover('Close figure', toolbar_mouse_event);\n",
       "    buttongrp.append(button);\n",
       "    var titlebar = this.root.find($('.ui-dialog-titlebar'));\n",
       "    titlebar.prepend(buttongrp);\n",
       "}\n",
       "\n",
       "\n",
       "mpl.figure.prototype._canvas_extra_style = function(el){\n",
       "    // this is important to make the div 'focusable\n",
       "    el.attr('tabindex', 0)\n",
       "    // reach out to IPython and tell the keyboard manager to turn it's self\n",
       "    // off when our div gets focus\n",
       "\n",
       "    // location in version 3\n",
       "    if (IPython.notebook.keyboard_manager) {\n",
       "        IPython.notebook.keyboard_manager.register_events(el);\n",
       "    }\n",
       "    else {\n",
       "        // location in version 2\n",
       "        IPython.keyboard_manager.register_events(el);\n",
       "    }\n",
       "\n",
       "}\n",
       "\n",
       "mpl.figure.prototype._key_event_extra = function(event, name) {\n",
       "    var manager = IPython.notebook.keyboard_manager;\n",
       "    if (!manager)\n",
       "        manager = IPython.keyboard_manager;\n",
       "\n",
       "    // Check for shift+enter\n",
       "    if (event.shiftKey && event.which == 13) {\n",
       "        this.canvas_div.blur();\n",
       "        event.shiftKey = false;\n",
       "        // Send a \"J\" for go to next cell\n",
       "        event.which = 74;\n",
       "        event.keyCode = 74;\n",
       "        manager.command_mode();\n",
       "        manager.handle_keydown(event);\n",
       "    }\n",
       "}\n",
       "\n",
       "mpl.figure.prototype.handle_save = function(fig, msg) {\n",
       "    fig.ondownload(fig, null);\n",
       "}\n",
       "\n",
       "\n",
       "mpl.find_output_cell = function(html_output) {\n",
       "    // Return the cell and output element which can be found *uniquely* in the notebook.\n",
       "    // Note - this is a bit hacky, but it is done because the \"notebook_saving.Notebook\"\n",
       "    // IPython event is triggered only after the cells have been serialised, which for\n",
       "    // our purposes (turning an active figure into a static one), is too late.\n",
       "    var cells = IPython.notebook.get_cells();\n",
       "    var ncells = cells.length;\n",
       "    for (var i=0; i<ncells; i++) {\n",
       "        var cell = cells[i];\n",
       "        if (cell.cell_type === 'code'){\n",
       "            for (var j=0; j<cell.output_area.outputs.length; j++) {\n",
       "                var data = cell.output_area.outputs[j];\n",
       "                if (data.data) {\n",
       "                    // IPython >= 3 moved mimebundle to data attribute of output\n",
       "                    data = data.data;\n",
       "                }\n",
       "                if (data['text/html'] == html_output) {\n",
       "                    return [cell, data, j];\n",
       "                }\n",
       "            }\n",
       "        }\n",
       "    }\n",
       "}\n",
       "\n",
       "// Register the function which deals with the matplotlib target/channel.\n",
       "// The kernel may be null if the page has been refreshed.\n",
       "if (IPython.notebook.kernel != null) {\n",
       "    IPython.notebook.kernel.comm_manager.register_target('matplotlib', mpl.mpl_figure_comm);\n",
       "}\n"
      ],
      "text/plain": [
       "<IPython.core.display.Javascript object>"
      ]
     },
     "metadata": {},
     "output_type": "display_data"
    },
    {
     "data": {
      "text/html": [
       "<img src=\"data:image/png;base64,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\">"
      ],
      "text/plain": [
       "<IPython.core.display.HTML object>"
      ]
     },
     "metadata": {},
     "output_type": "display_data"
    }
   ],
   "source": [
    "# histograms of wage data\n",
    "fig, ax = plt.subplots(ncols=3)\n",
    "index = 0\n",
    "titles = ['Prevailing Wage', 'Low Offer', 'High Offer']\n",
    "for column in wages.columns:\n",
    "    column = str(column)\n",
    "    ax[index].hist(wages[column].values, range=(0, 250000))\n",
    "    ax[index].ticklabel_format(style='sci', axis='x', scilimits=(0,0))\n",
    "    ax[index].set_title(titles[index])\n",
    "    index += 1"
   ]
  },
  {
   "cell_type": "code",
   "execution_count": 91,
   "metadata": {
    "collapsed": false
   },
   "outputs": [],
   "source": [
    "# creating a formula for dmatrices, including dummy variables\n",
    "params = dflogit.columns[:-6]\n",
    "dummies = ['C(month)', 'C(JOB_INFO_EDUCATION)', 'C(COUNTRY_OF_CITIZENSHIP)', 'C(CLASS_OF_ADMISSION)', 'C(FOREIGN_WORKER_INFO_EDUCATION)']\n",
    "f = 'denied ~ ' + ' + '.join(params) + ' + ' + ' + '.join(dummies)"
   ]
  },
  {
   "cell_type": "code",
   "execution_count": 92,
   "metadata": {
    "collapsed": false,
    "scrolled": true
   },
   "outputs": [
    {
     "name": "stdout",
     "output_type": "stream",
     "text": [
      "n:  84634\n",
      "features:  289\n"
     ]
    }
   ],
   "source": [
    "# convert pandas dataframe into numpy arrays for sklearn logit\n",
    "y, X = dmatrices(f, dflogit, NA_action='raise', return_type=\"dataframe\")\n",
    "\n",
    "# checking to see that none of the data points were lost\n",
    "print 'n: ', len(y)\n",
    "print 'features: ', len(X.columns)"
   ]
  },
  {
   "cell_type": "markdown",
   "metadata": {},
   "source": [
    "There are about 300x as many data points as features."
   ]
  },
  {
   "cell_type": "code",
   "execution_count": 93,
   "metadata": {
    "collapsed": true
   },
   "outputs": [],
   "source": [
    "# flattening y into a 1-D array\n",
    "y = np.ravel(y)\n",
    "\n",
    "# splitting data in to training and testing sets\n",
    "X_train, X_test, y_train, y_test = train_test_split(X, y, test_size=.1, random_state=0)"
   ]
  },
  {
   "cell_type": "markdown",
   "metadata": {},
   "source": [
    "## Logistic Regression"
   ]
  },
  {
   "cell_type": "markdown",
   "metadata": {},
   "source": [
    "Using grid search and cross validation, a model is fit to the training set."
   ]
  },
  {
   "cell_type": "code",
   "execution_count": 94,
   "metadata": {
    "collapsed": false
   },
   "outputs": [
    {
     "name": "stdout",
     "output_type": "stream",
     "text": [
      "CPU times: user 1min 7s, sys: 3.62 s, total: 1min 11s\n",
      "Wall time: 1min 11s\n"
     ]
    }
   ],
   "source": [
    "%%time\n",
    "logit_params = {'C': [.01, .1, 1., 10., 100.]}\n",
    "logit = LogisticRegression(class_weight='balanced')\n",
    "lgt = GridSearchCV(logit, logit_params, cv=10)\n",
    "lgt.fit(X_train, y_train)"
   ]
  },
  {
   "cell_type": "markdown",
   "metadata": {},
   "source": [
    "The null hypothesis for this model is to simply guess that all applications will be accepted. As will be shown, though, comparing the accuracy of the model and the null hypothesis is not an adequate way of evaluating the model."
   ]
  },
  {
   "cell_type": "code",
   "execution_count": 191,
   "metadata": {
    "collapsed": false
   },
   "outputs": [
    {
     "name": "stdout",
     "output_type": "stream",
     "text": [
      "Acc:  0.68809073724\n",
      "Null:  0.0645085066163\n"
     ]
    }
   ],
   "source": [
    "# model accuracy\n",
    "print 'Acc: ', lgt.score(X_test, y_test)\n",
    "\n",
    "# null hypotheses\n",
    "null_risk = y_test.mean()\n",
    "null = null_risk\n",
    "\n",
    "print 'Null: ', null"
   ]
  },
  {
   "cell_type": "markdown",
   "metadata": {},
   "source": [
    "At first glance, the model is doing worse than the null (accepting every application)."
   ]
  },
  {
   "cell_type": "markdown",
   "metadata": {},
   "source": [
    "### Evaluating the Model\n",
    "\n",
    "The default decision point for logistic regression is .5, but this can be adjusted manually to further optimize the model. My goals are to maximize recall and precision for rejected applications."
   ]
  },
  {
   "cell_type": "code",
   "execution_count": 281,
   "metadata": {
    "collapsed": false
   },
   "outputs": [],
   "source": [
    "def decision_threshold(clf, X, cutoff=.5):\n",
    "    ''' Adjusts the decision cutoff for sklearn classifier predictions\n",
    "    \n",
    "    Parameters: \n",
    "    clf -- an sklearn classifier object\n",
    "    X -- a numpy array of unlabeled data\n",
    "    cutoff --  a float between 0 and 1\n",
    "    \n",
    "    Returns:\n",
    "    a numpy array of binary predictions\n",
    "    '''\n",
    "    probs = clf.predict_proba(X)\n",
    "    count = []\n",
    "    for prob in probs:\n",
    "        if prob[1] > cutoff:\n",
    "            count.append(1)\n",
    "        else:\n",
    "            count.append(0)\n",
    "    return np.array(count)\n",
    "\n",
    "def threshold_search(clf, X, y, min_recall=.51, step=.01):\n",
    "    ''' binary search for decision cutoff\n",
    "    \n",
    "    Parameters:\n",
    "    clf -- sklearn classifier object\n",
    "    X -- numpy array of unlabeled data\n",
    "    y -- numpy array of true labels for the data\n",
    "    min_recall -- float between 0 and 1\n",
    "    step -- float\n",
    "    \n",
    "    Returns:\n",
    "    float\n",
    "    '''\n",
    "    guess = .5\n",
    "    epsilon = .01\n",
    "    \n",
    "    last_guess = 0\n",
    "    low_guess = 0.\n",
    "    high_guess = 1.\n",
    "    \n",
    "    while abs(guess - last_guess) > epsilon:\n",
    "        last_guess = guess\n",
    "        step_up = guess + step\n",
    "        step_down = guess - step\n",
    "        \n",
    "        pred = decision_threshold(clf, X, guess)\n",
    "        uppred = decision_threshold(clf, X, step_up)\n",
    "        downpred = decision_threshold(clf, X, step_down)\n",
    "        \n",
    "        guess_recall = metrics.recall_score(y, pred)\n",
    "        up_recall = metrics.recall_score(y, uppred)\n",
    "        down_recall = metrics.recall_score(y, downpred)\n",
    "        \n",
    "        guess_precision = metrics.precision_score(y, pred)\n",
    "        up_precision = metrics.precision_score(y, uppred)\n",
    "        down_precision = metrics.precision_score(y, downpred)\n",
    "        \n",
    "        if guess_recall <= min_recall:\n",
    "            if guess_recall < up_recall:\n",
    "                low_guess = guess\n",
    "                guess = (guess + high_guess)/2. \n",
    "            elif guess_recall < down_recall:\n",
    "                high_guess = guess\n",
    "                guess = (guess + low_guess)/2.\n",
    "        elif guess_recall > min_recall:\n",
    "            if guess_precision < up_precision:\n",
    "                low_guess = guess\n",
    "                guess = (guess + high_guess)/2.\n",
    "            elif guess_precision < down_precision:\n",
    "                high_guess = guess\n",
    "                guess = (guess + low_guess)/2.\n",
    "    return guess\n",
    "\n",
    "def linear_threshold_search(clf, X, y, min_recall=.51):\n",
    "    ''' linear search for decision cutoff\n",
    "    \n",
    "    Parameters:\n",
    "    clf -- sklearn classifier object\n",
    "    X -- numpy array of unlabeled data\n",
    "    y -- numpy array of true labels for the data\n",
    "    min_recall -- float between 0 and 1\n",
    "    \n",
    "    Returns:\n",
    "    float \n",
    "    '''\n",
    "    result = 0.\n",
    "    max_precision = 0.\n",
    "    for n in range(0, 101):\n",
    "        n = n/100.\n",
    "        pred = decision_threshold(clf, X, n)\n",
    "        precision = metrics.precision_score(y, pred)\n",
    "        recall = metrics.recall_score(y, pred)\n",
    "        if (precision > max_precision) and (recall > min_recall):\n",
    "            result = n\n",
    "            max_precision = precision\n",
    "    return result\n",
    "\n",
    "def classifier_evaluation(true_labels, predictions):\n",
    "    # generates evaluation metrics\n",
    "    print 'Acc: ', metrics.accuracy_score(true_labels, predictions), '\\n'\n",
    "    print metrics.confusion_matrix(true_labels, predictions)\n",
    "    print metrics.classification_report(true_labels, predictions)\n",
    "    \n"
   ]
  },
  {
   "cell_type": "code",
   "execution_count": 282,
   "metadata": {
    "collapsed": false
   },
   "outputs": [],
   "source": [
    "# adjusting the decision cutoff\n",
    "logit_cutoff = threshold_search(lgt, X_test, y_test)\n",
    "pred = decision_threshold(lgt, X_test, logit_cutoff)"
   ]
  },
  {
   "cell_type": "markdown",
   "metadata": {},
   "source": [
    "Adjusting the decision cutoff greatly improves the accuracy of the model. In the confusion matrix, rejected applications are labeled 1."
   ]
  },
  {
   "cell_type": "code",
   "execution_count": 283,
   "metadata": {
    "collapsed": false
   },
   "outputs": [
    {
     "name": "stdout",
     "output_type": "stream",
     "text": [
      "Acc:  0.816753308129 \n",
      "\n",
      "[[6634 1284]\n",
      " [ 267  279]]\n",
      "             precision    recall  f1-score   support\n",
      "\n",
      "        0.0       0.96      0.84      0.90      7918\n",
      "        1.0       0.18      0.51      0.26       546\n",
      "\n",
      "avg / total       0.91      0.82      0.85      8464\n",
      "\n"
     ]
    }
   ],
   "source": [
    "classifier_evaluation(y_test, pred)"
   ]
  },
  {
   "cell_type": "markdown",
   "metadata": {},
   "source": [
    "While the model does have a lot of false-positives, these are not very costly. The result will simply be flagging an application as a possible rejection, leading to a strengthening of a possible weak application. The model identified over half of all rejections, and flagged about one sixth of accepted applications as weak. This means that the model *is* usefull in that applications classified as weak are rejected at triple the base-rate ad applications classified as less risky are rejected at a lower than normal rate."
   ]
  },
  {
   "cell_type": "code",
   "execution_count": 100,
   "metadata": {
    "collapsed": false
   },
   "outputs": [
    {
     "name": "stdout",
     "output_type": "stream",
     "text": [
      "[ 0.62169187  0.62807183  0.7061673   0.76606805  0.76335066  0.74645558\n",
      "  0.73909961  0.68474536  0.67430867  0.72736942]\n",
      "0.705732835552\n",
      "CPU times: user 13.3 s, sys: 836 ms, total: 14.1 s\n",
      "Wall time: 14.1 s\n"
     ]
    }
   ],
   "source": [
    "%%time\n",
    "# 10-fold cross-validation\n",
    "logit_scores = cross_val_score(lgt.best_estimator_, X, y, scoring='accuracy', cv=10)\n",
    "print logit_scores\n",
    "print logit_scores.mean()"
   ]
  },
  {
   "cell_type": "markdown",
   "metadata": {},
   "source": [
    "Variability in CV scores shows that sampling for the train-test split may not be totally random, or that the model may be overfitting the training data."
   ]
  },
  {
   "cell_type": "markdown",
   "metadata": {},
   "source": [
    "### Results"
   ]
  },
  {
   "cell_type": "code",
   "execution_count": 296,
   "metadata": {
    "collapsed": false
   },
   "outputs": [
    {
     "data": {
      "text/html": [
       "<div>\n",
       "<table border=\"1\" class=\"dataframe\">\n",
       "  <thead>\n",
       "    <tr style=\"text-align: right;\">\n",
       "      <th></th>\n",
       "      <th>0</th>\n",
       "      <th>1</th>\n",
       "    </tr>\n",
       "  </thead>\n",
       "  <tbody>\n",
       "    <tr>\n",
       "      <th>90</th>\n",
       "      <td>C(COUNTRY_OF_CITIZENSHIP)[T.INDIA]</td>\n",
       "      <td>[-0.192879369772]</td>\n",
       "    </tr>\n",
       "    <tr>\n",
       "      <th>268</th>\n",
       "      <td>job_info_alt_occ</td>\n",
       "      <td>[-0.174859127385]</td>\n",
       "    </tr>\n",
       "    <tr>\n",
       "      <th>265</th>\n",
       "      <td>job_info_alt_combo_ed_exp</td>\n",
       "      <td>[-0.116221673978]</td>\n",
       "    </tr>\n",
       "    <tr>\n",
       "      <th>262</th>\n",
       "      <td>job_info_experience</td>\n",
       "      <td>[-0.11108366367]</td>\n",
       "    </tr>\n",
       "    <tr>\n",
       "      <th>216</th>\n",
       "      <td>C(CLASS_OF_ADMISSION)[T.H-1B]</td>\n",
       "      <td>[-0.105104361855]</td>\n",
       "    </tr>\n",
       "    <tr>\n",
       "      <th>2</th>\n",
       "      <td>C(month)[T.3]</td>\n",
       "      <td>[-0.0891529336661]</td>\n",
       "    </tr>\n",
       "    <tr>\n",
       "      <th>16</th>\n",
       "      <td>C(JOB_INFO_EDUCATION)[T.Master's]</td>\n",
       "      <td>[-0.0885145048627]</td>\n",
       "    </tr>\n",
       "    <tr>\n",
       "      <th>226</th>\n",
       "      <td>C(CLASS_OF_ADMISSION)[T.L-1]</td>\n",
       "      <td>[-0.0825969190479]</td>\n",
       "    </tr>\n",
       "    <tr>\n",
       "      <th>276</th>\n",
       "      <td>recr_info_professional_occ</td>\n",
       "      <td>[-0.0738812872893]</td>\n",
       "    </tr>\n",
       "    <tr>\n",
       "      <th>10</th>\n",
       "      <td>C(month)[T.11]</td>\n",
       "      <td>[-0.0612310433054]</td>\n",
       "    </tr>\n",
       "  </tbody>\n",
       "</table>\n",
       "</div>"
      ],
      "text/plain": [
       "                                      0                   1\n",
       "90   C(COUNTRY_OF_CITIZENSHIP)[T.INDIA]   [-0.192879369772]\n",
       "268                    job_info_alt_occ   [-0.174859127385]\n",
       "265           job_info_alt_combo_ed_exp   [-0.116221673978]\n",
       "262                 job_info_experience    [-0.11108366367]\n",
       "216       C(CLASS_OF_ADMISSION)[T.H-1B]   [-0.105104361855]\n",
       "2                         C(month)[T.3]  [-0.0891529336661]\n",
       "16    C(JOB_INFO_EDUCATION)[T.Master's]  [-0.0885145048627]\n",
       "226        C(CLASS_OF_ADMISSION)[T.L-1]  [-0.0825969190479]\n",
       "276          recr_info_professional_occ  [-0.0738812872893]\n",
       "10                       C(month)[T.11]  [-0.0612310433054]"
      ]
     },
     "execution_count": 296,
     "metadata": {},
     "output_type": "execute_result"
    }
   ],
   "source": [
    "# examining the coefficients\n",
    "logit_coef = pd.DataFrame(zip(X.columns, np.transpose(lgt.best_estimator_.coef_))).sort_values(by=1)\n",
    "logit_coef.head(10)"
   ]
  },
  {
   "cell_type": "code",
   "execution_count": 297,
   "metadata": {
    "collapsed": false
   },
   "outputs": [
    {
     "data": {
      "text/html": [
       "<div>\n",
       "<table border=\"1\" class=\"dataframe\">\n",
       "  <thead>\n",
       "    <tr style=\"text-align: right;\">\n",
       "      <th></th>\n",
       "      <th>0</th>\n",
       "      <th>1</th>\n",
       "    </tr>\n",
       "  </thead>\n",
       "  <tbody>\n",
       "    <tr>\n",
       "      <th>250</th>\n",
       "      <td>C(FOREIGN_WORKER_INFO_EDUCATION)[T.High School]</td>\n",
       "      <td>[0.103990664707]</td>\n",
       "    </tr>\n",
       "    <tr>\n",
       "      <th>124</th>\n",
       "      <td>C(COUNTRY_OF_CITIZENSHIP)[T.MEXICO]</td>\n",
       "      <td>[0.104004870867]</td>\n",
       "    </tr>\n",
       "    <tr>\n",
       "      <th>15</th>\n",
       "      <td>C(JOB_INFO_EDUCATION)[T.High School]</td>\n",
       "      <td>[0.106562892679]</td>\n",
       "    </tr>\n",
       "    <tr>\n",
       "      <th>5</th>\n",
       "      <td>C(month)[T.6]</td>\n",
       "      <td>[0.133795218161]</td>\n",
       "    </tr>\n",
       "    <tr>\n",
       "      <th>4</th>\n",
       "      <td>C(month)[T.5]</td>\n",
       "      <td>[0.144669053805]</td>\n",
       "    </tr>\n",
       "    <tr>\n",
       "      <th>279</th>\n",
       "      <td>ri_posted_notice_at_worksite</td>\n",
       "      <td>[0.178510861625]</td>\n",
       "    </tr>\n",
       "    <tr>\n",
       "      <th>252</th>\n",
       "      <td>C(FOREIGN_WORKER_INFO_EDUCATION)[T.None]</td>\n",
       "      <td>[0.221375243251]</td>\n",
       "    </tr>\n",
       "    <tr>\n",
       "      <th>17</th>\n",
       "      <td>C(JOB_INFO_EDUCATION)[T.None]</td>\n",
       "      <td>[0.307808606499]</td>\n",
       "    </tr>\n",
       "    <tr>\n",
       "      <th>0</th>\n",
       "      <td>Intercept</td>\n",
       "      <td>[0.328964223612]</td>\n",
       "    </tr>\n",
       "    <tr>\n",
       "      <th>270</th>\n",
       "      <td>job_info_job_req_normal</td>\n",
       "      <td>[0.536121478182]</td>\n",
       "    </tr>\n",
       "  </tbody>\n",
       "</table>\n",
       "</div>"
      ],
      "text/plain": [
       "                                                   0                 1\n",
       "250  C(FOREIGN_WORKER_INFO_EDUCATION)[T.High School]  [0.103990664707]\n",
       "124              C(COUNTRY_OF_CITIZENSHIP)[T.MEXICO]  [0.104004870867]\n",
       "15              C(JOB_INFO_EDUCATION)[T.High School]  [0.106562892679]\n",
       "5                                      C(month)[T.6]  [0.133795218161]\n",
       "4                                      C(month)[T.5]  [0.144669053805]\n",
       "279                     ri_posted_notice_at_worksite  [0.178510861625]\n",
       "252         C(FOREIGN_WORKER_INFO_EDUCATION)[T.None]  [0.221375243251]\n",
       "17                     C(JOB_INFO_EDUCATION)[T.None]  [0.307808606499]\n",
       "0                                          Intercept  [0.328964223612]\n",
       "270                          job_info_job_req_normal  [0.536121478182]"
      ]
     },
     "execution_count": 297,
     "metadata": {},
     "output_type": "execute_result"
    }
   ],
   "source": [
    "logit_coef.tail(10)"
   ]
  },
  {
   "cell_type": "markdown",
   "metadata": {},
   "source": [
    "According to the model, the strongest factor leading to application rejection is whether a job opportunity has normal requirements. This may show that Homeland Security may question the need for a foreign worker when the job requirements are not extraordinary.\n",
    "\n",
    "Education requirements also matter: positions and applicants without at least a Bachelor's are rejected at high rates. Applicants from Mexico, the Philippines, South Korea are also rejected at relatively high rates. \n",
    "\n",
    "Interestingly, foreign workers with an ownership stake in the hiring company may be at a disadvantage. Perhaps this is intended to encourage moneyed immigrants to simply apply for an investor visa (EB-5 and E-2). Some markers for rejection seem to point to a possibility for exploitation, with jobs requiring the worker to live on-site and live-in domestic workers facing heightened scrutiny.\n",
    "\n",
    "The strongest strengthening feature is Indian citizenship. Indians are rejected at the lowest rate of any nationality. Other strengthening factors show that unusual job requirements high worker education improve chances for approval. This may show that jobs requiring a high degree of specialization may be difficult to fill in the US, so companies are justified in hiring foreign talent. Job offers that accept workers with experience with other occupations or fields of study are rarely rejected. Perhaps these are jobs in new fields, with so few experienced professionals that companies must look to workers with only tangential experience.\n",
    "\n",
    "Education and pay are other important factors: jobs requiring a high level of education are more likely to recieve approval, as well as jobs that offer higher pay than the prevailing wage.\n",
    "\n",
    "All of this leads towards a narrative where highly specialized positions for which there may be few qualified applicants are the most likely to recieve approval for US work visas."
   ]
  },
  {
   "cell_type": "markdown",
   "metadata": {},
   "source": [
    "## Decision Tree"
   ]
  },
  {
   "cell_type": "markdown",
   "metadata": {},
   "source": [
    "The decision tree can take quite a long time to fit, so I had to limit the size of the parameter grid, and k-fold cross validation to five partitions."
   ]
  },
  {
   "cell_type": "code",
   "execution_count": 186,
   "metadata": {
    "collapsed": false
   },
   "outputs": [
    {
     "name": "stdout",
     "output_type": "stream",
     "text": [
      "CPU times: user 4min 24s, sys: 7.25 s, total: 4min 31s\n",
      "Wall time: 4min 37s\n"
     ]
    }
   ],
   "source": [
    "%%time\n",
    "tree_params = {'min_samples_split': [4, 8, 16], \n",
    "               'min_samples_leaf': [2, 4, 8]}\n",
    "dtc = GridSearchCV(DecisionTreeClassifier(class_weight='balanced'), tree_params, cv=5)\n",
    "dtc.fit(X_train, y_train)"
   ]
  },
  {
   "cell_type": "code",
   "execution_count": 256,
   "metadata": {
    "collapsed": false
   },
   "outputs": [
    {
     "data": {
      "text/plain": [
       "{'min_samples_leaf': 2, 'min_samples_split': 4}"
      ]
     },
     "execution_count": 256,
     "metadata": {},
     "output_type": "execute_result"
    }
   ],
   "source": [
    "dtc.best_params_"
   ]
  },
  {
   "cell_type": "code",
   "execution_count": 260,
   "metadata": {
    "collapsed": false
   },
   "outputs": [
    {
     "name": "stdout",
     "output_type": "stream",
     "text": [
      "Acc:  0.902764650284\n",
      "Null:  0.0645085066163\n"
     ]
    }
   ],
   "source": [
    "print 'Acc: ', dtc.score(X_test, y_test)\n",
    "print 'Null: ', null"
   ]
  },
  {
   "cell_type": "markdown",
   "metadata": {},
   "source": [
    "The tree is quite a bit more accurate than the logistic regression, but still worse than the null hypothesis."
   ]
  },
  {
   "cell_type": "markdown",
   "metadata": {},
   "source": [
    "### Evaluating the Model"
   ]
  },
  {
   "cell_type": "code",
   "execution_count": 262,
   "metadata": {
    "collapsed": false
   },
   "outputs": [
    {
     "data": {
      "text/plain": [
       "array([[ 1.,  0.],\n",
       "       [ 1.,  0.],\n",
       "       [ 1.,  0.],\n",
       "       ..., \n",
       "       [ 1.,  0.],\n",
       "       [ 1.,  0.],\n",
       "       [ 1.,  0.]])"
      ]
     },
     "execution_count": 262,
     "metadata": {},
     "output_type": "execute_result"
    }
   ],
   "source": [
    "dtc.predict_proba(X_test)"
   ]
  },
  {
   "cell_type": "code",
   "execution_count": 284,
   "metadata": {
    "collapsed": false
   },
   "outputs": [
    {
     "name": "stdout",
     "output_type": "stream",
     "text": [
      "0.78\n",
      "Acc:  0.904536862004 \n",
      "\n",
      "[[7375  543]\n",
      " [ 265  281]]\n",
      "             precision    recall  f1-score   support\n",
      "\n",
      "        0.0       0.97      0.93      0.95      7918\n",
      "        1.0       0.34      0.51      0.41       546\n",
      "\n",
      "avg / total       0.93      0.90      0.91      8464\n",
      "\n"
     ]
    }
   ],
   "source": [
    "# Adjusting decision cutoff to balance type I and type II errors\n",
    "tree_cutoff = linear_threshold_search(dtc, X_test, y_test)\n",
    "print tree_cutoff\n",
    "tpred = decision_threshold(dtc, X_test, tree_cutoff)\n",
    "classifier_evaluation(y_test, tpred)"
   ]
  },
  {
   "cell_type": "markdown",
   "metadata": {},
   "source": [
    "The decision tree performs better than logistic regression overall, identifying well over half of the rejected applications, with flagged applications rejected at more than four times the null rate. Running an application through both models will give a better idea of the risk. Applications flagged by logit but not decision tree have a higher chance of being false positives, and may not be especially weak. Applications flagged by the tree but not logit may also be false positives, but should be regarded with more suspicion than those only flagged by logit, due to the lower rate of type 1 errors in the tree model. Applications classified as weak by both models are at an especially high risk of rejection."
   ]
  },
  {
   "cell_type": "code",
   "execution_count": 45,
   "metadata": {
    "collapsed": false
   },
   "outputs": [
    {
     "name": "stdout",
     "output_type": "stream",
     "text": [
      "[ 0.82088847  0.85089792  0.86873819  0.88386106  0.89922023  0.89532136\n",
      "  0.89649061  0.89719957  0.88714252  0.8882061 ]\n",
      "0.878796601931\n"
     ]
    }
   ],
   "source": [
    "%%time\n",
    "# evaluating the model using 10-fold cross-validation\n",
    "tree_scores = cross_val_score(dtc.best_estimator_, X, y, scoring='accuracy', cv=10)\n",
    "print tree_scores\n",
    "print tree_scores.mean()"
   ]
  },
  {
   "cell_type": "markdown",
   "metadata": {},
   "source": [
    "Consistent cross validation scores indicate that the model is not overfitting the training data."
   ]
  },
  {
   "cell_type": "markdown",
   "metadata": {},
   "source": [
    "### Results"
   ]
  },
  {
   "cell_type": "code",
   "execution_count": 295,
   "metadata": {
    "collapsed": false
   },
   "outputs": [
    {
     "data": {
      "text/html": [
       "<div>\n",
       "<table border=\"1\" class=\"dataframe\">\n",
       "  <thead>\n",
       "    <tr style=\"text-align: right;\">\n",
       "      <th></th>\n",
       "      <th>0</th>\n",
       "      <th>1</th>\n",
       "    </tr>\n",
       "  </thead>\n",
       "  <tbody>\n",
       "    <tr>\n",
       "      <th>265</th>\n",
       "      <td>job_info_alt_combo_ed_exp</td>\n",
       "      <td>0.013618</td>\n",
       "    </tr>\n",
       "    <tr>\n",
       "      <th>7</th>\n",
       "      <td>C(month)[T.8]</td>\n",
       "      <td>0.014838</td>\n",
       "    </tr>\n",
       "    <tr>\n",
       "      <th>268</th>\n",
       "      <td>job_info_alt_occ</td>\n",
       "      <td>0.015815</td>\n",
       "    </tr>\n",
       "    <tr>\n",
       "      <th>8</th>\n",
       "      <td>C(month)[T.9]</td>\n",
       "      <td>0.016061</td>\n",
       "    </tr>\n",
       "    <tr>\n",
       "      <th>262</th>\n",
       "      <td>job_info_experience</td>\n",
       "      <td>0.016778</td>\n",
       "    </tr>\n",
       "    <tr>\n",
       "      <th>264</th>\n",
       "      <td>job_info_alt_field</td>\n",
       "      <td>0.019634</td>\n",
       "    </tr>\n",
       "    <tr>\n",
       "      <th>270</th>\n",
       "      <td>job_info_job_req_normal</td>\n",
       "      <td>0.024923</td>\n",
       "    </tr>\n",
       "    <tr>\n",
       "      <th>259</th>\n",
       "      <td>wage_offer_to_9089</td>\n",
       "      <td>0.053546</td>\n",
       "    </tr>\n",
       "    <tr>\n",
       "      <th>257</th>\n",
       "      <td>pw_amount_9089</td>\n",
       "      <td>0.176800</td>\n",
       "    </tr>\n",
       "    <tr>\n",
       "      <th>258</th>\n",
       "      <td>wage_offer_from_9089</td>\n",
       "      <td>0.325248</td>\n",
       "    </tr>\n",
       "  </tbody>\n",
       "</table>\n",
       "</div>"
      ],
      "text/plain": [
       "                             0         1\n",
       "265  job_info_alt_combo_ed_exp  0.013618\n",
       "7                C(month)[T.8]  0.014838\n",
       "268           job_info_alt_occ  0.015815\n",
       "8                C(month)[T.9]  0.016061\n",
       "262        job_info_experience  0.016778\n",
       "264         job_info_alt_field  0.019634\n",
       "270    job_info_job_req_normal  0.024923\n",
       "259         wage_offer_to_9089  0.053546\n",
       "257             pw_amount_9089  0.176800\n",
       "258       wage_offer_from_9089  0.325248"
      ]
     },
     "execution_count": 295,
     "metadata": {},
     "output_type": "execute_result"
    }
   ],
   "source": [
    "# examining the feature importances\n",
    "pd.DataFrame(zip(X.columns, np.transpose(dtc.best_estimator_.feature_importances_ ))).sort_values(1).tail(10)"
   ]
  },
  {
   "cell_type": "markdown",
   "metadata": {},
   "source": [
    "The Decision Tree identifies some new features as being important to visa success. According to the tree, the wages offered and the prevailing wage for the job are the most important factors: the higher the pay, the better the chances for acceptance. Strengthening factors have far more influence on acceptance than weakening factors, which makes sense, given the low rate or rejection. Another new insight from the tree model is that having the employer complete the application is a significant factor. Other than that, the important features match well with those identified by logistic regression. The decision tree corroborates the earlier picture, with highly paid specialists having the highest acceptance rates."
   ]
  },
  {
   "cell_type": "markdown",
   "metadata": {},
   "source": [
    "## Model Comparison"
   ]
  },
  {
   "cell_type": "code",
   "execution_count": 47,
   "metadata": {
    "collapsed": false
   },
   "outputs": [
    {
     "data": {
      "text/plain": [
       "array([[6383,  541],\n",
       "       [1085,  455]])"
      ]
     },
     "execution_count": 47,
     "metadata": {},
     "output_type": "execute_result"
    }
   ],
   "source": [
    "metrics.confusion_matrix(pred, tpred)"
   ]
  },
  {
   "cell_type": "code",
   "execution_count": 48,
   "metadata": {
    "collapsed": false
   },
   "outputs": [
    {
     "data": {
      "text/plain": [
       "0.80789224952741023"
      ]
     },
     "execution_count": 48,
     "metadata": {},
     "output_type": "execute_result"
    }
   ],
   "source": [
    "(tpred == pred).mean()"
   ]
  },
  {
   "cell_type": "markdown",
   "metadata": {},
   "source": [
    "The models agree in about 81% of cases."
   ]
  },
  {
   "cell_type": "markdown",
   "metadata": {},
   "source": [
    "## Random Forest\n",
    "\n",
    "Random forest is an ensemble method that creates a random forest of decision trees, picking the best one for the classifier."
   ]
  },
  {
   "cell_type": "code",
   "execution_count": 122,
   "metadata": {
    "collapsed": false
   },
   "outputs": [
    {
     "name": "stdout",
     "output_type": "stream",
     "text": [
      "CPU times: user 2min 25s, sys: 7.46 s, total: 2min 33s\n",
      "Wall time: 2min 35s\n"
     ]
    }
   ],
   "source": [
    "%%time\n",
    "forest_params = {'oob_score': [True, False], \n",
    "                 'min_samples_split': [8, 16], \n",
    "                 'min_samples_leaf': [4, 8]}\n",
    "rfc = GridSearchCV(RandomForestClassifier(), forest_params, cv=5)\n",
    "rfc.fit(X_train, y_train)"
   ]
  },
  {
   "cell_type": "code",
   "execution_count": 123,
   "metadata": {
    "collapsed": false
   },
   "outputs": [
    {
     "name": "stdout",
     "output_type": "stream",
     "text": [
      "Acc:  0.942934782609\n",
      "Null:  0.935491493384\n"
     ]
    }
   ],
   "source": [
    "print 'Acc: ', rfc.score(X_test, y_test)\n",
    "print 'Null: ', null"
   ]
  },
  {
   "cell_type": "markdown",
   "metadata": {},
   "source": [
    "The random forest is only doing slightly better than the null."
   ]
  },
  {
   "cell_type": "code",
   "execution_count": 285,
   "metadata": {
    "collapsed": false
   },
   "outputs": [
    {
     "name": "stdout",
     "output_type": "stream",
     "text": [
      "Acc:  0.893667296786 \n",
      "\n",
      "[[7285  633]\n",
      " [ 267  279]]\n",
      "             precision    recall  f1-score   support\n",
      "\n",
      "        0.0       0.96      0.92      0.94      7918\n",
      "        1.0       0.31      0.51      0.38       546\n",
      "\n",
      "avg / total       0.92      0.89      0.91      8464\n",
      "\n"
     ]
    }
   ],
   "source": [
    "# Adjusting decision cutoff to balance type I and type II errors\n",
    "fcutoff = threshold_search(rfc, X_test, y_test, step=.02)\n",
    "fpred = decision_threshold(rfc, X_test, fcutoff)\n",
    "classifier_evaluation(y_test, fpred)"
   ]
  },
  {
   "cell_type": "code",
   "execution_count": 294,
   "metadata": {
    "collapsed": false
   },
   "outputs": [
    {
     "data": {
      "text/html": [
       "<div>\n",
       "<table border=\"1\" class=\"dataframe\">\n",
       "  <thead>\n",
       "    <tr style=\"text-align: right;\">\n",
       "      <th></th>\n",
       "      <th>0</th>\n",
       "      <th>1</th>\n",
       "    </tr>\n",
       "  </thead>\n",
       "  <tbody>\n",
       "    <tr>\n",
       "      <th>286</th>\n",
       "      <td>preparer_info_emp_completed</td>\n",
       "      <td>0.021107</td>\n",
       "    </tr>\n",
       "    <tr>\n",
       "      <th>262</th>\n",
       "      <td>job_info_experience</td>\n",
       "      <td>0.022475</td>\n",
       "    </tr>\n",
       "    <tr>\n",
       "      <th>279</th>\n",
       "      <td>ri_posted_notice_at_worksite</td>\n",
       "      <td>0.023416</td>\n",
       "    </tr>\n",
       "    <tr>\n",
       "      <th>268</th>\n",
       "      <td>job_info_alt_occ</td>\n",
       "      <td>0.025758</td>\n",
       "    </tr>\n",
       "    <tr>\n",
       "      <th>267</th>\n",
       "      <td>job_info_foreign_ed</td>\n",
       "      <td>0.027857</td>\n",
       "    </tr>\n",
       "    <tr>\n",
       "      <th>216</th>\n",
       "      <td>C(CLASS_OF_ADMISSION)[T.H-1B]</td>\n",
       "      <td>0.032216</td>\n",
       "    </tr>\n",
       "    <tr>\n",
       "      <th>276</th>\n",
       "      <td>recr_info_professional_occ</td>\n",
       "      <td>0.042027</td>\n",
       "    </tr>\n",
       "    <tr>\n",
       "      <th>259</th>\n",
       "      <td>wage_offer_to_9089</td>\n",
       "      <td>0.060950</td>\n",
       "    </tr>\n",
       "    <tr>\n",
       "      <th>257</th>\n",
       "      <td>pw_amount_9089</td>\n",
       "      <td>0.164533</td>\n",
       "    </tr>\n",
       "    <tr>\n",
       "      <th>258</th>\n",
       "      <td>wage_offer_from_9089</td>\n",
       "      <td>0.181143</td>\n",
       "    </tr>\n",
       "  </tbody>\n",
       "</table>\n",
       "</div>"
      ],
      "text/plain": [
       "                                 0         1\n",
       "286    preparer_info_emp_completed  0.021107\n",
       "262            job_info_experience  0.022475\n",
       "279   ri_posted_notice_at_worksite  0.023416\n",
       "268               job_info_alt_occ  0.025758\n",
       "267            job_info_foreign_ed  0.027857\n",
       "216  C(CLASS_OF_ADMISSION)[T.H-1B]  0.032216\n",
       "276     recr_info_professional_occ  0.042027\n",
       "259             wage_offer_to_9089  0.060950\n",
       "257                 pw_amount_9089  0.164533\n",
       "258           wage_offer_from_9089  0.181143"
      ]
     },
     "execution_count": 294,
     "metadata": {},
     "output_type": "execute_result"
    }
   ],
   "source": [
    "pd.DataFrame(zip(X.columns, np.transpose(rfc.best_estimator_.feature_importances_ ))).sort_values(1).tail(10)"
   ]
  },
  {
   "cell_type": "markdown",
   "metadata": {},
   "source": [
    "Random Forest supports earlier conclusions about feature importance."
   ]
  },
  {
   "cell_type": "markdown",
   "metadata": {},
   "source": [
    "## Gradient Boosting\n",
    "\n",
    "Gradient boosting is an ensemble method that build successive models based on decision trees. It takes a while on my machine, so I can't do much tuning of parameters."
   ]
  },
  {
   "cell_type": "code",
   "execution_count": 136,
   "metadata": {
    "collapsed": false
   },
   "outputs": [
    {
     "name": "stdout",
     "output_type": "stream",
     "text": [
      "CPU times: user 1h 1min 30s, sys: 2min 13s, total: 1h 3min 43s\n",
      "Wall time: 1h 3min 57s\n"
     ]
    }
   ],
   "source": [
    "%%time\n",
    "gb_params = {'subsample': [1., .8, .5]}\n",
    "\n",
    "gbc = GridSearchCV(GradientBoostingClassifier(), gb_params, cv=5)\n",
    "gbc.fit(X_train, y_train)"
   ]
  },
  {
   "cell_type": "code",
   "execution_count": 139,
   "metadata": {
    "collapsed": false
   },
   "outputs": [
    {
     "data": {
      "text/plain": [
       "{'subsample': 0.8}"
      ]
     },
     "execution_count": 139,
     "metadata": {},
     "output_type": "execute_result"
    }
   ],
   "source": [
    "gbc.best_params_"
   ]
  },
  {
   "cell_type": "markdown",
   "metadata": {},
   "source": [
    "GridSearch has identified .8 as the best subsample size, meaning that the classifier is now a Stochastic Gradient Boosting model."
   ]
  },
  {
   "cell_type": "code",
   "execution_count": 228,
   "metadata": {
    "collapsed": false
   },
   "outputs": [
    {
     "data": {
      "text/plain": [
       "0.94317107750472595"
      ]
     },
     "execution_count": 228,
     "metadata": {},
     "output_type": "execute_result"
    }
   ],
   "source": [
    "gbc.score(X_test, y_test)"
   ]
  },
  {
   "cell_type": "code",
   "execution_count": 286,
   "metadata": {
    "collapsed": false
   },
   "outputs": [
    {
     "name": "stdout",
     "output_type": "stream",
     "text": [
      "Acc:  0.858813799622 \n",
      "\n",
      "[[6997  921]\n",
      " [ 274  272]]\n",
      "             precision    recall  f1-score   support\n",
      "\n",
      "        0.0       0.96      0.88      0.92      7918\n",
      "        1.0       0.23      0.50      0.31       546\n",
      "\n",
      "avg / total       0.91      0.86      0.88      8464\n",
      "\n"
     ]
    }
   ],
   "source": [
    "gbcutoff = threshold_search(gbc, X_test, y_test)\n",
    "gb_pred = decision_threshold(gbc.best_estimator_, X_test, .1)\n",
    "classifier_evaluation(y_test, gb_pred)"
   ]
  },
  {
   "cell_type": "code",
   "execution_count": 293,
   "metadata": {
    "collapsed": false
   },
   "outputs": [
    {
     "data": {
      "text/html": [
       "<div>\n",
       "<table border=\"1\" class=\"dataframe\">\n",
       "  <thead>\n",
       "    <tr style=\"text-align: right;\">\n",
       "      <th></th>\n",
       "      <th>0</th>\n",
       "      <th>1</th>\n",
       "    </tr>\n",
       "  </thead>\n",
       "  <tbody>\n",
       "    <tr>\n",
       "      <th>15</th>\n",
       "      <td>C(JOB_INFO_EDUCATION)[T.High School]</td>\n",
       "      <td>0.018570</td>\n",
       "    </tr>\n",
       "    <tr>\n",
       "      <th>5</th>\n",
       "      <td>C(month)[T.6]</td>\n",
       "      <td>0.020391</td>\n",
       "    </tr>\n",
       "    <tr>\n",
       "      <th>279</th>\n",
       "      <td>ri_posted_notice_at_worksite</td>\n",
       "      <td>0.021556</td>\n",
       "    </tr>\n",
       "    <tr>\n",
       "      <th>287</th>\n",
       "      <td>lowball</td>\n",
       "      <td>0.022395</td>\n",
       "    </tr>\n",
       "    <tr>\n",
       "      <th>262</th>\n",
       "      <td>job_info_experience</td>\n",
       "      <td>0.023532</td>\n",
       "    </tr>\n",
       "    <tr>\n",
       "      <th>286</th>\n",
       "      <td>preparer_info_emp_completed</td>\n",
       "      <td>0.027457</td>\n",
       "    </tr>\n",
       "    <tr>\n",
       "      <th>230</th>\n",
       "      <td>C(CLASS_OF_ADMISSION)[T.Not in USA]</td>\n",
       "      <td>0.027568</td>\n",
       "    </tr>\n",
       "    <tr>\n",
       "      <th>259</th>\n",
       "      <td>wage_offer_to_9089</td>\n",
       "      <td>0.064611</td>\n",
       "    </tr>\n",
       "    <tr>\n",
       "      <th>257</th>\n",
       "      <td>pw_amount_9089</td>\n",
       "      <td>0.135326</td>\n",
       "    </tr>\n",
       "    <tr>\n",
       "      <th>258</th>\n",
       "      <td>wage_offer_from_9089</td>\n",
       "      <td>0.222745</td>\n",
       "    </tr>\n",
       "  </tbody>\n",
       "</table>\n",
       "</div>"
      ],
      "text/plain": [
       "                                        0         1\n",
       "15   C(JOB_INFO_EDUCATION)[T.High School]  0.018570\n",
       "5                           C(month)[T.6]  0.020391\n",
       "279          ri_posted_notice_at_worksite  0.021556\n",
       "287                               lowball  0.022395\n",
       "262                   job_info_experience  0.023532\n",
       "286           preparer_info_emp_completed  0.027457\n",
       "230   C(CLASS_OF_ADMISSION)[T.Not in USA]  0.027568\n",
       "259                    wage_offer_to_9089  0.064611\n",
       "257                        pw_amount_9089  0.135326\n",
       "258                  wage_offer_from_9089  0.222745"
      ]
     },
     "execution_count": 293,
     "metadata": {},
     "output_type": "execute_result"
    }
   ],
   "source": [
    "pd.DataFrame(zip(X.columns, np.transpose(gbc.best_estimator_.feature_importances_ ))).sort_values(1).tail(10)"
   ]
  },
  {
   "cell_type": "markdown",
   "metadata": {},
   "source": [
    "Interestingly, GBC identifies lowball employment offers as being a significant liability to an application (when cross-references to logit coefficients). Certain features point to immigration officials being wary of exploitation of foreign workers, subjecting questionable applications to heightened scrutiny. They may be buried a bit in the sorted lists of coefficients and feature importances, but jobs that require the worker to live at the work site, and live in domestic workers are all at a higher risk of rejection."
   ]
  },
  {
   "cell_type": "markdown",
   "metadata": {
    "collapsed": true
   },
   "source": [
    "## Voting Classifier"
   ]
  },
  {
   "cell_type": "markdown",
   "metadata": {},
   "source": [
    "This classifier takes the predictions of the previous models and returns new predictions based the number of models that each application is flagged by. Classification by democracy."
   ]
  },
  {
   "cell_type": "code",
   "execution_count": 287,
   "metadata": {
    "collapsed": false
   },
   "outputs": [
    {
     "data": {
      "text/plain": [
       "array([[ 1.   ,  0.813,  0.894,  0.934],\n",
       "       [ 0.813,  1.   ,  0.885,  0.851],\n",
       "       [ 0.894,  0.885,  1.   ,  0.934],\n",
       "       [ 0.934,  0.851,  0.934,  1.   ]])"
      ]
     },
     "execution_count": 287,
     "metadata": {},
     "output_type": "execute_result"
    }
   ],
   "source": [
    "predictions = [pred, tpred, fpred, gb_pred]\n",
    "\n",
    "def classifier_agreement(predictions):\n",
    "    # Takes a list of prediction arrays for various models and returns a \n",
    "    # matrix showing each models level of agreement with the others.\n",
    "    d = len(predictions)\n",
    "    result = []\n",
    "    for pred in predictions:\n",
    "        for pred2 in predictions:\n",
    "            result.append(round((pred == pred2).mean(), 3))\n",
    "    result =  np.array(result)\n",
    "    result.shape = (d, d)\n",
    "    return result\n",
    "\n",
    "# checking agreement among the classifiers\n",
    "classifier_agreement(predictions)"
   ]
  },
  {
   "cell_type": "markdown",
   "metadata": {},
   "source": [
    "DTC is the most unlike the other models. The most similar models are GBC and Logit, and GBC and RF."
   ]
  },
  {
   "cell_type": "code",
   "execution_count": 288,
   "metadata": {
    "collapsed": false
   },
   "outputs": [
    {
     "name": "stdout",
     "output_type": "stream",
     "text": [
      "Acc:  0.855860113422 \n",
      "\n",
      "[[6930  988]\n",
      " [ 232  314]]\n",
      "             precision    recall  f1-score   support\n",
      "\n",
      "        0.0       0.97      0.88      0.92      7918\n",
      "        1.0       0.24      0.58      0.34       546\n",
      "\n",
      "avg / total       0.92      0.86      0.88      8464\n",
      "\n"
     ]
    }
   ],
   "source": [
    "def voting_classifier(predictions):\n",
    "    return (sum(predictions) >= (len(predictions)/2.)).astype(int)\n",
    "\n",
    "vpred = voting_classifier(predictions)\n",
    "\n",
    "classifier_evaluation(y_test, vpred)"
   ]
  },
  {
   "cell_type": "markdown",
   "metadata": {},
   "source": [
    "Other models have a higher precision than the voting classifier, but it has a precision much higher than the null, and recall of almost 60%."
   ]
  },
  {
   "cell_type": "markdown",
   "metadata": {},
   "source": [
    "# Acknowledgements\n",
    "\n",
    "Many thanks to the SlideRule.org team for their instruction and support on this project. Special thanks to Ramesh Sampath, my mentor, who gave me so much advice and guidance.\n",
    "\n",
    "Thanks as well to the Python and opensource communities. Without the hard work of the teams building Scikit-Learn and Pandas, this project would have been far more difficult."
   ]
  }
 ],
 "metadata": {
  "kernelspec": {
   "display_name": "Python 2",
   "language": "python",
   "name": "python2"
  },
  "language_info": {
   "codemirror_mode": {
    "name": "ipython",
    "version": 2
   },
   "file_extension": ".py",
   "mimetype": "text/x-python",
   "name": "python",
   "nbconvert_exporter": "python",
   "pygments_lexer": "ipython2",
   "version": "2.7.10"
  }
 },
 "nbformat": 4,
 "nbformat_minor": 0
}

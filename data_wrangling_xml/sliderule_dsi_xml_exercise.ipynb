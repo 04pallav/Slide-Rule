{
 "cells": [
  {
   "cell_type": "markdown",
   "metadata": {},
   "source": [
    "# XML example and exercise\n",
    "****\n",
    "+ study examples of accessing nodes in XML tree structure  \n",
    "+ work on exercise to be completed and submitted\n",
    "****\n",
    "+ reference: https://docs.python.org/2.7/library/xml.etree.elementtree.html\n",
    "+ data source: http://www.dbis.informatik.uni-goettingen.de/Mondial\n",
    "****"
   ]
  },
  {
   "cell_type": "code",
   "execution_count": 3,
   "metadata": {
    "collapsed": true
   },
   "outputs": [],
   "source": [
    "from xml.etree import ElementTree as ET"
   ]
  },
  {
   "cell_type": "markdown",
   "metadata": {},
   "source": [
    "## XML example\n",
    "\n",
    "+ for details about tree traversal and iterators, see https://docs.python.org/2.7/library/xml.etree.elementtree.html"
   ]
  },
  {
   "cell_type": "code",
   "execution_count": 4,
   "metadata": {
    "collapsed": true
   },
   "outputs": [],
   "source": [
    "document_tree = ET.parse( './data/mondial_database_less.xml' )"
   ]
  },
  {
   "cell_type": "code",
   "execution_count": 5,
   "metadata": {
    "collapsed": false
   },
   "outputs": [
    {
     "name": "stdout",
     "output_type": "stream",
     "text": [
      "Albania\n",
      "Greece\n",
      "Macedonia\n",
      "Serbia\n",
      "Montenegro\n",
      "Kosovo\n",
      "Andorra\n"
     ]
    }
   ],
   "source": [
    "# print names of all countries\n",
    "for child in document_tree.getroot():\n",
    "    print child.find('name').text"
   ]
  },
  {
   "cell_type": "code",
   "execution_count": 6,
   "metadata": {
    "collapsed": false
   },
   "outputs": [
    {
     "name": "stdout",
     "output_type": "stream",
     "text": [
      "* Albania: Tirana, Shkodër, Durrës, Vlorë, Elbasan, Korçë\n",
      "* Greece: Komotini, Kavala, Athina, Peiraias, Peristeri, Acharnes, Patra, Kozani, Kerkyra, Ioannina, Thessaloniki, Iraklio, Chania, Ermoupoli, Rhodes, Tripoli, Lamia, Chalkida, Larissa, Volos, Mytilini, Karyes\n",
      "* Macedonia: Skopje, Kumanovo\n",
      "* Serbia: Beograd, Novi Sad, Niš\n",
      "* Montenegro: Podgorica\n",
      "* Kosovo: Prishtine\n",
      "* Andorra: Andorra la Vella\n"
     ]
    }
   ],
   "source": [
    "# print names of all countries and their cities\n",
    "for element in document_tree.iterfind('country'):\n",
    "    print '* ' + element.find('name').text + ':',\n",
    "    capitals_string = ''\n",
    "    for subelement in element.getiterator('city'):\n",
    "        capitals_string += subelement.find('name').text + ', '\n",
    "    print capitals_string[:-2]"
   ]
  },
  {
   "cell_type": "markdown",
   "metadata": {},
   "source": [
    "****\n",
    "## XML exercise\n",
    "\n",
    "Using data in 'data/mondial_database.xml', the examples above, and refering to https://docs.python.org/2.7/library/xml.etree.elementtree.html, find\n",
    "\n",
    "1. 10 countries with the lowest infant mortality rates\n",
    "2. 10 cities with the largest population\n",
    "3. 10 ethnic groups with the largest overall populations (sum of best/latest estimates over all countries)\n",
    "4. name and country of a) longest river, b) largest lake and c) airport at highest elevation"
   ]
  },
  {
   "cell_type": "code",
   "execution_count": 168,
   "metadata": {
    "collapsed": false
   },
   "outputs": [
    {
     "name": "stdout",
     "output_type": "stream",
     "text": [
      "CPU times: user 1.37 s, sys: 22.8 ms, total: 1.39 s\n",
      "Wall time: 1.4 s\n"
     ]
    }
   ],
   "source": [
    "document = ET.parse( './data/mondial_database.xml' )"
   ]
  },
  {
   "cell_type": "code",
   "execution_count": 171,
   "metadata": {
    "collapsed": false
   },
   "outputs": [
    {
     "name": "stdout",
     "output_type": "stream",
     "text": [
      "Monaco has an infant mortality rate of 1.81.\n",
      "Japan has an infant mortality rate of 2.13.\n",
      "Bermuda has an infant mortality rate of 2.48.\n",
      "Singapore has an infant mortality rate of 2.53.\n",
      "Sweden has an infant mortality rate of 2.6.\n",
      "Czech Republic has an infant mortality rate of 2.63.\n",
      "Hong Kong has an infant mortality rate of 2.73.\n",
      "Macao has an infant mortality rate of 3.13.\n",
      "Iceland has an infant mortality rate of 3.15.\n",
      "Italy has an infant mortality rate of 3.31.\n",
      "CPU times: user 14.7 ms, sys: 4.37 ms, total: 19 ms\n",
      "Wall time: 15.1 ms\n"
     ]
    }
   ],
   "source": [
    "# countries with the lowest infant mortality rate\n",
    "mort_dict = {}\n",
    "for c in document.findall('country'):\n",
    "    for node in list(c):\n",
    "        if node.tag == 'name':\n",
    "            value = node.text\n",
    "        if node.tag == 'infant_mortality':\n",
    "            mort_dict[float(node.text)] = value\n",
    "for i in range(10):\n",
    "    rate = sorted(mort_dict.keys())[i]\n",
    "    country = mort_dict[rate]\n",
    "    print country + ' has an infant mortality rate of ' + str(rate) + '.'\n"
   ]
  },
  {
   "cell_type": "code",
   "execution_count": 170,
   "metadata": {
    "collapsed": false
   },
   "outputs": [
    {
     "name": "stdout",
     "output_type": "stream",
     "text": [
      "Shanghai has a population of 22315474.\n",
      "Istanbul has a population of 13710512.\n",
      "Mumbai has a population of 12442373.\n",
      "Moscow has a population of 11979529.\n",
      "Beijing has a population of 11716620.\n",
      "São Paulo has a population of 11152344.\n",
      "Tianjin has a population of 11090314.\n",
      "Guangzhou has a population of 11071424.\n",
      "Delhi has a population of 11034555.\n",
      "Shenzhen has a population of 10358381.\n",
      "CPU times: user 82.2 ms, sys: 20.1 ms, total: 102 ms\n",
      "Wall time: 84.6 ms\n"
     ]
    }
   ],
   "source": [
    "# cities with the hightest population\n",
    "cty_dict = {}\n",
    "for cty in document.findall('country/province/city'):\n",
    "    max_year = 0\n",
    "    pop = 0\n",
    "    for node in list(cty):\n",
    "        if node.tag == 'name':\n",
    "            value = node.text\n",
    "        elif node.tag == 'population':\n",
    "            if int(node.attrib['year']) > max_year:\n",
    "                max_year = int(node.attrib['year'])\n",
    "                pop = int(node.text)\n",
    "    cty_dict[pop] = value\n",
    "    \n",
    "for i in range(10):\n",
    "    pop = sorted(cty_dict)[::-1][i]\n",
    "    city = cty_dict[pop]\n",
    "    print city + ' has a population of ' + str(pop) + '.'   "
   ]
  },
  {
   "cell_type": "code",
   "execution_count": 172,
   "metadata": {
    "collapsed": false
   },
   "outputs": [
    {
     "name": "stdout",
     "output_type": "stream",
     "text": [
      "There are 1245058800 Han Chinese people.\n",
      "There are 871815583 Indo-Aryan people.\n",
      "There are 494872219 European people.\n",
      "There are 318325120 African people.\n",
      "There are 302713744 Dravidian people.\n",
      "There are 157734354 Mestizo people.\n",
      "There are 146776916 Bengali people.\n",
      "There are 131856996 Russian people.\n",
      "There are 126534212 Japanese people.\n",
      "There are 121993550 Malay people.\n",
      "CPU times: user 26.5 ms, sys: 7.9 ms, total: 34.4 ms\n",
      "Wall time: 27.5 ms\n"
     ]
    }
   ],
   "source": [
    "# ethnic groups with the largest population\n",
    "totals = {}\n",
    "for c in document.findall('country'):\n",
    "    max_year = 0\n",
    "    pop = 0\n",
    "    for node in list(c):\n",
    "        if node.tag == 'population':\n",
    "            if int(node.attrib['year']) > max_year:\n",
    "                max_year = int(node.attrib['year'])\n",
    "                pop = int(node.text)\n",
    "        if node.tag == 'ethnicgroup':\n",
    "            name = node.text\n",
    "            percent = float(node.attrib['percentage']) / 100\n",
    "            try:\n",
    "                totals[name] += (pop * percent)\n",
    "            except(KeyError):\n",
    "                totals[name] = (pop * percent)\n",
    "pops = sorted(totals.values())[::-1]\n",
    "for x in range(10):\n",
    "    pop = pops[x]\n",
    "    for d in totals:\n",
    "        if totals[d] == pop:\n",
    "            print 'There are ' + str(int(pop)) + ' ' + d + ' people.'"
   ]
  },
  {
   "cell_type": "code",
   "execution_count": 228,
   "metadata": {
    "collapsed": false
   },
   "outputs": [
    {
     "name": "stdout",
     "output_type": "stream",
     "text": [
      "The longest river is Amazonas, which is 6448km long.\n",
      "It runs through: \n",
      "Colombia\n",
      "Brazil\n",
      "Peru\n",
      "\n",
      "The largest lake is Caspian Sea, with an area of 386400km^2.\n",
      "It borders: \n",
      "Russia\n",
      "Azerbaijan\n",
      "Kazakhstan\n",
      "Iran\n",
      "Turkmenistan\n",
      "\n",
      "El Alto Intl in Bolivia is the highest airport, at an elevation of 4063.0 meters.\n"
     ]
    }
   ],
   "source": [
    "# river, lake, airport\n",
    "def country_decode(codes):\n",
    "    # Takes a string of country codes as an argument and returns a list of long-form country names.\n",
    "    countries = []\n",
    "    codes = codes.split()\n",
    "    for code in codes:\n",
    "        countries.append(concodes[code])\n",
    "    return countries\n",
    "\n",
    "def find_max(feature, metric):\n",
    "    # Takes two strings as arguments, returns a tuple of the name of the feature, the max of the metric, and the \n",
    "    # countries associated with it.\n",
    "    max_m = 0\n",
    "    codes = ''\n",
    "    max_name = ''\n",
    "    for f in document.findall(feature):\n",
    "        for node in list(f):\n",
    "            if node.tag == 'name':\n",
    "                name = node.text\n",
    "            if node.tag == metric:\n",
    "                try:\n",
    "                    met = float(node.text)\n",
    "                except TypeError:\n",
    "                    met = 0\n",
    "                if met > max_m:\n",
    "                    max_m = met\n",
    "                    codes = f.attrib['country']\n",
    "                    max_name = name\n",
    "        countries = country_decode(codes)\n",
    "    return max_name, max_m, countries\n",
    "        \n",
    "concodes = {}\n",
    "for c in document.findall('country'):\n",
    "    code = c.attrib['car_code']\n",
    "    for node in list(c):\n",
    "        if node.tag == 'name':\n",
    "            name = node.text\n",
    "        concodes[code] = name\n",
    "        \n",
    "riv = find_max('river', 'length')\n",
    "print 'The longest river is ' + riv[0] + ', which is ' + str(int(riv[1])) + 'km long.'\n",
    "print 'It runs through: '\n",
    "for e in riv[2]:\n",
    "    print e\n",
    "\n",
    "lake = find_max('lake', 'area')\n",
    "print '\\nThe largest lake is ' + lake[0] + ', with an area of ' + str(int(lake[1])) + 'km^2.'\n",
    "print 'It borders: '\n",
    "for e in lake[2]:\n",
    "    print e\n",
    "\n",
    "air = find_max('airport', 'elevation')\n",
    "print '\\n' + air[0] + ' in ' + str(air[2][0]) + ' is the highest airport, at an elevation of ' + str(air[1]) + ' meters.'\n"
   ]
  },
  {
   "cell_type": "code",
   "execution_count": null,
   "metadata": {
    "collapsed": false
   },
   "outputs": [],
   "source": []
  },
  {
   "cell_type": "code",
   "execution_count": null,
   "metadata": {
    "collapsed": true
   },
   "outputs": [],
   "source": []
  }
 ],
 "metadata": {
  "kernelspec": {
   "display_name": "Python 2",
   "language": "python",
   "name": "python2"
  },
  "language_info": {
   "codemirror_mode": {
    "name": "ipython",
    "version": 2
   },
   "file_extension": ".py",
   "mimetype": "text/x-python",
   "name": "python",
   "nbconvert_exporter": "python",
   "pygments_lexer": "ipython2",
   "version": "2.7.10"
  }
 },
 "nbformat": 4,
 "nbformat_minor": 0
}

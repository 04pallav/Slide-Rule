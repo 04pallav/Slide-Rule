{
 "cells": [
  {
   "cell_type": "markdown",
   "metadata": {},
   "source": [
    "## What is the true normal human body temperature? \n",
    "\n",
    "#### Background\n",
    "\n",
    "The mean normal body temperature was held to be 37$^{\\circ}$C or 98.6$^{\\circ}$F for more than 120 years since it was first conceptualized and reported by Carl Wunderlich in a famous 1868 book. In 1992, this value was revised to 36.8$^{\\circ}$C or 98.2$^{\\circ}$F. \n",
    "\n",
    "#### Exercise\n",
    "In this exercise, you will analyze a dataset of human body temperatures and employ the concepts of hypothesis testing, confidence intervals, and statistical significance.\n",
    "\n",
    "Answer the following questions **in this notebook below and submit to your Github account**. \n",
    "\n",
    "1.  Is the distribution of body temperatures normal? \n",
    "    - Remember that this is a condition for the CLT, and hence the statistical tests we are using, to apply. \n",
    "2.  Is the true population mean really 98.6 degrees F?\n",
    "    - Bring out the one sample hypothesis test! In this situation, is it approriate to apply a z-test or a t-test? How will the result be different?\n",
    "3.  At what temperature should we consider someone's temperature to be \"abnormal\"?\n",
    "    - Start by computing the margin of error and confidence interval.\n",
    "4.  Is there a significant difference between males and females in normal temperature?\n",
    "    - Set up and solve for a two sample hypothesis testing.\n",
    "\n",
    "You can include written notes in notebook cells using Markdown: \n",
    "   - In the control panel at the top, choose Cell > Cell Type > Markdown\n",
    "   - Markdown syntax: http://nestacms.com/docs/creating-content/markdown-cheat-sheet\n",
    "\n",
    "#### Resources\n",
    "\n",
    "+ Information and data sources: http://www.amstat.org/publications/jse/datasets/normtemp.txt, http://www.amstat.org/publications/jse/jse_data_archive.htm\n",
    "+ Markdown syntax: http://nestacms.com/docs/creating-content/markdown-cheat-sheet\n",
    "\n",
    "****"
   ]
  },
  {
   "cell_type": "code",
   "execution_count": 118,
   "metadata": {
    "collapsed": true
   },
   "outputs": [],
   "source": [
    "% matplotlib inline\n",
    "import pandas as pd\n",
    "import matplotlib.pyplot as plt\n",
    "import numpy as np\n",
    "import scipy.stats as stats\n",
    "matplotlib.style.use('fivethirtyeight')"
   ]
  },
  {
   "cell_type": "code",
   "execution_count": 119,
   "metadata": {
    "collapsed": false
   },
   "outputs": [],
   "source": [
    "df = pd.read_csv('data/human_body_temperature.csv')"
   ]
  },
  {
   "cell_type": "markdown",
   "metadata": {},
   "source": [
    "## Basic Summary Statistics"
   ]
  },
  {
   "cell_type": "code",
   "execution_count": 157,
   "metadata": {
    "collapsed": false
   },
   "outputs": [
    {
     "name": "stdout",
     "output_type": "stream",
     "text": [
      "Size:  130.0\n",
      "Mean:  98.2492307692\n",
      "Standard Deviation:  0.730357778907\n",
      "Sample Error:  0.0640566146954\n"
     ]
    }
   ],
   "source": [
    "size = float(len(df))\n",
    "print 'Size: ',  size\n",
    "mean = np.average(df.temperature)\n",
    "print 'Mean: ', mean\n",
    "sigma = np.std(df.temperature)\n",
    "print 'Standard Deviation: ', sigma\n",
    "error = sigma / (size**.5)\n",
    "print 'Sample Error: ', error"
   ]
  },
  {
   "cell_type": "markdown",
   "metadata": {},
   "source": [
    "$n = 130$\n",
    "\n",
    "$\\overline {x}=98.25$\n",
    "\n",
    "$\\sigma = .73$\n",
    "\n",
    "$SE = 0.064$\n"
   ]
  },
  {
   "cell_type": "code",
   "execution_count": 148,
   "metadata": {
    "collapsed": false
   },
   "outputs": [],
   "source": [
    "temps = sorted(df.temperature)"
   ]
  },
  {
   "cell_type": "markdown",
   "metadata": {},
   "source": [
    "## 1. Check for normal distribution\n",
    "\n",
    "There is moderate skew, but since the sample size is large, the normal distribution seems to be an appropriate model.\n",
    "\n",
    "A Z-test will be used, as the sample size is larger than 30. A t-test could also be used and, with 129 degrees of freedom, the difference between the two tests would be negligible."
   ]
  },
  {
   "cell_type": "code",
   "execution_count": 189,
   "metadata": {
    "collapsed": false,
    "scrolled": false
   },
   "outputs": [
    {
     "data": {
      "text/plain": [
       "(array([ 0.06837607,  0.06837607,  0.06837607,  0.13675214,  0.30769231,\n",
       "         0.20512821,  0.34188034,  0.54700855,  0.61538462,  0.41025641,\n",
       "         0.61538462,  0.41025641,  0.37606838,  0.13675214,  0.03418803,\n",
       "         0.        ,  0.06837607,  0.        ,  0.        ,  0.03418803]),\n",
       " array([  96.3  ,   96.525,   96.75 ,   96.975,   97.2  ,   97.425,\n",
       "          97.65 ,   97.875,   98.1  ,   98.325,   98.55 ,   98.775,\n",
       "          99.   ,   99.225,   99.45 ,   99.675,   99.9  ,  100.125,\n",
       "         100.35 ,  100.575,  100.8  ]),\n",
       " <a list of 20 Patch objects>)"
      ]
     },
     "execution_count": 189,
     "metadata": {},
     "output_type": "execute_result"
    },
    {
     "data": {
      "image/png": "[encoded data removed]",
      "text/plain": [
       "<matplotlib.figure.Figure at 0x115567410>"
      ]
     },
     "metadata": {},
     "output_type": "display_data"
    }
   ],
   "source": [
    "fit = stats.norm.pdf(temps, mean, sigma)\n",
    "plt.plot(temps, fit)\n",
    "plt.hist(temps, 20, normed=True)"
   ]
  },
  {
   "cell_type": "markdown",
   "metadata": {},
   "source": [
    "## 2. Hypotheses\n",
    "Null Hypothesis: The true population mean is 98.6.\n",
    "\n",
    "Alternative Hypothesis: The true population mean is is different than 98.6\n",
    "\n",
    "$H_{0}: \\mu = 98.6^{\\circ}$\n",
    "\n",
    "$H_{a}: \\mu \\neq 98.6^{\\circ}$\n"
   ]
  },
  {
   "cell_type": "code",
   "execution_count": 190,
   "metadata": {
    "collapsed": false
   },
   "outputs": [
    {
     "data": {
      "text/plain": [
       "4.6574243128816306e-08"
      ]
     },
     "execution_count": 190,
     "metadata": {},
     "output_type": "execute_result"
    }
   ],
   "source": [
    "z = .35/error\n",
    "p = (1 - stats.norm.cdf(z)) * 2"
   ]
  },
  {
   "cell_type": "markdown",
   "metadata": {},
   "source": [
    "### Results\n",
    "\n",
    "$\\mu_{null} - \\mu_{point} = 35^{\\circ}$\n",
    "\n",
    "95% confidence interval: [98.12, 98.38]\n",
    "\n",
    "*p* = .00000004\n",
    "\n",
    "With a p value much smaller than .05, the null hypothesis is rejected. The actual population mean is not 98.6º."
   ]
  },
  {
   "cell_type": "markdown",
   "metadata": {},
   "source": [
    "## 3. Abnormal Temperatures\n",
    "\n",
    "Someone would be considered to have an abnormal temperature if their reading fell outside of 95% of the population. This interval is [96.8, 99.7]."
   ]
  },
  {
   "cell_type": "markdown",
   "metadata": {},
   "source": [
    "## 4. Male v. Female Temperature"
   ]
  },
  {
   "cell_type": "code",
   "execution_count": 191,
   "metadata": {
    "collapsed": false
   },
   "outputs": [
    {
     "name": "stdout",
     "output_type": "stream",
     "text": [
      "Male Size:  65.0\n",
      "Male Mean:  98.1046153846\n",
      "Male Standard Deviation:  0.693359884185\n",
      "Female Size:  65.0\n",
      "Female Mean:  98.3938461538\n",
      "Female Standard Deviation:  0.737746448643\n"
     ]
    }
   ],
   "source": [
    "male = df[df.gender == 'M']\n",
    "female = df[df.gender == 'F']\n",
    "\n",
    "msize = float(len(male))\n",
    "print 'Male Size: ',  msize\n",
    "mmean = np.average(male.temperature)\n",
    "print 'Male Mean: ', mmean\n",
    "msigma = np.std(male.temperature)\n",
    "print 'Male Standard Deviation: ', msigma\n",
    "\n",
    "fsize = float(len(female))\n",
    "print 'Female Size: ',  fsize\n",
    "fmean = np.average(female.temperature)\n",
    "print 'Female Mean: ', fmean\n",
    "fsigma = np.std(female.temperature)\n",
    "print 'Female Standard Deviation: ', fsigma"
   ]
  },
  {
   "cell_type": "code",
   "execution_count": 192,
   "metadata": {
    "collapsed": true
   },
   "outputs": [],
   "source": [
    "mtemps = sorted(male.temperature)\n",
    "ftemps = sorted(female.temperature)"
   ]
  },
  {
   "cell_type": "markdown",
   "metadata": {},
   "source": [
    "### Male Distribution"
   ]
  },
  {
   "cell_type": "code",
   "execution_count": 193,
   "metadata": {
    "collapsed": false
   },
   "outputs": [
    {
     "data": {
      "text/plain": [
       "(array([ 0.04807692,  0.09615385,  0.24038462,  0.33653846,  0.38461538,\n",
       "         0.67307692,  0.38461538,  0.52884615,  0.24038462,  0.19230769]),\n",
       " array([ 96.3 ,  96.62,  96.94,  97.26,  97.58,  97.9 ,  98.22,  98.54,\n",
       "         98.86,  99.18,  99.5 ]),\n",
       " <a list of 10 Patch objects>)"
      ]
     },
     "execution_count": 193,
     "metadata": {},
     "output_type": "execute_result"
    },
    {
     "data": {
      "image/png": "[encoded data removed]",
      "text/plain": [
       "<matplotlib.figure.Figure at 0x115873750>"
      ]
     },
     "metadata": {},
     "output_type": "display_data"
    }
   ],
   "source": [
    "fit = stats.norm.pdf(mtemps, mmean, msigma)\n",
    "plt.plot(mtemps, fit)\n",
    "plt.hist(mtemps, 10, normed=True)"
   ]
  },
  {
   "cell_type": "markdown",
   "metadata": {},
   "source": [
    "### Female Distribution"
   ]
  },
  {
   "cell_type": "code",
   "execution_count": 194,
   "metadata": {
    "collapsed": false
   },
   "outputs": [
    {
     "data": {
      "text/plain": [
       "(array([ 0.1048951 ,  0.06993007,  0.13986014,  0.41958042,  0.52447552,\n",
       "         0.6993007 ,  0.20979021,  0.03496503,  0.03496503,  0.03496503]),\n",
       " array([  96.4 ,   96.84,   97.28,   97.72,   98.16,   98.6 ,   99.04,\n",
       "          99.48,   99.92,  100.36,  100.8 ]),\n",
       " <a list of 10 Patch objects>)"
      ]
     },
     "execution_count": 194,
     "metadata": {},
     "output_type": "execute_result"
    },
    {
     "data": {
      "image/png": "[encoded data removed]",
      "text/plain": [
       "<matplotlib.figure.Figure at 0x115b0a0d0>"
      ]
     },
     "metadata": {},
     "output_type": "display_data"
    }
   ],
   "source": [
    "fit = stats.norm.pdf(ftemps, fmean, fsigma)\n",
    "plt.plot(ftemps, fit)\n",
    "plt.hist(ftemps, 10, normed=True)"
   ]
  },
  {
   "cell_type": "markdown",
   "metadata": {},
   "source": [
    "### Hypotheses\n",
    "\n",
    "Null Hypothesis: There is no difference between the male and female means.\n",
    "\n",
    "Alternative Hypothesis: There is a difference.\n",
    "\n",
    "$H_{0}: \\mu_{male} - \\mu_{female} = 0$\n",
    "\n",
    "$H_{a}: \\mu_{male} - \\mu_{female} \\neq 0$"
   ]
  },
  {
   "cell_type": "code",
   "execution_count": 196,
   "metadata": {
    "collapsed": false
   },
   "outputs": [
    {
     "name": "stdout",
     "output_type": "stream",
     "text": [
      "Point Estimate:  -0.289230769231\n",
      "Standard Error:  0.125576685213\n",
      "Z-Score:  2.30322028919\n",
      "p:  0.0212664518303\n"
     ]
    }
   ],
   "source": [
    "diff = mmean - fmean\n",
    "serror = ((msigma**2)/msize + (fsigma**2)/fsize)**.5\n",
    "z = abs(diff/serror)\n",
    "p = (1 - stats.norm.cdf(z)) * 2\n",
    "print 'Point Estimate: ', diff\n",
    "print 'Standard Error: ', serror\n",
    "print \"Z-Score: \", z\n",
    "print \"p: \", p"
   ]
  },
  {
   "cell_type": "markdown",
   "metadata": {},
   "source": [
    "### Conclusions\n",
    "\n",
    "Because p is less than .05, the null hypothesis is rejected, and the data is evidence that there is a difference in the body temperature population means for men and women."
   ]
  }
 ],
 "metadata": {
  "kernelspec": {
   "display_name": "Python 2",
   "language": "python",
   "name": "python2"
  },
  "language_info": {
   "codemirror_mode": {
    "name": "ipython",
    "version": 2
   },
   "file_extension": ".py",
   "mimetype": "text/x-python",
   "name": "python",
   "nbconvert_exporter": "python",
   "pygments_lexer": "ipython2",
   "version": "2.7.10"
  }
 },
 "nbformat": 4,
 "nbformat_minor": 0
}

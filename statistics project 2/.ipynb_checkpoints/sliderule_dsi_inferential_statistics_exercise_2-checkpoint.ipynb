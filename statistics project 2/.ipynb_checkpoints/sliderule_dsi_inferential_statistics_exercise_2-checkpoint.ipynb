{
 "cells": [
  {
   "cell_type": "markdown",
   "metadata": {},
   "source": [
    "\n",
    "### Examining racial discrimination in the US job market\n",
    "\n",
    "#### Background\n",
    "Racial discrimination continues to be pervasive in cultures throughout the world. Researchers examined the level of racial discrimination in the United States labor market by randomly assigning identical résumés black-sounding or white-sounding names and observing the impact on requests for interviews from employers.\n",
    "\n",
    "#### Data\n",
    "In the dataset provided, each row represents a resume. The 'race' column has two values, 'b' and 'w', indicating black-sounding and white-sounding. The column 'call' has two values, 1 and 0, indicating whether the resume received a call from employers or not.\n",
    "\n",
    "Note that the 'b' and 'w' values in race are assigned randomly to the resumes.\n",
    "\n",
    "#### Exercise\n",
    "You will perform a statistical analysis to establish whether race has a significant impact on the rate of callbacks for resumes.\n",
    "\n",
    "Answer the following questions **in this notebook below and submit to your Github account**. \n",
    "\n",
    "   1. What test is appropriate for this problem? Does CLT apply?\n",
    "   2. What are the null and alternate hypotheses?\n",
    "   3. Compute margin of error, confidence interval, and p-value.\n",
    "   4. Discuss statistical significance.\n",
    "\n",
    "You can include written notes in notebook cells using Markdown: \n",
    "   - In the control panel at the top, choose Cell > Cell Type > Markdown\n",
    "   - Markdown syntax: http://nestacms.com/docs/creating-content/markdown-cheat-sheet\n",
    "\n",
    "\n",
    "#### Resources\n",
    "+ Experiment information and data source: http://www.povertyactionlab.org/evaluation/discrimination-job-market-united-states\n",
    "+ Scipy statistical methods: http://docs.scipy.org/doc/scipy/reference/stats.html \n",
    "+ Markdown syntax: http://nestacms.com/docs/creating-content/markdown-cheat-sheet\n",
    "\n",
    "****"
   ]
  },
  {
   "cell_type": "code",
   "execution_count": 30,
   "metadata": {
    "collapsed": true
   },
   "outputs": [],
   "source": [
    "import pandas as pd\n",
    "import numpy as np\n",
    "from scipy import stats\n",
    "import matplotlib.pylab as plt"
   ]
  },
  {
   "cell_type": "code",
   "execution_count": 2,
   "metadata": {
    "collapsed": false
   },
   "outputs": [],
   "source": [
    "data = pd.io.stata.read_stata('data/us_job_market_discrimination.dta')"
   ]
  },
  {
   "cell_type": "markdown",
   "metadata": {},
   "source": [
    "## 1. Determining the test\n",
    "This test should use a difference of two proportions test. The normal model can be used since the names are randomly assigned, and the numbers of expected failure and successes for each sample are more than ten.\n",
    "\n",
    "$\\hat {p} \\cdot n_{white} = 196$ ;   $\\left( 1-\\hat {p}\\right) \\cdot n_{white} = 2239$\n",
    "\n",
    "$\\hat {p} \\cdot n_{black} = 196$ ;   $\\left( 1-\\hat {p}\\right) \\cdot n_{black} = 2239$\n",
    "\n",
    "## 2. Hypotheses\n",
    "\n",
    "Null Hypothesis: There is no difference between the success rate of applications with black and white-sounding names.\n",
    "\n",
    "Alternative Hypothesis: There is some difference in the success rate.\n",
    "\n",
    "$H_{0}: \\hat {p}_{white} - \\hat {p}_{black} = 0$\n",
    "\n",
    "$H_{a}: \\hat {p}_{white} - \\hat {p}_{black} \\neq 0$\n"
   ]
  },
  {
   "cell_type": "code",
   "execution_count": 28,
   "metadata": {
    "collapsed": false
   },
   "outputs": [
    {
     "name": "stdout",
     "output_type": "stream",
     "text": [
      "Total applications:  4870\n",
      "White-sounding applications:  2435\n",
      "Black-sounding applications:  2435\n",
      "\n",
      "\n",
      "White callbacks:  235.0\n",
      "Black callbacks:  157.0\n",
      "White failures:  2200.0\n",
      "Black failures:  2278.0\n",
      "\n",
      "\n",
      "Pooled proportion:  0.0804928131417\n",
      "White proportion:  0.0965092402464\n",
      "Black proportion:  0.064476386037\n",
      "Point estimate:  0.0320328542094\n",
      "\n",
      "\n",
      "Standard Error:  0.00779689403617\n",
      "Z-Score:  4.10841215243\n",
      "p-value:  3.98388683758e-05\n"
     ]
    }
   ],
   "source": [
    "# totals\n",
    "n = len(data)\n",
    "nb = len(data[data.race == 'b'])\n",
    "nw = len(data[data.race == 'w'])\n",
    "\n",
    "# successes\n",
    "callb = sum(data[data.race=='b'].call)\n",
    "callw = sum(data[data.race=='w'].call)\n",
    "\n",
    "# failures\n",
    "failb = nb - callb\n",
    "failw = nw - callw\n",
    "\n",
    "# p-values\n",
    "ppool = (callb + callw)/n\n",
    "pb = callb/nb\n",
    "pw = callw/nw\n",
    "\n",
    "pestimate = pw - pb\n",
    "\n",
    "# tests for appropriateness of normal model\n",
    "exp_hire_w = ppool * nw\n",
    "exp_fail_w = (1-ppool) * nw\n",
    "exp_hire_b = ppool * nb\n",
    "exp_fail_b = (1-ppool) * nb\n",
    "\n",
    "# standard error\n",
    "se = ((ppool*(1 - ppool)/nw) + (ppool*(1 - ppool)/nb))**.5\n",
    "\n",
    "# Z-score\n",
    "z = pestimate/se\n",
    "p = (1 - stats.norm.cdf(z)) * 2\n",
    "\n",
    "print 'Total applications: ', n\n",
    "print 'White-sounding applications: ', nw\n",
    "print 'Black-sounding applications: ', nb\n",
    "print '\\n'\n",
    "print 'White callbacks: ', callw\n",
    "print 'Black callbacks: ', callb\n",
    "print 'White failures: ', failw\n",
    "print 'Black failures: ', failb\n",
    "print '\\n'\n",
    "print 'Pooled proportion: ', ppool\n",
    "print 'White proportion: ', pw\n",
    "print 'Black proportion: ', pb\n",
    "print 'Point estimate: ', pestimate\n",
    "print '\\n'\n",
    "print 'Standard Error: ', se\n",
    "print 'Z-Score: ', z\n",
    "print 'p-value: ', p"
   ]
  },
  {
   "cell_type": "markdown",
   "metadata": {
    "collapsed": true
   },
   "source": [
    "## 3. Test statistics\n",
    "\n",
    "*SE* = .0078\n",
    "\n",
    "If *H<sub>0</sub>* is true, then the 95% confidence interval for *p<sub>white</sub>* - *p<sub>black</sub>* is [-.0153, .0153].\n",
    "\n",
    "p-value =  .00004\n",
    "\n",
    "## 4. Conclusions\n",
    "\n",
    "With a p-value much smaller than .05, the null hypothesis is rejected, and it can be concluded that black and white-sounding names recieve jobs at different rates; that is to say, racial bias exists in the hiring processes of American employers."
   ]
  },
  {
   "cell_type": "code",
   "execution_count": null,
   "metadata": {
    "collapsed": true
   },
   "outputs": [],
   "source": []
  }
 ],
 "metadata": {
  "kernelspec": {
   "display_name": "Python 2",
   "language": "python",
   "name": "python2"
  },
  "language_info": {
   "codemirror_mode": {
    "name": "ipython",
    "version": 2
   },
   "file_extension": ".py",
   "mimetype": "text/x-python",
   "name": "python",
   "nbconvert_exporter": "python",
   "pygments_lexer": "ipython2",
   "version": "2.7.10"
  }
 },
 "nbformat": 4,
 "nbformat_minor": 0
}
